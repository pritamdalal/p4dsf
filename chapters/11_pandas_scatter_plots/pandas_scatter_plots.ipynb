{
 "cells": [
  {
   "cell_type": "markdown",
   "metadata": {},
   "source": [
    "# Scatter Plots with **pandas**"
   ]
  },
  {
   "cell_type": "markdown",
   "metadata": {},
   "source": [
    "The purpose of this chapter is to demonstrate the **pandas** built-in functionality for creating scatter plots.\n",
    "\n",
    "The financial task we will accomplish is demonstrating SPY's *implied leverage effect*:  when the market suffers losses, implied volatility increases; when the market experiences gains, implied volatility decreases.\n",
    "\n",
    "Our measure of SPY implied volatility will be the VIX index.  To verify the above relationship, we will plot SPY daily returns against daily changes in the VIX for 2016Q1-2021Q2."
   ]
  },
  {
   "cell_type": "markdown",
   "metadata": {},
   "source": [
    "## Loading Packages"
   ]
  },
  {
   "cell_type": "markdown",
   "metadata": {},
   "source": [
    "Let's begin by loading the packages we will need."
   ]
  },
  {
   "cell_type": "code",
   "execution_count": 1,
   "metadata": {},
   "outputs": [],
   "source": [
    "import pandas as pd\n",
    "import yfinance as yf\n",
    "%matplotlib inline"
   ]
  },
  {
   "cell_type": "markdown",
   "metadata": {},
   "source": [
    "## Reading-In Data"
   ]
  },
  {
   "cell_type": "markdown",
   "metadata": {},
   "source": [
    "Next, let's use **pandas_datareader** to read in the SPY and VIX data."
   ]
  },
  {
   "cell_type": "code",
   "execution_count": 2,
   "metadata": {},
   "outputs": [
    {
     "name": "stderr",
     "output_type": "stream",
     "text": [
      "[*********************100%***********************]  2 of 2 completed\n"
     ]
    },
    {
     "data": {
      "text/html": [
       "<div>\n",
       "<style scoped>\n",
       "    .dataframe tbody tr th:only-of-type {\n",
       "        vertical-align: middle;\n",
       "    }\n",
       "\n",
       "    .dataframe tbody tr th {\n",
       "        vertical-align: top;\n",
       "    }\n",
       "\n",
       "    .dataframe thead tr th {\n",
       "        text-align: left;\n",
       "    }\n",
       "\n",
       "    .dataframe thead tr:last-of-type th {\n",
       "        text-align: right;\n",
       "    }\n",
       "</style>\n",
       "<table border=\"1\" class=\"dataframe\">\n",
       "  <thead>\n",
       "    <tr>\n",
       "      <th>Price</th>\n",
       "      <th colspan=\"2\" halign=\"left\">Adj Close</th>\n",
       "      <th colspan=\"2\" halign=\"left\">Close</th>\n",
       "      <th colspan=\"2\" halign=\"left\">High</th>\n",
       "      <th colspan=\"2\" halign=\"left\">Low</th>\n",
       "      <th colspan=\"2\" halign=\"left\">Open</th>\n",
       "      <th colspan=\"2\" halign=\"left\">Volume</th>\n",
       "    </tr>\n",
       "    <tr>\n",
       "      <th>Ticker</th>\n",
       "      <th>SPY</th>\n",
       "      <th>^VIX</th>\n",
       "      <th>SPY</th>\n",
       "      <th>^VIX</th>\n",
       "      <th>SPY</th>\n",
       "      <th>^VIX</th>\n",
       "      <th>SPY</th>\n",
       "      <th>^VIX</th>\n",
       "      <th>SPY</th>\n",
       "      <th>^VIX</th>\n",
       "      <th>SPY</th>\n",
       "      <th>^VIX</th>\n",
       "    </tr>\n",
       "    <tr>\n",
       "      <th>Date</th>\n",
       "      <th></th>\n",
       "      <th></th>\n",
       "      <th></th>\n",
       "      <th></th>\n",
       "      <th></th>\n",
       "      <th></th>\n",
       "      <th></th>\n",
       "      <th></th>\n",
       "      <th></th>\n",
       "      <th></th>\n",
       "      <th></th>\n",
       "      <th></th>\n",
       "    </tr>\n",
       "  </thead>\n",
       "  <tbody>\n",
       "    <tr>\n",
       "      <th>2016-01-04</th>\n",
       "      <td>171.35</td>\n",
       "      <td>20.70</td>\n",
       "      <td>201.02</td>\n",
       "      <td>20.70</td>\n",
       "      <td>201.03</td>\n",
       "      <td>23.36</td>\n",
       "      <td>198.59</td>\n",
       "      <td>20.67</td>\n",
       "      <td>200.49</td>\n",
       "      <td>22.48</td>\n",
       "      <td>222353500</td>\n",
       "      <td>0</td>\n",
       "    </tr>\n",
       "    <tr>\n",
       "      <th>2016-01-05</th>\n",
       "      <td>171.64</td>\n",
       "      <td>19.34</td>\n",
       "      <td>201.36</td>\n",
       "      <td>19.34</td>\n",
       "      <td>201.90</td>\n",
       "      <td>21.06</td>\n",
       "      <td>200.05</td>\n",
       "      <td>19.25</td>\n",
       "      <td>201.40</td>\n",
       "      <td>20.75</td>\n",
       "      <td>110845800</td>\n",
       "      <td>0</td>\n",
       "    </tr>\n",
       "    <tr>\n",
       "      <th>2016-01-06</th>\n",
       "      <td>169.47</td>\n",
       "      <td>20.59</td>\n",
       "      <td>198.82</td>\n",
       "      <td>20.59</td>\n",
       "      <td>200.06</td>\n",
       "      <td>21.86</td>\n",
       "      <td>197.60</td>\n",
       "      <td>19.80</td>\n",
       "      <td>198.34</td>\n",
       "      <td>21.67</td>\n",
       "      <td>152112600</td>\n",
       "      <td>0</td>\n",
       "    </tr>\n",
       "    <tr>\n",
       "      <th>2016-01-07</th>\n",
       "      <td>165.41</td>\n",
       "      <td>24.99</td>\n",
       "      <td>194.05</td>\n",
       "      <td>24.99</td>\n",
       "      <td>197.44</td>\n",
       "      <td>25.86</td>\n",
       "      <td>193.59</td>\n",
       "      <td>22.40</td>\n",
       "      <td>195.33</td>\n",
       "      <td>23.22</td>\n",
       "      <td>213436100</td>\n",
       "      <td>0</td>\n",
       "    </tr>\n",
       "    <tr>\n",
       "      <th>2016-01-08</th>\n",
       "      <td>163.59</td>\n",
       "      <td>27.01</td>\n",
       "      <td>191.92</td>\n",
       "      <td>27.01</td>\n",
       "      <td>195.85</td>\n",
       "      <td>27.08</td>\n",
       "      <td>191.58</td>\n",
       "      <td>22.48</td>\n",
       "      <td>195.19</td>\n",
       "      <td>22.96</td>\n",
       "      <td>209817200</td>\n",
       "      <td>0</td>\n",
       "    </tr>\n",
       "  </tbody>\n",
       "</table>\n",
       "</div>"
      ],
      "text/plain": [
       "Price      Adj Close          Close           High            Low          \n",
       "Ticker           SPY   ^VIX     SPY   ^VIX     SPY   ^VIX     SPY   ^VIX   \n",
       "Date                                                                       \n",
       "2016-01-04    171.35  20.70  201.02  20.70  201.03  23.36  198.59  20.67  \\\n",
       "2016-01-05    171.64  19.34  201.36  19.34  201.90  21.06  200.05  19.25   \n",
       "2016-01-06    169.47  20.59  198.82  20.59  200.06  21.86  197.60  19.80   \n",
       "2016-01-07    165.41  24.99  194.05  24.99  197.44  25.86  193.59  22.40   \n",
       "2016-01-08    163.59  27.01  191.92  27.01  195.85  27.08  191.58  22.48   \n",
       "\n",
       "Price         Open            Volume       \n",
       "Ticker         SPY   ^VIX        SPY ^VIX  \n",
       "Date                                       \n",
       "2016-01-04  200.49  22.48  222353500    0  \n",
       "2016-01-05  201.40  20.75  110845800    0  \n",
       "2016-01-06  198.34  21.67  152112600    0  \n",
       "2016-01-07  195.33  23.22  213436100    0  \n",
       "2016-01-08  195.19  22.96  209817200    0  "
      ]
     },
     "execution_count": 2,
     "metadata": {},
     "output_type": "execute_result"
    }
   ],
   "source": [
    "df_spy = yf.download(\n",
    "    ['SPY', '^VIX'], start='2016-01-01', end='2021-06-30',\n",
    "    auto_adjust=False, rounding=True\n",
    ")\n",
    "df_spy.head()"
   ]
  },
  {
   "cell_type": "markdown",
   "metadata": {},
   "source": [
    "The following code cleans up the data by isolating the the `Close` prices, resetting the index, and then changing the column names"
   ]
  },
  {
   "cell_type": "code",
   "execution_count": 3,
   "metadata": {},
   "outputs": [
    {
     "data": {
      "text/html": [
       "<div>\n",
       "<style scoped>\n",
       "    .dataframe tbody tr th:only-of-type {\n",
       "        vertical-align: middle;\n",
       "    }\n",
       "\n",
       "    .dataframe tbody tr th {\n",
       "        vertical-align: top;\n",
       "    }\n",
       "\n",
       "    .dataframe thead th {\n",
       "        text-align: right;\n",
       "    }\n",
       "</style>\n",
       "<table border=\"1\" class=\"dataframe\">\n",
       "  <thead>\n",
       "    <tr style=\"text-align: right;\">\n",
       "      <th></th>\n",
       "      <th>date</th>\n",
       "      <th>spy</th>\n",
       "      <th>vix</th>\n",
       "    </tr>\n",
       "  </thead>\n",
       "  <tbody>\n",
       "    <tr>\n",
       "      <th>0</th>\n",
       "      <td>2016-01-04</td>\n",
       "      <td>201.02</td>\n",
       "      <td>20.70</td>\n",
       "    </tr>\n",
       "    <tr>\n",
       "      <th>1</th>\n",
       "      <td>2016-01-05</td>\n",
       "      <td>201.36</td>\n",
       "      <td>19.34</td>\n",
       "    </tr>\n",
       "    <tr>\n",
       "      <th>2</th>\n",
       "      <td>2016-01-06</td>\n",
       "      <td>198.82</td>\n",
       "      <td>20.59</td>\n",
       "    </tr>\n",
       "    <tr>\n",
       "      <th>3</th>\n",
       "      <td>2016-01-07</td>\n",
       "      <td>194.05</td>\n",
       "      <td>24.99</td>\n",
       "    </tr>\n",
       "    <tr>\n",
       "      <th>4</th>\n",
       "      <td>2016-01-08</td>\n",
       "      <td>191.92</td>\n",
       "      <td>27.01</td>\n",
       "    </tr>\n",
       "  </tbody>\n",
       "</table>\n",
       "</div>"
      ],
      "text/plain": [
       "        date     spy    vix\n",
       "0 2016-01-04  201.02  20.70\n",
       "1 2016-01-05  201.36  19.34\n",
       "2 2016-01-06  198.82  20.59\n",
       "3 2016-01-07  194.05  24.99\n",
       "4 2016-01-08  191.92  27.01"
      ]
     },
     "execution_count": 3,
     "metadata": {},
     "output_type": "execute_result"
    }
   ],
   "source": [
    "df_spy = df_spy['Close'].reset_index()\n",
    "df_spy.rename_axis(None, axis=1, inplace=True)\n",
    "df_spy.rename(columns={'Date':'date','SPY':'spy','^VIX':'vix'}, inplace=True)\n",
    "df_spy.head()"
   ]
  },
  {
   "cell_type": "markdown",
   "metadata": {},
   "source": [
    "## Adding Returns and VIX Changes to `df_spy`"
   ]
  },
  {
   "cell_type": "markdown",
   "metadata": {},
   "source": [
    "Let's add a `return` column to `df_spy`."
   ]
  },
  {
   "cell_type": "code",
   "execution_count": 4,
   "metadata": {},
   "outputs": [
    {
     "data": {
      "text/html": [
       "<div>\n",
       "<style scoped>\n",
       "    .dataframe tbody tr th:only-of-type {\n",
       "        vertical-align: middle;\n",
       "    }\n",
       "\n",
       "    .dataframe tbody tr th {\n",
       "        vertical-align: top;\n",
       "    }\n",
       "\n",
       "    .dataframe thead th {\n",
       "        text-align: right;\n",
       "    }\n",
       "</style>\n",
       "<table border=\"1\" class=\"dataframe\">\n",
       "  <thead>\n",
       "    <tr style=\"text-align: right;\">\n",
       "      <th></th>\n",
       "      <th>date</th>\n",
       "      <th>spy</th>\n",
       "      <th>vix</th>\n",
       "      <th>return</th>\n",
       "    </tr>\n",
       "  </thead>\n",
       "  <tbody>\n",
       "    <tr>\n",
       "      <th>0</th>\n",
       "      <td>2016-01-04</td>\n",
       "      <td>201.02</td>\n",
       "      <td>20.70</td>\n",
       "      <td>NaN</td>\n",
       "    </tr>\n",
       "    <tr>\n",
       "      <th>1</th>\n",
       "      <td>2016-01-05</td>\n",
       "      <td>201.36</td>\n",
       "      <td>19.34</td>\n",
       "      <td>0.001691</td>\n",
       "    </tr>\n",
       "    <tr>\n",
       "      <th>2</th>\n",
       "      <td>2016-01-06</td>\n",
       "      <td>198.82</td>\n",
       "      <td>20.59</td>\n",
       "      <td>-0.012614</td>\n",
       "    </tr>\n",
       "    <tr>\n",
       "      <th>3</th>\n",
       "      <td>2016-01-07</td>\n",
       "      <td>194.05</td>\n",
       "      <td>24.99</td>\n",
       "      <td>-0.023992</td>\n",
       "    </tr>\n",
       "    <tr>\n",
       "      <th>4</th>\n",
       "      <td>2016-01-08</td>\n",
       "      <td>191.92</td>\n",
       "      <td>27.01</td>\n",
       "      <td>-0.010977</td>\n",
       "    </tr>\n",
       "  </tbody>\n",
       "</table>\n",
       "</div>"
      ],
      "text/plain": [
       "        date     spy    vix    return\n",
       "0 2016-01-04  201.02  20.70       NaN\n",
       "1 2016-01-05  201.36  19.34  0.001691\n",
       "2 2016-01-06  198.82  20.59 -0.012614\n",
       "3 2016-01-07  194.05  24.99 -0.023992\n",
       "4 2016-01-08  191.92  27.01 -0.010977"
      ]
     },
     "execution_count": 4,
     "metadata": {},
     "output_type": "execute_result"
    }
   ],
   "source": [
    "df_spy['return'] = df_spy['spy'] / df_spy['spy'].shift(1) - 1\n",
    "df_spy.head()"
   ]
  },
  {
   "cell_type": "markdown",
   "metadata": {},
   "source": [
    "Next, let's calculate the daily change in the VIX, and put it in a new column called `vix_chg`."
   ]
  },
  {
   "cell_type": "code",
   "execution_count": 5,
   "metadata": {},
   "outputs": [
    {
     "data": {
      "text/html": [
       "<div>\n",
       "<style scoped>\n",
       "    .dataframe tbody tr th:only-of-type {\n",
       "        vertical-align: middle;\n",
       "    }\n",
       "\n",
       "    .dataframe tbody tr th {\n",
       "        vertical-align: top;\n",
       "    }\n",
       "\n",
       "    .dataframe thead th {\n",
       "        text-align: right;\n",
       "    }\n",
       "</style>\n",
       "<table border=\"1\" class=\"dataframe\">\n",
       "  <thead>\n",
       "    <tr style=\"text-align: right;\">\n",
       "      <th></th>\n",
       "      <th>date</th>\n",
       "      <th>spy</th>\n",
       "      <th>vix</th>\n",
       "      <th>return</th>\n",
       "      <th>vix_chng</th>\n",
       "    </tr>\n",
       "  </thead>\n",
       "  <tbody>\n",
       "    <tr>\n",
       "      <th>0</th>\n",
       "      <td>2016-01-04</td>\n",
       "      <td>201.02</td>\n",
       "      <td>20.70</td>\n",
       "      <td>NaN</td>\n",
       "      <td>NaN</td>\n",
       "    </tr>\n",
       "    <tr>\n",
       "      <th>1</th>\n",
       "      <td>2016-01-05</td>\n",
       "      <td>201.36</td>\n",
       "      <td>19.34</td>\n",
       "      <td>0.001691</td>\n",
       "      <td>-1.36</td>\n",
       "    </tr>\n",
       "    <tr>\n",
       "      <th>2</th>\n",
       "      <td>2016-01-06</td>\n",
       "      <td>198.82</td>\n",
       "      <td>20.59</td>\n",
       "      <td>-0.012614</td>\n",
       "      <td>1.25</td>\n",
       "    </tr>\n",
       "    <tr>\n",
       "      <th>3</th>\n",
       "      <td>2016-01-07</td>\n",
       "      <td>194.05</td>\n",
       "      <td>24.99</td>\n",
       "      <td>-0.023992</td>\n",
       "      <td>4.40</td>\n",
       "    </tr>\n",
       "    <tr>\n",
       "      <th>4</th>\n",
       "      <td>2016-01-08</td>\n",
       "      <td>191.92</td>\n",
       "      <td>27.01</td>\n",
       "      <td>-0.010977</td>\n",
       "      <td>2.02</td>\n",
       "    </tr>\n",
       "  </tbody>\n",
       "</table>\n",
       "</div>"
      ],
      "text/plain": [
       "        date     spy    vix    return  vix_chng\n",
       "0 2016-01-04  201.02  20.70       NaN       NaN\n",
       "1 2016-01-05  201.36  19.34  0.001691     -1.36\n",
       "2 2016-01-06  198.82  20.59 -0.012614      1.25\n",
       "3 2016-01-07  194.05  24.99 -0.023992      4.40\n",
       "4 2016-01-08  191.92  27.01 -0.010977      2.02"
      ]
     },
     "execution_count": 5,
     "metadata": {},
     "output_type": "execute_result"
    }
   ],
   "source": [
    "df_spy['vix_chng'] = df_spy['vix'].diff()\n",
    "df_spy.head()"
   ]
  },
  {
   "cell_type": "markdown",
   "metadata": {},
   "source": [
    "The `return` column in `df_spy` is expressed as a decimal, so let's change the `vix` and `vix_chng` columns of `df_vix` to also be expressed as decimals."
   ]
  },
  {
   "cell_type": "code",
   "execution_count": 6,
   "metadata": {},
   "outputs": [
    {
     "data": {
      "text/html": [
       "<div>\n",
       "<style scoped>\n",
       "    .dataframe tbody tr th:only-of-type {\n",
       "        vertical-align: middle;\n",
       "    }\n",
       "\n",
       "    .dataframe tbody tr th {\n",
       "        vertical-align: top;\n",
       "    }\n",
       "\n",
       "    .dataframe thead th {\n",
       "        text-align: right;\n",
       "    }\n",
       "</style>\n",
       "<table border=\"1\" class=\"dataframe\">\n",
       "  <thead>\n",
       "    <tr style=\"text-align: right;\">\n",
       "      <th></th>\n",
       "      <th>date</th>\n",
       "      <th>spy</th>\n",
       "      <th>vix</th>\n",
       "      <th>return</th>\n",
       "      <th>vix_chng</th>\n",
       "    </tr>\n",
       "  </thead>\n",
       "  <tbody>\n",
       "    <tr>\n",
       "      <th>0</th>\n",
       "      <td>2016-01-04</td>\n",
       "      <td>201.02</td>\n",
       "      <td>0.2070</td>\n",
       "      <td>NaN</td>\n",
       "      <td>NaN</td>\n",
       "    </tr>\n",
       "    <tr>\n",
       "      <th>1</th>\n",
       "      <td>2016-01-05</td>\n",
       "      <td>201.36</td>\n",
       "      <td>0.1934</td>\n",
       "      <td>0.001691</td>\n",
       "      <td>-0.0136</td>\n",
       "    </tr>\n",
       "    <tr>\n",
       "      <th>2</th>\n",
       "      <td>2016-01-06</td>\n",
       "      <td>198.82</td>\n",
       "      <td>0.2059</td>\n",
       "      <td>-0.012614</td>\n",
       "      <td>0.0125</td>\n",
       "    </tr>\n",
       "    <tr>\n",
       "      <th>3</th>\n",
       "      <td>2016-01-07</td>\n",
       "      <td>194.05</td>\n",
       "      <td>0.2499</td>\n",
       "      <td>-0.023992</td>\n",
       "      <td>0.0440</td>\n",
       "    </tr>\n",
       "    <tr>\n",
       "      <th>4</th>\n",
       "      <td>2016-01-08</td>\n",
       "      <td>191.92</td>\n",
       "      <td>0.2701</td>\n",
       "      <td>-0.010977</td>\n",
       "      <td>0.0202</td>\n",
       "    </tr>\n",
       "  </tbody>\n",
       "</table>\n",
       "</div>"
      ],
      "text/plain": [
       "        date     spy     vix    return  vix_chng\n",
       "0 2016-01-04  201.02  0.2070       NaN       NaN\n",
       "1 2016-01-05  201.36  0.1934  0.001691   -0.0136\n",
       "2 2016-01-06  198.82  0.2059 -0.012614    0.0125\n",
       "3 2016-01-07  194.05  0.2499 -0.023992    0.0440\n",
       "4 2016-01-08  191.92  0.2701 -0.010977    0.0202"
      ]
     },
     "execution_count": 6,
     "metadata": {},
     "output_type": "execute_result"
    }
   ],
   "source": [
    "df_spy['vix'] = df_spy['vix'] / 100\n",
    "df_spy['vix_chng'] = df_spy['vix_chng'] / 100\n",
    "df_spy.head()"
   ]
  },
  {
   "cell_type": "markdown",
   "metadata": {},
   "source": [
    "## Scatter Plot"
   ]
  },
  {
   "cell_type": "markdown",
   "metadata": {},
   "source": [
    "Now that we have our data wrangled, we are in position to use the `DataFrame.plot.scatter()` method to plot daily SPY return against daily changes in the VIX."
   ]
  },
  {
   "cell_type": "code",
   "execution_count": 7,
   "metadata": {},
   "outputs": [
    {
     "data": {
      "image/png": "[encoded data removed]",
      "text/plain": [
       "<Figure size 640x480 with 1 Axes>"
      ]
     },
     "metadata": {},
     "output_type": "display_data"
    }
   ],
   "source": [
    "df_spy.plot.scatter('return', 'vix_chng');"
   ]
  },
  {
   "cell_type": "markdown",
   "metadata": {},
   "source": [
    "The following code improves the aesthetics of our plot:"
   ]
  },
  {
   "cell_type": "code",
   "execution_count": 8,
   "metadata": {},
   "outputs": [
    {
     "data": {
      "image/png": "[encoded data removed]",
      "text/plain": [
       "<Figure size 800x600 with 1 Axes>"
      ]
     },
     "metadata": {},
     "output_type": "display_data"
    }
   ],
   "source": [
    "df_spy.plot.scatter(\n",
    "    x = 'return',\n",
    "    y = 'vix_chng',\n",
    "    grid=True ,  \n",
    "    c='k',\n",
    "    alpha=0.75,\n",
    "    s=10,  # changing the size of the dots\n",
    "    figsize=(8, 6),\n",
    "    title='SPY Return vs VIX Changes (2016Q1-2021Q2: daily)',\n",
    ");"
   ]
  },
  {
   "cell_type": "code",
   "execution_count": null,
   "metadata": {},
   "outputs": [],
   "source": []
  }
 ],
 "metadata": {
  "kernelspec": {
   "display_name": "Python 3 (ipykernel)",
   "language": "python",
   "name": "python3"
  },
  "language_info": {
   "codemirror_mode": {
    "name": "ipython",
    "version": 3
   },
   "file_extension": ".py",
   "mimetype": "text/x-python",
   "name": "python",
   "nbconvert_exporter": "python",
   "pygments_lexer": "ipython3",
   "version": "3.10.12"
  }
 },
 "nbformat": 4,
 "nbformat_minor": 4
}
