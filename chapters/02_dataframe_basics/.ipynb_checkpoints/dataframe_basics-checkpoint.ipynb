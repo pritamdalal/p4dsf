{
 "cells": [
  {
   "cell_type": "markdown",
   "metadata": {},
   "source": [
    "# `DataFrame` Basics"
   ]
  },
  {
   "cell_type": "markdown",
   "metadata": {},
   "source": [
    "In this chapter we cover the basics of working with `DataFrames` in **pandas**."
   ]
  },
  {
   "cell_type": "markdown",
   "metadata": {},
   "source": [
    "## Importing Packages"
   ]
  },
  {
   "cell_type": "markdown",
   "metadata": {},
   "source": [
    "Let's begin by importing the packages that we will need."
   ]
  },
  {
   "cell_type": "code",
   "execution_count": 1,
   "metadata": {},
   "outputs": [],
   "source": [
    "import pandas as pd\n",
    "import yfinance as yf\n",
    "pd.set_option('display.max_rows', 10)"
   ]
  },
  {
   "cell_type": "markdown",
   "metadata": {},
   "source": [
    " "
   ]
  },
  {
   "cell_type": "markdown",
   "metadata": {},
   "source": [
    "## Reading-In Data"
   ]
  },
  {
   "cell_type": "markdown",
   "metadata": {},
   "source": [
    "Next, let's use **pandas_datareader** to read-in SPY prices from March 2020.  SPY is an ETF that tracks the S&P500 index."
   ]
  },
  {
   "cell_type": "code",
   "execution_count": 2,
   "metadata": {},
   "outputs": [
    {
     "name": "stderr",
     "output_type": "stream",
     "text": [
      "[*********************100%***********************]  1 of 1 completed\n"
     ]
    },
    {
     "data": {
      "text/html": [
       "<div>\n",
       "<style scoped>\n",
       "    .dataframe tbody tr th:only-of-type {\n",
       "        vertical-align: middle;\n",
       "    }\n",
       "\n",
       "    .dataframe tbody tr th {\n",
       "        vertical-align: top;\n",
       "    }\n",
       "\n",
       "    .dataframe thead tr th {\n",
       "        text-align: left;\n",
       "    }\n",
       "\n",
       "    .dataframe thead tr:last-of-type th {\n",
       "        text-align: right;\n",
       "    }\n",
       "</style>\n",
       "<table border=\"1\" class=\"dataframe\">\n",
       "  <thead>\n",
       "    <tr>\n",
       "      <th>Price</th>\n",
       "      <th>Adj Close</th>\n",
       "      <th>Close</th>\n",
       "      <th>High</th>\n",
       "      <th>Low</th>\n",
       "      <th>Open</th>\n",
       "      <th>Volume</th>\n",
       "    </tr>\n",
       "    <tr>\n",
       "      <th>Ticker</th>\n",
       "      <th>SPY</th>\n",
       "      <th>SPY</th>\n",
       "      <th>SPY</th>\n",
       "      <th>SPY</th>\n",
       "      <th>SPY</th>\n",
       "      <th>SPY</th>\n",
       "    </tr>\n",
       "    <tr>\n",
       "      <th>Date</th>\n",
       "      <th></th>\n",
       "      <th></th>\n",
       "      <th></th>\n",
       "      <th></th>\n",
       "      <th></th>\n",
       "      <th></th>\n",
       "    </tr>\n",
       "  </thead>\n",
       "  <tbody>\n",
       "    <tr>\n",
       "      <th>2020-02-28</th>\n",
       "      <td>273.04</td>\n",
       "      <td>296.26</td>\n",
       "      <td>297.89</td>\n",
       "      <td>285.54</td>\n",
       "      <td>288.70</td>\n",
       "      <td>384975800</td>\n",
       "    </tr>\n",
       "    <tr>\n",
       "      <th>2020-03-02</th>\n",
       "      <td>284.86</td>\n",
       "      <td>309.09</td>\n",
       "      <td>309.16</td>\n",
       "      <td>294.46</td>\n",
       "      <td>298.21</td>\n",
       "      <td>238703600</td>\n",
       "    </tr>\n",
       "    <tr>\n",
       "      <th>2020-03-03</th>\n",
       "      <td>276.71</td>\n",
       "      <td>300.24</td>\n",
       "      <td>313.84</td>\n",
       "      <td>297.57</td>\n",
       "      <td>309.50</td>\n",
       "      <td>300139100</td>\n",
       "    </tr>\n",
       "    <tr>\n",
       "      <th>2020-03-04</th>\n",
       "      <td>288.34</td>\n",
       "      <td>312.86</td>\n",
       "      <td>313.10</td>\n",
       "      <td>303.33</td>\n",
       "      <td>306.12</td>\n",
       "      <td>176613400</td>\n",
       "    </tr>\n",
       "    <tr>\n",
       "      <th>2020-03-05</th>\n",
       "      <td>278.75</td>\n",
       "      <td>302.46</td>\n",
       "      <td>308.47</td>\n",
       "      <td>300.01</td>\n",
       "      <td>304.98</td>\n",
       "      <td>186366800</td>\n",
       "    </tr>\n",
       "  </tbody>\n",
       "</table>\n",
       "</div>"
      ],
      "text/plain": [
       "Price      Adj Close   Close    High     Low    Open     Volume\n",
       "Ticker           SPY     SPY     SPY     SPY     SPY        SPY\n",
       "Date                                                           \n",
       "2020-02-28    273.04  296.26  297.89  285.54  288.70  384975800\n",
       "2020-03-02    284.86  309.09  309.16  294.46  298.21  238703600\n",
       "2020-03-03    276.71  300.24  313.84  297.57  309.50  300139100\n",
       "2020-03-04    288.34  312.86  313.10  303.33  306.12  176613400\n",
       "2020-03-05    278.75  302.46  308.47  300.01  304.98  186366800"
      ]
     },
     "execution_count": 2,
     "metadata": {},
     "output_type": "execute_result"
    }
   ],
   "source": [
    "df_spy = yf.download('SPY', start='2020-02-28', end='2020-03-31', auto_adjust=False, rounding=True)\n",
    "df_spy.head()"
   ]
  },
  {
   "cell_type": "markdown",
   "metadata": {},
   "source": [
    "As a bit of clean-up, let's do the following:\n",
    "\n",
    "- drop the `SPY` level of the column index\n",
    "- make the `Date` a regular column instead of an index\n",
    "- make the column names snake-case."
   ]
  },
  {
   "cell_type": "code",
   "execution_count": 3,
   "metadata": {},
   "outputs": [
    {
     "data": {
      "text/html": [
       "<div>\n",
       "<style scoped>\n",
       "    .dataframe tbody tr th:only-of-type {\n",
       "        vertical-align: middle;\n",
       "    }\n",
       "\n",
       "    .dataframe tbody tr th {\n",
       "        vertical-align: top;\n",
       "    }\n",
       "\n",
       "    .dataframe thead th {\n",
       "        text-align: right;\n",
       "    }\n",
       "</style>\n",
       "<table border=\"1\" class=\"dataframe\">\n",
       "  <thead>\n",
       "    <tr style=\"text-align: right;\">\n",
       "      <th></th>\n",
       "      <th>date</th>\n",
       "      <th>adj_close</th>\n",
       "      <th>close</th>\n",
       "      <th>high</th>\n",
       "      <th>low</th>\n",
       "      <th>open</th>\n",
       "      <th>volume</th>\n",
       "    </tr>\n",
       "  </thead>\n",
       "  <tbody>\n",
       "    <tr>\n",
       "      <th>0</th>\n",
       "      <td>2020-02-28</td>\n",
       "      <td>273.04</td>\n",
       "      <td>296.26</td>\n",
       "      <td>297.89</td>\n",
       "      <td>285.54</td>\n",
       "      <td>288.70</td>\n",
       "      <td>384975800</td>\n",
       "    </tr>\n",
       "    <tr>\n",
       "      <th>1</th>\n",
       "      <td>2020-03-02</td>\n",
       "      <td>284.86</td>\n",
       "      <td>309.09</td>\n",
       "      <td>309.16</td>\n",
       "      <td>294.46</td>\n",
       "      <td>298.21</td>\n",
       "      <td>238703600</td>\n",
       "    </tr>\n",
       "    <tr>\n",
       "      <th>2</th>\n",
       "      <td>2020-03-03</td>\n",
       "      <td>276.71</td>\n",
       "      <td>300.24</td>\n",
       "      <td>313.84</td>\n",
       "      <td>297.57</td>\n",
       "      <td>309.50</td>\n",
       "      <td>300139100</td>\n",
       "    </tr>\n",
       "    <tr>\n",
       "      <th>3</th>\n",
       "      <td>2020-03-04</td>\n",
       "      <td>288.34</td>\n",
       "      <td>312.86</td>\n",
       "      <td>313.10</td>\n",
       "      <td>303.33</td>\n",
       "      <td>306.12</td>\n",
       "      <td>176613400</td>\n",
       "    </tr>\n",
       "    <tr>\n",
       "      <th>4</th>\n",
       "      <td>2020-03-05</td>\n",
       "      <td>278.75</td>\n",
       "      <td>302.46</td>\n",
       "      <td>308.47</td>\n",
       "      <td>300.01</td>\n",
       "      <td>304.98</td>\n",
       "      <td>186366800</td>\n",
       "    </tr>\n",
       "  </tbody>\n",
       "</table>\n",
       "</div>"
      ],
      "text/plain": [
       "        date  adj_close   close    high     low    open     volume\n",
       "0 2020-02-28     273.04  296.26  297.89  285.54  288.70  384975800\n",
       "1 2020-03-02     284.86  309.09  309.16  294.46  298.21  238703600\n",
       "2 2020-03-03     276.71  300.24  313.84  297.57  309.50  300139100\n",
       "3 2020-03-04     288.34  312.86  313.10  303.33  306.12  176613400\n",
       "4 2020-03-05     278.75  302.46  308.47  300.01  304.98  186366800"
      ]
     },
     "execution_count": 3,
     "metadata": {},
     "output_type": "execute_result"
    }
   ],
   "source": [
    "df_spy = df_spy.droplevel(level=1, axis=1)\n",
    "df_spy = df_spy.rename_axis(None, axis=1)\n",
    "df_spy.reset_index(drop=False, inplace=True)\n",
    "df_spy.columns = df_spy.columns.str.lower().str.replace(' ', '_')\n",
    "df_spy.head()"
   ]
  },
  {
   "cell_type": "markdown",
   "metadata": {},
   "source": [
    "## Exploring a `DataFrame`"
   ]
  },
  {
   "cell_type": "markdown",
   "metadata": {},
   "source": [
    "We can explore our `df_spy` `DataFrame` in a variety of ways.\n",
    "\n",
    "First, we can first use the `type()` method to make sure what we have created is in fact a `DataFrame`."
   ]
  },
  {
   "cell_type": "code",
   "execution_count": 4,
   "metadata": {},
   "outputs": [
    {
     "data": {
      "text/plain": [
       "pandas.core.frame.DataFrame"
      ]
     },
     "execution_count": 4,
     "metadata": {},
     "output_type": "execute_result"
    }
   ],
   "source": [
    "type(df_spy)"
   ]
  },
  {
   "cell_type": "markdown",
   "metadata": {},
   "source": [
    "Next, we can use the `.dtypes` attribute of the `DataFrame` to see the data types of each of the columns."
   ]
  },
  {
   "cell_type": "code",
   "execution_count": 5,
   "metadata": {},
   "outputs": [
    {
     "data": {
      "text/plain": [
       "date         datetime64[ns]\n",
       "adj_close           float64\n",
       "close               float64\n",
       "high                float64\n",
       "low                 float64\n",
       "open                float64\n",
       "volume                int64\n",
       "dtype: object"
      ]
     },
     "execution_count": 5,
     "metadata": {},
     "output_type": "execute_result"
    }
   ],
   "source": [
    "df_spy.dtypes"
   ]
  },
  {
   "cell_type": "markdown",
   "metadata": {},
   "source": [
    "We can also check the number of rows and columns by using the `.shape` attribute."
   ]
  },
  {
   "cell_type": "code",
   "execution_count": 6,
   "metadata": {},
   "outputs": [
    {
     "data": {
      "text/plain": [
       "(22, 7)"
      ]
     },
     "execution_count": 6,
     "metadata": {},
     "output_type": "execute_result"
    }
   ],
   "source": [
    "df_spy.shape"
   ]
  },
  {
   "cell_type": "markdown",
   "metadata": {},
   "source": [
    "As we can see, our `DataFrame` `df_spy` consists of 22 rows and 7 columns."
   ]
  },
  {
   "cell_type": "markdown",
   "metadata": {},
   "source": [
    " ---"
   ]
  },
  {
   "cell_type": "markdown",
   "metadata": {},
   "source": [
    "**Code Challenge:** Try the `DataFrame.info()` and `DataFrame.describe()` methods on `df_spy`."
   ]
  },
  {
   "cell_type": "code",
   "execution_count": 7,
   "metadata": {},
   "outputs": [
    {
     "name": "stdout",
     "output_type": "stream",
     "text": [
      "<class 'pandas.core.frame.DataFrame'>\n",
      "RangeIndex: 22 entries, 0 to 21\n",
      "Data columns (total 7 columns):\n",
      " #   Column     Non-Null Count  Dtype         \n",
      "---  ------     --------------  -----         \n",
      " 0   date       22 non-null     datetime64[ns]\n",
      " 1   adj_close  22 non-null     float64       \n",
      " 2   close      22 non-null     float64       \n",
      " 3   high       22 non-null     float64       \n",
      " 4   low        22 non-null     float64       \n",
      " 5   open       22 non-null     float64       \n",
      " 6   volume     22 non-null     int64         \n",
      "dtypes: datetime64[ns](1), float64(5), int64(1)\n",
      "memory usage: 1.3 KB\n"
     ]
    }
   ],
   "source": [
    "#| code-fold: true\n",
    "#| code-summary: \"Solution\"\n",
    "df_spy.info()"
   ]
  },
  {
   "cell_type": "code",
   "execution_count": 8,
   "metadata": {},
   "outputs": [
    {
     "data": {
      "text/html": [
       "<div>\n",
       "<style scoped>\n",
       "    .dataframe tbody tr th:only-of-type {\n",
       "        vertical-align: middle;\n",
       "    }\n",
       "\n",
       "    .dataframe tbody tr th {\n",
       "        vertical-align: top;\n",
       "    }\n",
       "\n",
       "    .dataframe thead th {\n",
       "        text-align: right;\n",
       "    }\n",
       "</style>\n",
       "<table border=\"1\" class=\"dataframe\">\n",
       "  <thead>\n",
       "    <tr style=\"text-align: right;\">\n",
       "      <th></th>\n",
       "      <th>date</th>\n",
       "      <th>adj_close</th>\n",
       "      <th>close</th>\n",
       "      <th>high</th>\n",
       "      <th>low</th>\n",
       "      <th>open</th>\n",
       "      <th>volume</th>\n",
       "    </tr>\n",
       "  </thead>\n",
       "  <tbody>\n",
       "    <tr>\n",
       "      <th>count</th>\n",
       "      <td>22</td>\n",
       "      <td>22.00</td>\n",
       "      <td>22.00</td>\n",
       "      <td>22.00</td>\n",
       "      <td>22.00</td>\n",
       "      <td>22.00</td>\n",
       "      <td>2.200000e+01</td>\n",
       "    </tr>\n",
       "    <tr>\n",
       "      <th>mean</th>\n",
       "      <td>2020-03-14 12:00:00</td>\n",
       "      <td>246.07</td>\n",
       "      <td>266.54</td>\n",
       "      <td>272.89</td>\n",
       "      <td>258.81</td>\n",
       "      <td>265.03</td>\n",
       "      <td>2.780051e+08</td>\n",
       "    </tr>\n",
       "    <tr>\n",
       "      <th>min</th>\n",
       "      <td>2020-02-28 00:00:00</td>\n",
       "      <td>206.68</td>\n",
       "      <td>222.95</td>\n",
       "      <td>229.68</td>\n",
       "      <td>218.26</td>\n",
       "      <td>228.19</td>\n",
       "      <td>1.713695e+08</td>\n",
       "    </tr>\n",
       "    <tr>\n",
       "      <th>25%</th>\n",
       "      <td>2020-03-06 18:00:00</td>\n",
       "      <td>226.22</td>\n",
       "      <td>244.06</td>\n",
       "      <td>256.22</td>\n",
       "      <td>237.14</td>\n",
       "      <td>243.12</td>\n",
       "      <td>2.362968e+08</td>\n",
       "    </tr>\n",
       "    <tr>\n",
       "      <th>50%</th>\n",
       "      <td>2020-03-14 12:00:00</td>\n",
       "      <td>242.35</td>\n",
       "      <td>261.42</td>\n",
       "      <td>264.73</td>\n",
       "      <td>250.05</td>\n",
       "      <td>255.85</td>\n",
       "      <td>2.828830e+08</td>\n",
       "    </tr>\n",
       "    <tr>\n",
       "      <th>75%</th>\n",
       "      <td>2020-03-22 06:00:00</td>\n",
       "      <td>271.23</td>\n",
       "      <td>294.30</td>\n",
       "      <td>295.55</td>\n",
       "      <td>282.53</td>\n",
       "      <td>287.68</td>\n",
       "      <td>3.218732e+08</td>\n",
       "    </tr>\n",
       "    <tr>\n",
       "      <th>max</th>\n",
       "      <td>2020-03-30 00:00:00</td>\n",
       "      <td>288.34</td>\n",
       "      <td>312.86</td>\n",
       "      <td>313.84</td>\n",
       "      <td>303.33</td>\n",
       "      <td>309.50</td>\n",
       "      <td>3.922207e+08</td>\n",
       "    </tr>\n",
       "    <tr>\n",
       "      <th>std</th>\n",
       "      <td>NaN</td>\n",
       "      <td>25.07</td>\n",
       "      <td>27.55</td>\n",
       "      <td>25.44</td>\n",
       "      <td>26.98</td>\n",
       "      <td>26.43</td>\n",
       "      <td>6.134551e+07</td>\n",
       "    </tr>\n",
       "  </tbody>\n",
       "</table>\n",
       "</div>"
      ],
      "text/plain": [
       "                      date  adj_close   close    high     low    open   \n",
       "count                   22      22.00   22.00   22.00   22.00   22.00  \\\n",
       "mean   2020-03-14 12:00:00     246.07  266.54  272.89  258.81  265.03   \n",
       "min    2020-02-28 00:00:00     206.68  222.95  229.68  218.26  228.19   \n",
       "25%    2020-03-06 18:00:00     226.22  244.06  256.22  237.14  243.12   \n",
       "50%    2020-03-14 12:00:00     242.35  261.42  264.73  250.05  255.85   \n",
       "75%    2020-03-22 06:00:00     271.23  294.30  295.55  282.53  287.68   \n",
       "max    2020-03-30 00:00:00     288.34  312.86  313.84  303.33  309.50   \n",
       "std                    NaN      25.07   27.55   25.44   26.98   26.43   \n",
       "\n",
       "             volume  \n",
       "count  2.200000e+01  \n",
       "mean   2.780051e+08  \n",
       "min    1.713695e+08  \n",
       "25%    2.362968e+08  \n",
       "50%    2.828830e+08  \n",
       "75%    3.218732e+08  \n",
       "max    3.922207e+08  \n",
       "std    6.134551e+07  "
      ]
     },
     "execution_count": 8,
     "metadata": {},
     "output_type": "execute_result"
    }
   ],
   "source": [
    "#| code-fold: true\n",
    "#| code-summary: \"Solution\"\n",
    "df_spy.describe().round(2)"
   ]
  },
  {
   "cell_type": "markdown",
   "metadata": {},
   "source": [
    " "
   ]
  },
  {
   "cell_type": "markdown",
   "metadata": {},
   "source": [
    "## `DataFrame` Columns"
   ]
  },
  {
   "cell_type": "markdown",
   "metadata": {},
   "source": [
    "In order to isolate a particular column of a `DataFrame` we can use square brackets (`[ ]`).  The following code isolates the `close` price column of `df_spy`."
   ]
  },
  {
   "cell_type": "code",
   "execution_count": 9,
   "metadata": {},
   "outputs": [
    {
     "data": {
      "text/plain": [
       "0     296.26\n",
       "1     309.09\n",
       "2     300.24\n",
       "3     312.86\n",
       "4     302.46\n",
       "       ...  \n",
       "17    243.15\n",
       "18    246.79\n",
       "19    261.20\n",
       "20    253.42\n",
       "21    261.65\n",
       "Name: close, Length: 22, dtype: float64"
      ]
     },
     "execution_count": 9,
     "metadata": {},
     "output_type": "execute_result"
    }
   ],
   "source": [
    "df_spy['close']"
   ]
  },
  {
   "cell_type": "markdown",
   "metadata": {},
   "source": [
    " ---"
   ]
  },
  {
   "cell_type": "markdown",
   "metadata": {},
   "source": [
    " \n",
    "\n",
    "\n",
    "**Code Challenge:** Isolate the `date` column of `df_spy`."
   ]
  },
  {
   "cell_type": "code",
   "execution_count": 10,
   "metadata": {},
   "outputs": [
    {
     "data": {
      "text/plain": [
       "0    2020-02-28\n",
       "1    2020-03-02\n",
       "2    2020-03-03\n",
       "3    2020-03-04\n",
       "4    2020-03-05\n",
       "        ...    \n",
       "17   2020-03-24\n",
       "18   2020-03-25\n",
       "19   2020-03-26\n",
       "20   2020-03-27\n",
       "21   2020-03-30\n",
       "Name: date, Length: 22, dtype: datetime64[ns]"
      ]
     },
     "execution_count": 10,
     "metadata": {},
     "output_type": "execute_result"
    }
   ],
   "source": [
    "#| code-fold: true\n",
    "#| code-summary: \"Solution\"\n",
    "df_spy['date']"
   ]
  },
  {
   "cell_type": "markdown",
   "metadata": {},
   "source": [
    "--- "
   ]
  },
  {
   "cell_type": "markdown",
   "metadata": {},
   "source": [
    "As we can see from the following code, each column of a `DataFrame` is actually a different kind of **pandas** structure called a `Series`. "
   ]
  },
  {
   "cell_type": "code",
   "execution_count": 11,
   "metadata": {},
   "outputs": [
    {
     "data": {
      "text/plain": [
       "pandas.core.series.Series"
      ]
     },
     "execution_count": 11,
     "metadata": {},
     "output_type": "execute_result"
    }
   ],
   "source": [
    "type(df_spy['close'])"
   ]
  },
  {
   "cell_type": "markdown",
   "metadata": {},
   "source": [
    " "
   ]
  },
  {
   "cell_type": "markdown",
   "metadata": {},
   "source": [
    "Here is a bit of **pandas** inside baseball:\n",
    "\n",
    "- A `DataFrame` is collection of columns that are glued together.\n",
    "\n",
    "- Each column is a `Series`.\n",
    "\n",
    "- A `Series` has two main attributes: 1) `.values`; 2) `.index`.\n",
    "\n",
    "- The `.values` component of a `Series` is a `numpy.array`."
   ]
  },
  {
   "cell_type": "markdown",
   "metadata": {},
   "source": [
    "Let's look at the `.values` attribute of the `close` column of `df_spy`."
   ]
  },
  {
   "cell_type": "code",
   "execution_count": 12,
   "metadata": {},
   "outputs": [
    {
     "data": {
      "text/plain": [
       "array([296.26, 309.09, 300.24, 312.86, 302.46, 297.46, 274.23, 288.42,\n",
       "       274.36, 248.11, 269.32, 239.85, 252.8 , 240.  , 240.51, 228.8 ,\n",
       "       222.95, 243.15, 246.79, 261.2 , 253.42, 261.65])"
      ]
     },
     "execution_count": 12,
     "metadata": {},
     "output_type": "execute_result"
    }
   ],
   "source": [
    "df_spy['close'].values"
   ]
  },
  {
   "cell_type": "markdown",
   "metadata": {},
   "source": [
    " ---"
   ]
  },
  {
   "cell_type": "markdown",
   "metadata": {},
   "source": [
    "**Code Challenge:** Verify that the `values` component of the `close` column of `df_spy` is in fact a a `numpy.array`."
   ]
  },
  {
   "cell_type": "code",
   "execution_count": 13,
   "metadata": {},
   "outputs": [
    {
     "data": {
      "text/plain": [
       "numpy.ndarray"
      ]
     },
     "execution_count": 13,
     "metadata": {},
     "output_type": "execute_result"
    }
   ],
   "source": [
    "#| code-fold: true\n",
    "#| code-summary: \"Solution\"\n",
    "type(df_spy['close'].values)"
   ]
  },
  {
   "cell_type": "markdown",
   "metadata": {},
   "source": [
    "---"
   ]
  },
  {
   "cell_type": "markdown",
   "metadata": {},
   "source": [
    "## Component-wise Column Operations"
   ]
  },
  {
   "cell_type": "markdown",
   "metadata": {},
   "source": [
    "We can perform component-wise (i.e. vector-like) calculations with `DataFrame` columns."
   ]
  },
  {
   "cell_type": "markdown",
   "metadata": {},
   "source": [
    "The following code divides all the `close` prices by 100."
   ]
  },
  {
   "cell_type": "code",
   "execution_count": 14,
   "metadata": {},
   "outputs": [
    {
     "data": {
      "text/plain": [
       "0     2.9626\n",
       "1     3.0909\n",
       "2     3.0024\n",
       "3     3.1286\n",
       "4     3.0246\n",
       "       ...  \n",
       "17    2.4315\n",
       "18    2.4679\n",
       "19    2.6120\n",
       "20    2.5342\n",
       "21    2.6165\n",
       "Name: close, Length: 22, dtype: float64"
      ]
     },
     "execution_count": 14,
     "metadata": {},
     "output_type": "execute_result"
    }
   ],
   "source": [
    "df_spy['close'] / 100"
   ]
  },
  {
   "cell_type": "markdown",
   "metadata": {},
   "source": [
    "We can also perform component-wise calculations between two colums.\n",
    "\n",
    "Let's say we want to calculate the *intraday range* of SPY for each of the trade-dates in `df_spy`; this is the difference between the `high` and the `low` of each day.  We can do this easily from the columns of our `DataFrame`."
   ]
  },
  {
   "cell_type": "code",
   "execution_count": 15,
   "metadata": {},
   "outputs": [
    {
     "data": {
      "text/plain": [
       "0     12.35\n",
       "1     14.70\n",
       "2     16.27\n",
       "3      9.77\n",
       "4      8.46\n",
       "      ...  \n",
       "17    10.30\n",
       "18    16.60\n",
       "19    13.75\n",
       "20     9.76\n",
       "21     8.90\n",
       "Length: 22, dtype: float64"
      ]
     },
     "execution_count": 15,
     "metadata": {},
     "output_type": "execute_result"
    }
   ],
   "source": [
    "df_spy['high'] - df_spy['low']"
   ]
  },
  {
   "cell_type": "markdown",
   "metadata": {},
   "source": [
    " ---"
   ]
  },
  {
   "cell_type": "markdown",
   "metadata": {},
   "source": [
    "**Code Challenge:** Calculate the difference between the `close` and `open` columns of `df_spy`."
   ]
  },
  {
   "cell_type": "code",
   "execution_count": 16,
   "metadata": {},
   "outputs": [
    {
     "data": {
      "text/plain": [
       "0      7.56\n",
       "1     10.88\n",
       "2     -9.26\n",
       "3      6.74\n",
       "4     -2.52\n",
       "      ...  \n",
       "17     8.73\n",
       "18     1.92\n",
       "19    11.68\n",
       "20     0.15\n",
       "21     5.95\n",
       "Length: 22, dtype: float64"
      ]
     },
     "execution_count": 16,
     "metadata": {},
     "output_type": "execute_result"
    }
   ],
   "source": [
    "#| code-fold: true\n",
    "#| code-summary: \"Solution\"\n",
    "df_spy['close'] - df_spy['open']"
   ]
  },
  {
   "cell_type": "markdown",
   "metadata": {},
   "source": [
    " ---"
   ]
  },
  {
   "cell_type": "markdown",
   "metadata": {},
   "source": [
    "## Adding Columns via Variable Assignment"
   ]
  },
  {
   "cell_type": "markdown",
   "metadata": {},
   "source": [
    "Let's say we want to save our intraday ranges back into `df_spy` for further analysis later.  The most straightforward way to do this is using variable assignment as follows."
   ]
  },
  {
   "cell_type": "code",
   "execution_count": 17,
   "metadata": {},
   "outputs": [
    {
     "data": {
      "text/html": [
       "<div>\n",
       "<style scoped>\n",
       "    .dataframe tbody tr th:only-of-type {\n",
       "        vertical-align: middle;\n",
       "    }\n",
       "\n",
       "    .dataframe tbody tr th {\n",
       "        vertical-align: top;\n",
       "    }\n",
       "\n",
       "    .dataframe thead th {\n",
       "        text-align: right;\n",
       "    }\n",
       "</style>\n",
       "<table border=\"1\" class=\"dataframe\">\n",
       "  <thead>\n",
       "    <tr style=\"text-align: right;\">\n",
       "      <th></th>\n",
       "      <th>date</th>\n",
       "      <th>adj_close</th>\n",
       "      <th>close</th>\n",
       "      <th>high</th>\n",
       "      <th>low</th>\n",
       "      <th>open</th>\n",
       "      <th>volume</th>\n",
       "      <th>intraday_range</th>\n",
       "    </tr>\n",
       "  </thead>\n",
       "  <tbody>\n",
       "    <tr>\n",
       "      <th>0</th>\n",
       "      <td>2020-02-28</td>\n",
       "      <td>273.04</td>\n",
       "      <td>296.26</td>\n",
       "      <td>297.89</td>\n",
       "      <td>285.54</td>\n",
       "      <td>288.70</td>\n",
       "      <td>384975800</td>\n",
       "      <td>12.35</td>\n",
       "    </tr>\n",
       "    <tr>\n",
       "      <th>1</th>\n",
       "      <td>2020-03-02</td>\n",
       "      <td>284.86</td>\n",
       "      <td>309.09</td>\n",
       "      <td>309.16</td>\n",
       "      <td>294.46</td>\n",
       "      <td>298.21</td>\n",
       "      <td>238703600</td>\n",
       "      <td>14.70</td>\n",
       "    </tr>\n",
       "    <tr>\n",
       "      <th>2</th>\n",
       "      <td>2020-03-03</td>\n",
       "      <td>276.71</td>\n",
       "      <td>300.24</td>\n",
       "      <td>313.84</td>\n",
       "      <td>297.57</td>\n",
       "      <td>309.50</td>\n",
       "      <td>300139100</td>\n",
       "      <td>16.27</td>\n",
       "    </tr>\n",
       "    <tr>\n",
       "      <th>3</th>\n",
       "      <td>2020-03-04</td>\n",
       "      <td>288.34</td>\n",
       "      <td>312.86</td>\n",
       "      <td>313.10</td>\n",
       "      <td>303.33</td>\n",
       "      <td>306.12</td>\n",
       "      <td>176613400</td>\n",
       "      <td>9.77</td>\n",
       "    </tr>\n",
       "    <tr>\n",
       "      <th>4</th>\n",
       "      <td>2020-03-05</td>\n",
       "      <td>278.75</td>\n",
       "      <td>302.46</td>\n",
       "      <td>308.47</td>\n",
       "      <td>300.01</td>\n",
       "      <td>304.98</td>\n",
       "      <td>186366800</td>\n",
       "      <td>8.46</td>\n",
       "    </tr>\n",
       "  </tbody>\n",
       "</table>\n",
       "</div>"
      ],
      "text/plain": [
       "        date  adj_close   close    high     low    open     volume   \n",
       "0 2020-02-28     273.04  296.26  297.89  285.54  288.70  384975800  \\\n",
       "1 2020-03-02     284.86  309.09  309.16  294.46  298.21  238703600   \n",
       "2 2020-03-03     276.71  300.24  313.84  297.57  309.50  300139100   \n",
       "3 2020-03-04     288.34  312.86  313.10  303.33  306.12  176613400   \n",
       "4 2020-03-05     278.75  302.46  308.47  300.01  304.98  186366800   \n",
       "\n",
       "   intraday_range  \n",
       "0           12.35  \n",
       "1           14.70  \n",
       "2           16.27  \n",
       "3            9.77  \n",
       "4            8.46  "
      ]
     },
     "execution_count": 17,
     "metadata": {},
     "output_type": "execute_result"
    }
   ],
   "source": [
    "df_spy['intraday_range'] = df_spy['high'] - df_spy['low']\n",
    "df_spy.head()"
   ]
  },
  {
   "cell_type": "markdown",
   "metadata": {},
   "source": [
    "---"
   ]
  },
  {
   "cell_type": "markdown",
   "metadata": {},
   "source": [
    "**Code Challenge:**  Add a new column to `df_spy` called `open_to_close` that consists of the difference between the `close` and `open` of each day."
   ]
  },
  {
   "cell_type": "code",
   "execution_count": 18,
   "metadata": {},
   "outputs": [
    {
     "data": {
      "text/html": [
       "<div>\n",
       "<style scoped>\n",
       "    .dataframe tbody tr th:only-of-type {\n",
       "        vertical-align: middle;\n",
       "    }\n",
       "\n",
       "    .dataframe tbody tr th {\n",
       "        vertical-align: top;\n",
       "    }\n",
       "\n",
       "    .dataframe thead th {\n",
       "        text-align: right;\n",
       "    }\n",
       "</style>\n",
       "<table border=\"1\" class=\"dataframe\">\n",
       "  <thead>\n",
       "    <tr style=\"text-align: right;\">\n",
       "      <th></th>\n",
       "      <th>date</th>\n",
       "      <th>adj_close</th>\n",
       "      <th>close</th>\n",
       "      <th>high</th>\n",
       "      <th>low</th>\n",
       "      <th>open</th>\n",
       "      <th>volume</th>\n",
       "      <th>intraday_range</th>\n",
       "      <th>open_to_close</th>\n",
       "    </tr>\n",
       "  </thead>\n",
       "  <tbody>\n",
       "    <tr>\n",
       "      <th>0</th>\n",
       "      <td>2020-02-28</td>\n",
       "      <td>273.04</td>\n",
       "      <td>296.26</td>\n",
       "      <td>297.89</td>\n",
       "      <td>285.54</td>\n",
       "      <td>288.70</td>\n",
       "      <td>384975800</td>\n",
       "      <td>12.35</td>\n",
       "      <td>7.56</td>\n",
       "    </tr>\n",
       "    <tr>\n",
       "      <th>1</th>\n",
       "      <td>2020-03-02</td>\n",
       "      <td>284.86</td>\n",
       "      <td>309.09</td>\n",
       "      <td>309.16</td>\n",
       "      <td>294.46</td>\n",
       "      <td>298.21</td>\n",
       "      <td>238703600</td>\n",
       "      <td>14.70</td>\n",
       "      <td>10.88</td>\n",
       "    </tr>\n",
       "    <tr>\n",
       "      <th>2</th>\n",
       "      <td>2020-03-03</td>\n",
       "      <td>276.71</td>\n",
       "      <td>300.24</td>\n",
       "      <td>313.84</td>\n",
       "      <td>297.57</td>\n",
       "      <td>309.50</td>\n",
       "      <td>300139100</td>\n",
       "      <td>16.27</td>\n",
       "      <td>-9.26</td>\n",
       "    </tr>\n",
       "    <tr>\n",
       "      <th>3</th>\n",
       "      <td>2020-03-04</td>\n",
       "      <td>288.34</td>\n",
       "      <td>312.86</td>\n",
       "      <td>313.10</td>\n",
       "      <td>303.33</td>\n",
       "      <td>306.12</td>\n",
       "      <td>176613400</td>\n",
       "      <td>9.77</td>\n",
       "      <td>6.74</td>\n",
       "    </tr>\n",
       "    <tr>\n",
       "      <th>4</th>\n",
       "      <td>2020-03-05</td>\n",
       "      <td>278.75</td>\n",
       "      <td>302.46</td>\n",
       "      <td>308.47</td>\n",
       "      <td>300.01</td>\n",
       "      <td>304.98</td>\n",
       "      <td>186366800</td>\n",
       "      <td>8.46</td>\n",
       "      <td>-2.52</td>\n",
       "    </tr>\n",
       "  </tbody>\n",
       "</table>\n",
       "</div>"
      ],
      "text/plain": [
       "        date  adj_close   close    high     low    open     volume   \n",
       "0 2020-02-28     273.04  296.26  297.89  285.54  288.70  384975800  \\\n",
       "1 2020-03-02     284.86  309.09  309.16  294.46  298.21  238703600   \n",
       "2 2020-03-03     276.71  300.24  313.84  297.57  309.50  300139100   \n",
       "3 2020-03-04     288.34  312.86  313.10  303.33  306.12  176613400   \n",
       "4 2020-03-05     278.75  302.46  308.47  300.01  304.98  186366800   \n",
       "\n",
       "   intraday_range  open_to_close  \n",
       "0           12.35           7.56  \n",
       "1           14.70          10.88  \n",
       "2           16.27          -9.26  \n",
       "3            9.77           6.74  \n",
       "4            8.46          -2.52  "
      ]
     },
     "execution_count": 18,
     "metadata": {},
     "output_type": "execute_result"
    }
   ],
   "source": [
    "#| code-fold: true\n",
    "#| code-summary: \"Solution\"\n",
    "df_spy['open_to_close'] = df_spy['close'] - df_spy['open']\n",
    "df_spy.head()"
   ]
  },
  {
   "cell_type": "markdown",
   "metadata": {},
   "source": [
    "---"
   ]
  },
  {
   "cell_type": "markdown",
   "metadata": {},
   "source": [
    "## Adding Columns via `.assign()` "
   ]
  },
  {
   "cell_type": "markdown",
   "metadata": {},
   "source": [
    "A powerful but less intuitive way of adding a column to a `DataFrame` uses the `.assign()` function, which makes use of `lambda` functions (i.e. anonymous functions).  \n",
    "\n",
    "The following code adds another column called `intraday_range_assign`."
   ]
  },
  {
   "cell_type": "code",
   "execution_count": 19,
   "metadata": {},
   "outputs": [
    {
     "data": {
      "text/html": [
       "<div>\n",
       "<style scoped>\n",
       "    .dataframe tbody tr th:only-of-type {\n",
       "        vertical-align: middle;\n",
       "    }\n",
       "\n",
       "    .dataframe tbody tr th {\n",
       "        vertical-align: top;\n",
       "    }\n",
       "\n",
       "    .dataframe thead th {\n",
       "        text-align: right;\n",
       "    }\n",
       "</style>\n",
       "<table border=\"1\" class=\"dataframe\">\n",
       "  <thead>\n",
       "    <tr style=\"text-align: right;\">\n",
       "      <th></th>\n",
       "      <th>date</th>\n",
       "      <th>adj_close</th>\n",
       "      <th>close</th>\n",
       "      <th>high</th>\n",
       "      <th>low</th>\n",
       "      <th>open</th>\n",
       "      <th>volume</th>\n",
       "      <th>intraday_range</th>\n",
       "      <th>open_to_close</th>\n",
       "      <th>intraday_range_assign</th>\n",
       "    </tr>\n",
       "  </thead>\n",
       "  <tbody>\n",
       "    <tr>\n",
       "      <th>0</th>\n",
       "      <td>2020-02-28</td>\n",
       "      <td>273.04</td>\n",
       "      <td>296.26</td>\n",
       "      <td>297.89</td>\n",
       "      <td>285.54</td>\n",
       "      <td>288.70</td>\n",
       "      <td>384975800</td>\n",
       "      <td>12.35</td>\n",
       "      <td>7.56</td>\n",
       "      <td>12.35</td>\n",
       "    </tr>\n",
       "    <tr>\n",
       "      <th>1</th>\n",
       "      <td>2020-03-02</td>\n",
       "      <td>284.86</td>\n",
       "      <td>309.09</td>\n",
       "      <td>309.16</td>\n",
       "      <td>294.46</td>\n",
       "      <td>298.21</td>\n",
       "      <td>238703600</td>\n",
       "      <td>14.70</td>\n",
       "      <td>10.88</td>\n",
       "      <td>14.70</td>\n",
       "    </tr>\n",
       "    <tr>\n",
       "      <th>2</th>\n",
       "      <td>2020-03-03</td>\n",
       "      <td>276.71</td>\n",
       "      <td>300.24</td>\n",
       "      <td>313.84</td>\n",
       "      <td>297.57</td>\n",
       "      <td>309.50</td>\n",
       "      <td>300139100</td>\n",
       "      <td>16.27</td>\n",
       "      <td>-9.26</td>\n",
       "      <td>16.27</td>\n",
       "    </tr>\n",
       "    <tr>\n",
       "      <th>3</th>\n",
       "      <td>2020-03-04</td>\n",
       "      <td>288.34</td>\n",
       "      <td>312.86</td>\n",
       "      <td>313.10</td>\n",
       "      <td>303.33</td>\n",
       "      <td>306.12</td>\n",
       "      <td>176613400</td>\n",
       "      <td>9.77</td>\n",
       "      <td>6.74</td>\n",
       "      <td>9.77</td>\n",
       "    </tr>\n",
       "    <tr>\n",
       "      <th>4</th>\n",
       "      <td>2020-03-05</td>\n",
       "      <td>278.75</td>\n",
       "      <td>302.46</td>\n",
       "      <td>308.47</td>\n",
       "      <td>300.01</td>\n",
       "      <td>304.98</td>\n",
       "      <td>186366800</td>\n",
       "      <td>8.46</td>\n",
       "      <td>-2.52</td>\n",
       "      <td>8.46</td>\n",
       "    </tr>\n",
       "    <tr>\n",
       "      <th>...</th>\n",
       "      <td>...</td>\n",
       "      <td>...</td>\n",
       "      <td>...</td>\n",
       "      <td>...</td>\n",
       "      <td>...</td>\n",
       "      <td>...</td>\n",
       "      <td>...</td>\n",
       "      <td>...</td>\n",
       "      <td>...</td>\n",
       "      <td>...</td>\n",
       "    </tr>\n",
       "    <tr>\n",
       "      <th>17</th>\n",
       "      <td>2020-03-24</td>\n",
       "      <td>225.41</td>\n",
       "      <td>243.15</td>\n",
       "      <td>244.10</td>\n",
       "      <td>233.80</td>\n",
       "      <td>234.42</td>\n",
       "      <td>235494500</td>\n",
       "      <td>10.30</td>\n",
       "      <td>8.73</td>\n",
       "      <td>10.30</td>\n",
       "    </tr>\n",
       "    <tr>\n",
       "      <th>18</th>\n",
       "      <td>2020-03-25</td>\n",
       "      <td>228.78</td>\n",
       "      <td>246.79</td>\n",
       "      <td>256.35</td>\n",
       "      <td>239.75</td>\n",
       "      <td>244.87</td>\n",
       "      <td>299430300</td>\n",
       "      <td>16.60</td>\n",
       "      <td>1.92</td>\n",
       "      <td>16.60</td>\n",
       "    </tr>\n",
       "    <tr>\n",
       "      <th>19</th>\n",
       "      <td>2020-03-26</td>\n",
       "      <td>242.14</td>\n",
       "      <td>261.20</td>\n",
       "      <td>262.80</td>\n",
       "      <td>249.05</td>\n",
       "      <td>249.52</td>\n",
       "      <td>257632800</td>\n",
       "      <td>13.75</td>\n",
       "      <td>11.68</td>\n",
       "      <td>13.75</td>\n",
       "    </tr>\n",
       "    <tr>\n",
       "      <th>20</th>\n",
       "      <td>2020-03-27</td>\n",
       "      <td>234.93</td>\n",
       "      <td>253.42</td>\n",
       "      <td>260.81</td>\n",
       "      <td>251.05</td>\n",
       "      <td>253.27</td>\n",
       "      <td>224341200</td>\n",
       "      <td>9.76</td>\n",
       "      <td>0.15</td>\n",
       "      <td>9.76</td>\n",
       "    </tr>\n",
       "    <tr>\n",
       "      <th>21</th>\n",
       "      <td>2020-03-30</td>\n",
       "      <td>242.56</td>\n",
       "      <td>261.65</td>\n",
       "      <td>262.43</td>\n",
       "      <td>253.53</td>\n",
       "      <td>255.70</td>\n",
       "      <td>171369500</td>\n",
       "      <td>8.90</td>\n",
       "      <td>5.95</td>\n",
       "      <td>8.90</td>\n",
       "    </tr>\n",
       "  </tbody>\n",
       "</table>\n",
       "<p>22 rows × 10 columns</p>\n",
       "</div>"
      ],
      "text/plain": [
       "         date  adj_close   close    high     low    open     volume   \n",
       "0  2020-02-28     273.04  296.26  297.89  285.54  288.70  384975800  \\\n",
       "1  2020-03-02     284.86  309.09  309.16  294.46  298.21  238703600   \n",
       "2  2020-03-03     276.71  300.24  313.84  297.57  309.50  300139100   \n",
       "3  2020-03-04     288.34  312.86  313.10  303.33  306.12  176613400   \n",
       "4  2020-03-05     278.75  302.46  308.47  300.01  304.98  186366800   \n",
       "..        ...        ...     ...     ...     ...     ...        ...   \n",
       "17 2020-03-24     225.41  243.15  244.10  233.80  234.42  235494500   \n",
       "18 2020-03-25     228.78  246.79  256.35  239.75  244.87  299430300   \n",
       "19 2020-03-26     242.14  261.20  262.80  249.05  249.52  257632800   \n",
       "20 2020-03-27     234.93  253.42  260.81  251.05  253.27  224341200   \n",
       "21 2020-03-30     242.56  261.65  262.43  253.53  255.70  171369500   \n",
       "\n",
       "    intraday_range  open_to_close  intraday_range_assign  \n",
       "0            12.35           7.56                  12.35  \n",
       "1            14.70          10.88                  14.70  \n",
       "2            16.27          -9.26                  16.27  \n",
       "3             9.77           6.74                   9.77  \n",
       "4             8.46          -2.52                   8.46  \n",
       "..             ...            ...                    ...  \n",
       "17           10.30           8.73                  10.30  \n",
       "18           16.60           1.92                  16.60  \n",
       "19           13.75          11.68                  13.75  \n",
       "20            9.76           0.15                   9.76  \n",
       "21            8.90           5.95                   8.90  \n",
       "\n",
       "[22 rows x 10 columns]"
      ]
     },
     "execution_count": 19,
     "metadata": {},
     "output_type": "execute_result"
    }
   ],
   "source": [
    "df_spy.assign(intraday_range_assign = lambda df: df['high'] - df['low'])"
   ]
  },
  {
   "cell_type": "markdown",
   "metadata": {},
   "source": [
    "---"
   ]
  },
  {
   "cell_type": "markdown",
   "metadata": {},
   "source": [
    "**Code Challenge:** Verify that the column `intraday_range_assign` was not actually added to the `df_spy`."
   ]
  },
  {
   "cell_type": "code",
   "execution_count": 20,
   "metadata": {},
   "outputs": [
    {
     "data": {
      "text/html": [
       "<div>\n",
       "<style scoped>\n",
       "    .dataframe tbody tr th:only-of-type {\n",
       "        vertical-align: middle;\n",
       "    }\n",
       "\n",
       "    .dataframe tbody tr th {\n",
       "        vertical-align: top;\n",
       "    }\n",
       "\n",
       "    .dataframe thead th {\n",
       "        text-align: right;\n",
       "    }\n",
       "</style>\n",
       "<table border=\"1\" class=\"dataframe\">\n",
       "  <thead>\n",
       "    <tr style=\"text-align: right;\">\n",
       "      <th></th>\n",
       "      <th>date</th>\n",
       "      <th>adj_close</th>\n",
       "      <th>close</th>\n",
       "      <th>high</th>\n",
       "      <th>low</th>\n",
       "      <th>open</th>\n",
       "      <th>volume</th>\n",
       "      <th>intraday_range</th>\n",
       "      <th>open_to_close</th>\n",
       "    </tr>\n",
       "  </thead>\n",
       "  <tbody>\n",
       "    <tr>\n",
       "      <th>0</th>\n",
       "      <td>2020-02-28</td>\n",
       "      <td>273.04</td>\n",
       "      <td>296.26</td>\n",
       "      <td>297.89</td>\n",
       "      <td>285.54</td>\n",
       "      <td>288.70</td>\n",
       "      <td>384975800</td>\n",
       "      <td>12.35</td>\n",
       "      <td>7.56</td>\n",
       "    </tr>\n",
       "    <tr>\n",
       "      <th>1</th>\n",
       "      <td>2020-03-02</td>\n",
       "      <td>284.86</td>\n",
       "      <td>309.09</td>\n",
       "      <td>309.16</td>\n",
       "      <td>294.46</td>\n",
       "      <td>298.21</td>\n",
       "      <td>238703600</td>\n",
       "      <td>14.70</td>\n",
       "      <td>10.88</td>\n",
       "    </tr>\n",
       "    <tr>\n",
       "      <th>2</th>\n",
       "      <td>2020-03-03</td>\n",
       "      <td>276.71</td>\n",
       "      <td>300.24</td>\n",
       "      <td>313.84</td>\n",
       "      <td>297.57</td>\n",
       "      <td>309.50</td>\n",
       "      <td>300139100</td>\n",
       "      <td>16.27</td>\n",
       "      <td>-9.26</td>\n",
       "    </tr>\n",
       "    <tr>\n",
       "      <th>3</th>\n",
       "      <td>2020-03-04</td>\n",
       "      <td>288.34</td>\n",
       "      <td>312.86</td>\n",
       "      <td>313.10</td>\n",
       "      <td>303.33</td>\n",
       "      <td>306.12</td>\n",
       "      <td>176613400</td>\n",
       "      <td>9.77</td>\n",
       "      <td>6.74</td>\n",
       "    </tr>\n",
       "    <tr>\n",
       "      <th>4</th>\n",
       "      <td>2020-03-05</td>\n",
       "      <td>278.75</td>\n",
       "      <td>302.46</td>\n",
       "      <td>308.47</td>\n",
       "      <td>300.01</td>\n",
       "      <td>304.98</td>\n",
       "      <td>186366800</td>\n",
       "      <td>8.46</td>\n",
       "      <td>-2.52</td>\n",
       "    </tr>\n",
       "  </tbody>\n",
       "</table>\n",
       "</div>"
      ],
      "text/plain": [
       "        date  adj_close   close    high     low    open     volume   \n",
       "0 2020-02-28     273.04  296.26  297.89  285.54  288.70  384975800  \\\n",
       "1 2020-03-02     284.86  309.09  309.16  294.46  298.21  238703600   \n",
       "2 2020-03-03     276.71  300.24  313.84  297.57  309.50  300139100   \n",
       "3 2020-03-04     288.34  312.86  313.10  303.33  306.12  176613400   \n",
       "4 2020-03-05     278.75  302.46  308.47  300.01  304.98  186366800   \n",
       "\n",
       "   intraday_range  open_to_close  \n",
       "0           12.35           7.56  \n",
       "1           14.70          10.88  \n",
       "2           16.27          -9.26  \n",
       "3            9.77           6.74  \n",
       "4            8.46          -2.52  "
      ]
     },
     "execution_count": 20,
     "metadata": {},
     "output_type": "execute_result"
    }
   ],
   "source": [
    "#| code-fold: true\n",
    "#| code-summary: \"Solution\"\n",
    "df_spy.head()"
   ]
  },
  {
   "cell_type": "markdown",
   "metadata": {},
   "source": [
    "---"
   ]
  },
  {
   "cell_type": "markdown",
   "metadata": {},
   "source": [
    "In order to add the `intraday_range_assign` column to `df_spy` we will need to reassign to it."
   ]
  },
  {
   "cell_type": "code",
   "execution_count": 21,
   "metadata": {},
   "outputs": [
    {
     "data": {
      "text/html": [
       "<div>\n",
       "<style scoped>\n",
       "    .dataframe tbody tr th:only-of-type {\n",
       "        vertical-align: middle;\n",
       "    }\n",
       "\n",
       "    .dataframe tbody tr th {\n",
       "        vertical-align: top;\n",
       "    }\n",
       "\n",
       "    .dataframe thead th {\n",
       "        text-align: right;\n",
       "    }\n",
       "</style>\n",
       "<table border=\"1\" class=\"dataframe\">\n",
       "  <thead>\n",
       "    <tr style=\"text-align: right;\">\n",
       "      <th></th>\n",
       "      <th>date</th>\n",
       "      <th>adj_close</th>\n",
       "      <th>close</th>\n",
       "      <th>high</th>\n",
       "      <th>low</th>\n",
       "      <th>open</th>\n",
       "      <th>volume</th>\n",
       "      <th>intraday_range</th>\n",
       "      <th>open_to_close</th>\n",
       "      <th>intraday_range_assign</th>\n",
       "    </tr>\n",
       "  </thead>\n",
       "  <tbody>\n",
       "    <tr>\n",
       "      <th>0</th>\n",
       "      <td>2020-02-28</td>\n",
       "      <td>273.04</td>\n",
       "      <td>296.26</td>\n",
       "      <td>297.89</td>\n",
       "      <td>285.54</td>\n",
       "      <td>288.70</td>\n",
       "      <td>384975800</td>\n",
       "      <td>12.35</td>\n",
       "      <td>7.56</td>\n",
       "      <td>12.35</td>\n",
       "    </tr>\n",
       "    <tr>\n",
       "      <th>1</th>\n",
       "      <td>2020-03-02</td>\n",
       "      <td>284.86</td>\n",
       "      <td>309.09</td>\n",
       "      <td>309.16</td>\n",
       "      <td>294.46</td>\n",
       "      <td>298.21</td>\n",
       "      <td>238703600</td>\n",
       "      <td>14.70</td>\n",
       "      <td>10.88</td>\n",
       "      <td>14.70</td>\n",
       "    </tr>\n",
       "    <tr>\n",
       "      <th>2</th>\n",
       "      <td>2020-03-03</td>\n",
       "      <td>276.71</td>\n",
       "      <td>300.24</td>\n",
       "      <td>313.84</td>\n",
       "      <td>297.57</td>\n",
       "      <td>309.50</td>\n",
       "      <td>300139100</td>\n",
       "      <td>16.27</td>\n",
       "      <td>-9.26</td>\n",
       "      <td>16.27</td>\n",
       "    </tr>\n",
       "    <tr>\n",
       "      <th>3</th>\n",
       "      <td>2020-03-04</td>\n",
       "      <td>288.34</td>\n",
       "      <td>312.86</td>\n",
       "      <td>313.10</td>\n",
       "      <td>303.33</td>\n",
       "      <td>306.12</td>\n",
       "      <td>176613400</td>\n",
       "      <td>9.77</td>\n",
       "      <td>6.74</td>\n",
       "      <td>9.77</td>\n",
       "    </tr>\n",
       "    <tr>\n",
       "      <th>4</th>\n",
       "      <td>2020-03-05</td>\n",
       "      <td>278.75</td>\n",
       "      <td>302.46</td>\n",
       "      <td>308.47</td>\n",
       "      <td>300.01</td>\n",
       "      <td>304.98</td>\n",
       "      <td>186366800</td>\n",
       "      <td>8.46</td>\n",
       "      <td>-2.52</td>\n",
       "      <td>8.46</td>\n",
       "    </tr>\n",
       "  </tbody>\n",
       "</table>\n",
       "</div>"
      ],
      "text/plain": [
       "        date  adj_close   close    high     low    open     volume   \n",
       "0 2020-02-28     273.04  296.26  297.89  285.54  288.70  384975800  \\\n",
       "1 2020-03-02     284.86  309.09  309.16  294.46  298.21  238703600   \n",
       "2 2020-03-03     276.71  300.24  313.84  297.57  309.50  300139100   \n",
       "3 2020-03-04     288.34  312.86  313.10  303.33  306.12  176613400   \n",
       "4 2020-03-05     278.75  302.46  308.47  300.01  304.98  186366800   \n",
       "\n",
       "   intraday_range  open_to_close  intraday_range_assign  \n",
       "0           12.35           7.56                  12.35  \n",
       "1           14.70          10.88                  14.70  \n",
       "2           16.27          -9.26                  16.27  \n",
       "3            9.77           6.74                   9.77  \n",
       "4            8.46          -2.52                   8.46  "
      ]
     },
     "execution_count": 21,
     "metadata": {},
     "output_type": "execute_result"
    }
   ],
   "source": [
    "df_spy = df_spy.assign(intraday_range_assign = lambda df: df['high'] - df['low'])\n",
    "df_spy.head()"
   ]
  },
  {
   "cell_type": "markdown",
   "metadata": {},
   "source": [
    "---"
   ]
  },
  {
   "cell_type": "markdown",
   "metadata": {},
   "source": [
    "**Code Challenge:** Use `.assign()` to create a new column in `df_spy`, call it `open_to_close_assign`, that contains the difference between the `close` and `open`."
   ]
  },
  {
   "cell_type": "code",
   "execution_count": 22,
   "metadata": {},
   "outputs": [
    {
     "data": {
      "text/html": [
       "<div>\n",
       "<style scoped>\n",
       "    .dataframe tbody tr th:only-of-type {\n",
       "        vertical-align: middle;\n",
       "    }\n",
       "\n",
       "    .dataframe tbody tr th {\n",
       "        vertical-align: top;\n",
       "    }\n",
       "\n",
       "    .dataframe thead th {\n",
       "        text-align: right;\n",
       "    }\n",
       "</style>\n",
       "<table border=\"1\" class=\"dataframe\">\n",
       "  <thead>\n",
       "    <tr style=\"text-align: right;\">\n",
       "      <th></th>\n",
       "      <th>date</th>\n",
       "      <th>adj_close</th>\n",
       "      <th>close</th>\n",
       "      <th>high</th>\n",
       "      <th>low</th>\n",
       "      <th>open</th>\n",
       "      <th>volume</th>\n",
       "      <th>intraday_range</th>\n",
       "      <th>open_to_close</th>\n",
       "      <th>intraday_range_assign</th>\n",
       "      <th>open_to_close_assign</th>\n",
       "    </tr>\n",
       "  </thead>\n",
       "  <tbody>\n",
       "    <tr>\n",
       "      <th>0</th>\n",
       "      <td>2020-02-28</td>\n",
       "      <td>273.04</td>\n",
       "      <td>296.26</td>\n",
       "      <td>297.89</td>\n",
       "      <td>285.54</td>\n",
       "      <td>288.70</td>\n",
       "      <td>384975800</td>\n",
       "      <td>12.35</td>\n",
       "      <td>7.56</td>\n",
       "      <td>12.35</td>\n",
       "      <td>7.56</td>\n",
       "    </tr>\n",
       "    <tr>\n",
       "      <th>1</th>\n",
       "      <td>2020-03-02</td>\n",
       "      <td>284.86</td>\n",
       "      <td>309.09</td>\n",
       "      <td>309.16</td>\n",
       "      <td>294.46</td>\n",
       "      <td>298.21</td>\n",
       "      <td>238703600</td>\n",
       "      <td>14.70</td>\n",
       "      <td>10.88</td>\n",
       "      <td>14.70</td>\n",
       "      <td>10.88</td>\n",
       "    </tr>\n",
       "    <tr>\n",
       "      <th>2</th>\n",
       "      <td>2020-03-03</td>\n",
       "      <td>276.71</td>\n",
       "      <td>300.24</td>\n",
       "      <td>313.84</td>\n",
       "      <td>297.57</td>\n",
       "      <td>309.50</td>\n",
       "      <td>300139100</td>\n",
       "      <td>16.27</td>\n",
       "      <td>-9.26</td>\n",
       "      <td>16.27</td>\n",
       "      <td>-9.26</td>\n",
       "    </tr>\n",
       "    <tr>\n",
       "      <th>3</th>\n",
       "      <td>2020-03-04</td>\n",
       "      <td>288.34</td>\n",
       "      <td>312.86</td>\n",
       "      <td>313.10</td>\n",
       "      <td>303.33</td>\n",
       "      <td>306.12</td>\n",
       "      <td>176613400</td>\n",
       "      <td>9.77</td>\n",
       "      <td>6.74</td>\n",
       "      <td>9.77</td>\n",
       "      <td>6.74</td>\n",
       "    </tr>\n",
       "    <tr>\n",
       "      <th>4</th>\n",
       "      <td>2020-03-05</td>\n",
       "      <td>278.75</td>\n",
       "      <td>302.46</td>\n",
       "      <td>308.47</td>\n",
       "      <td>300.01</td>\n",
       "      <td>304.98</td>\n",
       "      <td>186366800</td>\n",
       "      <td>8.46</td>\n",
       "      <td>-2.52</td>\n",
       "      <td>8.46</td>\n",
       "      <td>-2.52</td>\n",
       "    </tr>\n",
       "  </tbody>\n",
       "</table>\n",
       "</div>"
      ],
      "text/plain": [
       "        date  adj_close   close    high     low    open     volume   \n",
       "0 2020-02-28     273.04  296.26  297.89  285.54  288.70  384975800  \\\n",
       "1 2020-03-02     284.86  309.09  309.16  294.46  298.21  238703600   \n",
       "2 2020-03-03     276.71  300.24  313.84  297.57  309.50  300139100   \n",
       "3 2020-03-04     288.34  312.86  313.10  303.33  306.12  176613400   \n",
       "4 2020-03-05     278.75  302.46  308.47  300.01  304.98  186366800   \n",
       "\n",
       "   intraday_range  open_to_close  intraday_range_assign  open_to_close_assign  \n",
       "0           12.35           7.56                  12.35                  7.56  \n",
       "1           14.70          10.88                  14.70                 10.88  \n",
       "2           16.27          -9.26                  16.27                 -9.26  \n",
       "3            9.77           6.74                   9.77                  6.74  \n",
       "4            8.46          -2.52                   8.46                 -2.52  "
      ]
     },
     "execution_count": 22,
     "metadata": {},
     "output_type": "execute_result"
    }
   ],
   "source": [
    "#| code-fold: true\n",
    "#| code-summary: \"Solution\"\n",
    "df_spy = df_spy.assign(open_to_close_assign = lambda df: df['close'] - df['open'])\n",
    "df_spy.head()"
   ]
  },
  {
   "cell_type": "markdown",
   "metadata": {},
   "source": [
    "---"
   ]
  },
  {
   "cell_type": "markdown",
   "metadata": {},
   "source": [
    "## Method Chaining"
   ]
  },
  {
   "cell_type": "markdown",
   "metadata": {},
   "source": [
    "The value of `.assign()` becomes clear when we start *chaining* methods together.  \n",
    "\n",
    "In order to see this let's first `drop` the columns that we created."
   ]
  },
  {
   "cell_type": "code",
   "execution_count": 23,
   "metadata": {},
   "outputs": [
    {
     "data": {
      "text/html": [
       "<div>\n",
       "<style scoped>\n",
       "    .dataframe tbody tr th:only-of-type {\n",
       "        vertical-align: middle;\n",
       "    }\n",
       "\n",
       "    .dataframe tbody tr th {\n",
       "        vertical-align: top;\n",
       "    }\n",
       "\n",
       "    .dataframe thead th {\n",
       "        text-align: right;\n",
       "    }\n",
       "</style>\n",
       "<table border=\"1\" class=\"dataframe\">\n",
       "  <thead>\n",
       "    <tr style=\"text-align: right;\">\n",
       "      <th></th>\n",
       "      <th>date</th>\n",
       "      <th>adj_close</th>\n",
       "      <th>close</th>\n",
       "      <th>high</th>\n",
       "      <th>low</th>\n",
       "      <th>open</th>\n",
       "      <th>volume</th>\n",
       "    </tr>\n",
       "  </thead>\n",
       "  <tbody>\n",
       "    <tr>\n",
       "      <th>0</th>\n",
       "      <td>2020-02-28</td>\n",
       "      <td>273.04</td>\n",
       "      <td>296.26</td>\n",
       "      <td>297.89</td>\n",
       "      <td>285.54</td>\n",
       "      <td>288.70</td>\n",
       "      <td>384975800</td>\n",
       "    </tr>\n",
       "    <tr>\n",
       "      <th>1</th>\n",
       "      <td>2020-03-02</td>\n",
       "      <td>284.86</td>\n",
       "      <td>309.09</td>\n",
       "      <td>309.16</td>\n",
       "      <td>294.46</td>\n",
       "      <td>298.21</td>\n",
       "      <td>238703600</td>\n",
       "    </tr>\n",
       "    <tr>\n",
       "      <th>2</th>\n",
       "      <td>2020-03-03</td>\n",
       "      <td>276.71</td>\n",
       "      <td>300.24</td>\n",
       "      <td>313.84</td>\n",
       "      <td>297.57</td>\n",
       "      <td>309.50</td>\n",
       "      <td>300139100</td>\n",
       "    </tr>\n",
       "    <tr>\n",
       "      <th>3</th>\n",
       "      <td>2020-03-04</td>\n",
       "      <td>288.34</td>\n",
       "      <td>312.86</td>\n",
       "      <td>313.10</td>\n",
       "      <td>303.33</td>\n",
       "      <td>306.12</td>\n",
       "      <td>176613400</td>\n",
       "    </tr>\n",
       "    <tr>\n",
       "      <th>4</th>\n",
       "      <td>2020-03-05</td>\n",
       "      <td>278.75</td>\n",
       "      <td>302.46</td>\n",
       "      <td>308.47</td>\n",
       "      <td>300.01</td>\n",
       "      <td>304.98</td>\n",
       "      <td>186366800</td>\n",
       "    </tr>\n",
       "  </tbody>\n",
       "</table>\n",
       "</div>"
      ],
      "text/plain": [
       "        date  adj_close   close    high     low    open     volume\n",
       "0 2020-02-28     273.04  296.26  297.89  285.54  288.70  384975800\n",
       "1 2020-03-02     284.86  309.09  309.16  294.46  298.21  238703600\n",
       "2 2020-03-03     276.71  300.24  313.84  297.57  309.50  300139100\n",
       "3 2020-03-04     288.34  312.86  313.10  303.33  306.12  176613400\n",
       "4 2020-03-05     278.75  302.46  308.47  300.01  304.98  186366800"
      ]
     },
     "execution_count": 23,
     "metadata": {},
     "output_type": "execute_result"
    }
   ],
   "source": [
    "lst_cols = ['intraday_range', 'open_to_close', 'intraday_range_assign', 'open_to_close_assign']\n",
    "df_spy.drop(columns=lst_cols, inplace=True)\n",
    "df_spy.head()"
   ]
  },
  {
   "cell_type": "markdown",
   "metadata": {},
   "source": [
    "The following code adds the `intraday` and and `open_to_close` columns at the same time. "
   ]
  },
  {
   "cell_type": "code",
   "execution_count": 24,
   "metadata": {},
   "outputs": [
    {
     "data": {
      "text/html": [
       "<div>\n",
       "<style scoped>\n",
       "    .dataframe tbody tr th:only-of-type {\n",
       "        vertical-align: middle;\n",
       "    }\n",
       "\n",
       "    .dataframe tbody tr th {\n",
       "        vertical-align: top;\n",
       "    }\n",
       "\n",
       "    .dataframe thead th {\n",
       "        text-align: right;\n",
       "    }\n",
       "</style>\n",
       "<table border=\"1\" class=\"dataframe\">\n",
       "  <thead>\n",
       "    <tr style=\"text-align: right;\">\n",
       "      <th></th>\n",
       "      <th>date</th>\n",
       "      <th>adj_close</th>\n",
       "      <th>close</th>\n",
       "      <th>high</th>\n",
       "      <th>low</th>\n",
       "      <th>open</th>\n",
       "      <th>volume</th>\n",
       "      <th>intraday_range</th>\n",
       "      <th>open_to_close</th>\n",
       "    </tr>\n",
       "  </thead>\n",
       "  <tbody>\n",
       "    <tr>\n",
       "      <th>0</th>\n",
       "      <td>2020-02-28</td>\n",
       "      <td>273.04</td>\n",
       "      <td>296.26</td>\n",
       "      <td>297.89</td>\n",
       "      <td>285.54</td>\n",
       "      <td>288.70</td>\n",
       "      <td>384975800</td>\n",
       "      <td>12.35</td>\n",
       "      <td>7.56</td>\n",
       "    </tr>\n",
       "    <tr>\n",
       "      <th>1</th>\n",
       "      <td>2020-03-02</td>\n",
       "      <td>284.86</td>\n",
       "      <td>309.09</td>\n",
       "      <td>309.16</td>\n",
       "      <td>294.46</td>\n",
       "      <td>298.21</td>\n",
       "      <td>238703600</td>\n",
       "      <td>14.70</td>\n",
       "      <td>10.88</td>\n",
       "    </tr>\n",
       "    <tr>\n",
       "      <th>2</th>\n",
       "      <td>2020-03-03</td>\n",
       "      <td>276.71</td>\n",
       "      <td>300.24</td>\n",
       "      <td>313.84</td>\n",
       "      <td>297.57</td>\n",
       "      <td>309.50</td>\n",
       "      <td>300139100</td>\n",
       "      <td>16.27</td>\n",
       "      <td>-9.26</td>\n",
       "    </tr>\n",
       "    <tr>\n",
       "      <th>3</th>\n",
       "      <td>2020-03-04</td>\n",
       "      <td>288.34</td>\n",
       "      <td>312.86</td>\n",
       "      <td>313.10</td>\n",
       "      <td>303.33</td>\n",
       "      <td>306.12</td>\n",
       "      <td>176613400</td>\n",
       "      <td>9.77</td>\n",
       "      <td>6.74</td>\n",
       "    </tr>\n",
       "    <tr>\n",
       "      <th>4</th>\n",
       "      <td>2020-03-05</td>\n",
       "      <td>278.75</td>\n",
       "      <td>302.46</td>\n",
       "      <td>308.47</td>\n",
       "      <td>300.01</td>\n",
       "      <td>304.98</td>\n",
       "      <td>186366800</td>\n",
       "      <td>8.46</td>\n",
       "      <td>-2.52</td>\n",
       "    </tr>\n",
       "  </tbody>\n",
       "</table>\n",
       "</div>"
      ],
      "text/plain": [
       "        date  adj_close   close    high     low    open     volume   \n",
       "0 2020-02-28     273.04  296.26  297.89  285.54  288.70  384975800  \\\n",
       "1 2020-03-02     284.86  309.09  309.16  294.46  298.21  238703600   \n",
       "2 2020-03-03     276.71  300.24  313.84  297.57  309.50  300139100   \n",
       "3 2020-03-04     288.34  312.86  313.10  303.33  306.12  176613400   \n",
       "4 2020-03-05     278.75  302.46  308.47  300.01  304.98  186366800   \n",
       "\n",
       "   intraday_range  open_to_close  \n",
       "0           12.35           7.56  \n",
       "1           14.70          10.88  \n",
       "2           16.27          -9.26  \n",
       "3            9.77           6.74  \n",
       "4            8.46          -2.52  "
      ]
     },
     "execution_count": 24,
     "metadata": {},
     "output_type": "execute_result"
    }
   ],
   "source": [
    "df_spy = \\\n",
    "    (\n",
    "    df_spy\n",
    "        .assign(intraday_range = lambda df: df['high'] - df['low'])\n",
    "        .assign(open_to_close = lambda df: df['close'] - df['open'])\n",
    "    )\n",
    "df_spy.head()"
   ]
  },
  {
   "cell_type": "markdown",
   "metadata": {},
   "source": [
    "---"
   ]
  },
  {
   "cell_type": "markdown",
   "metadata": {},
   "source": [
    "**Code Challenge:** Use `.assign()` to add a two new column to `df_spy`:\n",
    "    \n",
    "1. the difference between the `close` and `adj_close`\n",
    "1. the average of the `low` and `open`"
   ]
  },
  {
   "cell_type": "code",
   "execution_count": 25,
   "metadata": {},
   "outputs": [
    {
     "data": {
      "text/html": [
       "<div>\n",
       "<style scoped>\n",
       "    .dataframe tbody tr th:only-of-type {\n",
       "        vertical-align: middle;\n",
       "    }\n",
       "\n",
       "    .dataframe tbody tr th {\n",
       "        vertical-align: top;\n",
       "    }\n",
       "\n",
       "    .dataframe thead th {\n",
       "        text-align: right;\n",
       "    }\n",
       "</style>\n",
       "<table border=\"1\" class=\"dataframe\">\n",
       "  <thead>\n",
       "    <tr style=\"text-align: right;\">\n",
       "      <th></th>\n",
       "      <th>date</th>\n",
       "      <th>adj_close</th>\n",
       "      <th>close</th>\n",
       "      <th>high</th>\n",
       "      <th>low</th>\n",
       "      <th>open</th>\n",
       "      <th>volume</th>\n",
       "      <th>intraday_range</th>\n",
       "      <th>open_to_close</th>\n",
       "      <th>div</th>\n",
       "      <th>avg</th>\n",
       "    </tr>\n",
       "  </thead>\n",
       "  <tbody>\n",
       "    <tr>\n",
       "      <th>0</th>\n",
       "      <td>2020-02-28</td>\n",
       "      <td>273.04</td>\n",
       "      <td>296.26</td>\n",
       "      <td>297.89</td>\n",
       "      <td>285.54</td>\n",
       "      <td>288.70</td>\n",
       "      <td>384975800</td>\n",
       "      <td>12.35</td>\n",
       "      <td>7.56</td>\n",
       "      <td>23.22</td>\n",
       "      <td>287.120</td>\n",
       "    </tr>\n",
       "    <tr>\n",
       "      <th>1</th>\n",
       "      <td>2020-03-02</td>\n",
       "      <td>284.86</td>\n",
       "      <td>309.09</td>\n",
       "      <td>309.16</td>\n",
       "      <td>294.46</td>\n",
       "      <td>298.21</td>\n",
       "      <td>238703600</td>\n",
       "      <td>14.70</td>\n",
       "      <td>10.88</td>\n",
       "      <td>24.23</td>\n",
       "      <td>296.335</td>\n",
       "    </tr>\n",
       "    <tr>\n",
       "      <th>2</th>\n",
       "      <td>2020-03-03</td>\n",
       "      <td>276.71</td>\n",
       "      <td>300.24</td>\n",
       "      <td>313.84</td>\n",
       "      <td>297.57</td>\n",
       "      <td>309.50</td>\n",
       "      <td>300139100</td>\n",
       "      <td>16.27</td>\n",
       "      <td>-9.26</td>\n",
       "      <td>23.53</td>\n",
       "      <td>303.535</td>\n",
       "    </tr>\n",
       "    <tr>\n",
       "      <th>3</th>\n",
       "      <td>2020-03-04</td>\n",
       "      <td>288.34</td>\n",
       "      <td>312.86</td>\n",
       "      <td>313.10</td>\n",
       "      <td>303.33</td>\n",
       "      <td>306.12</td>\n",
       "      <td>176613400</td>\n",
       "      <td>9.77</td>\n",
       "      <td>6.74</td>\n",
       "      <td>24.52</td>\n",
       "      <td>304.725</td>\n",
       "    </tr>\n",
       "    <tr>\n",
       "      <th>4</th>\n",
       "      <td>2020-03-05</td>\n",
       "      <td>278.75</td>\n",
       "      <td>302.46</td>\n",
       "      <td>308.47</td>\n",
       "      <td>300.01</td>\n",
       "      <td>304.98</td>\n",
       "      <td>186366800</td>\n",
       "      <td>8.46</td>\n",
       "      <td>-2.52</td>\n",
       "      <td>23.71</td>\n",
       "      <td>302.495</td>\n",
       "    </tr>\n",
       "  </tbody>\n",
       "</table>\n",
       "</div>"
      ],
      "text/plain": [
       "        date  adj_close   close    high     low    open     volume   \n",
       "0 2020-02-28     273.04  296.26  297.89  285.54  288.70  384975800  \\\n",
       "1 2020-03-02     284.86  309.09  309.16  294.46  298.21  238703600   \n",
       "2 2020-03-03     276.71  300.24  313.84  297.57  309.50  300139100   \n",
       "3 2020-03-04     288.34  312.86  313.10  303.33  306.12  176613400   \n",
       "4 2020-03-05     278.75  302.46  308.47  300.01  304.98  186366800   \n",
       "\n",
       "   intraday_range  open_to_close    div      avg  \n",
       "0           12.35           7.56  23.22  287.120  \n",
       "1           14.70          10.88  24.23  296.335  \n",
       "2           16.27          -9.26  23.53  303.535  \n",
       "3            9.77           6.74  24.52  304.725  \n",
       "4            8.46          -2.52  23.71  302.495  "
      ]
     },
     "execution_count": 25,
     "metadata": {},
     "output_type": "execute_result"
    }
   ],
   "source": [
    "#| code-fold: true\n",
    "#| code-summary: \"Solution\"\n",
    "df_spy = \\\n",
    "    (\n",
    "    df_spy\n",
    "        .assign(div = lambda df: df['close'] - df['adj_close'])\n",
    "        .assign(avg = lambda df: (df['low'] + df['open']) / 2)\n",
    "    )\n",
    "df_spy.head()"
   ]
  },
  {
   "cell_type": "markdown",
   "metadata": {},
   "source": [
    "---"
   ]
  },
  {
   "cell_type": "markdown",
   "metadata": {},
   "source": [
    "## Aggregating Calulations on `Series`"
   ]
  },
  {
   "cell_type": "markdown",
   "metadata": {},
   "source": [
    "`Series` have a variety of built-in aggregation functions.\n",
    "\n",
    "For example, we can use the following code to calculate the total SPY volume during March 2020."
   ]
  },
  {
   "cell_type": "code",
   "execution_count": 26,
   "metadata": {},
   "outputs": [
    {
     "data": {
      "text/plain": [
       "6116112300"
      ]
     },
     "execution_count": 26,
     "metadata": {},
     "output_type": "execute_result"
    }
   ],
   "source": [
    "df_spy['volume'].sum()"
   ]
  },
  {
   "cell_type": "markdown",
   "metadata": {},
   "source": [
    "Here are some summary statistics on the `intraday_range` column that we added to our `DataFrame` earlier."
   ]
  },
  {
   "cell_type": "code",
   "execution_count": 27,
   "metadata": {},
   "outputs": [
    {
     "name": "stdout",
     "output_type": "stream",
     "text": [
      "Mean:   14.077727272727275\n",
      "St Dev:  4.28352428533215\n",
      "Min:     8.460000000000036\n",
      "Max:    22.960000000000008\n"
     ]
    }
   ],
   "source": [
    "print(\"Mean:  \", df_spy['intraday_range'].mean()) # average\n",
    "print(\"St Dev: \", df_spy['intraday_range'].std()) # standard deviation\n",
    "print(\"Min:    \" , df_spy['intraday_range'].min()) # minimum\n",
    "print(\"Max:   \" , df_spy['intraday_range'].max()) # maximum"
   ]
  },
  {
   "cell_type": "markdown",
   "metadata": {},
   "source": [
    "---"
   ]
  },
  {
   "cell_type": "markdown",
   "metadata": {},
   "source": [
    "**Code Challenge:** Calculate the average daily `volume` for the trade dates in `df_spy`."
   ]
  },
  {
   "cell_type": "code",
   "execution_count": 28,
   "metadata": {},
   "outputs": [
    {
     "data": {
      "text/plain": [
       "278005104.54545456"
      ]
     },
     "execution_count": 28,
     "metadata": {},
     "output_type": "execute_result"
    }
   ],
   "source": [
    "#| code-fold: true\n",
    "#| code-summary: \"Solution\"\n",
    "df_spy['volume'].mean()"
   ]
  },
  {
   "cell_type": "markdown",
   "metadata": {},
   "source": [
    "---"
   ]
  },
  {
   "cell_type": "markdown",
   "metadata": {},
   "source": [
    "## Related Reading"
   ]
  },
  {
   "cell_type": "markdown",
   "metadata": {},
   "source": [
    "*Python Data Science Handbook* - Section 3.1 - Introducing Pandas Objects\n",
    "\n",
    "*Python Data Science Handbook* - Section 2.1 - Understanding Data Types in Python\n",
    "\n",
    "*Python Data Science Handbook* - Section 2.2 - The Basics of NumPy Arrays\n",
    "\n",
    "*Python Data Science Handbook* - Section 2.3 - Computation on NumPy Arrays: Universal Functions\n",
    "\n",
    "*Python Data Science Handbook* - Section 2.4 - Aggregations: Min, Max, and Everything In Between"
   ]
  },
  {
   "cell_type": "code",
   "execution_count": null,
   "metadata": {},
   "outputs": [],
   "source": []
  }
 ],
 "metadata": {
  "kernelspec": {
   "display_name": "Python 3 (ipykernel)",
   "language": "python",
   "name": "python3"
  },
  "language_info": {
   "codemirror_mode": {
    "name": "ipython",
    "version": 3
   },
   "file_extension": ".py",
   "mimetype": "text/x-python",
   "name": "python",
   "nbconvert_exporter": "python",
   "pygments_lexer": "ipython3",
   "version": "3.10.12"
  }
 },
 "nbformat": 4,
 "nbformat_minor": 4
}
