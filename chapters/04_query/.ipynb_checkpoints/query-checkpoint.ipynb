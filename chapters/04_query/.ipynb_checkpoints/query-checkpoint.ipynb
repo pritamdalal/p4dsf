{
 "cells": [
  {
   "cell_type": "markdown",
   "metadata": {},
   "source": [
    "# `DataFrame` Querying"
   ]
  },
  {
   "cell_type": "markdown",
   "metadata": {},
   "source": [
    "In the previous chapter we discussed accessing rows of a `DataFrame` by row position.  In practice, I don't find this particularly useful. \n",
    " Rather, I find that I usually access rows by some kind of logical condition, which is referred to as *querying* the `DataFrame`.\n",
    " \n",
    "In this chapter we discuss two ways of querying a `DataFrame`:\n",
    "\n",
    "1. masking\n",
    "2. the `DataFrame.query()` method."
   ]
  },
  {
   "cell_type": "markdown",
   "metadata": {},
   "source": [
    "## Importing Packages"
   ]
  },
  {
   "cell_type": "markdown",
   "metadata": {},
   "source": [
    "Let's first import the packages that we will need."
   ]
  },
  {
   "cell_type": "code",
   "execution_count": 1,
   "metadata": {},
   "outputs": [],
   "source": [
    "import pandas as pd\n",
    "import yfinance as yf\n",
    "pd.set_option('display.max_rows', 10)"
   ]
  },
  {
   "cell_type": "markdown",
   "metadata": {},
   "source": [
    "## Reading-In Data"
   ]
  },
  {
   "cell_type": "markdown",
   "metadata": {},
   "source": [
    "Next, let's use `pandas_datareader` to read-in some `SPY` data from July 2021."
   ]
  },
  {
   "cell_type": "code",
   "execution_count": 2,
   "metadata": {},
   "outputs": [
    {
     "name": "stderr",
     "output_type": "stream",
     "text": [
      "[*********************100%***********************]  1 of 1 completed\n"
     ]
    },
    {
     "data": {
      "text/html": [
       "<div>\n",
       "<style scoped>\n",
       "    .dataframe tbody tr th:only-of-type {\n",
       "        vertical-align: middle;\n",
       "    }\n",
       "\n",
       "    .dataframe tbody tr th {\n",
       "        vertical-align: top;\n",
       "    }\n",
       "\n",
       "    .dataframe thead tr th {\n",
       "        text-align: left;\n",
       "    }\n",
       "\n",
       "    .dataframe thead tr:last-of-type th {\n",
       "        text-align: right;\n",
       "    }\n",
       "</style>\n",
       "<table border=\"1\" class=\"dataframe\">\n",
       "  <thead>\n",
       "    <tr>\n",
       "      <th>Price</th>\n",
       "      <th>Adj Close</th>\n",
       "      <th>Close</th>\n",
       "      <th>High</th>\n",
       "      <th>Low</th>\n",
       "      <th>Open</th>\n",
       "      <th>Volume</th>\n",
       "    </tr>\n",
       "    <tr>\n",
       "      <th>Ticker</th>\n",
       "      <th>SPY</th>\n",
       "      <th>SPY</th>\n",
       "      <th>SPY</th>\n",
       "      <th>SPY</th>\n",
       "      <th>SPY</th>\n",
       "      <th>SPY</th>\n",
       "    </tr>\n",
       "    <tr>\n",
       "      <th>Date</th>\n",
       "      <th></th>\n",
       "      <th></th>\n",
       "      <th></th>\n",
       "      <th></th>\n",
       "      <th></th>\n",
       "      <th></th>\n",
       "    </tr>\n",
       "  </thead>\n",
       "  <tbody>\n",
       "    <tr>\n",
       "      <th>2021-06-30</th>\n",
       "      <td>404.51</td>\n",
       "      <td>428.06</td>\n",
       "      <td>428.78</td>\n",
       "      <td>427.18</td>\n",
       "      <td>427.21</td>\n",
       "      <td>64827900</td>\n",
       "    </tr>\n",
       "    <tr>\n",
       "      <th>2021-07-01</th>\n",
       "      <td>406.75</td>\n",
       "      <td>430.43</td>\n",
       "      <td>430.60</td>\n",
       "      <td>428.80</td>\n",
       "      <td>428.87</td>\n",
       "      <td>53441000</td>\n",
       "    </tr>\n",
       "    <tr>\n",
       "      <th>2021-07-02</th>\n",
       "      <td>409.86</td>\n",
       "      <td>433.72</td>\n",
       "      <td>434.10</td>\n",
       "      <td>430.52</td>\n",
       "      <td>431.67</td>\n",
       "      <td>57697700</td>\n",
       "    </tr>\n",
       "    <tr>\n",
       "      <th>2021-07-06</th>\n",
       "      <td>409.11</td>\n",
       "      <td>432.93</td>\n",
       "      <td>434.01</td>\n",
       "      <td>430.01</td>\n",
       "      <td>433.78</td>\n",
       "      <td>68710400</td>\n",
       "    </tr>\n",
       "    <tr>\n",
       "      <th>2021-07-07</th>\n",
       "      <td>410.56</td>\n",
       "      <td>434.46</td>\n",
       "      <td>434.76</td>\n",
       "      <td>431.51</td>\n",
       "      <td>433.66</td>\n",
       "      <td>63549500</td>\n",
       "    </tr>\n",
       "  </tbody>\n",
       "</table>\n",
       "</div>"
      ],
      "text/plain": [
       "Price      Adj Close   Close    High     Low    Open    Volume\n",
       "Ticker           SPY     SPY     SPY     SPY     SPY       SPY\n",
       "Date                                                          \n",
       "2021-06-30    404.51  428.06  428.78  427.18  427.21  64827900\n",
       "2021-07-01    406.75  430.43  430.60  428.80  428.87  53441000\n",
       "2021-07-02    409.86  433.72  434.10  430.52  431.67  57697700\n",
       "2021-07-06    409.11  432.93  434.01  430.01  433.78  68710400\n",
       "2021-07-07    410.56  434.46  434.76  431.51  433.66  63549500"
      ]
     },
     "execution_count": 2,
     "metadata": {},
     "output_type": "execute_result"
    }
   ],
   "source": [
    "df_spy = yf.download('SPY', start='2021-06-30', end='2021-07-31', auto_adjust=False, rounding=True)\n",
    "df_spy.head()"
   ]
  },
  {
   "cell_type": "markdown",
   "metadata": {},
   "source": [
    "The following code:\n",
    "\n",
    "- removes the `SPY` level of the column index\n",
    "- resets the index so that `Date` is a regular column\n",
    "- puts the column names into snake-case."
   ]
  },
  {
   "cell_type": "code",
   "execution_count": 3,
   "metadata": {},
   "outputs": [
    {
     "data": {
      "text/html": [
       "<div>\n",
       "<style scoped>\n",
       "    .dataframe tbody tr th:only-of-type {\n",
       "        vertical-align: middle;\n",
       "    }\n",
       "\n",
       "    .dataframe tbody tr th {\n",
       "        vertical-align: top;\n",
       "    }\n",
       "\n",
       "    .dataframe thead th {\n",
       "        text-align: right;\n",
       "    }\n",
       "</style>\n",
       "<table border=\"1\" class=\"dataframe\">\n",
       "  <thead>\n",
       "    <tr style=\"text-align: right;\">\n",
       "      <th></th>\n",
       "      <th>date</th>\n",
       "      <th>adj_close</th>\n",
       "      <th>close</th>\n",
       "      <th>high</th>\n",
       "      <th>low</th>\n",
       "      <th>open</th>\n",
       "      <th>volume</th>\n",
       "    </tr>\n",
       "  </thead>\n",
       "  <tbody>\n",
       "    <tr>\n",
       "      <th>0</th>\n",
       "      <td>2021-06-30</td>\n",
       "      <td>404.51</td>\n",
       "      <td>428.06</td>\n",
       "      <td>428.78</td>\n",
       "      <td>427.18</td>\n",
       "      <td>427.21</td>\n",
       "      <td>64827900</td>\n",
       "    </tr>\n",
       "    <tr>\n",
       "      <th>1</th>\n",
       "      <td>2021-07-01</td>\n",
       "      <td>406.75</td>\n",
       "      <td>430.43</td>\n",
       "      <td>430.60</td>\n",
       "      <td>428.80</td>\n",
       "      <td>428.87</td>\n",
       "      <td>53441000</td>\n",
       "    </tr>\n",
       "    <tr>\n",
       "      <th>2</th>\n",
       "      <td>2021-07-02</td>\n",
       "      <td>409.86</td>\n",
       "      <td>433.72</td>\n",
       "      <td>434.10</td>\n",
       "      <td>430.52</td>\n",
       "      <td>431.67</td>\n",
       "      <td>57697700</td>\n",
       "    </tr>\n",
       "    <tr>\n",
       "      <th>3</th>\n",
       "      <td>2021-07-06</td>\n",
       "      <td>409.11</td>\n",
       "      <td>432.93</td>\n",
       "      <td>434.01</td>\n",
       "      <td>430.01</td>\n",
       "      <td>433.78</td>\n",
       "      <td>68710400</td>\n",
       "    </tr>\n",
       "    <tr>\n",
       "      <th>4</th>\n",
       "      <td>2021-07-07</td>\n",
       "      <td>410.56</td>\n",
       "      <td>434.46</td>\n",
       "      <td>434.76</td>\n",
       "      <td>431.51</td>\n",
       "      <td>433.66</td>\n",
       "      <td>63549500</td>\n",
       "    </tr>\n",
       "  </tbody>\n",
       "</table>\n",
       "</div>"
      ],
      "text/plain": [
       "        date  adj_close   close    high     low    open    volume\n",
       "0 2021-06-30     404.51  428.06  428.78  427.18  427.21  64827900\n",
       "1 2021-07-01     406.75  430.43  430.60  428.80  428.87  53441000\n",
       "2 2021-07-02     409.86  433.72  434.10  430.52  431.67  57697700\n",
       "3 2021-07-06     409.11  432.93  434.01  430.01  433.78  68710400\n",
       "4 2021-07-07     410.56  434.46  434.76  431.51  433.66  63549500"
      ]
     },
     "execution_count": 3,
     "metadata": {},
     "output_type": "execute_result"
    }
   ],
   "source": [
    "df_spy = df_spy.droplevel(level=1, axis=1)\n",
    "df_spy = df_spy.rename_axis(None, axis=1)\n",
    "df_spy.reset_index(inplace=True)\n",
    "df_spy.columns = df_spy.columns.str.lower().str.replace(' ', '_')\n",
    "df_spy.head()"
   ]
  },
  {
   "cell_type": "markdown",
   "metadata": {},
   "source": [
    "## Comparison and `DataFrame` Columns"
   ]
  },
  {
   "cell_type": "markdown",
   "metadata": {},
   "source": [
    "As discussed in a previous chapter, a column of a `DataFrame` is a `Series` object, which is a souped up `numpy.array` (think vector or matrix).\n",
    "\n",
    "Let's separate out the `close` column of `df_spy` and assign it to a variable."
   ]
  },
  {
   "cell_type": "code",
   "execution_count": 4,
   "metadata": {},
   "outputs": [
    {
     "data": {
      "text/plain": [
       "0     428.06\n",
       "1     430.43\n",
       "2     433.72\n",
       "       ...  \n",
       "19    438.83\n",
       "20    440.65\n",
       "21    438.51\n",
       "Name: close, Length: 22, dtype: float64"
      ]
     },
     "execution_count": 4,
     "metadata": {},
     "output_type": "execute_result"
    }
   ],
   "source": [
    "pd.options.display.max_rows = 6 # this modifies the printing of dataframes\n",
    "ser_close = df_spy['close']\n",
    "ser_close"
   ]
  },
  {
   "cell_type": "markdown",
   "metadata": {},
   "source": [
    " "
   ]
  },
  {
   "cell_type": "markdown",
   "metadata": {},
   "source": [
    "Recall that a `pandas.Series` is smart with respect to component-wise arithmetic operations, meaning it behaves like a vector from linear algebra.  This means that arithmetic operations are *broadcasted* as you might expect."
   ]
  },
  {
   "cell_type": "markdown",
   "metadata": {},
   "source": [
    "For example, division by 100 is broadcasted component-wise."
   ]
  },
  {
   "cell_type": "code",
   "execution_count": 5,
   "metadata": {},
   "outputs": [
    {
     "data": {
      "text/plain": [
       "0     4.2806\n",
       "1     4.3043\n",
       "2     4.3372\n",
       "       ...  \n",
       "19    4.3883\n",
       "20    4.4065\n",
       "21    4.3851\n",
       "Name: close, Length: 22, dtype: float64"
      ]
     },
     "execution_count": 5,
     "metadata": {},
     "output_type": "execute_result"
    }
   ],
   "source": [
    "ser_close / 100"
   ]
  },
  {
   "cell_type": "markdown",
   "metadata": {},
   "source": [
    " "
   ]
  },
  {
   "cell_type": "markdown",
   "metadata": {},
   "source": [
    "#### It is a convenient fact that this broadcasting behavior also occurs with comparison, and produces a `Series` of booleans. \n",
    "\n",
    "The following code checks which elements of `ser_adjusted` are greater than 435. "
   ]
  },
  {
   "cell_type": "code",
   "execution_count": 6,
   "metadata": {},
   "outputs": [
    {
     "data": {
      "text/plain": [
       "0     False\n",
       "1     False\n",
       "2     False\n",
       "      ...  \n",
       "19     True\n",
       "20     True\n",
       "21     True\n",
       "Name: close, Length: 22, dtype: bool"
      ]
     },
     "execution_count": 6,
     "metadata": {},
     "output_type": "execute_result"
    }
   ],
   "source": [
    "ser_test = (ser_close > 435)\n",
    "ser_test"
   ]
  },
  {
   "cell_type": "markdown",
   "metadata": {},
   "source": [
    " "
   ]
  },
  {
   "cell_type": "markdown",
   "metadata": {},
   "source": [
    "Let's check that the resulting variable `ser_test` is a `pandas.Series`."
   ]
  },
  {
   "cell_type": "code",
   "execution_count": 7,
   "metadata": {},
   "outputs": [
    {
     "data": {
      "text/plain": [
       "pandas.core.series.Series"
      ]
     },
     "execution_count": 7,
     "metadata": {},
     "output_type": "execute_result"
    }
   ],
   "source": [
    "type(ser_test)"
   ]
  },
  {
   "cell_type": "markdown",
   "metadata": {},
   "source": [
    " "
   ]
  },
  {
   "cell_type": "markdown",
   "metadata": {},
   "source": [
    "And finally let's observe the `.values` elements of `ser_test`."
   ]
  },
  {
   "cell_type": "code",
   "execution_count": 8,
   "metadata": {},
   "outputs": [
    {
     "name": "stdout",
     "output_type": "stream",
     "text": [
      "[False False False False False False  True  True  True  True False False\n",
      " False False False  True  True  True  True  True  True  True]\n"
     ]
    }
   ],
   "source": [
    "print(ser_test.values)"
   ]
  },
  {
   "cell_type": "markdown",
   "metadata": {},
   "source": [
    " "
   ]
  },
  {
   "cell_type": "markdown",
   "metadata": {},
   "source": [
    "A few observation about what just happened:\n",
    "\n",
    "1. When we compare a `Series` of numerical values (`ser_close`) to a single number (`435`), we get back a `Series` of booleans (`ser_test`).\n",
    "\n",
    "2. We have that `ser_test[i]` = (`ser_adjusted[i] > 435`).\n",
    "\n",
    "3. So the comparison operation was broadcasted as advertised."
   ]
  },
  {
   "cell_type": "markdown",
   "metadata": {},
   "source": [
    "This is easy to see by appending `ser_test` to `df_spy` and then reprinting."
   ]
  },
  {
   "cell_type": "code",
   "execution_count": 9,
   "metadata": {},
   "outputs": [
    {
     "data": {
      "text/html": [
       "<div>\n",
       "<style scoped>\n",
       "    .dataframe tbody tr th:only-of-type {\n",
       "        vertical-align: middle;\n",
       "    }\n",
       "\n",
       "    .dataframe tbody tr th {\n",
       "        vertical-align: top;\n",
       "    }\n",
       "\n",
       "    .dataframe thead th {\n",
       "        text-align: right;\n",
       "    }\n",
       "</style>\n",
       "<table border=\"1\" class=\"dataframe\">\n",
       "  <thead>\n",
       "    <tr style=\"text-align: right;\">\n",
       "      <th></th>\n",
       "      <th>date</th>\n",
       "      <th>adj_close</th>\n",
       "      <th>close</th>\n",
       "      <th>high</th>\n",
       "      <th>low</th>\n",
       "      <th>open</th>\n",
       "      <th>volume</th>\n",
       "      <th>test</th>\n",
       "    </tr>\n",
       "  </thead>\n",
       "  <tbody>\n",
       "    <tr>\n",
       "      <th>0</th>\n",
       "      <td>2021-06-30</td>\n",
       "      <td>404.51</td>\n",
       "      <td>428.06</td>\n",
       "      <td>428.78</td>\n",
       "      <td>427.18</td>\n",
       "      <td>427.21</td>\n",
       "      <td>64827900</td>\n",
       "      <td>False</td>\n",
       "    </tr>\n",
       "    <tr>\n",
       "      <th>1</th>\n",
       "      <td>2021-07-01</td>\n",
       "      <td>406.75</td>\n",
       "      <td>430.43</td>\n",
       "      <td>430.60</td>\n",
       "      <td>428.80</td>\n",
       "      <td>428.87</td>\n",
       "      <td>53441000</td>\n",
       "      <td>False</td>\n",
       "    </tr>\n",
       "    <tr>\n",
       "      <th>2</th>\n",
       "      <td>2021-07-02</td>\n",
       "      <td>409.86</td>\n",
       "      <td>433.72</td>\n",
       "      <td>434.10</td>\n",
       "      <td>430.52</td>\n",
       "      <td>431.67</td>\n",
       "      <td>57697700</td>\n",
       "      <td>False</td>\n",
       "    </tr>\n",
       "    <tr>\n",
       "      <th>3</th>\n",
       "      <td>2021-07-06</td>\n",
       "      <td>409.11</td>\n",
       "      <td>432.93</td>\n",
       "      <td>434.01</td>\n",
       "      <td>430.01</td>\n",
       "      <td>433.78</td>\n",
       "      <td>68710400</td>\n",
       "      <td>False</td>\n",
       "    </tr>\n",
       "    <tr>\n",
       "      <th>4</th>\n",
       "      <td>2021-07-07</td>\n",
       "      <td>410.56</td>\n",
       "      <td>434.46</td>\n",
       "      <td>434.76</td>\n",
       "      <td>431.51</td>\n",
       "      <td>433.66</td>\n",
       "      <td>63549500</td>\n",
       "      <td>False</td>\n",
       "    </tr>\n",
       "    <tr>\n",
       "      <th>5</th>\n",
       "      <td>2021-07-08</td>\n",
       "      <td>407.21</td>\n",
       "      <td>430.92</td>\n",
       "      <td>431.73</td>\n",
       "      <td>427.52</td>\n",
       "      <td>428.78</td>\n",
       "      <td>97595200</td>\n",
       "      <td>False</td>\n",
       "    </tr>\n",
       "    <tr>\n",
       "      <th>6</th>\n",
       "      <td>2021-07-09</td>\n",
       "      <td>411.56</td>\n",
       "      <td>435.52</td>\n",
       "      <td>435.84</td>\n",
       "      <td>430.71</td>\n",
       "      <td>432.53</td>\n",
       "      <td>76238600</td>\n",
       "      <td>True</td>\n",
       "    </tr>\n",
       "    <tr>\n",
       "      <th>7</th>\n",
       "      <td>2021-07-12</td>\n",
       "      <td>413.03</td>\n",
       "      <td>437.08</td>\n",
       "      <td>437.35</td>\n",
       "      <td>434.97</td>\n",
       "      <td>435.43</td>\n",
       "      <td>52889600</td>\n",
       "      <td>True</td>\n",
       "    </tr>\n",
       "    <tr>\n",
       "      <th>8</th>\n",
       "      <td>2021-07-13</td>\n",
       "      <td>411.63</td>\n",
       "      <td>435.59</td>\n",
       "      <td>437.84</td>\n",
       "      <td>435.31</td>\n",
       "      <td>436.24</td>\n",
       "      <td>52911300</td>\n",
       "      <td>True</td>\n",
       "    </tr>\n",
       "    <tr>\n",
       "      <th>9</th>\n",
       "      <td>2021-07-14</td>\n",
       "      <td>412.24</td>\n",
       "      <td>436.24</td>\n",
       "      <td>437.92</td>\n",
       "      <td>434.91</td>\n",
       "      <td>437.40</td>\n",
       "      <td>64130400</td>\n",
       "      <td>True</td>\n",
       "    </tr>\n",
       "    <tr>\n",
       "      <th>10</th>\n",
       "      <td>2021-07-15</td>\n",
       "      <td>410.83</td>\n",
       "      <td>434.75</td>\n",
       "      <td>435.53</td>\n",
       "      <td>432.72</td>\n",
       "      <td>434.81</td>\n",
       "      <td>55126400</td>\n",
       "      <td>False</td>\n",
       "    </tr>\n",
       "    <tr>\n",
       "      <th>11</th>\n",
       "      <td>2021-07-16</td>\n",
       "      <td>407.61</td>\n",
       "      <td>431.34</td>\n",
       "      <td>436.06</td>\n",
       "      <td>430.92</td>\n",
       "      <td>436.01</td>\n",
       "      <td>75874700</td>\n",
       "      <td>False</td>\n",
       "    </tr>\n",
       "    <tr>\n",
       "      <th>12</th>\n",
       "      <td>2021-07-19</td>\n",
       "      <td>401.59</td>\n",
       "      <td>424.97</td>\n",
       "      <td>431.41</td>\n",
       "      <td>421.97</td>\n",
       "      <td>426.19</td>\n",
       "      <td>147987000</td>\n",
       "      <td>False</td>\n",
       "    </tr>\n",
       "    <tr>\n",
       "      <th>13</th>\n",
       "      <td>2021-07-20</td>\n",
       "      <td>407.35</td>\n",
       "      <td>431.06</td>\n",
       "      <td>432.42</td>\n",
       "      <td>424.83</td>\n",
       "      <td>425.68</td>\n",
       "      <td>99608200</td>\n",
       "      <td>False</td>\n",
       "    </tr>\n",
       "    <tr>\n",
       "      <th>14</th>\n",
       "      <td>2021-07-21</td>\n",
       "      <td>410.64</td>\n",
       "      <td>434.55</td>\n",
       "      <td>434.70</td>\n",
       "      <td>431.01</td>\n",
       "      <td>432.34</td>\n",
       "      <td>64724400</td>\n",
       "      <td>False</td>\n",
       "    </tr>\n",
       "    <tr>\n",
       "      <th>15</th>\n",
       "      <td>2021-07-22</td>\n",
       "      <td>411.50</td>\n",
       "      <td>435.46</td>\n",
       "      <td>435.72</td>\n",
       "      <td>433.69</td>\n",
       "      <td>434.74</td>\n",
       "      <td>47878500</td>\n",
       "      <td>True</td>\n",
       "    </tr>\n",
       "    <tr>\n",
       "      <th>16</th>\n",
       "      <td>2021-07-23</td>\n",
       "      <td>415.74</td>\n",
       "      <td>439.94</td>\n",
       "      <td>440.30</td>\n",
       "      <td>436.79</td>\n",
       "      <td>437.52</td>\n",
       "      <td>63766600</td>\n",
       "      <td>True</td>\n",
       "    </tr>\n",
       "    <tr>\n",
       "      <th>17</th>\n",
       "      <td>2021-07-26</td>\n",
       "      <td>416.76</td>\n",
       "      <td>441.02</td>\n",
       "      <td>441.03</td>\n",
       "      <td>439.26</td>\n",
       "      <td>439.31</td>\n",
       "      <td>43719200</td>\n",
       "      <td>True</td>\n",
       "    </tr>\n",
       "    <tr>\n",
       "      <th>18</th>\n",
       "      <td>2021-07-27</td>\n",
       "      <td>414.86</td>\n",
       "      <td>439.01</td>\n",
       "      <td>439.94</td>\n",
       "      <td>435.99</td>\n",
       "      <td>439.91</td>\n",
       "      <td>67397100</td>\n",
       "      <td>True</td>\n",
       "    </tr>\n",
       "    <tr>\n",
       "      <th>19</th>\n",
       "      <td>2021-07-28</td>\n",
       "      <td>414.69</td>\n",
       "      <td>438.83</td>\n",
       "      <td>440.30</td>\n",
       "      <td>437.31</td>\n",
       "      <td>439.68</td>\n",
       "      <td>52472400</td>\n",
       "      <td>True</td>\n",
       "    </tr>\n",
       "    <tr>\n",
       "      <th>20</th>\n",
       "      <td>2021-07-29</td>\n",
       "      <td>416.41</td>\n",
       "      <td>440.65</td>\n",
       "      <td>441.80</td>\n",
       "      <td>439.81</td>\n",
       "      <td>439.82</td>\n",
       "      <td>47435300</td>\n",
       "      <td>True</td>\n",
       "    </tr>\n",
       "    <tr>\n",
       "      <th>21</th>\n",
       "      <td>2021-07-30</td>\n",
       "      <td>414.39</td>\n",
       "      <td>438.51</td>\n",
       "      <td>440.06</td>\n",
       "      <td>437.77</td>\n",
       "      <td>437.91</td>\n",
       "      <td>68951200</td>\n",
       "      <td>True</td>\n",
       "    </tr>\n",
       "  </tbody>\n",
       "</table>\n",
       "</div>"
      ],
      "text/plain": [
       "         date  adj_close   close    high     low    open     volume   test\n",
       "0  2021-06-30     404.51  428.06  428.78  427.18  427.21   64827900  False\n",
       "1  2021-07-01     406.75  430.43  430.60  428.80  428.87   53441000  False\n",
       "2  2021-07-02     409.86  433.72  434.10  430.52  431.67   57697700  False\n",
       "3  2021-07-06     409.11  432.93  434.01  430.01  433.78   68710400  False\n",
       "4  2021-07-07     410.56  434.46  434.76  431.51  433.66   63549500  False\n",
       "5  2021-07-08     407.21  430.92  431.73  427.52  428.78   97595200  False\n",
       "6  2021-07-09     411.56  435.52  435.84  430.71  432.53   76238600   True\n",
       "7  2021-07-12     413.03  437.08  437.35  434.97  435.43   52889600   True\n",
       "8  2021-07-13     411.63  435.59  437.84  435.31  436.24   52911300   True\n",
       "9  2021-07-14     412.24  436.24  437.92  434.91  437.40   64130400   True\n",
       "10 2021-07-15     410.83  434.75  435.53  432.72  434.81   55126400  False\n",
       "11 2021-07-16     407.61  431.34  436.06  430.92  436.01   75874700  False\n",
       "12 2021-07-19     401.59  424.97  431.41  421.97  426.19  147987000  False\n",
       "13 2021-07-20     407.35  431.06  432.42  424.83  425.68   99608200  False\n",
       "14 2021-07-21     410.64  434.55  434.70  431.01  432.34   64724400  False\n",
       "15 2021-07-22     411.50  435.46  435.72  433.69  434.74   47878500   True\n",
       "16 2021-07-23     415.74  439.94  440.30  436.79  437.52   63766600   True\n",
       "17 2021-07-26     416.76  441.02  441.03  439.26  439.31   43719200   True\n",
       "18 2021-07-27     414.86  439.01  439.94  435.99  439.91   67397100   True\n",
       "19 2021-07-28     414.69  438.83  440.30  437.31  439.68   52472400   True\n",
       "20 2021-07-29     416.41  440.65  441.80  439.81  439.82   47435300   True\n",
       "21 2021-07-30     414.39  438.51  440.06  437.77  437.91   68951200   True"
      ]
     },
     "execution_count": 9,
     "metadata": {},
     "output_type": "execute_result"
    }
   ],
   "source": [
    "pd.options.display.max_rows = 25\n",
    "df_spy['test'] = ser_test\n",
    "df_spy"
   ]
  },
  {
   "cell_type": "markdown",
   "metadata": {},
   "source": [
    "As we will see in the next two sections, the broadcasting of comparison can be used to query subsets of rows of a `DataFrame`."
   ]
  },
  {
   "cell_type": "markdown",
   "metadata": {},
   "source": [
    "## `DataFrame` Masking"
   ]
  },
  {
   "cell_type": "markdown",
   "metadata": {},
   "source": [
    "From the code below we know that `df_spy` has 22 rows."
   ]
  },
  {
   "cell_type": "code",
   "execution_count": 10,
   "metadata": {},
   "outputs": [
    {
     "data": {
      "text/plain": [
       "(22, 8)"
      ]
     },
     "execution_count": 10,
     "metadata": {},
     "output_type": "execute_result"
    }
   ],
   "source": [
    "df_spy.shape"
   ]
  },
  {
   "cell_type": "markdown",
   "metadata": {},
   "source": [
    "The following code creates a list consisting of 22 booleans, all of them `False`."
   ]
  },
  {
   "cell_type": "code",
   "execution_count": 11,
   "metadata": {},
   "outputs": [
    {
     "data": {
      "text/plain": [
       "[False,\n",
       " False,\n",
       " False,\n",
       " False,\n",
       " False,\n",
       " False,\n",
       " False,\n",
       " False,\n",
       " False,\n",
       " False,\n",
       " False,\n",
       " False,\n",
       " False,\n",
       " False,\n",
       " False,\n",
       " False,\n",
       " False,\n",
       " False,\n",
       " False,\n",
       " False,\n",
       " False,\n",
       " False]"
      ]
     },
     "execution_count": 11,
     "metadata": {},
     "output_type": "execute_result"
    }
   ],
   "source": [
    "lst_bool = [False] * 22\n",
    "lst_bool"
   ]
  },
  {
   "cell_type": "markdown",
   "metadata": {},
   "source": [
    "Now, let's see what happens when we feed this `list` of `False` booleans into `df_spy` using square brackets."
   ]
  },
  {
   "cell_type": "code",
   "execution_count": 12,
   "metadata": {},
   "outputs": [
    {
     "data": {
      "text/html": [
       "<div>\n",
       "<style scoped>\n",
       "    .dataframe tbody tr th:only-of-type {\n",
       "        vertical-align: middle;\n",
       "    }\n",
       "\n",
       "    .dataframe tbody tr th {\n",
       "        vertical-align: top;\n",
       "    }\n",
       "\n",
       "    .dataframe thead th {\n",
       "        text-align: right;\n",
       "    }\n",
       "</style>\n",
       "<table border=\"1\" class=\"dataframe\">\n",
       "  <thead>\n",
       "    <tr style=\"text-align: right;\">\n",
       "      <th></th>\n",
       "      <th>date</th>\n",
       "      <th>adj_close</th>\n",
       "      <th>close</th>\n",
       "      <th>high</th>\n",
       "      <th>low</th>\n",
       "      <th>open</th>\n",
       "      <th>volume</th>\n",
       "      <th>test</th>\n",
       "    </tr>\n",
       "  </thead>\n",
       "  <tbody>\n",
       "  </tbody>\n",
       "</table>\n",
       "</div>"
      ],
      "text/plain": [
       "Empty DataFrame\n",
       "Columns: [date, adj_close, close, high, low, open, volume, test]\n",
       "Index: []"
      ]
     },
     "execution_count": 12,
     "metadata": {},
     "output_type": "execute_result"
    }
   ],
   "source": [
    "df_spy[lst_bool]"
   ]
  },
  {
   "cell_type": "markdown",
   "metadata": {},
   "source": [
    "---"
   ]
  },
  {
   "cell_type": "markdown",
   "metadata": {},
   "source": [
    "**Code Challenge:** Verify that `df_spy[lst_bool]` is an empty `DataFrame`."
   ]
  },
  {
   "cell_type": "code",
   "execution_count": 13,
   "metadata": {},
   "outputs": [
    {
     "data": {
      "text/plain": [
       "pandas.core.frame.DataFrame"
      ]
     },
     "execution_count": 13,
     "metadata": {},
     "output_type": "execute_result"
    }
   ],
   "source": [
    "#| code-fold: true\n",
    "#| code-summary: \"Solution\"\n",
    "type(df_spy[lst_bool])"
   ]
  },
  {
   "cell_type": "code",
   "execution_count": 14,
   "metadata": {},
   "outputs": [
    {
     "data": {
      "text/plain": [
       "(0, 8)"
      ]
     },
     "execution_count": 14,
     "metadata": {},
     "output_type": "execute_result"
    }
   ],
   "source": [
    "#| code-fold: true\n",
    "#| code-summary: \"Solution\"\n",
    "df_spy[lst_bool].shape"
   ]
  },
  {
   "cell_type": "markdown",
   "metadata": {},
   "source": [
    "--- "
   ]
  },
  {
   "cell_type": "markdown",
   "metadata": {},
   "source": [
    "Next, let's modify `lst_bool` slightly by changing the 0th entry to `True`. Then lets feed `lst_bool` into `df_spy` again."
   ]
  },
  {
   "cell_type": "code",
   "execution_count": 15,
   "metadata": {},
   "outputs": [
    {
     "data": {
      "text/html": [
       "<div>\n",
       "<style scoped>\n",
       "    .dataframe tbody tr th:only-of-type {\n",
       "        vertical-align: middle;\n",
       "    }\n",
       "\n",
       "    .dataframe tbody tr th {\n",
       "        vertical-align: top;\n",
       "    }\n",
       "\n",
       "    .dataframe thead th {\n",
       "        text-align: right;\n",
       "    }\n",
       "</style>\n",
       "<table border=\"1\" class=\"dataframe\">\n",
       "  <thead>\n",
       "    <tr style=\"text-align: right;\">\n",
       "      <th></th>\n",
       "      <th>date</th>\n",
       "      <th>adj_close</th>\n",
       "      <th>close</th>\n",
       "      <th>high</th>\n",
       "      <th>low</th>\n",
       "      <th>open</th>\n",
       "      <th>volume</th>\n",
       "      <th>test</th>\n",
       "    </tr>\n",
       "  </thead>\n",
       "  <tbody>\n",
       "    <tr>\n",
       "      <th>0</th>\n",
       "      <td>2021-06-30</td>\n",
       "      <td>404.51</td>\n",
       "      <td>428.06</td>\n",
       "      <td>428.78</td>\n",
       "      <td>427.18</td>\n",
       "      <td>427.21</td>\n",
       "      <td>64827900</td>\n",
       "      <td>False</td>\n",
       "    </tr>\n",
       "  </tbody>\n",
       "</table>\n",
       "</div>"
      ],
      "text/plain": [
       "        date  adj_close   close    high     low    open    volume   test\n",
       "0 2021-06-30     404.51  428.06  428.78  427.18  427.21  64827900  False"
      ]
     },
     "execution_count": 15,
     "metadata": {},
     "output_type": "execute_result"
    }
   ],
   "source": [
    "lst_bool[0] = True\n",
    "df_spy[lst_bool]"
   ]
  },
  {
   "cell_type": "markdown",
   "metadata": {},
   "source": [
    "So what happened?  Notice that `df_spy[lst_bool]` returns a `DataFrame` consisting only of the 0th row of `df_spy`.\n",
    "\n",
    "Let's modify `lst_bool` once again, by setting the 1st entry of `df_spy` to `True`, and then once again feed it into `df_spy`. "
   ]
  },
  {
   "cell_type": "code",
   "execution_count": 16,
   "metadata": {},
   "outputs": [
    {
     "data": {
      "text/html": [
       "<div>\n",
       "<style scoped>\n",
       "    .dataframe tbody tr th:only-of-type {\n",
       "        vertical-align: middle;\n",
       "    }\n",
       "\n",
       "    .dataframe tbody tr th {\n",
       "        vertical-align: top;\n",
       "    }\n",
       "\n",
       "    .dataframe thead th {\n",
       "        text-align: right;\n",
       "    }\n",
       "</style>\n",
       "<table border=\"1\" class=\"dataframe\">\n",
       "  <thead>\n",
       "    <tr style=\"text-align: right;\">\n",
       "      <th></th>\n",
       "      <th>date</th>\n",
       "      <th>adj_close</th>\n",
       "      <th>close</th>\n",
       "      <th>high</th>\n",
       "      <th>low</th>\n",
       "      <th>open</th>\n",
       "      <th>volume</th>\n",
       "      <th>test</th>\n",
       "    </tr>\n",
       "  </thead>\n",
       "  <tbody>\n",
       "    <tr>\n",
       "      <th>0</th>\n",
       "      <td>2021-06-30</td>\n",
       "      <td>404.51</td>\n",
       "      <td>428.06</td>\n",
       "      <td>428.78</td>\n",
       "      <td>427.18</td>\n",
       "      <td>427.21</td>\n",
       "      <td>64827900</td>\n",
       "      <td>False</td>\n",
       "    </tr>\n",
       "    <tr>\n",
       "      <th>1</th>\n",
       "      <td>2021-07-01</td>\n",
       "      <td>406.75</td>\n",
       "      <td>430.43</td>\n",
       "      <td>430.60</td>\n",
       "      <td>428.80</td>\n",
       "      <td>428.87</td>\n",
       "      <td>53441000</td>\n",
       "      <td>False</td>\n",
       "    </tr>\n",
       "  </tbody>\n",
       "</table>\n",
       "</div>"
      ],
      "text/plain": [
       "        date  adj_close   close    high     low    open    volume   test\n",
       "0 2021-06-30     404.51  428.06  428.78  427.18  427.21  64827900  False\n",
       "1 2021-07-01     406.75  430.43  430.60  428.80  428.87  53441000  False"
      ]
     },
     "execution_count": 16,
     "metadata": {},
     "output_type": "execute_result"
    }
   ],
   "source": [
    "lst_bool[1] = True\n",
    "df_spy[lst_bool]"
   ]
  },
  {
   "cell_type": "markdown",
   "metadata": {},
   "source": [
    "**Punchline:** What is returned by the code `df_spy[lst_bool]` will be a `DataFrame` consisting of all the rows corresponding to the `True` entries of `lst_bool`.\n",
    "\n",
    "This is called `DataFrame` *masking*."
   ]
  },
  {
   "cell_type": "markdown",
   "metadata": {},
   "source": [
    "--- "
   ]
  },
  {
   "cell_type": "markdown",
   "metadata": {},
   "source": [
    "**Code Challenge:** Modify `lst_bool` and then use `DataFrame` masking to grab the 0th, 1st and, 3rd rows of `df_spy`."
   ]
  },
  {
   "cell_type": "code",
   "execution_count": 17,
   "metadata": {},
   "outputs": [
    {
     "data": {
      "text/html": [
       "<div>\n",
       "<style scoped>\n",
       "    .dataframe tbody tr th:only-of-type {\n",
       "        vertical-align: middle;\n",
       "    }\n",
       "\n",
       "    .dataframe tbody tr th {\n",
       "        vertical-align: top;\n",
       "    }\n",
       "\n",
       "    .dataframe thead th {\n",
       "        text-align: right;\n",
       "    }\n",
       "</style>\n",
       "<table border=\"1\" class=\"dataframe\">\n",
       "  <thead>\n",
       "    <tr style=\"text-align: right;\">\n",
       "      <th></th>\n",
       "      <th>date</th>\n",
       "      <th>adj_close</th>\n",
       "      <th>close</th>\n",
       "      <th>high</th>\n",
       "      <th>low</th>\n",
       "      <th>open</th>\n",
       "      <th>volume</th>\n",
       "      <th>test</th>\n",
       "    </tr>\n",
       "  </thead>\n",
       "  <tbody>\n",
       "    <tr>\n",
       "      <th>0</th>\n",
       "      <td>2021-06-30</td>\n",
       "      <td>404.51</td>\n",
       "      <td>428.06</td>\n",
       "      <td>428.78</td>\n",
       "      <td>427.18</td>\n",
       "      <td>427.21</td>\n",
       "      <td>64827900</td>\n",
       "      <td>False</td>\n",
       "    </tr>\n",
       "    <tr>\n",
       "      <th>1</th>\n",
       "      <td>2021-07-01</td>\n",
       "      <td>406.75</td>\n",
       "      <td>430.43</td>\n",
       "      <td>430.60</td>\n",
       "      <td>428.80</td>\n",
       "      <td>428.87</td>\n",
       "      <td>53441000</td>\n",
       "      <td>False</td>\n",
       "    </tr>\n",
       "    <tr>\n",
       "      <th>3</th>\n",
       "      <td>2021-07-06</td>\n",
       "      <td>409.11</td>\n",
       "      <td>432.93</td>\n",
       "      <td>434.01</td>\n",
       "      <td>430.01</td>\n",
       "      <td>433.78</td>\n",
       "      <td>68710400</td>\n",
       "      <td>False</td>\n",
       "    </tr>\n",
       "  </tbody>\n",
       "</table>\n",
       "</div>"
      ],
      "text/plain": [
       "        date  adj_close   close    high     low    open    volume   test\n",
       "0 2021-06-30     404.51  428.06  428.78  427.18  427.21  64827900  False\n",
       "1 2021-07-01     406.75  430.43  430.60  428.80  428.87  53441000  False\n",
       "3 2021-07-06     409.11  432.93  434.01  430.01  433.78  68710400  False"
      ]
     },
     "execution_count": 17,
     "metadata": {},
     "output_type": "execute_result"
    }
   ],
   "source": [
    "#| code-fold: true\n",
    "#| code-summary: \"Solution\"\n",
    "lst_bool[3] = True\n",
    "df_spy[lst_bool]"
   ]
  },
  {
   "cell_type": "markdown",
   "metadata": {},
   "source": [
    "---"
   ]
  },
  {
   "cell_type": "markdown",
   "metadata": {},
   "source": [
    "## Querying with `DataFrame` Masking"
   ]
  },
  {
   "cell_type": "markdown",
   "metadata": {},
   "source": [
    "We often want to query a `DataFrame` based on some kind of comparison involving its column values.\n",
    "\n",
    "We can achieve this kind of querying by combining the broadcasting of comparison over `DataFrame` columns with `DataFrame` masking.\n",
    "\n",
    "In order to consider concrete examples, let's read-in some data.  \n",
    "\n",
    "The following code reads in a data set consisting of end-of-day prices for four different ETFs (SPY, IWM, QQQ, DIA), during the month of July 2021."
   ]
  },
  {
   "cell_type": "code",
   "execution_count": 18,
   "metadata": {},
   "outputs": [
    {
     "name": "stderr",
     "output_type": "stream",
     "text": [
      "[*********************100%***********************]  4 of 4 completed\n"
     ]
    },
    {
     "data": {
      "text/html": [
       "<div>\n",
       "<style scoped>\n",
       "    .dataframe tbody tr th:only-of-type {\n",
       "        vertical-align: middle;\n",
       "    }\n",
       "\n",
       "    .dataframe tbody tr th {\n",
       "        vertical-align: top;\n",
       "    }\n",
       "\n",
       "    .dataframe thead tr th {\n",
       "        text-align: left;\n",
       "    }\n",
       "\n",
       "    .dataframe thead tr:last-of-type th {\n",
       "        text-align: right;\n",
       "    }\n",
       "</style>\n",
       "<table border=\"1\" class=\"dataframe\">\n",
       "  <thead>\n",
       "    <tr>\n",
       "      <th>Price</th>\n",
       "      <th colspan=\"4\" halign=\"left\">Adj Close</th>\n",
       "      <th colspan=\"4\" halign=\"left\">Close</th>\n",
       "      <th colspan=\"2\" halign=\"left\">High</th>\n",
       "      <th>...</th>\n",
       "      <th colspan=\"2\" halign=\"left\">Low</th>\n",
       "      <th colspan=\"4\" halign=\"left\">Open</th>\n",
       "      <th colspan=\"4\" halign=\"left\">Volume</th>\n",
       "    </tr>\n",
       "    <tr>\n",
       "      <th>Ticker</th>\n",
       "      <th>DIA</th>\n",
       "      <th>IWM</th>\n",
       "      <th>QQQ</th>\n",
       "      <th>SPY</th>\n",
       "      <th>DIA</th>\n",
       "      <th>IWM</th>\n",
       "      <th>QQQ</th>\n",
       "      <th>SPY</th>\n",
       "      <th>DIA</th>\n",
       "      <th>IWM</th>\n",
       "      <th>...</th>\n",
       "      <th>QQQ</th>\n",
       "      <th>SPY</th>\n",
       "      <th>DIA</th>\n",
       "      <th>IWM</th>\n",
       "      <th>QQQ</th>\n",
       "      <th>SPY</th>\n",
       "      <th>DIA</th>\n",
       "      <th>IWM</th>\n",
       "      <th>QQQ</th>\n",
       "      <th>SPY</th>\n",
       "    </tr>\n",
       "    <tr>\n",
       "      <th>Date</th>\n",
       "      <th></th>\n",
       "      <th></th>\n",
       "      <th></th>\n",
       "      <th></th>\n",
       "      <th></th>\n",
       "      <th></th>\n",
       "      <th></th>\n",
       "      <th></th>\n",
       "      <th></th>\n",
       "      <th></th>\n",
       "      <th></th>\n",
       "      <th></th>\n",
       "      <th></th>\n",
       "      <th></th>\n",
       "      <th></th>\n",
       "      <th></th>\n",
       "      <th></th>\n",
       "      <th></th>\n",
       "      <th></th>\n",
       "      <th></th>\n",
       "      <th></th>\n",
       "    </tr>\n",
       "  </thead>\n",
       "  <tbody>\n",
       "    <tr>\n",
       "      <th>2021-06-30</th>\n",
       "      <td>320.48</td>\n",
       "      <td>217.77</td>\n",
       "      <td>345.63</td>\n",
       "      <td>404.51</td>\n",
       "      <td>344.95</td>\n",
       "      <td>229.37</td>\n",
       "      <td>354.43</td>\n",
       "      <td>428.06</td>\n",
       "      <td>345.51</td>\n",
       "      <td>230.32</td>\n",
       "      <td>...</td>\n",
       "      <td>353.83</td>\n",
       "      <td>427.18</td>\n",
       "      <td>342.38</td>\n",
       "      <td>228.65</td>\n",
       "      <td>354.83</td>\n",
       "      <td>427.21</td>\n",
       "      <td>3778900</td>\n",
       "      <td>26039000</td>\n",
       "      <td>32724000</td>\n",
       "      <td>64827900</td>\n",
       "    </tr>\n",
       "    <tr>\n",
       "      <th>2021-07-01</th>\n",
       "      <td>321.79</td>\n",
       "      <td>219.69</td>\n",
       "      <td>345.76</td>\n",
       "      <td>406.75</td>\n",
       "      <td>346.36</td>\n",
       "      <td>231.39</td>\n",
       "      <td>354.57</td>\n",
       "      <td>430.43</td>\n",
       "      <td>346.40</td>\n",
       "      <td>231.85</td>\n",
       "      <td>...</td>\n",
       "      <td>352.68</td>\n",
       "      <td>428.80</td>\n",
       "      <td>345.78</td>\n",
       "      <td>230.81</td>\n",
       "      <td>354.07</td>\n",
       "      <td>428.87</td>\n",
       "      <td>3606900</td>\n",
       "      <td>18089100</td>\n",
       "      <td>29290000</td>\n",
       "      <td>53441000</td>\n",
       "    </tr>\n",
       "    <tr>\n",
       "      <th>2021-07-02</th>\n",
       "      <td>323.26</td>\n",
       "      <td>217.60</td>\n",
       "      <td>349.73</td>\n",
       "      <td>409.86</td>\n",
       "      <td>347.94</td>\n",
       "      <td>229.19</td>\n",
       "      <td>358.64</td>\n",
       "      <td>433.72</td>\n",
       "      <td>348.29</td>\n",
       "      <td>232.08</td>\n",
       "      <td>...</td>\n",
       "      <td>356.28</td>\n",
       "      <td>430.52</td>\n",
       "      <td>347.04</td>\n",
       "      <td>232.00</td>\n",
       "      <td>356.52</td>\n",
       "      <td>431.67</td>\n",
       "      <td>3013500</td>\n",
       "      <td>21029700</td>\n",
       "      <td>32727200</td>\n",
       "      <td>57697700</td>\n",
       "    </tr>\n",
       "    <tr>\n",
       "      <th>2021-07-06</th>\n",
       "      <td>321.29</td>\n",
       "      <td>214.44</td>\n",
       "      <td>351.24</td>\n",
       "      <td>409.11</td>\n",
       "      <td>345.82</td>\n",
       "      <td>225.86</td>\n",
       "      <td>360.19</td>\n",
       "      <td>432.93</td>\n",
       "      <td>348.11</td>\n",
       "      <td>229.46</td>\n",
       "      <td>...</td>\n",
       "      <td>356.49</td>\n",
       "      <td>430.01</td>\n",
       "      <td>347.75</td>\n",
       "      <td>229.36</td>\n",
       "      <td>359.26</td>\n",
       "      <td>433.78</td>\n",
       "      <td>3910600</td>\n",
       "      <td>27771300</td>\n",
       "      <td>38842400</td>\n",
       "      <td>68710400</td>\n",
       "    </tr>\n",
       "    <tr>\n",
       "      <th>2021-07-07</th>\n",
       "      <td>322.31</td>\n",
       "      <td>212.44</td>\n",
       "      <td>351.99</td>\n",
       "      <td>410.56</td>\n",
       "      <td>346.92</td>\n",
       "      <td>223.76</td>\n",
       "      <td>360.95</td>\n",
       "      <td>434.46</td>\n",
       "      <td>347.14</td>\n",
       "      <td>226.67</td>\n",
       "      <td>...</td>\n",
       "      <td>358.94</td>\n",
       "      <td>431.51</td>\n",
       "      <td>345.65</td>\n",
       "      <td>225.54</td>\n",
       "      <td>362.45</td>\n",
       "      <td>433.66</td>\n",
       "      <td>3347000</td>\n",
       "      <td>28521500</td>\n",
       "      <td>35265200</td>\n",
       "      <td>63549500</td>\n",
       "    </tr>\n",
       "  </tbody>\n",
       "</table>\n",
       "<p>5 rows × 24 columns</p>\n",
       "</div>"
      ],
      "text/plain": [
       "Price      Adj Close                           Close                           \n",
       "Ticker           DIA     IWM     QQQ     SPY     DIA     IWM     QQQ     SPY   \n",
       "Date                                                                           \n",
       "2021-06-30    320.48  217.77  345.63  404.51  344.95  229.37  354.43  428.06  \\\n",
       "2021-07-01    321.79  219.69  345.76  406.75  346.36  231.39  354.57  430.43   \n",
       "2021-07-02    323.26  217.60  349.73  409.86  347.94  229.19  358.64  433.72   \n",
       "2021-07-06    321.29  214.44  351.24  409.11  345.82  225.86  360.19  432.93   \n",
       "2021-07-07    322.31  212.44  351.99  410.56  346.92  223.76  360.95  434.46   \n",
       "\n",
       "Price         High          ...     Low            Open                   \n",
       "Ticker         DIA     IWM  ...     QQQ     SPY     DIA     IWM     QQQ   \n",
       "Date                        ...                                           \n",
       "2021-06-30  345.51  230.32  ...  353.83  427.18  342.38  228.65  354.83  \\\n",
       "2021-07-01  346.40  231.85  ...  352.68  428.80  345.78  230.81  354.07   \n",
       "2021-07-02  348.29  232.08  ...  356.28  430.52  347.04  232.00  356.52   \n",
       "2021-07-06  348.11  229.46  ...  356.49  430.01  347.75  229.36  359.26   \n",
       "2021-07-07  347.14  226.67  ...  358.94  431.51  345.65  225.54  362.45   \n",
       "\n",
       "Price                Volume                                \n",
       "Ticker         SPY      DIA       IWM       QQQ       SPY  \n",
       "Date                                                       \n",
       "2021-06-30  427.21  3778900  26039000  32724000  64827900  \n",
       "2021-07-01  428.87  3606900  18089100  29290000  53441000  \n",
       "2021-07-02  431.67  3013500  21029700  32727200  57697700  \n",
       "2021-07-06  433.78  3910600  27771300  38842400  68710400  \n",
       "2021-07-07  433.66  3347000  28521500  35265200  63549500  \n",
       "\n",
       "[5 rows x 24 columns]"
      ]
     },
     "execution_count": 18,
     "metadata": {},
     "output_type": "execute_result"
    }
   ],
   "source": [
    "pd.options.display.max_rows = 25\n",
    "df_etf = yf.download(\n",
    "    ['SPY', 'QQQ', 'IWM', 'DIA'], start='2021-06-30', end='2021-07-31',\n",
    "    auto_adjust=False, rounding=True\n",
    ")\n",
    "df_etf.head()"
   ]
  },
  {
   "cell_type": "markdown",
   "metadata": {},
   "source": [
    "This data is not as tidy as we would like.  Let's use method chaining to perform a series of data munging operations."
   ]
  },
  {
   "cell_type": "code",
   "execution_count": 19,
   "metadata": {},
   "outputs": [
    {
     "data": {
      "text/html": [
       "<div>\n",
       "<style scoped>\n",
       "    .dataframe tbody tr th:only-of-type {\n",
       "        vertical-align: middle;\n",
       "    }\n",
       "\n",
       "    .dataframe tbody tr th {\n",
       "        vertical-align: top;\n",
       "    }\n",
       "\n",
       "    .dataframe thead th {\n",
       "        text-align: right;\n",
       "    }\n",
       "</style>\n",
       "<table border=\"1\" class=\"dataframe\">\n",
       "  <thead>\n",
       "    <tr style=\"text-align: right;\">\n",
       "      <th></th>\n",
       "      <th>date</th>\n",
       "      <th>symbol</th>\n",
       "      <th>close</th>\n",
       "    </tr>\n",
       "  </thead>\n",
       "  <tbody>\n",
       "    <tr>\n",
       "      <th>0</th>\n",
       "      <td>2021-06-30</td>\n",
       "      <td>DIA</td>\n",
       "      <td>344.95</td>\n",
       "    </tr>\n",
       "    <tr>\n",
       "      <th>4</th>\n",
       "      <td>2021-07-01</td>\n",
       "      <td>DIA</td>\n",
       "      <td>346.36</td>\n",
       "    </tr>\n",
       "    <tr>\n",
       "      <th>8</th>\n",
       "      <td>2021-07-02</td>\n",
       "      <td>DIA</td>\n",
       "      <td>347.94</td>\n",
       "    </tr>\n",
       "    <tr>\n",
       "      <th>12</th>\n",
       "      <td>2021-07-06</td>\n",
       "      <td>DIA</td>\n",
       "      <td>345.82</td>\n",
       "    </tr>\n",
       "    <tr>\n",
       "      <th>16</th>\n",
       "      <td>2021-07-07</td>\n",
       "      <td>DIA</td>\n",
       "      <td>346.92</td>\n",
       "    </tr>\n",
       "    <tr>\n",
       "      <th>...</th>\n",
       "      <td>...</td>\n",
       "      <td>...</td>\n",
       "      <td>...</td>\n",
       "    </tr>\n",
       "    <tr>\n",
       "      <th>71</th>\n",
       "      <td>2021-07-26</td>\n",
       "      <td>SPY</td>\n",
       "      <td>441.02</td>\n",
       "    </tr>\n",
       "    <tr>\n",
       "      <th>75</th>\n",
       "      <td>2021-07-27</td>\n",
       "      <td>SPY</td>\n",
       "      <td>439.01</td>\n",
       "    </tr>\n",
       "    <tr>\n",
       "      <th>79</th>\n",
       "      <td>2021-07-28</td>\n",
       "      <td>SPY</td>\n",
       "      <td>438.83</td>\n",
       "    </tr>\n",
       "    <tr>\n",
       "      <th>83</th>\n",
       "      <td>2021-07-29</td>\n",
       "      <td>SPY</td>\n",
       "      <td>440.65</td>\n",
       "    </tr>\n",
       "    <tr>\n",
       "      <th>87</th>\n",
       "      <td>2021-07-30</td>\n",
       "      <td>SPY</td>\n",
       "      <td>438.51</td>\n",
       "    </tr>\n",
       "  </tbody>\n",
       "</table>\n",
       "<p>88 rows × 3 columns</p>\n",
       "</div>"
      ],
      "text/plain": [
       "         date symbol   close\n",
       "0  2021-06-30    DIA  344.95\n",
       "4  2021-07-01    DIA  346.36\n",
       "8  2021-07-02    DIA  347.94\n",
       "12 2021-07-06    DIA  345.82\n",
       "16 2021-07-07    DIA  346.92\n",
       "..        ...    ...     ...\n",
       "71 2021-07-26    SPY  441.02\n",
       "75 2021-07-27    SPY  439.01\n",
       "79 2021-07-28    SPY  438.83\n",
       "83 2021-07-29    SPY  440.65\n",
       "87 2021-07-30    SPY  438.51\n",
       "\n",
       "[88 rows x 3 columns]"
      ]
     },
     "execution_count": 19,
     "metadata": {},
     "output_type": "execute_result"
    }
   ],
   "source": [
    "df_etf = (\n",
    "    df_etf[[('Close','DIA'), ('Close', 'IWM'), ('Close', 'QQQ'), ('Close', 'SPY')]] # grab close prices\n",
    "    .stack() # pivot the table\n",
    "    .reset_index()\n",
    "    .rename_axis(None, axis=1) # remove the name from the row index\n",
    "    .rename(columns={'Date':'date', 'Ticker':'symbol', 'Close':'close'}) # columns in snake-case\n",
    "    .sort_values(by=['symbol', 'date'])\n",
    ")\n",
    "df_etf"
   ]
  },
  {
   "cell_type": "markdown",
   "metadata": {},
   "source": [
    "### Querying for One Symbol"
   ]
  },
  {
   "cell_type": "markdown",
   "metadata": {},
   "source": [
    "We are now ready to apply `DataFrame` masking to our ETF data set.\n",
    "\n",
    "As a first example, let's isolate all the rows of `df_etf` that correspond to `IWM`."
   ]
  },
  {
   "cell_type": "code",
   "execution_count": 20,
   "metadata": {},
   "outputs": [
    {
     "data": {
      "text/html": [
       "<div>\n",
       "<style scoped>\n",
       "    .dataframe tbody tr th:only-of-type {\n",
       "        vertical-align: middle;\n",
       "    }\n",
       "\n",
       "    .dataframe tbody tr th {\n",
       "        vertical-align: top;\n",
       "    }\n",
       "\n",
       "    .dataframe thead th {\n",
       "        text-align: right;\n",
       "    }\n",
       "</style>\n",
       "<table border=\"1\" class=\"dataframe\">\n",
       "  <thead>\n",
       "    <tr style=\"text-align: right;\">\n",
       "      <th></th>\n",
       "      <th>date</th>\n",
       "      <th>symbol</th>\n",
       "      <th>close</th>\n",
       "    </tr>\n",
       "  </thead>\n",
       "  <tbody>\n",
       "    <tr>\n",
       "      <th>1</th>\n",
       "      <td>2021-06-30</td>\n",
       "      <td>IWM</td>\n",
       "      <td>229.37</td>\n",
       "    </tr>\n",
       "    <tr>\n",
       "      <th>5</th>\n",
       "      <td>2021-07-01</td>\n",
       "      <td>IWM</td>\n",
       "      <td>231.39</td>\n",
       "    </tr>\n",
       "    <tr>\n",
       "      <th>9</th>\n",
       "      <td>2021-07-02</td>\n",
       "      <td>IWM</td>\n",
       "      <td>229.19</td>\n",
       "    </tr>\n",
       "    <tr>\n",
       "      <th>...</th>\n",
       "      <td>...</td>\n",
       "      <td>...</td>\n",
       "      <td>...</td>\n",
       "    </tr>\n",
       "    <tr>\n",
       "      <th>77</th>\n",
       "      <td>2021-07-28</td>\n",
       "      <td>IWM</td>\n",
       "      <td>220.82</td>\n",
       "    </tr>\n",
       "    <tr>\n",
       "      <th>81</th>\n",
       "      <td>2021-07-29</td>\n",
       "      <td>IWM</td>\n",
       "      <td>222.52</td>\n",
       "    </tr>\n",
       "    <tr>\n",
       "      <th>85</th>\n",
       "      <td>2021-07-30</td>\n",
       "      <td>IWM</td>\n",
       "      <td>221.05</td>\n",
       "    </tr>\n",
       "  </tbody>\n",
       "</table>\n",
       "<p>22 rows × 3 columns</p>\n",
       "</div>"
      ],
      "text/plain": [
       "         date symbol   close\n",
       "1  2021-06-30    IWM  229.37\n",
       "5  2021-07-01    IWM  231.39\n",
       "9  2021-07-02    IWM  229.19\n",
       "..        ...    ...     ...\n",
       "77 2021-07-28    IWM  220.82\n",
       "81 2021-07-29    IWM  222.52\n",
       "85 2021-07-30    IWM  221.05\n",
       "\n",
       "[22 rows x 3 columns]"
      ]
     },
     "execution_count": 20,
     "metadata": {},
     "output_type": "execute_result"
    }
   ],
   "source": [
    "pd.options.display.max_rows = 6\n",
    "ser_bool = (df_etf['symbol'] == \"IWM\")\n",
    "df_etf[ser_bool]"
   ]
  },
  {
   "cell_type": "markdown",
   "metadata": {},
   "source": [
    "Notice that we did this in two steps: \n",
    "\n",
    "1. Calculate the series of `booleans` called `ser_bool` using comparison broadcasting.\n",
    "\n",
    "2. Perform the masking by using square brackets `[]` and `ser_bool`.\n",
    "\n",
    "We can actually perform this masking in a single line of code, without creating the intermediate variable `ser_bool`."
   ]
  },
  {
   "cell_type": "code",
   "execution_count": 21,
   "metadata": {},
   "outputs": [
    {
     "data": {
      "text/html": [
       "<div>\n",
       "<style scoped>\n",
       "    .dataframe tbody tr th:only-of-type {\n",
       "        vertical-align: middle;\n",
       "    }\n",
       "\n",
       "    .dataframe tbody tr th {\n",
       "        vertical-align: top;\n",
       "    }\n",
       "\n",
       "    .dataframe thead th {\n",
       "        text-align: right;\n",
       "    }\n",
       "</style>\n",
       "<table border=\"1\" class=\"dataframe\">\n",
       "  <thead>\n",
       "    <tr style=\"text-align: right;\">\n",
       "      <th></th>\n",
       "      <th>date</th>\n",
       "      <th>symbol</th>\n",
       "      <th>close</th>\n",
       "    </tr>\n",
       "  </thead>\n",
       "  <tbody>\n",
       "    <tr>\n",
       "      <th>1</th>\n",
       "      <td>2021-06-30</td>\n",
       "      <td>IWM</td>\n",
       "      <td>229.37</td>\n",
       "    </tr>\n",
       "    <tr>\n",
       "      <th>5</th>\n",
       "      <td>2021-07-01</td>\n",
       "      <td>IWM</td>\n",
       "      <td>231.39</td>\n",
       "    </tr>\n",
       "    <tr>\n",
       "      <th>9</th>\n",
       "      <td>2021-07-02</td>\n",
       "      <td>IWM</td>\n",
       "      <td>229.19</td>\n",
       "    </tr>\n",
       "    <tr>\n",
       "      <th>...</th>\n",
       "      <td>...</td>\n",
       "      <td>...</td>\n",
       "      <td>...</td>\n",
       "    </tr>\n",
       "    <tr>\n",
       "      <th>77</th>\n",
       "      <td>2021-07-28</td>\n",
       "      <td>IWM</td>\n",
       "      <td>220.82</td>\n",
       "    </tr>\n",
       "    <tr>\n",
       "      <th>81</th>\n",
       "      <td>2021-07-29</td>\n",
       "      <td>IWM</td>\n",
       "      <td>222.52</td>\n",
       "    </tr>\n",
       "    <tr>\n",
       "      <th>85</th>\n",
       "      <td>2021-07-30</td>\n",
       "      <td>IWM</td>\n",
       "      <td>221.05</td>\n",
       "    </tr>\n",
       "  </tbody>\n",
       "</table>\n",
       "<p>22 rows × 3 columns</p>\n",
       "</div>"
      ],
      "text/plain": [
       "         date symbol   close\n",
       "1  2021-06-30    IWM  229.37\n",
       "5  2021-07-01    IWM  231.39\n",
       "9  2021-07-02    IWM  229.19\n",
       "..        ...    ...     ...\n",
       "77 2021-07-28    IWM  220.82\n",
       "81 2021-07-29    IWM  222.52\n",
       "85 2021-07-30    IWM  221.05\n",
       "\n",
       "[22 rows x 3 columns]"
      ]
     },
     "execution_count": 21,
     "metadata": {},
     "output_type": "execute_result"
    }
   ],
   "source": [
    "df_etf[df_etf['symbol'] == \"IWM\"]"
   ]
  },
  {
   "cell_type": "markdown",
   "metadata": {},
   "source": [
    "---"
   ]
  },
  {
   "cell_type": "markdown",
   "metadata": {},
   "source": [
    "**Code Challenge:** Select all the rows of `df_etf` for `QQQ`. "
   ]
  },
  {
   "cell_type": "code",
   "execution_count": 22,
   "metadata": {},
   "outputs": [
    {
     "data": {
      "text/html": [
       "<div>\n",
       "<style scoped>\n",
       "    .dataframe tbody tr th:only-of-type {\n",
       "        vertical-align: middle;\n",
       "    }\n",
       "\n",
       "    .dataframe tbody tr th {\n",
       "        vertical-align: top;\n",
       "    }\n",
       "\n",
       "    .dataframe thead th {\n",
       "        text-align: right;\n",
       "    }\n",
       "</style>\n",
       "<table border=\"1\" class=\"dataframe\">\n",
       "  <thead>\n",
       "    <tr style=\"text-align: right;\">\n",
       "      <th></th>\n",
       "      <th>date</th>\n",
       "      <th>symbol</th>\n",
       "      <th>close</th>\n",
       "    </tr>\n",
       "  </thead>\n",
       "  <tbody>\n",
       "    <tr>\n",
       "      <th>2</th>\n",
       "      <td>2021-06-30</td>\n",
       "      <td>QQQ</td>\n",
       "      <td>354.43</td>\n",
       "    </tr>\n",
       "    <tr>\n",
       "      <th>6</th>\n",
       "      <td>2021-07-01</td>\n",
       "      <td>QQQ</td>\n",
       "      <td>354.57</td>\n",
       "    </tr>\n",
       "    <tr>\n",
       "      <th>10</th>\n",
       "      <td>2021-07-02</td>\n",
       "      <td>QQQ</td>\n",
       "      <td>358.64</td>\n",
       "    </tr>\n",
       "    <tr>\n",
       "      <th>...</th>\n",
       "      <td>...</td>\n",
       "      <td>...</td>\n",
       "      <td>...</td>\n",
       "    </tr>\n",
       "    <tr>\n",
       "      <th>78</th>\n",
       "      <td>2021-07-28</td>\n",
       "      <td>QQQ</td>\n",
       "      <td>365.83</td>\n",
       "    </tr>\n",
       "    <tr>\n",
       "      <th>82</th>\n",
       "      <td>2021-07-29</td>\n",
       "      <td>QQQ</td>\n",
       "      <td>366.48</td>\n",
       "    </tr>\n",
       "    <tr>\n",
       "      <th>86</th>\n",
       "      <td>2021-07-30</td>\n",
       "      <td>QQQ</td>\n",
       "      <td>364.57</td>\n",
       "    </tr>\n",
       "  </tbody>\n",
       "</table>\n",
       "<p>22 rows × 3 columns</p>\n",
       "</div>"
      ],
      "text/plain": [
       "         date symbol   close\n",
       "2  2021-06-30    QQQ  354.43\n",
       "6  2021-07-01    QQQ  354.57\n",
       "10 2021-07-02    QQQ  358.64\n",
       "..        ...    ...     ...\n",
       "78 2021-07-28    QQQ  365.83\n",
       "82 2021-07-29    QQQ  366.48\n",
       "86 2021-07-30    QQQ  364.57\n",
       "\n",
       "[22 rows x 3 columns]"
      ]
     },
     "execution_count": 22,
     "metadata": {},
     "output_type": "execute_result"
    }
   ],
   "source": [
    "#| code-fold: true\n",
    "#| code-summary: \"Solution\"\n",
    "df_etf[df_etf['symbol'] == 'QQQ']"
   ]
  },
  {
   "cell_type": "markdown",
   "metadata": {},
   "source": [
    "--- "
   ]
  },
  {
   "cell_type": "markdown",
   "metadata": {},
   "source": [
    "### Querying for Multiple Symbols"
   ]
  },
  {
   "cell_type": "markdown",
   "metadata": {},
   "source": [
    "We can use the `.isin()` method to query a `DataFrame` for multiple symbols.  The technique is to feed `.isin()` a `list` of symbols you want to query for.\n",
    "\n",
    "The following code grabs all the rows of `df_etf` for both `QQQ` and `DIA`."
   ]
  },
  {
   "cell_type": "code",
   "execution_count": 23,
   "metadata": {},
   "outputs": [
    {
     "data": {
      "text/html": [
       "<div>\n",
       "<style scoped>\n",
       "    .dataframe tbody tr th:only-of-type {\n",
       "        vertical-align: middle;\n",
       "    }\n",
       "\n",
       "    .dataframe tbody tr th {\n",
       "        vertical-align: top;\n",
       "    }\n",
       "\n",
       "    .dataframe thead th {\n",
       "        text-align: right;\n",
       "    }\n",
       "</style>\n",
       "<table border=\"1\" class=\"dataframe\">\n",
       "  <thead>\n",
       "    <tr style=\"text-align: right;\">\n",
       "      <th></th>\n",
       "      <th>date</th>\n",
       "      <th>symbol</th>\n",
       "      <th>close</th>\n",
       "    </tr>\n",
       "  </thead>\n",
       "  <tbody>\n",
       "    <tr>\n",
       "      <th>0</th>\n",
       "      <td>2021-06-30</td>\n",
       "      <td>DIA</td>\n",
       "      <td>344.95</td>\n",
       "    </tr>\n",
       "    <tr>\n",
       "      <th>4</th>\n",
       "      <td>2021-07-01</td>\n",
       "      <td>DIA</td>\n",
       "      <td>346.36</td>\n",
       "    </tr>\n",
       "    <tr>\n",
       "      <th>8</th>\n",
       "      <td>2021-07-02</td>\n",
       "      <td>DIA</td>\n",
       "      <td>347.94</td>\n",
       "    </tr>\n",
       "    <tr>\n",
       "      <th>...</th>\n",
       "      <td>...</td>\n",
       "      <td>...</td>\n",
       "      <td>...</td>\n",
       "    </tr>\n",
       "    <tr>\n",
       "      <th>78</th>\n",
       "      <td>2021-07-28</td>\n",
       "      <td>QQQ</td>\n",
       "      <td>365.83</td>\n",
       "    </tr>\n",
       "    <tr>\n",
       "      <th>82</th>\n",
       "      <td>2021-07-29</td>\n",
       "      <td>QQQ</td>\n",
       "      <td>366.48</td>\n",
       "    </tr>\n",
       "    <tr>\n",
       "      <th>86</th>\n",
       "      <td>2021-07-30</td>\n",
       "      <td>QQQ</td>\n",
       "      <td>364.57</td>\n",
       "    </tr>\n",
       "  </tbody>\n",
       "</table>\n",
       "<p>44 rows × 3 columns</p>\n",
       "</div>"
      ],
      "text/plain": [
       "         date symbol   close\n",
       "0  2021-06-30    DIA  344.95\n",
       "4  2021-07-01    DIA  346.36\n",
       "8  2021-07-02    DIA  347.94\n",
       "..        ...    ...     ...\n",
       "78 2021-07-28    QQQ  365.83\n",
       "82 2021-07-29    QQQ  366.48\n",
       "86 2021-07-30    QQQ  364.57\n",
       "\n",
       "[44 rows x 3 columns]"
      ]
     },
     "execution_count": 23,
     "metadata": {},
     "output_type": "execute_result"
    }
   ],
   "source": [
    "df_etf[df_etf['symbol'].isin(['QQQ', 'DIA'])]"
   ]
  },
  {
   "cell_type": "markdown",
   "metadata": {},
   "source": [
    "---"
   ]
  },
  {
   "cell_type": "markdown",
   "metadata": {},
   "source": [
    "**Code Challenge:** Grab all rows of `df_etf` corresponding to `SPY`, `IWM`, and `QQQ`."
   ]
  },
  {
   "cell_type": "code",
   "execution_count": 24,
   "metadata": {},
   "outputs": [
    {
     "data": {
      "text/html": [
       "<div>\n",
       "<style scoped>\n",
       "    .dataframe tbody tr th:only-of-type {\n",
       "        vertical-align: middle;\n",
       "    }\n",
       "\n",
       "    .dataframe tbody tr th {\n",
       "        vertical-align: top;\n",
       "    }\n",
       "\n",
       "    .dataframe thead th {\n",
       "        text-align: right;\n",
       "    }\n",
       "</style>\n",
       "<table border=\"1\" class=\"dataframe\">\n",
       "  <thead>\n",
       "    <tr style=\"text-align: right;\">\n",
       "      <th></th>\n",
       "      <th>date</th>\n",
       "      <th>symbol</th>\n",
       "      <th>close</th>\n",
       "    </tr>\n",
       "  </thead>\n",
       "  <tbody>\n",
       "    <tr>\n",
       "      <th>1</th>\n",
       "      <td>2021-06-30</td>\n",
       "      <td>IWM</td>\n",
       "      <td>229.37</td>\n",
       "    </tr>\n",
       "    <tr>\n",
       "      <th>5</th>\n",
       "      <td>2021-07-01</td>\n",
       "      <td>IWM</td>\n",
       "      <td>231.39</td>\n",
       "    </tr>\n",
       "    <tr>\n",
       "      <th>9</th>\n",
       "      <td>2021-07-02</td>\n",
       "      <td>IWM</td>\n",
       "      <td>229.19</td>\n",
       "    </tr>\n",
       "    <tr>\n",
       "      <th>...</th>\n",
       "      <td>...</td>\n",
       "      <td>...</td>\n",
       "      <td>...</td>\n",
       "    </tr>\n",
       "    <tr>\n",
       "      <th>79</th>\n",
       "      <td>2021-07-28</td>\n",
       "      <td>SPY</td>\n",
       "      <td>438.83</td>\n",
       "    </tr>\n",
       "    <tr>\n",
       "      <th>83</th>\n",
       "      <td>2021-07-29</td>\n",
       "      <td>SPY</td>\n",
       "      <td>440.65</td>\n",
       "    </tr>\n",
       "    <tr>\n",
       "      <th>87</th>\n",
       "      <td>2021-07-30</td>\n",
       "      <td>SPY</td>\n",
       "      <td>438.51</td>\n",
       "    </tr>\n",
       "  </tbody>\n",
       "</table>\n",
       "<p>66 rows × 3 columns</p>\n",
       "</div>"
      ],
      "text/plain": [
       "         date symbol   close\n",
       "1  2021-06-30    IWM  229.37\n",
       "5  2021-07-01    IWM  231.39\n",
       "9  2021-07-02    IWM  229.19\n",
       "..        ...    ...     ...\n",
       "79 2021-07-28    SPY  438.83\n",
       "83 2021-07-29    SPY  440.65\n",
       "87 2021-07-30    SPY  438.51\n",
       "\n",
       "[66 rows x 3 columns]"
      ]
     },
     "execution_count": 24,
     "metadata": {},
     "output_type": "execute_result"
    }
   ],
   "source": [
    "#| code-fold: true\n",
    "#| code-summary: \"Solution\"\n",
    "df_etf[df_etf['symbol'].isin(['SPY', 'IWM', 'QQQ'])]"
   ]
  },
  {
   "cell_type": "markdown",
   "metadata": {},
   "source": [
    " ---"
   ]
  },
  {
   "cell_type": "markdown",
   "metadata": {},
   "source": [
    "### Querying for Dates"
   ]
  },
  {
   "cell_type": "markdown",
   "metadata": {},
   "source": [
    "The following code grabs all the rows of `df_etf` that come after the middle of the month."
   ]
  },
  {
   "cell_type": "code",
   "execution_count": 25,
   "metadata": {},
   "outputs": [
    {
     "data": {
      "text/html": [
       "<div>\n",
       "<style scoped>\n",
       "    .dataframe tbody tr th:only-of-type {\n",
       "        vertical-align: middle;\n",
       "    }\n",
       "\n",
       "    .dataframe tbody tr th {\n",
       "        vertical-align: top;\n",
       "    }\n",
       "\n",
       "    .dataframe thead th {\n",
       "        text-align: right;\n",
       "    }\n",
       "</style>\n",
       "<table border=\"1\" class=\"dataframe\">\n",
       "  <thead>\n",
       "    <tr style=\"text-align: right;\">\n",
       "      <th></th>\n",
       "      <th>date</th>\n",
       "      <th>symbol</th>\n",
       "      <th>close</th>\n",
       "    </tr>\n",
       "  </thead>\n",
       "  <tbody>\n",
       "    <tr>\n",
       "      <th>44</th>\n",
       "      <td>2021-07-16</td>\n",
       "      <td>DIA</td>\n",
       "      <td>346.74</td>\n",
       "    </tr>\n",
       "    <tr>\n",
       "      <th>48</th>\n",
       "      <td>2021-07-19</td>\n",
       "      <td>DIA</td>\n",
       "      <td>339.88</td>\n",
       "    </tr>\n",
       "    <tr>\n",
       "      <th>52</th>\n",
       "      <td>2021-07-20</td>\n",
       "      <td>DIA</td>\n",
       "      <td>345.08</td>\n",
       "    </tr>\n",
       "    <tr>\n",
       "      <th>...</th>\n",
       "      <td>...</td>\n",
       "      <td>...</td>\n",
       "      <td>...</td>\n",
       "    </tr>\n",
       "    <tr>\n",
       "      <th>79</th>\n",
       "      <td>2021-07-28</td>\n",
       "      <td>SPY</td>\n",
       "      <td>438.83</td>\n",
       "    </tr>\n",
       "    <tr>\n",
       "      <th>83</th>\n",
       "      <td>2021-07-29</td>\n",
       "      <td>SPY</td>\n",
       "      <td>440.65</td>\n",
       "    </tr>\n",
       "    <tr>\n",
       "      <th>87</th>\n",
       "      <td>2021-07-30</td>\n",
       "      <td>SPY</td>\n",
       "      <td>438.51</td>\n",
       "    </tr>\n",
       "  </tbody>\n",
       "</table>\n",
       "<p>44 rows × 3 columns</p>\n",
       "</div>"
      ],
      "text/plain": [
       "         date symbol   close\n",
       "44 2021-07-16    DIA  346.74\n",
       "48 2021-07-19    DIA  339.88\n",
       "52 2021-07-20    DIA  345.08\n",
       "..        ...    ...     ...\n",
       "79 2021-07-28    SPY  438.83\n",
       "83 2021-07-29    SPY  440.65\n",
       "87 2021-07-30    SPY  438.51\n",
       "\n",
       "[44 rows x 3 columns]"
      ]
     },
     "execution_count": 25,
     "metadata": {},
     "output_type": "execute_result"
    }
   ],
   "source": [
    "df_etf[df_etf['date'] > '2021-07-15']"
   ]
  },
  {
   "cell_type": "markdown",
   "metadata": {},
   "source": [
    "---"
   ]
  },
  {
   "cell_type": "markdown",
   "metadata": {},
   "source": [
    "**Code Challenge:** Grab all the rows of `df_etf` for the last trade date of the month."
   ]
  },
  {
   "cell_type": "code",
   "execution_count": 26,
   "metadata": {},
   "outputs": [
    {
     "data": {
      "text/html": [
       "<div>\n",
       "<style scoped>\n",
       "    .dataframe tbody tr th:only-of-type {\n",
       "        vertical-align: middle;\n",
       "    }\n",
       "\n",
       "    .dataframe tbody tr th {\n",
       "        vertical-align: top;\n",
       "    }\n",
       "\n",
       "    .dataframe thead th {\n",
       "        text-align: right;\n",
       "    }\n",
       "</style>\n",
       "<table border=\"1\" class=\"dataframe\">\n",
       "  <thead>\n",
       "    <tr style=\"text-align: right;\">\n",
       "      <th></th>\n",
       "      <th>date</th>\n",
       "      <th>symbol</th>\n",
       "      <th>close</th>\n",
       "    </tr>\n",
       "  </thead>\n",
       "  <tbody>\n",
       "    <tr>\n",
       "      <th>84</th>\n",
       "      <td>2021-07-30</td>\n",
       "      <td>DIA</td>\n",
       "      <td>349.48</td>\n",
       "    </tr>\n",
       "    <tr>\n",
       "      <th>85</th>\n",
       "      <td>2021-07-30</td>\n",
       "      <td>IWM</td>\n",
       "      <td>221.05</td>\n",
       "    </tr>\n",
       "    <tr>\n",
       "      <th>86</th>\n",
       "      <td>2021-07-30</td>\n",
       "      <td>QQQ</td>\n",
       "      <td>364.57</td>\n",
       "    </tr>\n",
       "    <tr>\n",
       "      <th>87</th>\n",
       "      <td>2021-07-30</td>\n",
       "      <td>SPY</td>\n",
       "      <td>438.51</td>\n",
       "    </tr>\n",
       "  </tbody>\n",
       "</table>\n",
       "</div>"
      ],
      "text/plain": [
       "         date symbol   close\n",
       "84 2021-07-30    DIA  349.48\n",
       "85 2021-07-30    IWM  221.05\n",
       "86 2021-07-30    QQQ  364.57\n",
       "87 2021-07-30    SPY  438.51"
      ]
     },
     "execution_count": 26,
     "metadata": {},
     "output_type": "execute_result"
    }
   ],
   "source": [
    "#| code-fold: true\n",
    "#| code-summary: \"Solution\"\n",
    "df_etf[df_etf['date'] == '2021-07-30']"
   ]
  },
  {
   "cell_type": "markdown",
   "metadata": {},
   "source": [
    " ---"
   ]
  },
  {
   "cell_type": "markdown",
   "metadata": {},
   "source": [
    "### Querying on Multiple Criteria"
   ]
  },
  {
   "cell_type": "markdown",
   "metadata": {},
   "source": [
    "We can filter on muliple criteria by using the `&` operator, which is the vectorized version of `and`.\n",
    "\n",
    "Suppose that we want all rows for `SPY` that come before July fourth."
   ]
  },
  {
   "cell_type": "code",
   "execution_count": 27,
   "metadata": {},
   "outputs": [
    {
     "data": {
      "text/html": [
       "<div>\n",
       "<style scoped>\n",
       "    .dataframe tbody tr th:only-of-type {\n",
       "        vertical-align: middle;\n",
       "    }\n",
       "\n",
       "    .dataframe tbody tr th {\n",
       "        vertical-align: top;\n",
       "    }\n",
       "\n",
       "    .dataframe thead th {\n",
       "        text-align: right;\n",
       "    }\n",
       "</style>\n",
       "<table border=\"1\" class=\"dataframe\">\n",
       "  <thead>\n",
       "    <tr style=\"text-align: right;\">\n",
       "      <th></th>\n",
       "      <th>date</th>\n",
       "      <th>symbol</th>\n",
       "      <th>close</th>\n",
       "    </tr>\n",
       "  </thead>\n",
       "  <tbody>\n",
       "    <tr>\n",
       "      <th>3</th>\n",
       "      <td>2021-06-30</td>\n",
       "      <td>SPY</td>\n",
       "      <td>428.06</td>\n",
       "    </tr>\n",
       "    <tr>\n",
       "      <th>7</th>\n",
       "      <td>2021-07-01</td>\n",
       "      <td>SPY</td>\n",
       "      <td>430.43</td>\n",
       "    </tr>\n",
       "    <tr>\n",
       "      <th>11</th>\n",
       "      <td>2021-07-02</td>\n",
       "      <td>SPY</td>\n",
       "      <td>433.72</td>\n",
       "    </tr>\n",
       "  </tbody>\n",
       "</table>\n",
       "</div>"
      ],
      "text/plain": [
       "         date symbol   close\n",
       "3  2021-06-30    SPY  428.06\n",
       "7  2021-07-01    SPY  430.43\n",
       "11 2021-07-02    SPY  433.72"
      ]
     },
     "execution_count": 27,
     "metadata": {},
     "output_type": "execute_result"
    }
   ],
   "source": [
    "bln_ticker = (df_etf['symbol'] == 'SPY')\n",
    "bln_date = (df_etf['date'] < '2021-07-04')\n",
    "bln_combined = bln_ticker & bln_date\n",
    "\n",
    "df_etf[bln_combined]"
   ]
  },
  {
   "cell_type": "markdown",
   "metadata": {},
   "source": [
    "---"
   ]
  },
  {
   "cell_type": "markdown",
   "metadata": {},
   "source": [
    "**Code Challenge:** Isolate the rows for `QQQ` and `IWM` on the last trading day before July 4th - try to not use intermediate variables."
   ]
  },
  {
   "cell_type": "code",
   "execution_count": 28,
   "metadata": {},
   "outputs": [
    {
     "data": {
      "text/html": [
       "<div>\n",
       "<style scoped>\n",
       "    .dataframe tbody tr th:only-of-type {\n",
       "        vertical-align: middle;\n",
       "    }\n",
       "\n",
       "    .dataframe tbody tr th {\n",
       "        vertical-align: top;\n",
       "    }\n",
       "\n",
       "    .dataframe thead th {\n",
       "        text-align: right;\n",
       "    }\n",
       "</style>\n",
       "<table border=\"1\" class=\"dataframe\">\n",
       "  <thead>\n",
       "    <tr style=\"text-align: right;\">\n",
       "      <th></th>\n",
       "      <th>date</th>\n",
       "      <th>symbol</th>\n",
       "      <th>close</th>\n",
       "    </tr>\n",
       "  </thead>\n",
       "  <tbody>\n",
       "    <tr>\n",
       "      <th>9</th>\n",
       "      <td>2021-07-02</td>\n",
       "      <td>IWM</td>\n",
       "      <td>229.19</td>\n",
       "    </tr>\n",
       "    <tr>\n",
       "      <th>10</th>\n",
       "      <td>2021-07-02</td>\n",
       "      <td>QQQ</td>\n",
       "      <td>358.64</td>\n",
       "    </tr>\n",
       "  </tbody>\n",
       "</table>\n",
       "</div>"
      ],
      "text/plain": [
       "         date symbol   close\n",
       "9  2021-07-02    IWM  229.19\n",
       "10 2021-07-02    QQQ  358.64"
      ]
     },
     "execution_count": 28,
     "metadata": {},
     "output_type": "execute_result"
    }
   ],
   "source": [
    "df_etf[(df_etf['symbol'].isin([\"QQQ\", \"IWM\"])) & (df_etf['date']=='2021-07-02')]"
   ]
  },
  {
   "cell_type": "markdown",
   "metadata": {},
   "source": [
    "--- "
   ]
  },
  {
   "cell_type": "markdown",
   "metadata": {},
   "source": [
    "## Querying with `.query()`"
   ]
  },
  {
   "cell_type": "markdown",
   "metadata": {},
   "source": [
    "I find querying a `DataFrame` via masking to be rather cumbersome.  \n",
    "\n",
    "I greatly prefer the use of the `DataFrame.query()` method which uses SQL-like strings to define queries.\n",
    "\n",
    "For example, the following code grabs all the rows corresponding to `IWM`."
   ]
  },
  {
   "cell_type": "code",
   "execution_count": 29,
   "metadata": {},
   "outputs": [
    {
     "data": {
      "text/html": [
       "<div>\n",
       "<style scoped>\n",
       "    .dataframe tbody tr th:only-of-type {\n",
       "        vertical-align: middle;\n",
       "    }\n",
       "\n",
       "    .dataframe tbody tr th {\n",
       "        vertical-align: top;\n",
       "    }\n",
       "\n",
       "    .dataframe thead th {\n",
       "        text-align: right;\n",
       "    }\n",
       "</style>\n",
       "<table border=\"1\" class=\"dataframe\">\n",
       "  <thead>\n",
       "    <tr style=\"text-align: right;\">\n",
       "      <th></th>\n",
       "      <th>date</th>\n",
       "      <th>symbol</th>\n",
       "      <th>close</th>\n",
       "    </tr>\n",
       "  </thead>\n",
       "  <tbody>\n",
       "    <tr>\n",
       "      <th>1</th>\n",
       "      <td>2021-06-30</td>\n",
       "      <td>IWM</td>\n",
       "      <td>229.37</td>\n",
       "    </tr>\n",
       "    <tr>\n",
       "      <th>5</th>\n",
       "      <td>2021-07-01</td>\n",
       "      <td>IWM</td>\n",
       "      <td>231.39</td>\n",
       "    </tr>\n",
       "    <tr>\n",
       "      <th>9</th>\n",
       "      <td>2021-07-02</td>\n",
       "      <td>IWM</td>\n",
       "      <td>229.19</td>\n",
       "    </tr>\n",
       "    <tr>\n",
       "      <th>...</th>\n",
       "      <td>...</td>\n",
       "      <td>...</td>\n",
       "      <td>...</td>\n",
       "    </tr>\n",
       "    <tr>\n",
       "      <th>77</th>\n",
       "      <td>2021-07-28</td>\n",
       "      <td>IWM</td>\n",
       "      <td>220.82</td>\n",
       "    </tr>\n",
       "    <tr>\n",
       "      <th>81</th>\n",
       "      <td>2021-07-29</td>\n",
       "      <td>IWM</td>\n",
       "      <td>222.52</td>\n",
       "    </tr>\n",
       "    <tr>\n",
       "      <th>85</th>\n",
       "      <td>2021-07-30</td>\n",
       "      <td>IWM</td>\n",
       "      <td>221.05</td>\n",
       "    </tr>\n",
       "  </tbody>\n",
       "</table>\n",
       "<p>22 rows × 3 columns</p>\n",
       "</div>"
      ],
      "text/plain": [
       "         date symbol   close\n",
       "1  2021-06-30    IWM  229.37\n",
       "5  2021-07-01    IWM  231.39\n",
       "9  2021-07-02    IWM  229.19\n",
       "..        ...    ...     ...\n",
       "77 2021-07-28    IWM  220.82\n",
       "81 2021-07-29    IWM  222.52\n",
       "85 2021-07-30    IWM  221.05\n",
       "\n",
       "[22 rows x 3 columns]"
      ]
     },
     "execution_count": 29,
     "metadata": {},
     "output_type": "execute_result"
    }
   ],
   "source": [
    "df_etf.query('symbol == \"IWM\"')"
   ]
  },
  {
   "cell_type": "markdown",
   "metadata": {},
   "source": [
    "This code queries all rows corresponding to `QQQ` and `DIA`."
   ]
  },
  {
   "cell_type": "code",
   "execution_count": 30,
   "metadata": {},
   "outputs": [
    {
     "data": {
      "text/html": [
       "<div>\n",
       "<style scoped>\n",
       "    .dataframe tbody tr th:only-of-type {\n",
       "        vertical-align: middle;\n",
       "    }\n",
       "\n",
       "    .dataframe tbody tr th {\n",
       "        vertical-align: top;\n",
       "    }\n",
       "\n",
       "    .dataframe thead th {\n",
       "        text-align: right;\n",
       "    }\n",
       "</style>\n",
       "<table border=\"1\" class=\"dataframe\">\n",
       "  <thead>\n",
       "    <tr style=\"text-align: right;\">\n",
       "      <th></th>\n",
       "      <th>date</th>\n",
       "      <th>symbol</th>\n",
       "      <th>close</th>\n",
       "    </tr>\n",
       "  </thead>\n",
       "  <tbody>\n",
       "    <tr>\n",
       "      <th>0</th>\n",
       "      <td>2021-06-30</td>\n",
       "      <td>DIA</td>\n",
       "      <td>344.95</td>\n",
       "    </tr>\n",
       "    <tr>\n",
       "      <th>4</th>\n",
       "      <td>2021-07-01</td>\n",
       "      <td>DIA</td>\n",
       "      <td>346.36</td>\n",
       "    </tr>\n",
       "    <tr>\n",
       "      <th>8</th>\n",
       "      <td>2021-07-02</td>\n",
       "      <td>DIA</td>\n",
       "      <td>347.94</td>\n",
       "    </tr>\n",
       "    <tr>\n",
       "      <th>...</th>\n",
       "      <td>...</td>\n",
       "      <td>...</td>\n",
       "      <td>...</td>\n",
       "    </tr>\n",
       "    <tr>\n",
       "      <th>78</th>\n",
       "      <td>2021-07-28</td>\n",
       "      <td>QQQ</td>\n",
       "      <td>365.83</td>\n",
       "    </tr>\n",
       "    <tr>\n",
       "      <th>82</th>\n",
       "      <td>2021-07-29</td>\n",
       "      <td>QQQ</td>\n",
       "      <td>366.48</td>\n",
       "    </tr>\n",
       "    <tr>\n",
       "      <th>86</th>\n",
       "      <td>2021-07-30</td>\n",
       "      <td>QQQ</td>\n",
       "      <td>364.57</td>\n",
       "    </tr>\n",
       "  </tbody>\n",
       "</table>\n",
       "<p>44 rows × 3 columns</p>\n",
       "</div>"
      ],
      "text/plain": [
       "         date symbol   close\n",
       "0  2021-06-30    DIA  344.95\n",
       "4  2021-07-01    DIA  346.36\n",
       "8  2021-07-02    DIA  347.94\n",
       "..        ...    ...     ...\n",
       "78 2021-07-28    QQQ  365.83\n",
       "82 2021-07-29    QQQ  366.48\n",
       "86 2021-07-30    QQQ  364.57\n",
       "\n",
       "[44 rows x 3 columns]"
      ]
     },
     "execution_count": 30,
     "metadata": {},
     "output_type": "execute_result"
    }
   ],
   "source": [
    "df_etf.query('symbol in (\"QQQ\", \"DIA\")')"
   ]
  },
  {
   "cell_type": "markdown",
   "metadata": {},
   "source": [
    "Here we grab the rows corresponding to the first half of July."
   ]
  },
  {
   "cell_type": "code",
   "execution_count": 31,
   "metadata": {},
   "outputs": [
    {
     "data": {
      "text/html": [
       "<div>\n",
       "<style scoped>\n",
       "    .dataframe tbody tr th:only-of-type {\n",
       "        vertical-align: middle;\n",
       "    }\n",
       "\n",
       "    .dataframe tbody tr th {\n",
       "        vertical-align: top;\n",
       "    }\n",
       "\n",
       "    .dataframe thead th {\n",
       "        text-align: right;\n",
       "    }\n",
       "</style>\n",
       "<table border=\"1\" class=\"dataframe\">\n",
       "  <thead>\n",
       "    <tr style=\"text-align: right;\">\n",
       "      <th></th>\n",
       "      <th>date</th>\n",
       "      <th>symbol</th>\n",
       "      <th>close</th>\n",
       "    </tr>\n",
       "  </thead>\n",
       "  <tbody>\n",
       "    <tr>\n",
       "      <th>0</th>\n",
       "      <td>2021-06-30</td>\n",
       "      <td>DIA</td>\n",
       "      <td>344.95</td>\n",
       "    </tr>\n",
       "    <tr>\n",
       "      <th>4</th>\n",
       "      <td>2021-07-01</td>\n",
       "      <td>DIA</td>\n",
       "      <td>346.36</td>\n",
       "    </tr>\n",
       "    <tr>\n",
       "      <th>8</th>\n",
       "      <td>2021-07-02</td>\n",
       "      <td>DIA</td>\n",
       "      <td>347.94</td>\n",
       "    </tr>\n",
       "    <tr>\n",
       "      <th>...</th>\n",
       "      <td>...</td>\n",
       "      <td>...</td>\n",
       "      <td>...</td>\n",
       "    </tr>\n",
       "    <tr>\n",
       "      <th>31</th>\n",
       "      <td>2021-07-12</td>\n",
       "      <td>SPY</td>\n",
       "      <td>437.08</td>\n",
       "    </tr>\n",
       "    <tr>\n",
       "      <th>35</th>\n",
       "      <td>2021-07-13</td>\n",
       "      <td>SPY</td>\n",
       "      <td>435.59</td>\n",
       "    </tr>\n",
       "    <tr>\n",
       "      <th>39</th>\n",
       "      <td>2021-07-14</td>\n",
       "      <td>SPY</td>\n",
       "      <td>436.24</td>\n",
       "    </tr>\n",
       "  </tbody>\n",
       "</table>\n",
       "<p>40 rows × 3 columns</p>\n",
       "</div>"
      ],
      "text/plain": [
       "         date symbol   close\n",
       "0  2021-06-30    DIA  344.95\n",
       "4  2021-07-01    DIA  346.36\n",
       "8  2021-07-02    DIA  347.94\n",
       "..        ...    ...     ...\n",
       "31 2021-07-12    SPY  437.08\n",
       "35 2021-07-13    SPY  435.59\n",
       "39 2021-07-14    SPY  436.24\n",
       "\n",
       "[40 rows x 3 columns]"
      ]
     },
     "execution_count": 31,
     "metadata": {},
     "output_type": "execute_result"
    }
   ],
   "source": [
    "df_etf.query('date < \"2021-07-15\"')"
   ]
  },
  {
   "cell_type": "markdown",
   "metadata": {},
   "source": [
    "And we can filter on multiple criteria via method chaining.  Here we grab all the rows for `SPY` and `IWM` from the second half of the month."
   ]
  },
  {
   "cell_type": "code",
   "execution_count": 32,
   "metadata": {},
   "outputs": [
    {
     "data": {
      "text/html": [
       "<div>\n",
       "<style scoped>\n",
       "    .dataframe tbody tr th:only-of-type {\n",
       "        vertical-align: middle;\n",
       "    }\n",
       "\n",
       "    .dataframe tbody tr th {\n",
       "        vertical-align: top;\n",
       "    }\n",
       "\n",
       "    .dataframe thead th {\n",
       "        text-align: right;\n",
       "    }\n",
       "</style>\n",
       "<table border=\"1\" class=\"dataframe\">\n",
       "  <thead>\n",
       "    <tr style=\"text-align: right;\">\n",
       "      <th></th>\n",
       "      <th>date</th>\n",
       "      <th>symbol</th>\n",
       "      <th>close</th>\n",
       "    </tr>\n",
       "  </thead>\n",
       "  <tbody>\n",
       "    <tr>\n",
       "      <th>45</th>\n",
       "      <td>2021-07-16</td>\n",
       "      <td>IWM</td>\n",
       "      <td>214.95</td>\n",
       "    </tr>\n",
       "    <tr>\n",
       "      <th>49</th>\n",
       "      <td>2021-07-19</td>\n",
       "      <td>IWM</td>\n",
       "      <td>211.73</td>\n",
       "    </tr>\n",
       "    <tr>\n",
       "      <th>53</th>\n",
       "      <td>2021-07-20</td>\n",
       "      <td>IWM</td>\n",
       "      <td>218.30</td>\n",
       "    </tr>\n",
       "    <tr>\n",
       "      <th>...</th>\n",
       "      <td>...</td>\n",
       "      <td>...</td>\n",
       "      <td>...</td>\n",
       "    </tr>\n",
       "    <tr>\n",
       "      <th>79</th>\n",
       "      <td>2021-07-28</td>\n",
       "      <td>SPY</td>\n",
       "      <td>438.83</td>\n",
       "    </tr>\n",
       "    <tr>\n",
       "      <th>83</th>\n",
       "      <td>2021-07-29</td>\n",
       "      <td>SPY</td>\n",
       "      <td>440.65</td>\n",
       "    </tr>\n",
       "    <tr>\n",
       "      <th>87</th>\n",
       "      <td>2021-07-30</td>\n",
       "      <td>SPY</td>\n",
       "      <td>438.51</td>\n",
       "    </tr>\n",
       "  </tbody>\n",
       "</table>\n",
       "<p>22 rows × 3 columns</p>\n",
       "</div>"
      ],
      "text/plain": [
       "         date symbol   close\n",
       "45 2021-07-16    IWM  214.95\n",
       "49 2021-07-19    IWM  211.73\n",
       "53 2021-07-20    IWM  218.30\n",
       "..        ...    ...     ...\n",
       "79 2021-07-28    SPY  438.83\n",
       "83 2021-07-29    SPY  440.65\n",
       "87 2021-07-30    SPY  438.51\n",
       "\n",
       "[22 rows x 3 columns]"
      ]
     },
     "execution_count": 32,
     "metadata": {},
     "output_type": "execute_result"
    }
   ],
   "source": [
    "(\n",
    "df_etf\n",
    "    .query('symbol in (\"SPY\", \"IWM\")')\n",
    "    .query('date > \"2021-07-15\"')\n",
    ")"
   ]
  },
  {
   "cell_type": "markdown",
   "metadata": {},
   "source": [
    "---"
   ]
  },
  {
   "cell_type": "markdown",
   "metadata": {},
   "source": [
    "**Code Challenge:** Grab all the rows of `df_etf` that correspond to the following criteria:\n",
    "1. `SPY`\n",
    "2. first half of month\n",
    "3. close less than 435"
   ]
  },
  {
   "cell_type": "code",
   "execution_count": 33,
   "metadata": {},
   "outputs": [
    {
     "data": {
      "text/html": [
       "<div>\n",
       "<style scoped>\n",
       "    .dataframe tbody tr th:only-of-type {\n",
       "        vertical-align: middle;\n",
       "    }\n",
       "\n",
       "    .dataframe tbody tr th {\n",
       "        vertical-align: top;\n",
       "    }\n",
       "\n",
       "    .dataframe thead th {\n",
       "        text-align: right;\n",
       "    }\n",
       "</style>\n",
       "<table border=\"1\" class=\"dataframe\">\n",
       "  <thead>\n",
       "    <tr style=\"text-align: right;\">\n",
       "      <th></th>\n",
       "      <th>date</th>\n",
       "      <th>symbol</th>\n",
       "      <th>close</th>\n",
       "    </tr>\n",
       "  </thead>\n",
       "  <tbody>\n",
       "    <tr>\n",
       "      <th>3</th>\n",
       "      <td>2021-06-30</td>\n",
       "      <td>SPY</td>\n",
       "      <td>428.06</td>\n",
       "    </tr>\n",
       "    <tr>\n",
       "      <th>7</th>\n",
       "      <td>2021-07-01</td>\n",
       "      <td>SPY</td>\n",
       "      <td>430.43</td>\n",
       "    </tr>\n",
       "    <tr>\n",
       "      <th>11</th>\n",
       "      <td>2021-07-02</td>\n",
       "      <td>SPY</td>\n",
       "      <td>433.72</td>\n",
       "    </tr>\n",
       "    <tr>\n",
       "      <th>15</th>\n",
       "      <td>2021-07-06</td>\n",
       "      <td>SPY</td>\n",
       "      <td>432.93</td>\n",
       "    </tr>\n",
       "    <tr>\n",
       "      <th>19</th>\n",
       "      <td>2021-07-07</td>\n",
       "      <td>SPY</td>\n",
       "      <td>434.46</td>\n",
       "    </tr>\n",
       "    <tr>\n",
       "      <th>23</th>\n",
       "      <td>2021-07-08</td>\n",
       "      <td>SPY</td>\n",
       "      <td>430.92</td>\n",
       "    </tr>\n",
       "  </tbody>\n",
       "</table>\n",
       "</div>"
      ],
      "text/plain": [
       "         date symbol   close\n",
       "3  2021-06-30    SPY  428.06\n",
       "7  2021-07-01    SPY  430.43\n",
       "11 2021-07-02    SPY  433.72\n",
       "15 2021-07-06    SPY  432.93\n",
       "19 2021-07-07    SPY  434.46\n",
       "23 2021-07-08    SPY  430.92"
      ]
     },
     "execution_count": 33,
     "metadata": {},
     "output_type": "execute_result"
    }
   ],
   "source": [
    "(\n",
    "df_etf\n",
    "    .query('symbol == \"SPY\"')\n",
    "    .query('date < \"2021-07-15\"')\n",
    "    .query('close < 435')\n",
    ")"
   ]
  },
  {
   "cell_type": "markdown",
   "metadata": {},
   "source": [
    "---"
   ]
  },
  {
   "cell_type": "markdown",
   "metadata": {},
   "source": [
    "## Related Reading"
   ]
  },
  {
   "cell_type": "markdown",
   "metadata": {},
   "source": [
    "*Python Data Science Handbook* - Section 2.6 - Comparisons, Masks, and Boolean Logic\n",
    "\n",
    "*Python Data Science Handbook* - Section 2.7 - Fancy Indexing\n",
    "\n",
    "*Python Data Science Handbook* - Section 3.2 - Data Indexing and Selection \n",
    "\n",
    "*Python Data Science Handbook* - Section 3.12 - High Performance Pandas"
   ]
  }
 ],
 "metadata": {
  "kernelspec": {
   "display_name": "Python 3 (ipykernel)",
   "language": "python",
   "name": "python3"
  },
  "language_info": {
   "codemirror_mode": {
    "name": "ipython",
    "version": 3
   },
   "file_extension": ".py",
   "mimetype": "text/x-python",
   "name": "python",
   "nbconvert_exporter": "python",
   "pygments_lexer": "ipython3",
   "version": "3.10.12"
  }
 },
 "nbformat": 4,
 "nbformat_minor": 4
}
