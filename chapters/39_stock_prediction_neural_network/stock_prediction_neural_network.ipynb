{
 "cells": [
  {
   "cell_type": "markdown",
   "metadata": {},
   "source": [
    "# Stock Returns: Neural Network"
   ]
  },
  {
   "cell_type": "markdown",
   "metadata": {},
   "source": [
    "Our objective in this chapter is to predict stock returns using dense feed-forward neural networks.  Specifically, we will try to predict the daily returns of MSFT from the returns of various correlated assets including stock indices, currencies, and other stocks.\n",
    "\n",
    "We will begin by first reviewing our previous work in which we use linear regression and nearest neighbors to predict MSFT returns."
   ]
  },
  {
   "cell_type": "markdown",
   "metadata": {},
   "source": [
    "## Import Packages"
   ]
  },
  {
   "cell_type": "markdown",
   "metadata": {},
   "source": [
    "Let's begin by importing the initial packages that we will need."
   ]
  },
  {
   "cell_type": "code",
   "execution_count": 1,
   "metadata": {},
   "outputs": [],
   "source": [
    "import numpy as np\n",
    "import pandas as pd\n",
    "import yfinance as yf\n",
    "import sklearn"
   ]
  },
  {
   "cell_type": "markdown",
   "metadata": {},
   "source": [
    "## Read-In Data"
   ]
  },
  {
   "cell_type": "markdown",
   "metadata": {},
   "source": [
    "Next, let's read-in our data.  We will start the stocks, whose data we will get from Yahoo."
   ]
  },
  {
   "cell_type": "code",
   "execution_count": 2,
   "metadata": {},
   "outputs": [
    {
     "name": "stderr",
     "output_type": "stream",
     "text": [
      "[*********************100%***********************]  3 of 3 completed\n"
     ]
    },
    {
     "data": {
      "text/html": [
       "<div>\n",
       "<style scoped>\n",
       "    .dataframe tbody tr th:only-of-type {\n",
       "        vertical-align: middle;\n",
       "    }\n",
       "\n",
       "    .dataframe tbody tr th {\n",
       "        vertical-align: top;\n",
       "    }\n",
       "\n",
       "    .dataframe thead th {\n",
       "        text-align: right;\n",
       "    }\n",
       "</style>\n",
       "<table border=\"1\" class=\"dataframe\">\n",
       "  <thead>\n",
       "    <tr style=\"text-align: right;\">\n",
       "      <th></th>\n",
       "      <th>googl</th>\n",
       "      <th>ibm</th>\n",
       "      <th>msft</th>\n",
       "    </tr>\n",
       "    <tr>\n",
       "      <th>trade_date</th>\n",
       "      <th></th>\n",
       "      <th></th>\n",
       "      <th></th>\n",
       "    </tr>\n",
       "  </thead>\n",
       "  <tbody>\n",
       "    <tr>\n",
       "      <th>2005-01-03</th>\n",
       "      <td>5.038074</td>\n",
       "      <td>50.237442</td>\n",
       "      <td>18.454880</td>\n",
       "    </tr>\n",
       "    <tr>\n",
       "      <th>2005-01-04</th>\n",
       "      <td>4.834026</td>\n",
       "      <td>49.697788</td>\n",
       "      <td>18.523895</td>\n",
       "    </tr>\n",
       "    <tr>\n",
       "      <th>2005-01-05</th>\n",
       "      <td>4.809422</td>\n",
       "      <td>49.595024</td>\n",
       "      <td>18.482485</td>\n",
       "    </tr>\n",
       "    <tr>\n",
       "      <th>2005-01-06</th>\n",
       "      <td>4.686148</td>\n",
       "      <td>49.440849</td>\n",
       "      <td>18.461790</td>\n",
       "    </tr>\n",
       "    <tr>\n",
       "      <th>2005-01-07</th>\n",
       "      <td>4.817872</td>\n",
       "      <td>49.225010</td>\n",
       "      <td>18.406578</td>\n",
       "    </tr>\n",
       "    <tr>\n",
       "      <th>...</th>\n",
       "      <td>...</td>\n",
       "      <td>...</td>\n",
       "      <td>...</td>\n",
       "    </tr>\n",
       "    <tr>\n",
       "      <th>2021-07-26</th>\n",
       "      <td>133.116882</td>\n",
       "      <td>114.338181</td>\n",
       "      <td>279.157227</td>\n",
       "    </tr>\n",
       "    <tr>\n",
       "      <th>2021-07-27</th>\n",
       "      <td>130.996506</td>\n",
       "      <td>114.322174</td>\n",
       "      <td>276.733154</td>\n",
       "    </tr>\n",
       "    <tr>\n",
       "      <th>2021-07-28</th>\n",
       "      <td>135.161743</td>\n",
       "      <td>113.537315</td>\n",
       "      <td>276.424042</td>\n",
       "    </tr>\n",
       "    <tr>\n",
       "      <th>2021-07-29</th>\n",
       "      <td>134.847443</td>\n",
       "      <td>113.665459</td>\n",
       "      <td>276.694397</td>\n",
       "    </tr>\n",
       "    <tr>\n",
       "      <th>2021-07-30</th>\n",
       "      <td>133.803650</td>\n",
       "      <td>112.888634</td>\n",
       "      <td>275.158905</td>\n",
       "    </tr>\n",
       "  </tbody>\n",
       "</table>\n",
       "<p>4173 rows × 3 columns</p>\n",
       "</div>"
      ],
      "text/plain": [
       "                 googl         ibm        msft\n",
       "trade_date                                    \n",
       "2005-01-03    5.038074   50.237442   18.454880\n",
       "2005-01-04    4.834026   49.697788   18.523895\n",
       "2005-01-05    4.809422   49.595024   18.482485\n",
       "2005-01-06    4.686148   49.440849   18.461790\n",
       "2005-01-07    4.817872   49.225010   18.406578\n",
       "...                ...         ...         ...\n",
       "2021-07-26  133.116882  114.338181  279.157227\n",
       "2021-07-27  130.996506  114.322174  276.733154\n",
       "2021-07-28  135.161743  113.537315  276.424042\n",
       "2021-07-29  134.847443  113.665459  276.694397\n",
       "2021-07-30  133.803650  112.888634  275.158905\n",
       "\n",
       "[4173 rows x 3 columns]"
      ]
     },
     "execution_count": 2,
     "metadata": {},
     "output_type": "execute_result"
    }
   ],
   "source": [
    "stock_tickers = ['MSFT', 'IBM', 'GOOGL'] # define tickers\n",
    "df_stock = yf.download(\n",
    "    stock_tickers, start='2005-01-01', end='2021-07-31', auto_adjust=False,\n",
    ")\n",
    "df_stock = df_stock['Adj Close'] # select only the adjusted close price\n",
    "df_stock.columns = df_stock.columns.str.lower() # clean-up column names\n",
    "df_stock.rename_axis('trade_date', inplace=True) # clean-up index name\n",
    "df_stock.rename_axis('', axis=1, inplace=True) # clean-up index name\n",
    "df_stock"
   ]
  },
  {
   "cell_type": "markdown",
   "metadata": {},
   "source": [
    "Next, we'll grab the currency data from FRED."
   ]
  },
  {
   "cell_type": "code",
   "execution_count": 3,
   "metadata": {},
   "outputs": [
    {
     "name": "stderr",
     "output_type": "stream",
     "text": [
      "[*********************100%***********************]  2 of 2 completed\n"
     ]
    },
    {
     "data": {
      "text/html": [
       "<div>\n",
       "<style scoped>\n",
       "    .dataframe tbody tr th:only-of-type {\n",
       "        vertical-align: middle;\n",
       "    }\n",
       "\n",
       "    .dataframe tbody tr th {\n",
       "        vertical-align: top;\n",
       "    }\n",
       "\n",
       "    .dataframe thead th {\n",
       "        text-align: right;\n",
       "    }\n",
       "</style>\n",
       "<table border=\"1\" class=\"dataframe\">\n",
       "  <thead>\n",
       "    <tr style=\"text-align: right;\">\n",
       "      <th></th>\n",
       "      <th>gbpusd=x</th>\n",
       "      <th>jpy=x</th>\n",
       "    </tr>\n",
       "    <tr>\n",
       "      <th>trade_date</th>\n",
       "      <th></th>\n",
       "      <th></th>\n",
       "    </tr>\n",
       "  </thead>\n",
       "  <tbody>\n",
       "    <tr>\n",
       "      <th>2005-01-03</th>\n",
       "      <td>1.904617</td>\n",
       "      <td>102.739998</td>\n",
       "    </tr>\n",
       "    <tr>\n",
       "      <th>2005-01-04</th>\n",
       "      <td>1.883594</td>\n",
       "      <td>104.339996</td>\n",
       "    </tr>\n",
       "    <tr>\n",
       "      <th>2005-01-05</th>\n",
       "      <td>1.885512</td>\n",
       "      <td>103.930000</td>\n",
       "    </tr>\n",
       "    <tr>\n",
       "      <th>2005-01-06</th>\n",
       "      <td>1.876490</td>\n",
       "      <td>104.889999</td>\n",
       "    </tr>\n",
       "    <tr>\n",
       "      <th>2005-01-07</th>\n",
       "      <td>1.871293</td>\n",
       "      <td>104.889999</td>\n",
       "    </tr>\n",
       "    <tr>\n",
       "      <th>...</th>\n",
       "      <td>...</td>\n",
       "      <td>...</td>\n",
       "    </tr>\n",
       "    <tr>\n",
       "      <th>2021-07-26</th>\n",
       "      <td>1.375781</td>\n",
       "      <td>110.543999</td>\n",
       "    </tr>\n",
       "    <tr>\n",
       "      <th>2021-07-27</th>\n",
       "      <td>1.382915</td>\n",
       "      <td>110.302002</td>\n",
       "    </tr>\n",
       "    <tr>\n",
       "      <th>2021-07-28</th>\n",
       "      <td>1.388272</td>\n",
       "      <td>109.806000</td>\n",
       "    </tr>\n",
       "    <tr>\n",
       "      <th>2021-07-29</th>\n",
       "      <td>1.390685</td>\n",
       "      <td>109.890999</td>\n",
       "    </tr>\n",
       "    <tr>\n",
       "      <th>2021-07-30</th>\n",
       "      <td>1.396433</td>\n",
       "      <td>109.408997</td>\n",
       "    </tr>\n",
       "  </tbody>\n",
       "</table>\n",
       "<p>4313 rows × 2 columns</p>\n",
       "</div>"
      ],
      "text/plain": [
       "            gbpusd=x       jpy=x\n",
       "trade_date                      \n",
       "2005-01-03  1.904617  102.739998\n",
       "2005-01-04  1.883594  104.339996\n",
       "2005-01-05  1.885512  103.930000\n",
       "2005-01-06  1.876490  104.889999\n",
       "2005-01-07  1.871293  104.889999\n",
       "...              ...         ...\n",
       "2021-07-26  1.375781  110.543999\n",
       "2021-07-27  1.382915  110.302002\n",
       "2021-07-28  1.388272  109.806000\n",
       "2021-07-29  1.390685  109.890999\n",
       "2021-07-30  1.396433  109.408997\n",
       "\n",
       "[4313 rows x 2 columns]"
      ]
     },
     "execution_count": 3,
     "metadata": {},
     "output_type": "execute_result"
    }
   ],
   "source": [
    "currency_tickers = ['JPY=X', 'GBPUSD=X']\n",
    "df_currency = yf.download(\n",
    "    currency_tickers, start='2005-01-01', end='2021-07-31',\n",
    "    auto_adjust=False, ignore_tz=True\n",
    ")\n",
    "df_currency = df_currency['Adj Close']\n",
    "df_currency.columns = df_currency.columns.str.lower()\n",
    "df_currency.rename_axis('trade_date', inplace=True)\n",
    "df_currency.rename_axis('', axis=1, inplace=True)\n",
    "df_currency"
   ]
  },
  {
   "cell_type": "markdown",
   "metadata": {},
   "source": [
    "Finally, we'll grab the index data Yahoo."
   ]
  },
  {
   "cell_type": "code",
   "execution_count": 4,
   "metadata": {},
   "outputs": [
    {
     "name": "stderr",
     "output_type": "stream",
     "text": [
      "[*********************100%***********************]  3 of 3 completed\n"
     ]
    },
    {
     "data": {
      "text/html": [
       "<div>\n",
       "<style scoped>\n",
       "    .dataframe tbody tr th:only-of-type {\n",
       "        vertical-align: middle;\n",
       "    }\n",
       "\n",
       "    .dataframe tbody tr th {\n",
       "        vertical-align: top;\n",
       "    }\n",
       "\n",
       "    .dataframe thead th {\n",
       "        text-align: right;\n",
       "    }\n",
       "</style>\n",
       "<table border=\"1\" class=\"dataframe\">\n",
       "  <thead>\n",
       "    <tr style=\"text-align: right;\">\n",
       "      <th></th>\n",
       "      <th>dia</th>\n",
       "      <th>spy</th>\n",
       "      <th>vix</th>\n",
       "    </tr>\n",
       "    <tr>\n",
       "      <th>trade_date</th>\n",
       "      <th></th>\n",
       "      <th></th>\n",
       "      <th></th>\n",
       "    </tr>\n",
       "  </thead>\n",
       "  <tbody>\n",
       "    <tr>\n",
       "      <th>2005-01-03</th>\n",
       "      <td>67.762741</td>\n",
       "      <td>82.074020</td>\n",
       "      <td>14.080000</td>\n",
       "    </tr>\n",
       "    <tr>\n",
       "      <th>2005-01-04</th>\n",
       "      <td>67.118706</td>\n",
       "      <td>81.071114</td>\n",
       "      <td>13.980000</td>\n",
       "    </tr>\n",
       "    <tr>\n",
       "      <th>2005-01-05</th>\n",
       "      <td>66.746117</td>\n",
       "      <td>80.511688</td>\n",
       "      <td>14.090000</td>\n",
       "    </tr>\n",
       "    <tr>\n",
       "      <th>2005-01-06</th>\n",
       "      <td>66.954491</td>\n",
       "      <td>80.921036</td>\n",
       "      <td>13.580000</td>\n",
       "    </tr>\n",
       "    <tr>\n",
       "      <th>2005-01-07</th>\n",
       "      <td>66.828247</td>\n",
       "      <td>80.805092</td>\n",
       "      <td>13.490000</td>\n",
       "    </tr>\n",
       "    <tr>\n",
       "      <th>...</th>\n",
       "      <td>...</td>\n",
       "      <td>...</td>\n",
       "      <td>...</td>\n",
       "    </tr>\n",
       "    <tr>\n",
       "      <th>2021-07-26</th>\n",
       "      <td>326.679871</td>\n",
       "      <td>416.758026</td>\n",
       "      <td>17.580000</td>\n",
       "    </tr>\n",
       "    <tr>\n",
       "      <th>2021-07-27</th>\n",
       "      <td>325.945435</td>\n",
       "      <td>414.858612</td>\n",
       "      <td>19.360001</td>\n",
       "    </tr>\n",
       "    <tr>\n",
       "      <th>2021-07-28</th>\n",
       "      <td>324.774048</td>\n",
       "      <td>414.688477</td>\n",
       "      <td>18.309999</td>\n",
       "    </tr>\n",
       "    <tr>\n",
       "      <th>2021-07-29</th>\n",
       "      <td>326.131317</td>\n",
       "      <td>416.408386</td>\n",
       "      <td>17.700001</td>\n",
       "    </tr>\n",
       "    <tr>\n",
       "      <th>2021-07-30</th>\n",
       "      <td>324.885559</td>\n",
       "      <td>414.386139</td>\n",
       "      <td>18.240000</td>\n",
       "    </tr>\n",
       "  </tbody>\n",
       "</table>\n",
       "<p>4173 rows × 3 columns</p>\n",
       "</div>"
      ],
      "text/plain": [
       "                   dia         spy        vix\n",
       "trade_date                                   \n",
       "2005-01-03   67.762741   82.074020  14.080000\n",
       "2005-01-04   67.118706   81.071114  13.980000\n",
       "2005-01-05   66.746117   80.511688  14.090000\n",
       "2005-01-06   66.954491   80.921036  13.580000\n",
       "2005-01-07   66.828247   80.805092  13.490000\n",
       "...                ...         ...        ...\n",
       "2021-07-26  326.679871  416.758026  17.580000\n",
       "2021-07-27  325.945435  414.858612  19.360001\n",
       "2021-07-28  324.774048  414.688477  18.309999\n",
       "2021-07-29  326.131317  416.408386  17.700001\n",
       "2021-07-30  324.885559  414.386139  18.240000\n",
       "\n",
       "[4173 rows x 3 columns]"
      ]
     },
     "execution_count": 4,
     "metadata": {},
     "output_type": "execute_result"
    }
   ],
   "source": [
    "index_tickers = ['SPY', 'DIA', '^VIX'] \n",
    "df_index = yf.download(\n",
    "    index_tickers, start='2005-01-01', end='2021-07-31', auto_adjust=False\n",
    ")\n",
    "df_index = df_index['Adj Close']\n",
    "df_index.columns = df_index.columns.str.lower().str.replace('^', '')\n",
    "df_index.rename_axis('trade_date', inplace=True)\n",
    "df_index.rename_axis('', axis=1, inplace=True)\n",
    "df_index"
   ]
  },
  {
   "cell_type": "markdown",
   "metadata": {},
   "source": [
    "## Join and Clean Data"
   ]
  },
  {
   "cell_type": "markdown",
   "metadata": {},
   "source": [
    "Now we can join together our price data and convert it into returns and differences (for VIX, as these are more stationary).  Notice that we are implicitly adding a time series component to our regression by adding lagged `msft` returns as a feature."
   ]
  },
  {
   "cell_type": "code",
   "execution_count": 5,
   "metadata": {},
   "outputs": [
    {
     "data": {
      "text/html": [
       "<div>\n",
       "<style scoped>\n",
       "    .dataframe tbody tr th:only-of-type {\n",
       "        vertical-align: middle;\n",
       "    }\n",
       "\n",
       "    .dataframe tbody tr th {\n",
       "        vertical-align: top;\n",
       "    }\n",
       "\n",
       "    .dataframe thead th {\n",
       "        text-align: right;\n",
       "    }\n",
       "</style>\n",
       "<table border=\"1\" class=\"dataframe\">\n",
       "  <thead>\n",
       "    <tr style=\"text-align: right;\">\n",
       "      <th></th>\n",
       "      <th>googl</th>\n",
       "      <th>ibm</th>\n",
       "      <th>msft</th>\n",
       "      <th>dia</th>\n",
       "      <th>spy</th>\n",
       "      <th>vix</th>\n",
       "      <th>gbpusd=x</th>\n",
       "      <th>jpy=x</th>\n",
       "      <th>msft_lag_0</th>\n",
       "      <th>msft_lag_1</th>\n",
       "      <th>dexjpus</th>\n",
       "      <th>dexusuk</th>\n",
       "    </tr>\n",
       "    <tr>\n",
       "      <th>trade_date</th>\n",
       "      <th></th>\n",
       "      <th></th>\n",
       "      <th></th>\n",
       "      <th></th>\n",
       "      <th></th>\n",
       "      <th></th>\n",
       "      <th></th>\n",
       "      <th></th>\n",
       "      <th></th>\n",
       "      <th></th>\n",
       "      <th></th>\n",
       "      <th></th>\n",
       "    </tr>\n",
       "  </thead>\n",
       "  <tbody>\n",
       "    <tr>\n",
       "      <th>2005-01-05</th>\n",
       "      <td>-0.005090</td>\n",
       "      <td>-0.002068</td>\n",
       "      <td>-0.002236</td>\n",
       "      <td>-0.005551</td>\n",
       "      <td>-0.006900</td>\n",
       "      <td>0.110001</td>\n",
       "      <td>1.885512</td>\n",
       "      <td>103.930000</td>\n",
       "      <td>-0.002236</td>\n",
       "      <td>0.003740</td>\n",
       "      <td>-0.003929</td>\n",
       "      <td>0.001018</td>\n",
       "    </tr>\n",
       "    <tr>\n",
       "      <th>2005-01-06</th>\n",
       "      <td>-0.025632</td>\n",
       "      <td>-0.003109</td>\n",
       "      <td>-0.001120</td>\n",
       "      <td>0.003122</td>\n",
       "      <td>0.005084</td>\n",
       "      <td>-0.510000</td>\n",
       "      <td>1.876490</td>\n",
       "      <td>104.889999</td>\n",
       "      <td>-0.001120</td>\n",
       "      <td>-0.002236</td>\n",
       "      <td>0.009237</td>\n",
       "      <td>-0.004785</td>\n",
       "    </tr>\n",
       "    <tr>\n",
       "      <th>2005-01-07</th>\n",
       "      <td>0.028109</td>\n",
       "      <td>-0.004366</td>\n",
       "      <td>-0.002991</td>\n",
       "      <td>-0.001886</td>\n",
       "      <td>-0.001433</td>\n",
       "      <td>-0.090000</td>\n",
       "      <td>1.871293</td>\n",
       "      <td>104.889999</td>\n",
       "      <td>-0.002991</td>\n",
       "      <td>-0.001120</td>\n",
       "      <td>0.000000</td>\n",
       "      <td>-0.002769</td>\n",
       "    </tr>\n",
       "    <tr>\n",
       "      <th>2005-01-10</th>\n",
       "      <td>0.006242</td>\n",
       "      <td>-0.001044</td>\n",
       "      <td>0.004874</td>\n",
       "      <td>0.003401</td>\n",
       "      <td>0.004728</td>\n",
       "      <td>-0.260000</td>\n",
       "      <td>1.876912</td>\n",
       "      <td>104.169998</td>\n",
       "      <td>0.004874</td>\n",
       "      <td>-0.002991</td>\n",
       "      <td>-0.006864</td>\n",
       "      <td>0.003003</td>\n",
       "    </tr>\n",
       "    <tr>\n",
       "      <th>2005-01-11</th>\n",
       "      <td>-0.007793</td>\n",
       "      <td>-0.007108</td>\n",
       "      <td>-0.002612</td>\n",
       "      <td>-0.006402</td>\n",
       "      <td>-0.006891</td>\n",
       "      <td>-0.040000</td>\n",
       "      <td>1.878605</td>\n",
       "      <td>103.419998</td>\n",
       "      <td>-0.002612</td>\n",
       "      <td>0.004874</td>\n",
       "      <td>-0.007200</td>\n",
       "      <td>0.000902</td>\n",
       "    </tr>\n",
       "    <tr>\n",
       "      <th>...</th>\n",
       "      <td>...</td>\n",
       "      <td>...</td>\n",
       "      <td>...</td>\n",
       "      <td>...</td>\n",
       "      <td>...</td>\n",
       "      <td>...</td>\n",
       "      <td>...</td>\n",
       "      <td>...</td>\n",
       "      <td>...</td>\n",
       "      <td>...</td>\n",
       "      <td>...</td>\n",
       "      <td>...</td>\n",
       "    </tr>\n",
       "    <tr>\n",
       "      <th>2021-07-26</th>\n",
       "      <td>0.007668</td>\n",
       "      <td>0.010117</td>\n",
       "      <td>-0.002140</td>\n",
       "      <td>0.002396</td>\n",
       "      <td>0.002455</td>\n",
       "      <td>0.379999</td>\n",
       "      <td>1.375781</td>\n",
       "      <td>110.543999</td>\n",
       "      <td>-0.002140</td>\n",
       "      <td>0.012336</td>\n",
       "      <td>0.003668</td>\n",
       "      <td>-0.001168</td>\n",
       "    </tr>\n",
       "    <tr>\n",
       "      <th>2021-07-27</th>\n",
       "      <td>-0.015929</td>\n",
       "      <td>-0.000140</td>\n",
       "      <td>-0.008684</td>\n",
       "      <td>-0.002248</td>\n",
       "      <td>-0.004558</td>\n",
       "      <td>1.780001</td>\n",
       "      <td>1.382915</td>\n",
       "      <td>110.302002</td>\n",
       "      <td>-0.008684</td>\n",
       "      <td>-0.002140</td>\n",
       "      <td>-0.002189</td>\n",
       "      <td>0.005186</td>\n",
       "    </tr>\n",
       "    <tr>\n",
       "      <th>2021-07-28</th>\n",
       "      <td>0.031797</td>\n",
       "      <td>-0.006865</td>\n",
       "      <td>-0.001117</td>\n",
       "      <td>-0.003594</td>\n",
       "      <td>-0.000410</td>\n",
       "      <td>-1.050001</td>\n",
       "      <td>1.388272</td>\n",
       "      <td>109.806000</td>\n",
       "      <td>-0.001117</td>\n",
       "      <td>-0.008684</td>\n",
       "      <td>-0.004497</td>\n",
       "      <td>0.003873</td>\n",
       "    </tr>\n",
       "    <tr>\n",
       "      <th>2021-07-29</th>\n",
       "      <td>-0.002325</td>\n",
       "      <td>0.001129</td>\n",
       "      <td>0.000978</td>\n",
       "      <td>0.004179</td>\n",
       "      <td>0.004147</td>\n",
       "      <td>-0.609999</td>\n",
       "      <td>1.390685</td>\n",
       "      <td>109.890999</td>\n",
       "      <td>0.000978</td>\n",
       "      <td>-0.001117</td>\n",
       "      <td>0.000774</td>\n",
       "      <td>0.001738</td>\n",
       "    </tr>\n",
       "    <tr>\n",
       "      <th>2021-07-30</th>\n",
       "      <td>-0.007741</td>\n",
       "      <td>-0.006834</td>\n",
       "      <td>-0.005549</td>\n",
       "      <td>-0.003820</td>\n",
       "      <td>-0.004856</td>\n",
       "      <td>0.539999</td>\n",
       "      <td>1.396433</td>\n",
       "      <td>109.408997</td>\n",
       "      <td>-0.005549</td>\n",
       "      <td>0.000978</td>\n",
       "      <td>-0.004386</td>\n",
       "      <td>0.004133</td>\n",
       "    </tr>\n",
       "  </tbody>\n",
       "</table>\n",
       "<p>4140 rows × 12 columns</p>\n",
       "</div>"
      ],
      "text/plain": [
       "               googl       ibm      msft       dia       spy       vix   \n",
       "trade_date                                                               \n",
       "2005-01-05 -0.005090 -0.002068 -0.002236 -0.005551 -0.006900  0.110001  \\\n",
       "2005-01-06 -0.025632 -0.003109 -0.001120  0.003122  0.005084 -0.510000   \n",
       "2005-01-07  0.028109 -0.004366 -0.002991 -0.001886 -0.001433 -0.090000   \n",
       "2005-01-10  0.006242 -0.001044  0.004874  0.003401  0.004728 -0.260000   \n",
       "2005-01-11 -0.007793 -0.007108 -0.002612 -0.006402 -0.006891 -0.040000   \n",
       "...              ...       ...       ...       ...       ...       ...   \n",
       "2021-07-26  0.007668  0.010117 -0.002140  0.002396  0.002455  0.379999   \n",
       "2021-07-27 -0.015929 -0.000140 -0.008684 -0.002248 -0.004558  1.780001   \n",
       "2021-07-28  0.031797 -0.006865 -0.001117 -0.003594 -0.000410 -1.050001   \n",
       "2021-07-29 -0.002325  0.001129  0.000978  0.004179  0.004147 -0.609999   \n",
       "2021-07-30 -0.007741 -0.006834 -0.005549 -0.003820 -0.004856  0.539999   \n",
       "\n",
       "            gbpusd=x       jpy=x  msft_lag_0  msft_lag_1   dexjpus   dexusuk  \n",
       "trade_date                                                                    \n",
       "2005-01-05  1.885512  103.930000   -0.002236    0.003740 -0.003929  0.001018  \n",
       "2005-01-06  1.876490  104.889999   -0.001120   -0.002236  0.009237 -0.004785  \n",
       "2005-01-07  1.871293  104.889999   -0.002991   -0.001120  0.000000 -0.002769  \n",
       "2005-01-10  1.876912  104.169998    0.004874   -0.002991 -0.006864  0.003003  \n",
       "2005-01-11  1.878605  103.419998   -0.002612    0.004874 -0.007200  0.000902  \n",
       "...              ...         ...         ...         ...       ...       ...  \n",
       "2021-07-26  1.375781  110.543999   -0.002140    0.012336  0.003668 -0.001168  \n",
       "2021-07-27  1.382915  110.302002   -0.008684   -0.002140 -0.002189  0.005186  \n",
       "2021-07-28  1.388272  109.806000   -0.001117   -0.008684 -0.004497  0.003873  \n",
       "2021-07-29  1.390685  109.890999    0.000978   -0.001117  0.000774  0.001738  \n",
       "2021-07-30  1.396433  109.408997   -0.005549    0.000978 -0.004386  0.004133  \n",
       "\n",
       "[4140 rows x 12 columns]"
      ]
     },
     "execution_count": 5,
     "metadata": {},
     "output_type": "execute_result"
    }
   ],
   "source": [
    "df_data = \\\n",
    "    (\n",
    "    df_stock\n",
    "        .merge(df_index, how='left', left_index=True, right_index=True) # join currency data\n",
    "        .merge(df_currency, how='left', left_index=True, right_index=True) # join index data\n",
    "        .dropna()\n",
    "        .assign(msft = lambda df: df['msft'].pct_change())   # percent change\n",
    "        .assign(msft_lag_0 = lambda df: df['msft'].shift(0)) #\n",
    "        .assign(msft_lag_1 = lambda df: df['msft'].shift(1)) #\n",
    "        .assign(ibm = lambda df: df['ibm'].pct_change())     #\n",
    "        .assign(googl = lambda df: df['googl'].pct_change()) #\n",
    "        .assign(spy = lambda df: df['spy'].pct_change())     #\n",
    "        .assign(dia = lambda df: df['dia'].pct_change())     #\n",
    "        .assign(vix = lambda df: df['vix'].diff())           # absolute change\n",
    "        .assign(dexjpus = lambda df: df['jpy=x'].pct_change()) # percent change\n",
    "        .assign(dexusuk = lambda df: df['gbpusd=x'].pct_change()) #\n",
    "        .dropna()\n",
    "    )\n",
    "df_data"
   ]
  },
  {
   "cell_type": "markdown",
   "metadata": {},
   "source": [
    "## Training Set and Testing Set"
   ]
  },
  {
   "cell_type": "markdown",
   "metadata": {},
   "source": [
    "We'll train our models on data prior to 2016, and then we'll use data from 2016 onward for testing.  So let's separate out these two subsets of data."
   ]
  },
  {
   "cell_type": "code",
   "execution_count": 6,
   "metadata": {},
   "outputs": [
    {
     "data": {
      "text/html": [
       "<div>\n",
       "<style scoped>\n",
       "    .dataframe tbody tr th:only-of-type {\n",
       "        vertical-align: middle;\n",
       "    }\n",
       "\n",
       "    .dataframe tbody tr th {\n",
       "        vertical-align: top;\n",
       "    }\n",
       "\n",
       "    .dataframe thead th {\n",
       "        text-align: right;\n",
       "    }\n",
       "</style>\n",
       "<table border=\"1\" class=\"dataframe\">\n",
       "  <thead>\n",
       "    <tr style=\"text-align: right;\">\n",
       "      <th></th>\n",
       "      <th>googl</th>\n",
       "      <th>ibm</th>\n",
       "      <th>msft</th>\n",
       "      <th>dia</th>\n",
       "      <th>spy</th>\n",
       "      <th>vix</th>\n",
       "      <th>gbpusd=x</th>\n",
       "      <th>jpy=x</th>\n",
       "      <th>msft_lag_0</th>\n",
       "      <th>msft_lag_1</th>\n",
       "      <th>dexjpus</th>\n",
       "      <th>dexusuk</th>\n",
       "    </tr>\n",
       "    <tr>\n",
       "      <th>trade_date</th>\n",
       "      <th></th>\n",
       "      <th></th>\n",
       "      <th></th>\n",
       "      <th></th>\n",
       "      <th></th>\n",
       "      <th></th>\n",
       "      <th></th>\n",
       "      <th></th>\n",
       "      <th></th>\n",
       "      <th></th>\n",
       "      <th></th>\n",
       "      <th></th>\n",
       "    </tr>\n",
       "  </thead>\n",
       "  <tbody>\n",
       "    <tr>\n",
       "      <th>2005-01-05</th>\n",
       "      <td>-0.005090</td>\n",
       "      <td>-0.002068</td>\n",
       "      <td>-0.002236</td>\n",
       "      <td>-0.005551</td>\n",
       "      <td>-0.006900</td>\n",
       "      <td>0.110001</td>\n",
       "      <td>1.885512</td>\n",
       "      <td>103.930000</td>\n",
       "      <td>-0.002236</td>\n",
       "      <td>0.003740</td>\n",
       "      <td>-0.003929</td>\n",
       "      <td>0.001018</td>\n",
       "    </tr>\n",
       "    <tr>\n",
       "      <th>2005-01-06</th>\n",
       "      <td>-0.025632</td>\n",
       "      <td>-0.003109</td>\n",
       "      <td>-0.001120</td>\n",
       "      <td>0.003122</td>\n",
       "      <td>0.005084</td>\n",
       "      <td>-0.510000</td>\n",
       "      <td>1.876490</td>\n",
       "      <td>104.889999</td>\n",
       "      <td>-0.001120</td>\n",
       "      <td>-0.002236</td>\n",
       "      <td>0.009237</td>\n",
       "      <td>-0.004785</td>\n",
       "    </tr>\n",
       "    <tr>\n",
       "      <th>2005-01-07</th>\n",
       "      <td>0.028109</td>\n",
       "      <td>-0.004366</td>\n",
       "      <td>-0.002991</td>\n",
       "      <td>-0.001886</td>\n",
       "      <td>-0.001433</td>\n",
       "      <td>-0.090000</td>\n",
       "      <td>1.871293</td>\n",
       "      <td>104.889999</td>\n",
       "      <td>-0.002991</td>\n",
       "      <td>-0.001120</td>\n",
       "      <td>0.000000</td>\n",
       "      <td>-0.002769</td>\n",
       "    </tr>\n",
       "    <tr>\n",
       "      <th>2005-01-10</th>\n",
       "      <td>0.006242</td>\n",
       "      <td>-0.001044</td>\n",
       "      <td>0.004874</td>\n",
       "      <td>0.003401</td>\n",
       "      <td>0.004728</td>\n",
       "      <td>-0.260000</td>\n",
       "      <td>1.876912</td>\n",
       "      <td>104.169998</td>\n",
       "      <td>0.004874</td>\n",
       "      <td>-0.002991</td>\n",
       "      <td>-0.006864</td>\n",
       "      <td>0.003003</td>\n",
       "    </tr>\n",
       "    <tr>\n",
       "      <th>2005-01-11</th>\n",
       "      <td>-0.007793</td>\n",
       "      <td>-0.007108</td>\n",
       "      <td>-0.002612</td>\n",
       "      <td>-0.006402</td>\n",
       "      <td>-0.006891</td>\n",
       "      <td>-0.040000</td>\n",
       "      <td>1.878605</td>\n",
       "      <td>103.419998</td>\n",
       "      <td>-0.002612</td>\n",
       "      <td>0.004874</td>\n",
       "      <td>-0.007200</td>\n",
       "      <td>0.000902</td>\n",
       "    </tr>\n",
       "    <tr>\n",
       "      <th>...</th>\n",
       "      <td>...</td>\n",
       "      <td>...</td>\n",
       "      <td>...</td>\n",
       "      <td>...</td>\n",
       "      <td>...</td>\n",
       "      <td>...</td>\n",
       "      <td>...</td>\n",
       "      <td>...</td>\n",
       "      <td>...</td>\n",
       "      <td>...</td>\n",
       "      <td>...</td>\n",
       "      <td>...</td>\n",
       "    </tr>\n",
       "    <tr>\n",
       "      <th>2015-12-24</th>\n",
       "      <td>-0.003474</td>\n",
       "      <td>-0.002093</td>\n",
       "      <td>-0.002687</td>\n",
       "      <td>-0.003356</td>\n",
       "      <td>-0.001650</td>\n",
       "      <td>0.170000</td>\n",
       "      <td>1.487697</td>\n",
       "      <td>120.934998</td>\n",
       "      <td>-0.002687</td>\n",
       "      <td>0.008491</td>\n",
       "      <td>-0.000785</td>\n",
       "      <td>0.003615</td>\n",
       "    </tr>\n",
       "    <tr>\n",
       "      <th>2015-12-28</th>\n",
       "      <td>0.021414</td>\n",
       "      <td>-0.004629</td>\n",
       "      <td>0.005029</td>\n",
       "      <td>-0.001370</td>\n",
       "      <td>-0.002285</td>\n",
       "      <td>1.170000</td>\n",
       "      <td>1.493206</td>\n",
       "      <td>120.231003</td>\n",
       "      <td>0.005029</td>\n",
       "      <td>-0.002687</td>\n",
       "      <td>-0.005821</td>\n",
       "      <td>0.003703</td>\n",
       "    </tr>\n",
       "    <tr>\n",
       "      <th>2015-12-29</th>\n",
       "      <td>0.014983</td>\n",
       "      <td>0.015769</td>\n",
       "      <td>0.010724</td>\n",
       "      <td>0.011430</td>\n",
       "      <td>0.010672</td>\n",
       "      <td>-0.830000</td>\n",
       "      <td>1.489403</td>\n",
       "      <td>120.349998</td>\n",
       "      <td>0.010724</td>\n",
       "      <td>0.005029</td>\n",
       "      <td>0.000990</td>\n",
       "      <td>-0.002547</td>\n",
       "    </tr>\n",
       "    <tr>\n",
       "      <th>2015-12-30</th>\n",
       "      <td>-0.004610</td>\n",
       "      <td>-0.003148</td>\n",
       "      <td>-0.004244</td>\n",
       "      <td>-0.006668</td>\n",
       "      <td>-0.007088</td>\n",
       "      <td>1.210001</td>\n",
       "      <td>1.482228</td>\n",
       "      <td>120.528999</td>\n",
       "      <td>-0.004244</td>\n",
       "      <td>0.010724</td>\n",
       "      <td>0.001487</td>\n",
       "      <td>-0.004817</td>\n",
       "    </tr>\n",
       "    <tr>\n",
       "      <th>2015-12-31</th>\n",
       "      <td>-0.015551</td>\n",
       "      <td>-0.012344</td>\n",
       "      <td>-0.014740</td>\n",
       "      <td>-0.010295</td>\n",
       "      <td>-0.010003</td>\n",
       "      <td>0.919998</td>\n",
       "      <td>1.481921</td>\n",
       "      <td>120.449997</td>\n",
       "      <td>-0.014740</td>\n",
       "      <td>-0.004244</td>\n",
       "      <td>-0.000655</td>\n",
       "      <td>-0.000207</td>\n",
       "    </tr>\n",
       "  </tbody>\n",
       "</table>\n",
       "<p>2739 rows × 12 columns</p>\n",
       "</div>"
      ],
      "text/plain": [
       "               googl       ibm      msft       dia       spy       vix   \n",
       "trade_date                                                               \n",
       "2005-01-05 -0.005090 -0.002068 -0.002236 -0.005551 -0.006900  0.110001  \\\n",
       "2005-01-06 -0.025632 -0.003109 -0.001120  0.003122  0.005084 -0.510000   \n",
       "2005-01-07  0.028109 -0.004366 -0.002991 -0.001886 -0.001433 -0.090000   \n",
       "2005-01-10  0.006242 -0.001044  0.004874  0.003401  0.004728 -0.260000   \n",
       "2005-01-11 -0.007793 -0.007108 -0.002612 -0.006402 -0.006891 -0.040000   \n",
       "...              ...       ...       ...       ...       ...       ...   \n",
       "2015-12-24 -0.003474 -0.002093 -0.002687 -0.003356 -0.001650  0.170000   \n",
       "2015-12-28  0.021414 -0.004629  0.005029 -0.001370 -0.002285  1.170000   \n",
       "2015-12-29  0.014983  0.015769  0.010724  0.011430  0.010672 -0.830000   \n",
       "2015-12-30 -0.004610 -0.003148 -0.004244 -0.006668 -0.007088  1.210001   \n",
       "2015-12-31 -0.015551 -0.012344 -0.014740 -0.010295 -0.010003  0.919998   \n",
       "\n",
       "            gbpusd=x       jpy=x  msft_lag_0  msft_lag_1   dexjpus   dexusuk  \n",
       "trade_date                                                                    \n",
       "2005-01-05  1.885512  103.930000   -0.002236    0.003740 -0.003929  0.001018  \n",
       "2005-01-06  1.876490  104.889999   -0.001120   -0.002236  0.009237 -0.004785  \n",
       "2005-01-07  1.871293  104.889999   -0.002991   -0.001120  0.000000 -0.002769  \n",
       "2005-01-10  1.876912  104.169998    0.004874   -0.002991 -0.006864  0.003003  \n",
       "2005-01-11  1.878605  103.419998   -0.002612    0.004874 -0.007200  0.000902  \n",
       "...              ...         ...         ...         ...       ...       ...  \n",
       "2015-12-24  1.487697  120.934998   -0.002687    0.008491 -0.000785  0.003615  \n",
       "2015-12-28  1.493206  120.231003    0.005029   -0.002687 -0.005821  0.003703  \n",
       "2015-12-29  1.489403  120.349998    0.010724    0.005029  0.000990 -0.002547  \n",
       "2015-12-30  1.482228  120.528999   -0.004244    0.010724  0.001487 -0.004817  \n",
       "2015-12-31  1.481921  120.449997   -0.014740   -0.004244 -0.000655 -0.000207  \n",
       "\n",
       "[2739 rows x 12 columns]"
      ]
     },
     "execution_count": 6,
     "metadata": {},
     "output_type": "execute_result"
    }
   ],
   "source": [
    "df_train = df_data.query('trade_date < \"2016-01-01\"')\n",
    "df_train"
   ]
  },
  {
   "cell_type": "code",
   "execution_count": 7,
   "metadata": {},
   "outputs": [
    {
     "data": {
      "text/html": [
       "<div>\n",
       "<style scoped>\n",
       "    .dataframe tbody tr th:only-of-type {\n",
       "        vertical-align: middle;\n",
       "    }\n",
       "\n",
       "    .dataframe tbody tr th {\n",
       "        vertical-align: top;\n",
       "    }\n",
       "\n",
       "    .dataframe thead th {\n",
       "        text-align: right;\n",
       "    }\n",
       "</style>\n",
       "<table border=\"1\" class=\"dataframe\">\n",
       "  <thead>\n",
       "    <tr style=\"text-align: right;\">\n",
       "      <th></th>\n",
       "      <th>googl</th>\n",
       "      <th>ibm</th>\n",
       "      <th>msft</th>\n",
       "      <th>dia</th>\n",
       "      <th>spy</th>\n",
       "      <th>vix</th>\n",
       "      <th>gbpusd=x</th>\n",
       "      <th>jpy=x</th>\n",
       "      <th>msft_lag_0</th>\n",
       "      <th>msft_lag_1</th>\n",
       "      <th>dexjpus</th>\n",
       "      <th>dexusuk</th>\n",
       "    </tr>\n",
       "    <tr>\n",
       "      <th>trade_date</th>\n",
       "      <th></th>\n",
       "      <th></th>\n",
       "      <th></th>\n",
       "      <th></th>\n",
       "      <th></th>\n",
       "      <th></th>\n",
       "      <th></th>\n",
       "      <th></th>\n",
       "      <th></th>\n",
       "      <th></th>\n",
       "      <th></th>\n",
       "      <th></th>\n",
       "    </tr>\n",
       "  </thead>\n",
       "  <tbody>\n",
       "    <tr>\n",
       "      <th>2016-01-04</th>\n",
       "      <td>-0.023869</td>\n",
       "      <td>-0.012135</td>\n",
       "      <td>-0.012257</td>\n",
       "      <td>-0.015518</td>\n",
       "      <td>-0.013979</td>\n",
       "      <td>2.490002</td>\n",
       "      <td>1.473709</td>\n",
       "      <td>120.310997</td>\n",
       "      <td>-0.012257</td>\n",
       "      <td>-0.014740</td>\n",
       "      <td>-0.001154</td>\n",
       "      <td>-0.005541</td>\n",
       "    </tr>\n",
       "    <tr>\n",
       "      <th>2016-01-05</th>\n",
       "      <td>0.002752</td>\n",
       "      <td>-0.000735</td>\n",
       "      <td>0.004562</td>\n",
       "      <td>0.000583</td>\n",
       "      <td>0.001691</td>\n",
       "      <td>-1.360001</td>\n",
       "      <td>1.471410</td>\n",
       "      <td>119.467003</td>\n",
       "      <td>0.004562</td>\n",
       "      <td>-0.012257</td>\n",
       "      <td>-0.007015</td>\n",
       "      <td>-0.001560</td>\n",
       "    </tr>\n",
       "    <tr>\n",
       "      <th>2016-01-06</th>\n",
       "      <td>-0.002889</td>\n",
       "      <td>-0.005006</td>\n",
       "      <td>-0.018165</td>\n",
       "      <td>-0.014294</td>\n",
       "      <td>-0.012614</td>\n",
       "      <td>1.250000</td>\n",
       "      <td>1.467394</td>\n",
       "      <td>119.101997</td>\n",
       "      <td>-0.018165</td>\n",
       "      <td>0.004562</td>\n",
       "      <td>-0.003055</td>\n",
       "      <td>-0.002729</td>\n",
       "    </tr>\n",
       "    <tr>\n",
       "      <th>2016-01-07</th>\n",
       "      <td>-0.024140</td>\n",
       "      <td>-0.017090</td>\n",
       "      <td>-0.034783</td>\n",
       "      <td>-0.023559</td>\n",
       "      <td>-0.023991</td>\n",
       "      <td>4.400000</td>\n",
       "      <td>1.462994</td>\n",
       "      <td>118.610001</td>\n",
       "      <td>-0.034783</td>\n",
       "      <td>-0.018165</td>\n",
       "      <td>-0.004131</td>\n",
       "      <td>-0.002999</td>\n",
       "    </tr>\n",
       "    <tr>\n",
       "      <th>2016-01-08</th>\n",
       "      <td>-0.013617</td>\n",
       "      <td>-0.009258</td>\n",
       "      <td>0.003067</td>\n",
       "      <td>-0.010427</td>\n",
       "      <td>-0.010977</td>\n",
       "      <td>2.020000</td>\n",
       "      <td>1.462694</td>\n",
       "      <td>117.540001</td>\n",
       "      <td>0.003067</td>\n",
       "      <td>-0.034783</td>\n",
       "      <td>-0.009021</td>\n",
       "      <td>-0.000205</td>\n",
       "    </tr>\n",
       "    <tr>\n",
       "      <th>...</th>\n",
       "      <td>...</td>\n",
       "      <td>...</td>\n",
       "      <td>...</td>\n",
       "      <td>...</td>\n",
       "      <td>...</td>\n",
       "      <td>...</td>\n",
       "      <td>...</td>\n",
       "      <td>...</td>\n",
       "      <td>...</td>\n",
       "      <td>...</td>\n",
       "      <td>...</td>\n",
       "      <td>...</td>\n",
       "    </tr>\n",
       "    <tr>\n",
       "      <th>2021-07-26</th>\n",
       "      <td>0.007668</td>\n",
       "      <td>0.010117</td>\n",
       "      <td>-0.002140</td>\n",
       "      <td>0.002396</td>\n",
       "      <td>0.002455</td>\n",
       "      <td>0.379999</td>\n",
       "      <td>1.375781</td>\n",
       "      <td>110.543999</td>\n",
       "      <td>-0.002140</td>\n",
       "      <td>0.012336</td>\n",
       "      <td>0.003668</td>\n",
       "      <td>-0.001168</td>\n",
       "    </tr>\n",
       "    <tr>\n",
       "      <th>2021-07-27</th>\n",
       "      <td>-0.015929</td>\n",
       "      <td>-0.000140</td>\n",
       "      <td>-0.008684</td>\n",
       "      <td>-0.002248</td>\n",
       "      <td>-0.004558</td>\n",
       "      <td>1.780001</td>\n",
       "      <td>1.382915</td>\n",
       "      <td>110.302002</td>\n",
       "      <td>-0.008684</td>\n",
       "      <td>-0.002140</td>\n",
       "      <td>-0.002189</td>\n",
       "      <td>0.005186</td>\n",
       "    </tr>\n",
       "    <tr>\n",
       "      <th>2021-07-28</th>\n",
       "      <td>0.031797</td>\n",
       "      <td>-0.006865</td>\n",
       "      <td>-0.001117</td>\n",
       "      <td>-0.003594</td>\n",
       "      <td>-0.000410</td>\n",
       "      <td>-1.050001</td>\n",
       "      <td>1.388272</td>\n",
       "      <td>109.806000</td>\n",
       "      <td>-0.001117</td>\n",
       "      <td>-0.008684</td>\n",
       "      <td>-0.004497</td>\n",
       "      <td>0.003873</td>\n",
       "    </tr>\n",
       "    <tr>\n",
       "      <th>2021-07-29</th>\n",
       "      <td>-0.002325</td>\n",
       "      <td>0.001129</td>\n",
       "      <td>0.000978</td>\n",
       "      <td>0.004179</td>\n",
       "      <td>0.004147</td>\n",
       "      <td>-0.609999</td>\n",
       "      <td>1.390685</td>\n",
       "      <td>109.890999</td>\n",
       "      <td>0.000978</td>\n",
       "      <td>-0.001117</td>\n",
       "      <td>0.000774</td>\n",
       "      <td>0.001738</td>\n",
       "    </tr>\n",
       "    <tr>\n",
       "      <th>2021-07-30</th>\n",
       "      <td>-0.007741</td>\n",
       "      <td>-0.006834</td>\n",
       "      <td>-0.005549</td>\n",
       "      <td>-0.003820</td>\n",
       "      <td>-0.004856</td>\n",
       "      <td>0.539999</td>\n",
       "      <td>1.396433</td>\n",
       "      <td>109.408997</td>\n",
       "      <td>-0.005549</td>\n",
       "      <td>0.000978</td>\n",
       "      <td>-0.004386</td>\n",
       "      <td>0.004133</td>\n",
       "    </tr>\n",
       "  </tbody>\n",
       "</table>\n",
       "<p>1401 rows × 12 columns</p>\n",
       "</div>"
      ],
      "text/plain": [
       "               googl       ibm      msft       dia       spy       vix   \n",
       "trade_date                                                               \n",
       "2016-01-04 -0.023869 -0.012135 -0.012257 -0.015518 -0.013979  2.490002  \\\n",
       "2016-01-05  0.002752 -0.000735  0.004562  0.000583  0.001691 -1.360001   \n",
       "2016-01-06 -0.002889 -0.005006 -0.018165 -0.014294 -0.012614  1.250000   \n",
       "2016-01-07 -0.024140 -0.017090 -0.034783 -0.023559 -0.023991  4.400000   \n",
       "2016-01-08 -0.013617 -0.009258  0.003067 -0.010427 -0.010977  2.020000   \n",
       "...              ...       ...       ...       ...       ...       ...   \n",
       "2021-07-26  0.007668  0.010117 -0.002140  0.002396  0.002455  0.379999   \n",
       "2021-07-27 -0.015929 -0.000140 -0.008684 -0.002248 -0.004558  1.780001   \n",
       "2021-07-28  0.031797 -0.006865 -0.001117 -0.003594 -0.000410 -1.050001   \n",
       "2021-07-29 -0.002325  0.001129  0.000978  0.004179  0.004147 -0.609999   \n",
       "2021-07-30 -0.007741 -0.006834 -0.005549 -0.003820 -0.004856  0.539999   \n",
       "\n",
       "            gbpusd=x       jpy=x  msft_lag_0  msft_lag_1   dexjpus   dexusuk  \n",
       "trade_date                                                                    \n",
       "2016-01-04  1.473709  120.310997   -0.012257   -0.014740 -0.001154 -0.005541  \n",
       "2016-01-05  1.471410  119.467003    0.004562   -0.012257 -0.007015 -0.001560  \n",
       "2016-01-06  1.467394  119.101997   -0.018165    0.004562 -0.003055 -0.002729  \n",
       "2016-01-07  1.462994  118.610001   -0.034783   -0.018165 -0.004131 -0.002999  \n",
       "2016-01-08  1.462694  117.540001    0.003067   -0.034783 -0.009021 -0.000205  \n",
       "...              ...         ...         ...         ...       ...       ...  \n",
       "2021-07-26  1.375781  110.543999   -0.002140    0.012336  0.003668 -0.001168  \n",
       "2021-07-27  1.382915  110.302002   -0.008684   -0.002140 -0.002189  0.005186  \n",
       "2021-07-28  1.388272  109.806000   -0.001117   -0.008684 -0.004497  0.003873  \n",
       "2021-07-29  1.390685  109.890999    0.000978   -0.001117  0.000774  0.001738  \n",
       "2021-07-30  1.396433  109.408997   -0.005549    0.000978 -0.004386  0.004133  \n",
       "\n",
       "[1401 rows x 12 columns]"
      ]
     },
     "execution_count": 7,
     "metadata": {},
     "output_type": "execute_result"
    }
   ],
   "source": [
    "df_test = df_data.query('trade_date > \"2016-01-01\"')\n",
    "df_test"
   ]
  },
  {
   "cell_type": "markdown",
   "metadata": {},
   "source": [
    "## Training Linear Regression and K-Nearest Neighbors"
   ]
  },
  {
   "cell_type": "markdown",
   "metadata": {},
   "source": [
    "In order to train our model, we first put our training features into `X_train` and our training labels into `y_train`"
   ]
  },
  {
   "cell_type": "code",
   "execution_count": 8,
   "metadata": {},
   "outputs": [
    {
     "data": {
      "text/html": [
       "<div>\n",
       "<style scoped>\n",
       "    .dataframe tbody tr th:only-of-type {\n",
       "        vertical-align: middle;\n",
       "    }\n",
       "\n",
       "    .dataframe tbody tr th {\n",
       "        vertical-align: top;\n",
       "    }\n",
       "\n",
       "    .dataframe thead th {\n",
       "        text-align: right;\n",
       "    }\n",
       "</style>\n",
       "<table border=\"1\" class=\"dataframe\">\n",
       "  <thead>\n",
       "    <tr style=\"text-align: right;\">\n",
       "      <th></th>\n",
       "      <th>googl</th>\n",
       "      <th>ibm</th>\n",
       "      <th>dia</th>\n",
       "      <th>spy</th>\n",
       "      <th>vix</th>\n",
       "      <th>gbpusd=x</th>\n",
       "      <th>jpy=x</th>\n",
       "      <th>msft_lag_0</th>\n",
       "      <th>msft_lag_1</th>\n",
       "      <th>dexjpus</th>\n",
       "      <th>dexusuk</th>\n",
       "    </tr>\n",
       "    <tr>\n",
       "      <th>trade_date</th>\n",
       "      <th></th>\n",
       "      <th></th>\n",
       "      <th></th>\n",
       "      <th></th>\n",
       "      <th></th>\n",
       "      <th></th>\n",
       "      <th></th>\n",
       "      <th></th>\n",
       "      <th></th>\n",
       "      <th></th>\n",
       "      <th></th>\n",
       "    </tr>\n",
       "  </thead>\n",
       "  <tbody>\n",
       "    <tr>\n",
       "      <th>2005-01-05</th>\n",
       "      <td>-0.005090</td>\n",
       "      <td>-0.002068</td>\n",
       "      <td>-0.005551</td>\n",
       "      <td>-0.006900</td>\n",
       "      <td>0.110001</td>\n",
       "      <td>1.885512</td>\n",
       "      <td>103.930000</td>\n",
       "      <td>-0.002236</td>\n",
       "      <td>0.003740</td>\n",
       "      <td>-0.003929</td>\n",
       "      <td>0.001018</td>\n",
       "    </tr>\n",
       "    <tr>\n",
       "      <th>2005-01-06</th>\n",
       "      <td>-0.025632</td>\n",
       "      <td>-0.003109</td>\n",
       "      <td>0.003122</td>\n",
       "      <td>0.005084</td>\n",
       "      <td>-0.510000</td>\n",
       "      <td>1.876490</td>\n",
       "      <td>104.889999</td>\n",
       "      <td>-0.001120</td>\n",
       "      <td>-0.002236</td>\n",
       "      <td>0.009237</td>\n",
       "      <td>-0.004785</td>\n",
       "    </tr>\n",
       "    <tr>\n",
       "      <th>2005-01-07</th>\n",
       "      <td>0.028109</td>\n",
       "      <td>-0.004366</td>\n",
       "      <td>-0.001886</td>\n",
       "      <td>-0.001433</td>\n",
       "      <td>-0.090000</td>\n",
       "      <td>1.871293</td>\n",
       "      <td>104.889999</td>\n",
       "      <td>-0.002991</td>\n",
       "      <td>-0.001120</td>\n",
       "      <td>0.000000</td>\n",
       "      <td>-0.002769</td>\n",
       "    </tr>\n",
       "    <tr>\n",
       "      <th>2005-01-10</th>\n",
       "      <td>0.006242</td>\n",
       "      <td>-0.001044</td>\n",
       "      <td>0.003401</td>\n",
       "      <td>0.004728</td>\n",
       "      <td>-0.260000</td>\n",
       "      <td>1.876912</td>\n",
       "      <td>104.169998</td>\n",
       "      <td>0.004874</td>\n",
       "      <td>-0.002991</td>\n",
       "      <td>-0.006864</td>\n",
       "      <td>0.003003</td>\n",
       "    </tr>\n",
       "    <tr>\n",
       "      <th>2005-01-11</th>\n",
       "      <td>-0.007793</td>\n",
       "      <td>-0.007108</td>\n",
       "      <td>-0.006402</td>\n",
       "      <td>-0.006891</td>\n",
       "      <td>-0.040000</td>\n",
       "      <td>1.878605</td>\n",
       "      <td>103.419998</td>\n",
       "      <td>-0.002612</td>\n",
       "      <td>0.004874</td>\n",
       "      <td>-0.007200</td>\n",
       "      <td>0.000902</td>\n",
       "    </tr>\n",
       "    <tr>\n",
       "      <th>...</th>\n",
       "      <td>...</td>\n",
       "      <td>...</td>\n",
       "      <td>...</td>\n",
       "      <td>...</td>\n",
       "      <td>...</td>\n",
       "      <td>...</td>\n",
       "      <td>...</td>\n",
       "      <td>...</td>\n",
       "      <td>...</td>\n",
       "      <td>...</td>\n",
       "      <td>...</td>\n",
       "    </tr>\n",
       "    <tr>\n",
       "      <th>2015-12-23</th>\n",
       "      <td>0.001799</td>\n",
       "      <td>0.004422</td>\n",
       "      <td>0.010344</td>\n",
       "      <td>0.012384</td>\n",
       "      <td>-1.030001</td>\n",
       "      <td>1.482338</td>\n",
       "      <td>121.029999</td>\n",
       "      <td>0.008491</td>\n",
       "      <td>0.009484</td>\n",
       "      <td>-0.001452</td>\n",
       "      <td>-0.004936</td>\n",
       "    </tr>\n",
       "    <tr>\n",
       "      <th>2015-12-24</th>\n",
       "      <td>-0.003474</td>\n",
       "      <td>-0.002093</td>\n",
       "      <td>-0.003356</td>\n",
       "      <td>-0.001650</td>\n",
       "      <td>0.170000</td>\n",
       "      <td>1.487697</td>\n",
       "      <td>120.934998</td>\n",
       "      <td>-0.002687</td>\n",
       "      <td>0.008491</td>\n",
       "      <td>-0.000785</td>\n",
       "      <td>0.003615</td>\n",
       "    </tr>\n",
       "    <tr>\n",
       "      <th>2015-12-28</th>\n",
       "      <td>0.021414</td>\n",
       "      <td>-0.004629</td>\n",
       "      <td>-0.001370</td>\n",
       "      <td>-0.002285</td>\n",
       "      <td>1.170000</td>\n",
       "      <td>1.493206</td>\n",
       "      <td>120.231003</td>\n",
       "      <td>0.005029</td>\n",
       "      <td>-0.002687</td>\n",
       "      <td>-0.005821</td>\n",
       "      <td>0.003703</td>\n",
       "    </tr>\n",
       "    <tr>\n",
       "      <th>2015-12-29</th>\n",
       "      <td>0.014983</td>\n",
       "      <td>0.015769</td>\n",
       "      <td>0.011430</td>\n",
       "      <td>0.010672</td>\n",
       "      <td>-0.830000</td>\n",
       "      <td>1.489403</td>\n",
       "      <td>120.349998</td>\n",
       "      <td>0.010724</td>\n",
       "      <td>0.005029</td>\n",
       "      <td>0.000990</td>\n",
       "      <td>-0.002547</td>\n",
       "    </tr>\n",
       "    <tr>\n",
       "      <th>2015-12-30</th>\n",
       "      <td>-0.004610</td>\n",
       "      <td>-0.003148</td>\n",
       "      <td>-0.006668</td>\n",
       "      <td>-0.007088</td>\n",
       "      <td>1.210001</td>\n",
       "      <td>1.482228</td>\n",
       "      <td>120.528999</td>\n",
       "      <td>-0.004244</td>\n",
       "      <td>0.010724</td>\n",
       "      <td>0.001487</td>\n",
       "      <td>-0.004817</td>\n",
       "    </tr>\n",
       "  </tbody>\n",
       "</table>\n",
       "<p>2738 rows × 11 columns</p>\n",
       "</div>"
      ],
      "text/plain": [
       "               googl       ibm       dia       spy       vix  gbpusd=x   \n",
       "trade_date                                                               \n",
       "2005-01-05 -0.005090 -0.002068 -0.005551 -0.006900  0.110001  1.885512  \\\n",
       "2005-01-06 -0.025632 -0.003109  0.003122  0.005084 -0.510000  1.876490   \n",
       "2005-01-07  0.028109 -0.004366 -0.001886 -0.001433 -0.090000  1.871293   \n",
       "2005-01-10  0.006242 -0.001044  0.003401  0.004728 -0.260000  1.876912   \n",
       "2005-01-11 -0.007793 -0.007108 -0.006402 -0.006891 -0.040000  1.878605   \n",
       "...              ...       ...       ...       ...       ...       ...   \n",
       "2015-12-23  0.001799  0.004422  0.010344  0.012384 -1.030001  1.482338   \n",
       "2015-12-24 -0.003474 -0.002093 -0.003356 -0.001650  0.170000  1.487697   \n",
       "2015-12-28  0.021414 -0.004629 -0.001370 -0.002285  1.170000  1.493206   \n",
       "2015-12-29  0.014983  0.015769  0.011430  0.010672 -0.830000  1.489403   \n",
       "2015-12-30 -0.004610 -0.003148 -0.006668 -0.007088  1.210001  1.482228   \n",
       "\n",
       "                 jpy=x  msft_lag_0  msft_lag_1   dexjpus   dexusuk  \n",
       "trade_date                                                          \n",
       "2005-01-05  103.930000   -0.002236    0.003740 -0.003929  0.001018  \n",
       "2005-01-06  104.889999   -0.001120   -0.002236  0.009237 -0.004785  \n",
       "2005-01-07  104.889999   -0.002991   -0.001120  0.000000 -0.002769  \n",
       "2005-01-10  104.169998    0.004874   -0.002991 -0.006864  0.003003  \n",
       "2005-01-11  103.419998   -0.002612    0.004874 -0.007200  0.000902  \n",
       "...                ...         ...         ...       ...       ...  \n",
       "2015-12-23  121.029999    0.008491    0.009484 -0.001452 -0.004936  \n",
       "2015-12-24  120.934998   -0.002687    0.008491 -0.000785  0.003615  \n",
       "2015-12-28  120.231003    0.005029   -0.002687 -0.005821  0.003703  \n",
       "2015-12-29  120.349998    0.010724    0.005029  0.000990 -0.002547  \n",
       "2015-12-30  120.528999   -0.004244    0.010724  0.001487 -0.004817  \n",
       "\n",
       "[2738 rows x 11 columns]"
      ]
     },
     "execution_count": 8,
     "metadata": {},
     "output_type": "execute_result"
    }
   ],
   "source": [
    "X_train = df_train.drop(columns=['msft'])[0:len(df_train)-1]\n",
    "X_train"
   ]
  },
  {
   "cell_type": "markdown",
   "metadata": {},
   "source": [
    "Notice that the label we are predicting is the *next* day `msft` return; the features we are using to predict are the *current* day returns of the various correlated assets. "
   ]
  },
  {
   "cell_type": "code",
   "execution_count": 9,
   "metadata": {},
   "outputs": [
    {
     "data": {
      "text/html": [
       "<div>\n",
       "<style scoped>\n",
       "    .dataframe tbody tr th:only-of-type {\n",
       "        vertical-align: middle;\n",
       "    }\n",
       "\n",
       "    .dataframe tbody tr th {\n",
       "        vertical-align: top;\n",
       "    }\n",
       "\n",
       "    .dataframe thead th {\n",
       "        text-align: right;\n",
       "    }\n",
       "</style>\n",
       "<table border=\"1\" class=\"dataframe\">\n",
       "  <thead>\n",
       "    <tr style=\"text-align: right;\">\n",
       "      <th></th>\n",
       "      <th>msft</th>\n",
       "    </tr>\n",
       "    <tr>\n",
       "      <th>trade_date</th>\n",
       "      <th></th>\n",
       "    </tr>\n",
       "  </thead>\n",
       "  <tbody>\n",
       "    <tr>\n",
       "      <th>2005-01-06</th>\n",
       "      <td>-0.001120</td>\n",
       "    </tr>\n",
       "    <tr>\n",
       "      <th>2005-01-07</th>\n",
       "      <td>-0.002991</td>\n",
       "    </tr>\n",
       "    <tr>\n",
       "      <th>2005-01-10</th>\n",
       "      <td>0.004874</td>\n",
       "    </tr>\n",
       "    <tr>\n",
       "      <th>2005-01-11</th>\n",
       "      <td>-0.002612</td>\n",
       "    </tr>\n",
       "    <tr>\n",
       "      <th>2005-01-12</th>\n",
       "      <td>0.001870</td>\n",
       "    </tr>\n",
       "    <tr>\n",
       "      <th>...</th>\n",
       "      <td>...</td>\n",
       "    </tr>\n",
       "    <tr>\n",
       "      <th>2015-12-24</th>\n",
       "      <td>-0.002687</td>\n",
       "    </tr>\n",
       "    <tr>\n",
       "      <th>2015-12-28</th>\n",
       "      <td>0.005029</td>\n",
       "    </tr>\n",
       "    <tr>\n",
       "      <th>2015-12-29</th>\n",
       "      <td>0.010724</td>\n",
       "    </tr>\n",
       "    <tr>\n",
       "      <th>2015-12-30</th>\n",
       "      <td>-0.004244</td>\n",
       "    </tr>\n",
       "    <tr>\n",
       "      <th>2015-12-31</th>\n",
       "      <td>-0.014740</td>\n",
       "    </tr>\n",
       "  </tbody>\n",
       "</table>\n",
       "<p>2738 rows × 1 columns</p>\n",
       "</div>"
      ],
      "text/plain": [
       "                msft\n",
       "trade_date          \n",
       "2005-01-06 -0.001120\n",
       "2005-01-07 -0.002991\n",
       "2005-01-10  0.004874\n",
       "2005-01-11 -0.002612\n",
       "2005-01-12  0.001870\n",
       "...              ...\n",
       "2015-12-24 -0.002687\n",
       "2015-12-28  0.005029\n",
       "2015-12-29  0.010724\n",
       "2015-12-30 -0.004244\n",
       "2015-12-31 -0.014740\n",
       "\n",
       "[2738 rows x 1 columns]"
      ]
     },
     "execution_count": 9,
     "metadata": {},
     "output_type": "execute_result"
    }
   ],
   "source": [
    "y_train = df_train[['msft']][1:len(df_train)]\n",
    "y_train"
   ]
  },
  {
   "cell_type": "markdown",
   "metadata": {},
   "source": [
    "### Linear Regression"
   ]
  },
  {
   "cell_type": "markdown",
   "metadata": {},
   "source": [
    "Let's first fit a simple linear regression to our training data."
   ]
  },
  {
   "cell_type": "code",
   "execution_count": 10,
   "metadata": {},
   "outputs": [
    {
     "data": {
      "text/html": [
       "<style>#sk-container-id-1 {\n",
       "  /* Definition of color scheme common for light and dark mode */\n",
       "  --sklearn-color-text: black;\n",
       "  --sklearn-color-line: gray;\n",
       "  /* Definition of color scheme for unfitted estimators */\n",
       "  --sklearn-color-unfitted-level-0: #fff5e6;\n",
       "  --sklearn-color-unfitted-level-1: #f6e4d2;\n",
       "  --sklearn-color-unfitted-level-2: #ffe0b3;\n",
       "  --sklearn-color-unfitted-level-3: chocolate;\n",
       "  /* Definition of color scheme for fitted estimators */\n",
       "  --sklearn-color-fitted-level-0: #f0f8ff;\n",
       "  --sklearn-color-fitted-level-1: #d4ebff;\n",
       "  --sklearn-color-fitted-level-2: #b3dbfd;\n",
       "  --sklearn-color-fitted-level-3: cornflowerblue;\n",
       "\n",
       "  /* Specific color for light theme */\n",
       "  --sklearn-color-text-on-default-background: var(--sg-text-color, var(--theme-code-foreground, var(--jp-content-font-color1, black)));\n",
       "  --sklearn-color-background: var(--sg-background-color, var(--theme-background, var(--jp-layout-color0, white)));\n",
       "  --sklearn-color-border-box: var(--sg-text-color, var(--theme-code-foreground, var(--jp-content-font-color1, black)));\n",
       "  --sklearn-color-icon: #696969;\n",
       "\n",
       "  @media (prefers-color-scheme: dark) {\n",
       "    /* Redefinition of color scheme for dark theme */\n",
       "    --sklearn-color-text-on-default-background: var(--sg-text-color, var(--theme-code-foreground, var(--jp-content-font-color1, white)));\n",
       "    --sklearn-color-background: var(--sg-background-color, var(--theme-background, var(--jp-layout-color0, #111)));\n",
       "    --sklearn-color-border-box: var(--sg-text-color, var(--theme-code-foreground, var(--jp-content-font-color1, white)));\n",
       "    --sklearn-color-icon: #878787;\n",
       "  }\n",
       "}\n",
       "\n",
       "#sk-container-id-1 {\n",
       "  color: var(--sklearn-color-text);\n",
       "}\n",
       "\n",
       "#sk-container-id-1 pre {\n",
       "  padding: 0;\n",
       "}\n",
       "\n",
       "#sk-container-id-1 input.sk-hidden--visually {\n",
       "  border: 0;\n",
       "  clip: rect(1px 1px 1px 1px);\n",
       "  clip: rect(1px, 1px, 1px, 1px);\n",
       "  height: 1px;\n",
       "  margin: -1px;\n",
       "  overflow: hidden;\n",
       "  padding: 0;\n",
       "  position: absolute;\n",
       "  width: 1px;\n",
       "}\n",
       "\n",
       "#sk-container-id-1 div.sk-dashed-wrapped {\n",
       "  border: 1px dashed var(--sklearn-color-line);\n",
       "  margin: 0 0.4em 0.5em 0.4em;\n",
       "  box-sizing: border-box;\n",
       "  padding-bottom: 0.4em;\n",
       "  background-color: var(--sklearn-color-background);\n",
       "}\n",
       "\n",
       "#sk-container-id-1 div.sk-container {\n",
       "  /* jupyter's `normalize.less` sets `[hidden] { display: none; }`\n",
       "     but bootstrap.min.css set `[hidden] { display: none !important; }`\n",
       "     so we also need the `!important` here to be able to override the\n",
       "     default hidden behavior on the sphinx rendered scikit-learn.org.\n",
       "     See: https://github.com/scikit-learn/scikit-learn/issues/21755 */\n",
       "  display: inline-block !important;\n",
       "  position: relative;\n",
       "}\n",
       "\n",
       "#sk-container-id-1 div.sk-text-repr-fallback {\n",
       "  display: none;\n",
       "}\n",
       "\n",
       "div.sk-parallel-item,\n",
       "div.sk-serial,\n",
       "div.sk-item {\n",
       "  /* draw centered vertical line to link estimators */\n",
       "  background-image: linear-gradient(var(--sklearn-color-text-on-default-background), var(--sklearn-color-text-on-default-background));\n",
       "  background-size: 2px 100%;\n",
       "  background-repeat: no-repeat;\n",
       "  background-position: center center;\n",
       "}\n",
       "\n",
       "/* Parallel-specific style estimator block */\n",
       "\n",
       "#sk-container-id-1 div.sk-parallel-item::after {\n",
       "  content: \"\";\n",
       "  width: 100%;\n",
       "  border-bottom: 2px solid var(--sklearn-color-text-on-default-background);\n",
       "  flex-grow: 1;\n",
       "}\n",
       "\n",
       "#sk-container-id-1 div.sk-parallel {\n",
       "  display: flex;\n",
       "  align-items: stretch;\n",
       "  justify-content: center;\n",
       "  background-color: var(--sklearn-color-background);\n",
       "  position: relative;\n",
       "}\n",
       "\n",
       "#sk-container-id-1 div.sk-parallel-item {\n",
       "  display: flex;\n",
       "  flex-direction: column;\n",
       "}\n",
       "\n",
       "#sk-container-id-1 div.sk-parallel-item:first-child::after {\n",
       "  align-self: flex-end;\n",
       "  width: 50%;\n",
       "}\n",
       "\n",
       "#sk-container-id-1 div.sk-parallel-item:last-child::after {\n",
       "  align-self: flex-start;\n",
       "  width: 50%;\n",
       "}\n",
       "\n",
       "#sk-container-id-1 div.sk-parallel-item:only-child::after {\n",
       "  width: 0;\n",
       "}\n",
       "\n",
       "/* Serial-specific style estimator block */\n",
       "\n",
       "#sk-container-id-1 div.sk-serial {\n",
       "  display: flex;\n",
       "  flex-direction: column;\n",
       "  align-items: center;\n",
       "  background-color: var(--sklearn-color-background);\n",
       "  padding-right: 1em;\n",
       "  padding-left: 1em;\n",
       "}\n",
       "\n",
       "\n",
       "/* Toggleable style: style used for estimator/Pipeline/ColumnTransformer box that is\n",
       "clickable and can be expanded/collapsed.\n",
       "- Pipeline and ColumnTransformer use this feature and define the default style\n",
       "- Estimators will overwrite some part of the style using the `sk-estimator` class\n",
       "*/\n",
       "\n",
       "/* Pipeline and ColumnTransformer style (default) */\n",
       "\n",
       "#sk-container-id-1 div.sk-toggleable {\n",
       "  /* Default theme specific background. It is overwritten whether we have a\n",
       "  specific estimator or a Pipeline/ColumnTransformer */\n",
       "  background-color: var(--sklearn-color-background);\n",
       "}\n",
       "\n",
       "/* Toggleable label */\n",
       "#sk-container-id-1 label.sk-toggleable__label {\n",
       "  cursor: pointer;\n",
       "  display: block;\n",
       "  width: 100%;\n",
       "  margin-bottom: 0;\n",
       "  padding: 0.5em;\n",
       "  box-sizing: border-box;\n",
       "  text-align: center;\n",
       "}\n",
       "\n",
       "#sk-container-id-1 label.sk-toggleable__label-arrow:before {\n",
       "  /* Arrow on the left of the label */\n",
       "  content: \"▸\";\n",
       "  float: left;\n",
       "  margin-right: 0.25em;\n",
       "  color: var(--sklearn-color-icon);\n",
       "}\n",
       "\n",
       "#sk-container-id-1 label.sk-toggleable__label-arrow:hover:before {\n",
       "  color: var(--sklearn-color-text);\n",
       "}\n",
       "\n",
       "/* Toggleable content - dropdown */\n",
       "\n",
       "#sk-container-id-1 div.sk-toggleable__content {\n",
       "  max-height: 0;\n",
       "  max-width: 0;\n",
       "  overflow: hidden;\n",
       "  text-align: left;\n",
       "  /* unfitted */\n",
       "  background-color: var(--sklearn-color-unfitted-level-0);\n",
       "}\n",
       "\n",
       "#sk-container-id-1 div.sk-toggleable__content.fitted {\n",
       "  /* fitted */\n",
       "  background-color: var(--sklearn-color-fitted-level-0);\n",
       "}\n",
       "\n",
       "#sk-container-id-1 div.sk-toggleable__content pre {\n",
       "  margin: 0.2em;\n",
       "  border-radius: 0.25em;\n",
       "  color: var(--sklearn-color-text);\n",
       "  /* unfitted */\n",
       "  background-color: var(--sklearn-color-unfitted-level-0);\n",
       "}\n",
       "\n",
       "#sk-container-id-1 div.sk-toggleable__content.fitted pre {\n",
       "  /* unfitted */\n",
       "  background-color: var(--sklearn-color-fitted-level-0);\n",
       "}\n",
       "\n",
       "#sk-container-id-1 input.sk-toggleable__control:checked~div.sk-toggleable__content {\n",
       "  /* Expand drop-down */\n",
       "  max-height: 200px;\n",
       "  max-width: 100%;\n",
       "  overflow: auto;\n",
       "}\n",
       "\n",
       "#sk-container-id-1 input.sk-toggleable__control:checked~label.sk-toggleable__label-arrow:before {\n",
       "  content: \"▾\";\n",
       "}\n",
       "\n",
       "/* Pipeline/ColumnTransformer-specific style */\n",
       "\n",
       "#sk-container-id-1 div.sk-label input.sk-toggleable__control:checked~label.sk-toggleable__label {\n",
       "  color: var(--sklearn-color-text);\n",
       "  background-color: var(--sklearn-color-unfitted-level-2);\n",
       "}\n",
       "\n",
       "#sk-container-id-1 div.sk-label.fitted input.sk-toggleable__control:checked~label.sk-toggleable__label {\n",
       "  background-color: var(--sklearn-color-fitted-level-2);\n",
       "}\n",
       "\n",
       "/* Estimator-specific style */\n",
       "\n",
       "/* Colorize estimator box */\n",
       "#sk-container-id-1 div.sk-estimator input.sk-toggleable__control:checked~label.sk-toggleable__label {\n",
       "  /* unfitted */\n",
       "  background-color: var(--sklearn-color-unfitted-level-2);\n",
       "}\n",
       "\n",
       "#sk-container-id-1 div.sk-estimator.fitted input.sk-toggleable__control:checked~label.sk-toggleable__label {\n",
       "  /* fitted */\n",
       "  background-color: var(--sklearn-color-fitted-level-2);\n",
       "}\n",
       "\n",
       "#sk-container-id-1 div.sk-label label.sk-toggleable__label,\n",
       "#sk-container-id-1 div.sk-label label {\n",
       "  /* The background is the default theme color */\n",
       "  color: var(--sklearn-color-text-on-default-background);\n",
       "}\n",
       "\n",
       "/* On hover, darken the color of the background */\n",
       "#sk-container-id-1 div.sk-label:hover label.sk-toggleable__label {\n",
       "  color: var(--sklearn-color-text);\n",
       "  background-color: var(--sklearn-color-unfitted-level-2);\n",
       "}\n",
       "\n",
       "/* Label box, darken color on hover, fitted */\n",
       "#sk-container-id-1 div.sk-label.fitted:hover label.sk-toggleable__label.fitted {\n",
       "  color: var(--sklearn-color-text);\n",
       "  background-color: var(--sklearn-color-fitted-level-2);\n",
       "}\n",
       "\n",
       "/* Estimator label */\n",
       "\n",
       "#sk-container-id-1 div.sk-label label {\n",
       "  font-family: monospace;\n",
       "  font-weight: bold;\n",
       "  display: inline-block;\n",
       "  line-height: 1.2em;\n",
       "}\n",
       "\n",
       "#sk-container-id-1 div.sk-label-container {\n",
       "  text-align: center;\n",
       "}\n",
       "\n",
       "/* Estimator-specific */\n",
       "#sk-container-id-1 div.sk-estimator {\n",
       "  font-family: monospace;\n",
       "  border: 1px dotted var(--sklearn-color-border-box);\n",
       "  border-radius: 0.25em;\n",
       "  box-sizing: border-box;\n",
       "  margin-bottom: 0.5em;\n",
       "  /* unfitted */\n",
       "  background-color: var(--sklearn-color-unfitted-level-0);\n",
       "}\n",
       "\n",
       "#sk-container-id-1 div.sk-estimator.fitted {\n",
       "  /* fitted */\n",
       "  background-color: var(--sklearn-color-fitted-level-0);\n",
       "}\n",
       "\n",
       "/* on hover */\n",
       "#sk-container-id-1 div.sk-estimator:hover {\n",
       "  /* unfitted */\n",
       "  background-color: var(--sklearn-color-unfitted-level-2);\n",
       "}\n",
       "\n",
       "#sk-container-id-1 div.sk-estimator.fitted:hover {\n",
       "  /* fitted */\n",
       "  background-color: var(--sklearn-color-fitted-level-2);\n",
       "}\n",
       "\n",
       "/* Specification for estimator info (e.g. \"i\" and \"?\") */\n",
       "\n",
       "/* Common style for \"i\" and \"?\" */\n",
       "\n",
       ".sk-estimator-doc-link,\n",
       "a:link.sk-estimator-doc-link,\n",
       "a:visited.sk-estimator-doc-link {\n",
       "  float: right;\n",
       "  font-size: smaller;\n",
       "  line-height: 1em;\n",
       "  font-family: monospace;\n",
       "  background-color: var(--sklearn-color-background);\n",
       "  border-radius: 1em;\n",
       "  height: 1em;\n",
       "  width: 1em;\n",
       "  text-decoration: none !important;\n",
       "  margin-left: 1ex;\n",
       "  /* unfitted */\n",
       "  border: var(--sklearn-color-unfitted-level-1) 1pt solid;\n",
       "  color: var(--sklearn-color-unfitted-level-1);\n",
       "}\n",
       "\n",
       ".sk-estimator-doc-link.fitted,\n",
       "a:link.sk-estimator-doc-link.fitted,\n",
       "a:visited.sk-estimator-doc-link.fitted {\n",
       "  /* fitted */\n",
       "  border: var(--sklearn-color-fitted-level-1) 1pt solid;\n",
       "  color: var(--sklearn-color-fitted-level-1);\n",
       "}\n",
       "\n",
       "/* On hover */\n",
       "div.sk-estimator:hover .sk-estimator-doc-link:hover,\n",
       ".sk-estimator-doc-link:hover,\n",
       "div.sk-label-container:hover .sk-estimator-doc-link:hover,\n",
       ".sk-estimator-doc-link:hover {\n",
       "  /* unfitted */\n",
       "  background-color: var(--sklearn-color-unfitted-level-3);\n",
       "  color: var(--sklearn-color-background);\n",
       "  text-decoration: none;\n",
       "}\n",
       "\n",
       "div.sk-estimator.fitted:hover .sk-estimator-doc-link.fitted:hover,\n",
       ".sk-estimator-doc-link.fitted:hover,\n",
       "div.sk-label-container:hover .sk-estimator-doc-link.fitted:hover,\n",
       ".sk-estimator-doc-link.fitted:hover {\n",
       "  /* fitted */\n",
       "  background-color: var(--sklearn-color-fitted-level-3);\n",
       "  color: var(--sklearn-color-background);\n",
       "  text-decoration: none;\n",
       "}\n",
       "\n",
       "/* Span, style for the box shown on hovering the info icon */\n",
       ".sk-estimator-doc-link span {\n",
       "  display: none;\n",
       "  z-index: 9999;\n",
       "  position: relative;\n",
       "  font-weight: normal;\n",
       "  right: .2ex;\n",
       "  padding: .5ex;\n",
       "  margin: .5ex;\n",
       "  width: min-content;\n",
       "  min-width: 20ex;\n",
       "  max-width: 50ex;\n",
       "  color: var(--sklearn-color-text);\n",
       "  box-shadow: 2pt 2pt 4pt #999;\n",
       "  /* unfitted */\n",
       "  background: var(--sklearn-color-unfitted-level-0);\n",
       "  border: .5pt solid var(--sklearn-color-unfitted-level-3);\n",
       "}\n",
       "\n",
       ".sk-estimator-doc-link.fitted span {\n",
       "  /* fitted */\n",
       "  background: var(--sklearn-color-fitted-level-0);\n",
       "  border: var(--sklearn-color-fitted-level-3);\n",
       "}\n",
       "\n",
       ".sk-estimator-doc-link:hover span {\n",
       "  display: block;\n",
       "}\n",
       "\n",
       "/* \"?\"-specific style due to the `<a>` HTML tag */\n",
       "\n",
       "#sk-container-id-1 a.estimator_doc_link {\n",
       "  float: right;\n",
       "  font-size: 1rem;\n",
       "  line-height: 1em;\n",
       "  font-family: monospace;\n",
       "  background-color: var(--sklearn-color-background);\n",
       "  border-radius: 1rem;\n",
       "  height: 1rem;\n",
       "  width: 1rem;\n",
       "  text-decoration: none;\n",
       "  /* unfitted */\n",
       "  color: var(--sklearn-color-unfitted-level-1);\n",
       "  border: var(--sklearn-color-unfitted-level-1) 1pt solid;\n",
       "}\n",
       "\n",
       "#sk-container-id-1 a.estimator_doc_link.fitted {\n",
       "  /* fitted */\n",
       "  border: var(--sklearn-color-fitted-level-1) 1pt solid;\n",
       "  color: var(--sklearn-color-fitted-level-1);\n",
       "}\n",
       "\n",
       "/* On hover */\n",
       "#sk-container-id-1 a.estimator_doc_link:hover {\n",
       "  /* unfitted */\n",
       "  background-color: var(--sklearn-color-unfitted-level-3);\n",
       "  color: var(--sklearn-color-background);\n",
       "  text-decoration: none;\n",
       "}\n",
       "\n",
       "#sk-container-id-1 a.estimator_doc_link.fitted:hover {\n",
       "  /* fitted */\n",
       "  background-color: var(--sklearn-color-fitted-level-3);\n",
       "}\n",
       "</style><div id=\"sk-container-id-1\" class=\"sk-top-container\"><div class=\"sk-text-repr-fallback\"><pre>LinearRegression()</pre><b>In a Jupyter environment, please rerun this cell to show the HTML representation or trust the notebook. <br />On GitHub, the HTML representation is unable to render, please try loading this page with nbviewer.org.</b></div><div class=\"sk-container\" hidden><div class=\"sk-item\"><div class=\"sk-estimator fitted sk-toggleable\"><input class=\"sk-toggleable__control sk-hidden--visually\" id=\"sk-estimator-id-1\" type=\"checkbox\" checked><label for=\"sk-estimator-id-1\" class=\"sk-toggleable__label fitted sk-toggleable__label-arrow fitted\">&nbsp;&nbsp;LinearRegression<a class=\"sk-estimator-doc-link fitted\" rel=\"noreferrer\" target=\"_blank\" href=\"https://scikit-learn.org/1.5/modules/generated/sklearn.linear_model.LinearRegression.html\">?<span>Documentation for LinearRegression</span></a><span class=\"sk-estimator-doc-link fitted\">i<span>Fitted</span></span></label><div class=\"sk-toggleable__content fitted\"><pre>LinearRegression()</pre></div> </div></div></div></div>"
      ],
      "text/plain": [
       "LinearRegression()"
      ]
     },
     "execution_count": 10,
     "metadata": {},
     "output_type": "execute_result"
    }
   ],
   "source": [
    "from sklearn.linear_model import LinearRegression\n",
    "linear_regression = LinearRegression()\n",
    "linear_regression.fit(X_train, y_train)"
   ]
  },
  {
   "cell_type": "markdown",
   "metadata": {},
   "source": [
    "Recall that the `.score()` of a `LinearRegression` gives the $R^2$."
   ]
  },
  {
   "cell_type": "code",
   "execution_count": 11,
   "metadata": {},
   "outputs": [
    {
     "data": {
      "text/plain": [
       "0.017959946658375414"
      ]
     },
     "execution_count": 11,
     "metadata": {},
     "output_type": "execute_result"
    }
   ],
   "source": [
    "linear_regression.score(X_train, y_train)"
   ]
  },
  {
   "cell_type": "markdown",
   "metadata": {},
   "source": [
    "We can also examine the coefficients of our model."
   ]
  },
  {
   "cell_type": "code",
   "execution_count": 12,
   "metadata": {},
   "outputs": [
    {
     "data": {
      "text/plain": [
       "array([[ 0.002, -0.016,  0.214, -0.328,  0.   , -0.003,  0.   ,  0.012,\n",
       "        -0.048, -0.002, -0.002]])"
      ]
     },
     "execution_count": 12,
     "metadata": {},
     "output_type": "execute_result"
    }
   ],
   "source": [
    "np.round(linear_regression.coef_, 3)"
   ]
  },
  {
   "cell_type": "markdown",
   "metadata": {},
   "source": [
    "### KNN"
   ]
  },
  {
   "cell_type": "markdown",
   "metadata": {},
   "source": [
    "Next, let's fit a KNN to our model.  As you can see, the in-sample $R^2$ is higher for KNN over Linear Regression."
   ]
  },
  {
   "cell_type": "code",
   "execution_count": 13,
   "metadata": {},
   "outputs": [
    {
     "data": {
      "text/plain": [
       "0.1212395470121359"
      ]
     },
     "execution_count": 13,
     "metadata": {},
     "output_type": "execute_result"
    }
   ],
   "source": [
    "from sklearn.neighbors import KNeighborsRegressor\n",
    "knn = KNeighborsRegressor(n_neighbors=10)\n",
    "knn.fit(X_train, y_train)\n",
    "knn.score(X_train, y_train)"
   ]
  },
  {
   "cell_type": "markdown",
   "metadata": {},
   "source": [
    "#### Mean-Squared Error"
   ]
  },
  {
   "cell_type": "markdown",
   "metadata": {},
   "source": [
    "Another goodness-of-fit metric is the mean squared error.  As you can see the models are close on this metric."
   ]
  },
  {
   "cell_type": "code",
   "execution_count": 14,
   "metadata": {},
   "outputs": [
    {
     "data": {
      "text/plain": [
       "0.000294029286668637"
      ]
     },
     "execution_count": 14,
     "metadata": {},
     "output_type": "execute_result"
    }
   ],
   "source": [
    "sklearn.metrics.mean_squared_error(y_train, linear_regression.predict(X_train))"
   ]
  },
  {
   "cell_type": "code",
   "execution_count": 15,
   "metadata": {},
   "outputs": [
    {
     "data": {
      "text/plain": [
       "0.00026310669128558063"
      ]
     },
     "execution_count": 15,
     "metadata": {},
     "output_type": "execute_result"
    }
   ],
   "source": [
    "sklearn.metrics.mean_squared_error(y_train, knn.predict(X_train))"
   ]
  },
  {
   "cell_type": "markdown",
   "metadata": {},
   "source": [
    "## Testing Linear Regression and K-Nearest Neighbors"
   ]
  },
  {
   "cell_type": "markdown",
   "metadata": {},
   "source": [
    "Let's now test the model with the data after 2016."
   ]
  },
  {
   "cell_type": "code",
   "execution_count": 16,
   "metadata": {},
   "outputs": [
    {
     "data": {
      "text/html": [
       "<div>\n",
       "<style scoped>\n",
       "    .dataframe tbody tr th:only-of-type {\n",
       "        vertical-align: middle;\n",
       "    }\n",
       "\n",
       "    .dataframe tbody tr th {\n",
       "        vertical-align: top;\n",
       "    }\n",
       "\n",
       "    .dataframe thead th {\n",
       "        text-align: right;\n",
       "    }\n",
       "</style>\n",
       "<table border=\"1\" class=\"dataframe\">\n",
       "  <thead>\n",
       "    <tr style=\"text-align: right;\">\n",
       "      <th></th>\n",
       "      <th>googl</th>\n",
       "      <th>ibm</th>\n",
       "      <th>dia</th>\n",
       "      <th>spy</th>\n",
       "      <th>vix</th>\n",
       "      <th>gbpusd=x</th>\n",
       "      <th>jpy=x</th>\n",
       "      <th>msft_lag_0</th>\n",
       "      <th>msft_lag_1</th>\n",
       "      <th>dexjpus</th>\n",
       "      <th>dexusuk</th>\n",
       "    </tr>\n",
       "    <tr>\n",
       "      <th>trade_date</th>\n",
       "      <th></th>\n",
       "      <th></th>\n",
       "      <th></th>\n",
       "      <th></th>\n",
       "      <th></th>\n",
       "      <th></th>\n",
       "      <th></th>\n",
       "      <th></th>\n",
       "      <th></th>\n",
       "      <th></th>\n",
       "      <th></th>\n",
       "    </tr>\n",
       "  </thead>\n",
       "  <tbody>\n",
       "    <tr>\n",
       "      <th>2016-01-04</th>\n",
       "      <td>-0.023869</td>\n",
       "      <td>-0.012135</td>\n",
       "      <td>-0.015518</td>\n",
       "      <td>-0.013979</td>\n",
       "      <td>2.490002</td>\n",
       "      <td>1.473709</td>\n",
       "      <td>120.310997</td>\n",
       "      <td>-0.012257</td>\n",
       "      <td>-0.014740</td>\n",
       "      <td>-0.001154</td>\n",
       "      <td>-0.005541</td>\n",
       "    </tr>\n",
       "    <tr>\n",
       "      <th>2016-01-05</th>\n",
       "      <td>0.002752</td>\n",
       "      <td>-0.000735</td>\n",
       "      <td>0.000583</td>\n",
       "      <td>0.001691</td>\n",
       "      <td>-1.360001</td>\n",
       "      <td>1.471410</td>\n",
       "      <td>119.467003</td>\n",
       "      <td>0.004562</td>\n",
       "      <td>-0.012257</td>\n",
       "      <td>-0.007015</td>\n",
       "      <td>-0.001560</td>\n",
       "    </tr>\n",
       "    <tr>\n",
       "      <th>2016-01-06</th>\n",
       "      <td>-0.002889</td>\n",
       "      <td>-0.005006</td>\n",
       "      <td>-0.014294</td>\n",
       "      <td>-0.012614</td>\n",
       "      <td>1.250000</td>\n",
       "      <td>1.467394</td>\n",
       "      <td>119.101997</td>\n",
       "      <td>-0.018165</td>\n",
       "      <td>0.004562</td>\n",
       "      <td>-0.003055</td>\n",
       "      <td>-0.002729</td>\n",
       "    </tr>\n",
       "    <tr>\n",
       "      <th>2016-01-07</th>\n",
       "      <td>-0.024140</td>\n",
       "      <td>-0.017090</td>\n",
       "      <td>-0.023559</td>\n",
       "      <td>-0.023991</td>\n",
       "      <td>4.400000</td>\n",
       "      <td>1.462994</td>\n",
       "      <td>118.610001</td>\n",
       "      <td>-0.034783</td>\n",
       "      <td>-0.018165</td>\n",
       "      <td>-0.004131</td>\n",
       "      <td>-0.002999</td>\n",
       "    </tr>\n",
       "    <tr>\n",
       "      <th>2016-01-08</th>\n",
       "      <td>-0.013617</td>\n",
       "      <td>-0.009258</td>\n",
       "      <td>-0.010427</td>\n",
       "      <td>-0.010977</td>\n",
       "      <td>2.020000</td>\n",
       "      <td>1.462694</td>\n",
       "      <td>117.540001</td>\n",
       "      <td>0.003067</td>\n",
       "      <td>-0.034783</td>\n",
       "      <td>-0.009021</td>\n",
       "      <td>-0.000205</td>\n",
       "    </tr>\n",
       "    <tr>\n",
       "      <th>...</th>\n",
       "      <td>...</td>\n",
       "      <td>...</td>\n",
       "      <td>...</td>\n",
       "      <td>...</td>\n",
       "      <td>...</td>\n",
       "      <td>...</td>\n",
       "      <td>...</td>\n",
       "      <td>...</td>\n",
       "      <td>...</td>\n",
       "      <td>...</td>\n",
       "      <td>...</td>\n",
       "    </tr>\n",
       "    <tr>\n",
       "      <th>2021-07-23</th>\n",
       "      <td>0.035769</td>\n",
       "      <td>0.004477</td>\n",
       "      <td>0.006633</td>\n",
       "      <td>0.010288</td>\n",
       "      <td>-0.490000</td>\n",
       "      <td>1.377390</td>\n",
       "      <td>110.139999</td>\n",
       "      <td>0.012336</td>\n",
       "      <td>0.016845</td>\n",
       "      <td>-0.001043</td>\n",
       "      <td>0.004365</td>\n",
       "    </tr>\n",
       "    <tr>\n",
       "      <th>2021-07-26</th>\n",
       "      <td>0.007668</td>\n",
       "      <td>0.010117</td>\n",
       "      <td>0.002396</td>\n",
       "      <td>0.002455</td>\n",
       "      <td>0.379999</td>\n",
       "      <td>1.375781</td>\n",
       "      <td>110.543999</td>\n",
       "      <td>-0.002140</td>\n",
       "      <td>0.012336</td>\n",
       "      <td>0.003668</td>\n",
       "      <td>-0.001168</td>\n",
       "    </tr>\n",
       "    <tr>\n",
       "      <th>2021-07-27</th>\n",
       "      <td>-0.015929</td>\n",
       "      <td>-0.000140</td>\n",
       "      <td>-0.002248</td>\n",
       "      <td>-0.004558</td>\n",
       "      <td>1.780001</td>\n",
       "      <td>1.382915</td>\n",
       "      <td>110.302002</td>\n",
       "      <td>-0.008684</td>\n",
       "      <td>-0.002140</td>\n",
       "      <td>-0.002189</td>\n",
       "      <td>0.005186</td>\n",
       "    </tr>\n",
       "    <tr>\n",
       "      <th>2021-07-28</th>\n",
       "      <td>0.031797</td>\n",
       "      <td>-0.006865</td>\n",
       "      <td>-0.003594</td>\n",
       "      <td>-0.000410</td>\n",
       "      <td>-1.050001</td>\n",
       "      <td>1.388272</td>\n",
       "      <td>109.806000</td>\n",
       "      <td>-0.001117</td>\n",
       "      <td>-0.008684</td>\n",
       "      <td>-0.004497</td>\n",
       "      <td>0.003873</td>\n",
       "    </tr>\n",
       "    <tr>\n",
       "      <th>2021-07-29</th>\n",
       "      <td>-0.002325</td>\n",
       "      <td>0.001129</td>\n",
       "      <td>0.004179</td>\n",
       "      <td>0.004147</td>\n",
       "      <td>-0.609999</td>\n",
       "      <td>1.390685</td>\n",
       "      <td>109.890999</td>\n",
       "      <td>0.000978</td>\n",
       "      <td>-0.001117</td>\n",
       "      <td>0.000774</td>\n",
       "      <td>0.001738</td>\n",
       "    </tr>\n",
       "  </tbody>\n",
       "</table>\n",
       "<p>1400 rows × 11 columns</p>\n",
       "</div>"
      ],
      "text/plain": [
       "               googl       ibm       dia       spy       vix  gbpusd=x   \n",
       "trade_date                                                               \n",
       "2016-01-04 -0.023869 -0.012135 -0.015518 -0.013979  2.490002  1.473709  \\\n",
       "2016-01-05  0.002752 -0.000735  0.000583  0.001691 -1.360001  1.471410   \n",
       "2016-01-06 -0.002889 -0.005006 -0.014294 -0.012614  1.250000  1.467394   \n",
       "2016-01-07 -0.024140 -0.017090 -0.023559 -0.023991  4.400000  1.462994   \n",
       "2016-01-08 -0.013617 -0.009258 -0.010427 -0.010977  2.020000  1.462694   \n",
       "...              ...       ...       ...       ...       ...       ...   \n",
       "2021-07-23  0.035769  0.004477  0.006633  0.010288 -0.490000  1.377390   \n",
       "2021-07-26  0.007668  0.010117  0.002396  0.002455  0.379999  1.375781   \n",
       "2021-07-27 -0.015929 -0.000140 -0.002248 -0.004558  1.780001  1.382915   \n",
       "2021-07-28  0.031797 -0.006865 -0.003594 -0.000410 -1.050001  1.388272   \n",
       "2021-07-29 -0.002325  0.001129  0.004179  0.004147 -0.609999  1.390685   \n",
       "\n",
       "                 jpy=x  msft_lag_0  msft_lag_1   dexjpus   dexusuk  \n",
       "trade_date                                                          \n",
       "2016-01-04  120.310997   -0.012257   -0.014740 -0.001154 -0.005541  \n",
       "2016-01-05  119.467003    0.004562   -0.012257 -0.007015 -0.001560  \n",
       "2016-01-06  119.101997   -0.018165    0.004562 -0.003055 -0.002729  \n",
       "2016-01-07  118.610001   -0.034783   -0.018165 -0.004131 -0.002999  \n",
       "2016-01-08  117.540001    0.003067   -0.034783 -0.009021 -0.000205  \n",
       "...                ...         ...         ...       ...       ...  \n",
       "2021-07-23  110.139999    0.012336    0.016845 -0.001043  0.004365  \n",
       "2021-07-26  110.543999   -0.002140    0.012336  0.003668 -0.001168  \n",
       "2021-07-27  110.302002   -0.008684   -0.002140 -0.002189  0.005186  \n",
       "2021-07-28  109.806000   -0.001117   -0.008684 -0.004497  0.003873  \n",
       "2021-07-29  109.890999    0.000978   -0.001117  0.000774  0.001738  \n",
       "\n",
       "[1400 rows x 11 columns]"
      ]
     },
     "execution_count": 16,
     "metadata": {},
     "output_type": "execute_result"
    }
   ],
   "source": [
    "X_test = df_test.drop(columns=['msft'])[0:len(df_test)-1]\n",
    "X_test"
   ]
  },
  {
   "cell_type": "code",
   "execution_count": 17,
   "metadata": {},
   "outputs": [
    {
     "data": {
      "text/html": [
       "<div>\n",
       "<style scoped>\n",
       "    .dataframe tbody tr th:only-of-type {\n",
       "        vertical-align: middle;\n",
       "    }\n",
       "\n",
       "    .dataframe tbody tr th {\n",
       "        vertical-align: top;\n",
       "    }\n",
       "\n",
       "    .dataframe thead th {\n",
       "        text-align: right;\n",
       "    }\n",
       "</style>\n",
       "<table border=\"1\" class=\"dataframe\">\n",
       "  <thead>\n",
       "    <tr style=\"text-align: right;\">\n",
       "      <th></th>\n",
       "      <th>msft</th>\n",
       "    </tr>\n",
       "    <tr>\n",
       "      <th>trade_date</th>\n",
       "      <th></th>\n",
       "    </tr>\n",
       "  </thead>\n",
       "  <tbody>\n",
       "    <tr>\n",
       "      <th>2016-01-05</th>\n",
       "      <td>0.004562</td>\n",
       "    </tr>\n",
       "    <tr>\n",
       "      <th>2016-01-06</th>\n",
       "      <td>-0.018165</td>\n",
       "    </tr>\n",
       "    <tr>\n",
       "      <th>2016-01-07</th>\n",
       "      <td>-0.034783</td>\n",
       "    </tr>\n",
       "    <tr>\n",
       "      <th>2016-01-08</th>\n",
       "      <td>0.003067</td>\n",
       "    </tr>\n",
       "    <tr>\n",
       "      <th>2016-01-11</th>\n",
       "      <td>-0.000573</td>\n",
       "    </tr>\n",
       "    <tr>\n",
       "      <th>...</th>\n",
       "      <td>...</td>\n",
       "    </tr>\n",
       "    <tr>\n",
       "      <th>2021-07-26</th>\n",
       "      <td>-0.002140</td>\n",
       "    </tr>\n",
       "    <tr>\n",
       "      <th>2021-07-27</th>\n",
       "      <td>-0.008684</td>\n",
       "    </tr>\n",
       "    <tr>\n",
       "      <th>2021-07-28</th>\n",
       "      <td>-0.001117</td>\n",
       "    </tr>\n",
       "    <tr>\n",
       "      <th>2021-07-29</th>\n",
       "      <td>0.000978</td>\n",
       "    </tr>\n",
       "    <tr>\n",
       "      <th>2021-07-30</th>\n",
       "      <td>-0.005549</td>\n",
       "    </tr>\n",
       "  </tbody>\n",
       "</table>\n",
       "<p>1400 rows × 1 columns</p>\n",
       "</div>"
      ],
      "text/plain": [
       "                msft\n",
       "trade_date          \n",
       "2016-01-05  0.004562\n",
       "2016-01-06 -0.018165\n",
       "2016-01-07 -0.034783\n",
       "2016-01-08  0.003067\n",
       "2016-01-11 -0.000573\n",
       "...              ...\n",
       "2021-07-26 -0.002140\n",
       "2021-07-27 -0.008684\n",
       "2021-07-28 -0.001117\n",
       "2021-07-29  0.000978\n",
       "2021-07-30 -0.005549\n",
       "\n",
       "[1400 rows x 1 columns]"
      ]
     },
     "execution_count": 17,
     "metadata": {},
     "output_type": "execute_result"
    }
   ],
   "source": [
    "y_test = df_test[['msft']][1:len(df_test)]\n",
    "y_test"
   ]
  },
  {
   "cell_type": "markdown",
   "metadata": {},
   "source": [
    "In terms of $R^2$, the `LinearRegression` performs better than KNN on the testing data."
   ]
  },
  {
   "cell_type": "code",
   "execution_count": 18,
   "metadata": {},
   "outputs": [
    {
     "data": {
      "text/plain": [
       "0.03710052545948106"
      ]
     },
     "execution_count": 18,
     "metadata": {},
     "output_type": "execute_result"
    }
   ],
   "source": [
    "linear_regression.score(X_test, y_test)"
   ]
  },
  {
   "cell_type": "code",
   "execution_count": 19,
   "metadata": {},
   "outputs": [
    {
     "data": {
      "text/plain": [
       "-0.022694775311824067"
      ]
     },
     "execution_count": 19,
     "metadata": {},
     "output_type": "execute_result"
    }
   ],
   "source": [
    "knn.score(X_test, y_test)"
   ]
  },
  {
   "cell_type": "markdown",
   "metadata": {},
   "source": [
    "On the testing data, the models are again quite similar from an mean squared error perspective."
   ]
  },
  {
   "cell_type": "code",
   "execution_count": 20,
   "metadata": {},
   "outputs": [
    {
     "data": {
      "text/plain": [
       "0.00028192086585344305"
      ]
     },
     "execution_count": 20,
     "metadata": {},
     "output_type": "execute_result"
    }
   ],
   "source": [
    "sklearn.metrics.mean_squared_error(y_test, linear_regression.predict(X_test))"
   ]
  },
  {
   "cell_type": "code",
   "execution_count": 21,
   "metadata": {},
   "outputs": [
    {
     "data": {
      "text/plain": [
       "0.0002994279301037974"
      ]
     },
     "execution_count": 21,
     "metadata": {},
     "output_type": "execute_result"
    }
   ],
   "source": [
    "sklearn.metrics.mean_squared_error(y_test, knn.predict(X_test))"
   ]
  },
  {
   "cell_type": "markdown",
   "metadata": {},
   "source": [
    "## Neural Network"
   ]
  },
  {
   "cell_type": "markdown",
   "metadata": {},
   "source": [
    "Let's now fit our first neural network.  We begin by importing some addition packages and functions."
   ]
  },
  {
   "cell_type": "code",
   "execution_count": 22,
   "metadata": {},
   "outputs": [
    {
     "name": "stderr",
     "output_type": "stream",
     "text": [
      "2025-09-15 15:56:21.845234: I tensorflow/tsl/cuda/cudart_stub.cc:28] Could not find cuda drivers on your machine, GPU will not be used.\n",
      "2025-09-15 15:56:21.881683: E tensorflow/compiler/xla/stream_executor/cuda/cuda_dnn.cc:9342] Unable to register cuDNN factory: Attempting to register factory for plugin cuDNN when one has already been registered\n",
      "2025-09-15 15:56:21.881713: E tensorflow/compiler/xla/stream_executor/cuda/cuda_fft.cc:609] Unable to register cuFFT factory: Attempting to register factory for plugin cuFFT when one has already been registered\n",
      "2025-09-15 15:56:21.881741: E tensorflow/compiler/xla/stream_executor/cuda/cuda_blas.cc:1518] Unable to register cuBLAS factory: Attempting to register factory for plugin cuBLAS when one has already been registered\n",
      "2025-09-15 15:56:21.888254: I tensorflow/tsl/cuda/cudart_stub.cc:28] Could not find cuda drivers on your machine, GPU will not be used.\n",
      "2025-09-15 15:56:21.888862: I tensorflow/core/platform/cpu_feature_guard.cc:182] This TensorFlow binary is optimized to use available CPU instructions in performance-critical operations.\n",
      "To enable the following instructions: AVX2 FMA, in other operations, rebuild TensorFlow with the appropriate compiler flags.\n",
      "2025-09-15 15:56:22.671910: W tensorflow/compiler/tf2tensorrt/utils/py_utils.cc:38] TF-TRT Warning: Could not find TensorRT\n"
     ]
    }
   ],
   "source": [
    "import random\n",
    "import tensorflow as tf\n",
    "from tensorflow.keras.layers import Dense\n",
    "from tensorflow.keras.models import Sequential\n",
    "from tensorflow.keras.optimizers import Adam"
   ]
  },
  {
   "cell_type": "markdown",
   "metadata": {},
   "source": [
    "In order to make our results reproducible, we'll use the following user defined function to set the various seeds for random number generation (this doesn't seem to fully work for some reason, although in previous chapters it seems to work, I'm not sure what the difference is)."
   ]
  },
  {
   "cell_type": "code",
   "execution_count": 23,
   "metadata": {},
   "outputs": [],
   "source": [
    "def set_seeds(seed=100):\n",
    "    random.seed(seed)\n",
    "    np.random.seed(seed)\n",
    "    tf.random.set_seed(seed)"
   ]
  },
  {
   "cell_type": "code",
   "execution_count": 24,
   "metadata": {},
   "outputs": [],
   "source": [
    "set_seeds()"
   ]
  },
  {
   "cell_type": "markdown",
   "metadata": {},
   "source": [
    "Now we can build and compile our model."
   ]
  },
  {
   "cell_type": "code",
   "execution_count": 25,
   "metadata": {},
   "outputs": [],
   "source": [
    "model = Sequential()\n",
    "model.add(Dense(units=128, input_dim=len(X_train.columns), activation='relu'))\n",
    "model.add(Dense(units=128, activation='relu'))\n",
    "model.add(Dense(1))\n",
    "model.compile(optimizer='rmsprop', loss='mse', metrics=['mae'])"
   ]
  },
  {
   "cell_type": "markdown",
   "metadata": {},
   "source": [
    "Let's fit our model."
   ]
  },
  {
   "cell_type": "code",
   "execution_count": 26,
   "metadata": {},
   "outputs": [
    {
     "name": "stdout",
     "output_type": "stream",
     "text": [
      "CPU times: user 5.76 s, sys: 286 ms, total: 6.04 s\n",
      "Wall time: 4.23 s\n"
     ]
    }
   ],
   "source": [
    "%%time\n",
    "model.fit(X_train, y_train, epochs=50, batch_size=32, verbose=0);"
   ]
  },
  {
   "cell_type": "markdown",
   "metadata": {},
   "source": [
    "As we can see from our two metrics, this baseline neural network performs better than `LinearRegression` and k-nearest neighbors."
   ]
  },
  {
   "cell_type": "code",
   "execution_count": 27,
   "metadata": {},
   "outputs": [
    {
     "name": "stdout",
     "output_type": "stream",
     "text": [
      "44/44 [==============================] - 0s 769us/step\n"
     ]
    },
    {
     "data": {
      "text/plain": [
       "0.061010003089904785"
      ]
     },
     "execution_count": 27,
     "metadata": {},
     "output_type": "execute_result"
    }
   ],
   "source": [
    "sklearn.metrics.r2_score(y_test, model.predict(X_test))"
   ]
  },
  {
   "cell_type": "code",
   "execution_count": 28,
   "metadata": {},
   "outputs": [
    {
     "name": "stdout",
     "output_type": "stream",
     "text": [
      "44/44 [==============================] - 0s 919us/step\n"
     ]
    },
    {
     "data": {
      "text/plain": [
       "0.0002749205786398829"
      ]
     },
     "execution_count": 28,
     "metadata": {},
     "output_type": "execute_result"
    }
   ],
   "source": [
    "sklearn.metrics.mean_squared_error(y_test, model.predict(X_test))"
   ]
  },
  {
   "cell_type": "markdown",
   "metadata": {},
   "source": [
    "## Normalization"
   ]
  },
  {
   "cell_type": "markdown",
   "metadata": {},
   "source": [
    "Next, let's normalize our data and refit."
   ]
  },
  {
   "cell_type": "code",
   "execution_count": 29,
   "metadata": {},
   "outputs": [],
   "source": [
    "mu = X_train.mean()\n",
    "std = X_train.std()"
   ]
  },
  {
   "cell_type": "code",
   "execution_count": 30,
   "metadata": {},
   "outputs": [],
   "source": [
    "X_train_scaled = (X_train - mu) / std\n",
    "X_test_scaled = (X_test - mu) / std"
   ]
  },
  {
   "cell_type": "code",
   "execution_count": 31,
   "metadata": {},
   "outputs": [],
   "source": [
    "set_seeds()"
   ]
  },
  {
   "cell_type": "code",
   "execution_count": 32,
   "metadata": {},
   "outputs": [],
   "source": [
    "model = Sequential()\n",
    "model.add(Dense(units=128, input_dim=len(X_train_scaled.columns), activation='relu'))\n",
    "model.add(Dense(units=128, activation='relu'))\n",
    "model.add(Dense(1))\n",
    "model.compile(optimizer='rmsprop', loss='mse', metrics=['mae'])"
   ]
  },
  {
   "cell_type": "code",
   "execution_count": 33,
   "metadata": {},
   "outputs": [
    {
     "name": "stdout",
     "output_type": "stream",
     "text": [
      "CPU times: user 5.63 s, sys: 269 ms, total: 5.9 s\n",
      "Wall time: 4.17 s\n"
     ]
    }
   ],
   "source": [
    "%%time\n",
    "model.fit(X_train_scaled, y_train, epochs=50, batch_size=32, verbose=0);"
   ]
  },
  {
   "cell_type": "markdown",
   "metadata": {},
   "source": [
    "This seems to have a drastically negative impact on model performance.  So we won't use normalization as we proceed."
   ]
  },
  {
   "cell_type": "code",
   "execution_count": 34,
   "metadata": {},
   "outputs": [
    {
     "name": "stdout",
     "output_type": "stream",
     "text": [
      "44/44 [==============================] - 0s 799us/step\n"
     ]
    },
    {
     "data": {
      "text/plain": [
       "-1.2055394649505615"
      ]
     },
     "execution_count": 34,
     "metadata": {},
     "output_type": "execute_result"
    }
   ],
   "source": [
    "sklearn.metrics.r2_score(y_test, model.predict(X_test_scaled))"
   ]
  },
  {
   "cell_type": "code",
   "execution_count": 35,
   "metadata": {},
   "outputs": [
    {
     "name": "stdout",
     "output_type": "stream",
     "text": [
      "44/44 [==============================] - 0s 927us/step\n"
     ]
    },
    {
     "data": {
      "text/plain": [
       "0.0006457450377929333"
      ]
     },
     "execution_count": 35,
     "metadata": {},
     "output_type": "execute_result"
    }
   ],
   "source": [
    "sklearn.metrics.mean_squared_error(y_test, model.predict(X_test_scaled))"
   ]
  },
  {
   "cell_type": "markdown",
   "metadata": {},
   "source": [
    "## Dropout"
   ]
  },
  {
   "cell_type": "markdown",
   "metadata": {},
   "source": [
    "In this section, we perform dropout regularization."
   ]
  },
  {
   "cell_type": "code",
   "execution_count": 36,
   "metadata": {},
   "outputs": [],
   "source": [
    "from keras.layers import Dropout"
   ]
  },
  {
   "cell_type": "code",
   "execution_count": 37,
   "metadata": {},
   "outputs": [],
   "source": [
    "set_seeds()"
   ]
  },
  {
   "cell_type": "code",
   "execution_count": 38,
   "metadata": {},
   "outputs": [],
   "source": [
    "model = Sequential()\n",
    "model.add(Dense(units=128, input_dim=len(X_train.columns), activation='relu'))\n",
    "model.add(Dropout(rate=0.3, seed=100))\n",
    "model.add(Dense(units=128, activation='relu'))\n",
    "model.add(Dropout(rate=0.3, seed=100))\n",
    "model.add(Dense(1))\n",
    "model.compile(optimizer='rmsprop', loss='mse', metrics=['mae'])"
   ]
  },
  {
   "cell_type": "code",
   "execution_count": 39,
   "metadata": {},
   "outputs": [
    {
     "name": "stdout",
     "output_type": "stream",
     "text": [
      "CPU times: user 6.34 s, sys: 242 ms, total: 6.58 s\n",
      "Wall time: 4.66 s\n"
     ]
    }
   ],
   "source": [
    "%%time\n",
    "model.fit(X_train, y_train, epochs=50, batch_size=32, verbose=0);"
   ]
  },
  {
   "cell_type": "markdown",
   "metadata": {},
   "source": [
    "With dropout regularization, the model performs poorly relative to linear regression, nearest neighbors, and the baseline neural network."
   ]
  },
  {
   "cell_type": "code",
   "execution_count": 40,
   "metadata": {},
   "outputs": [
    {
     "name": "stdout",
     "output_type": "stream",
     "text": [
      "44/44 [==============================] - 0s 770us/step\n"
     ]
    },
    {
     "data": {
      "text/plain": [
       "-0.0013687610626220703"
      ]
     },
     "execution_count": 40,
     "metadata": {},
     "output_type": "execute_result"
    }
   ],
   "source": [
    "sklearn.metrics.r2_score(y_test, model.predict(X_test))"
   ]
  },
  {
   "cell_type": "code",
   "execution_count": 41,
   "metadata": {},
   "outputs": [
    {
     "name": "stdout",
     "output_type": "stream",
     "text": [
      "44/44 [==============================] - 0s 1ms/step\n"
     ]
    },
    {
     "data": {
      "text/plain": [
       "0.00029318401815150996"
      ]
     },
     "execution_count": 41,
     "metadata": {},
     "output_type": "execute_result"
    }
   ],
   "source": [
    "sklearn.metrics.mean_squared_error(y_test, model.predict(X_test))"
   ]
  },
  {
   "cell_type": "markdown",
   "metadata": {},
   "source": [
    "## Regularization"
   ]
  },
  {
   "cell_type": "markdown",
   "metadata": {},
   "source": [
    "Now let's try `l2` (ridge) regularization. "
   ]
  },
  {
   "cell_type": "code",
   "execution_count": 42,
   "metadata": {},
   "outputs": [],
   "source": [
    "from keras.regularizers import l2"
   ]
  },
  {
   "cell_type": "code",
   "execution_count": 43,
   "metadata": {},
   "outputs": [],
   "source": [
    "set_seeds()"
   ]
  },
  {
   "cell_type": "code",
   "execution_count": 44,
   "metadata": {},
   "outputs": [],
   "source": [
    "model = Sequential()\n",
    "model.add(Dense(units=128, input_dim=len(X_train.columns), activation='relu', activity_regularizer=l2(0.0005)))\n",
    "model.add(Dense(units=128, activation='relu', activity_regularizer=l2(0.0005)))\n",
    "model.add(Dense(1))\n",
    "model.compile(optimizer='rmsprop', loss='mse', metrics=['mae'])"
   ]
  },
  {
   "cell_type": "code",
   "execution_count": 45,
   "metadata": {},
   "outputs": [
    {
     "name": "stdout",
     "output_type": "stream",
     "text": [
      "CPU times: user 6.05 s, sys: 318 ms, total: 6.37 s\n",
      "Wall time: 4.31 s\n"
     ]
    }
   ],
   "source": [
    "%%time\n",
    "model.fit(X_train, y_train, epochs=50, batch_size=32, verbose=0);"
   ]
  },
  {
   "cell_type": "markdown",
   "metadata": {},
   "source": [
    "Using `l2` doesn't improve the model compared to linear regression, nearest neighbors, and the baseline linear regression."
   ]
  },
  {
   "cell_type": "code",
   "execution_count": 46,
   "metadata": {},
   "outputs": [
    {
     "name": "stdout",
     "output_type": "stream",
     "text": [
      "44/44 [==============================] - 0s 774us/step\n"
     ]
    },
    {
     "data": {
      "text/plain": [
       "0.04668128490447998"
      ]
     },
     "execution_count": 46,
     "metadata": {},
     "output_type": "execute_result"
    }
   ],
   "source": [
    "sklearn.metrics.r2_score(y_test, model.predict(X_test))"
   ]
  },
  {
   "cell_type": "code",
   "execution_count": 47,
   "metadata": {},
   "outputs": [
    {
     "name": "stdout",
     "output_type": "stream",
     "text": [
      "44/44 [==============================] - 0s 921us/step\n"
     ]
    },
    {
     "data": {
      "text/plain": [
       "0.0002791157822826718"
      ]
     },
     "execution_count": 47,
     "metadata": {},
     "output_type": "execute_result"
    }
   ],
   "source": [
    "sklearn.metrics.mean_squared_error(y_test, model.predict(X_test))"
   ]
  },
  {
   "cell_type": "markdown",
   "metadata": {},
   "source": [
    "## Classification"
   ]
  },
  {
   "cell_type": "markdown",
   "metadata": {},
   "source": [
    "Finally, let's recast this as a classification problem where we are simply trying to predict gains and losses.  First we have to change our labels to binary outcomes."
   ]
  },
  {
   "cell_type": "code",
   "execution_count": 48,
   "metadata": {},
   "outputs": [],
   "source": [
    "y_train_classification = np.where(y_train['msft'] > 0, 1, 0)\n",
    "y_test_classification = np.where(y_test['msft'] > 0, 1, 0)"
   ]
  },
  {
   "cell_type": "code",
   "execution_count": 49,
   "metadata": {},
   "outputs": [],
   "source": [
    "set_seeds()"
   ]
  },
  {
   "cell_type": "code",
   "execution_count": 50,
   "metadata": {},
   "outputs": [],
   "source": [
    "model = Sequential()\n",
    "model.add(Dense(units=128, input_dim=len(X_train.columns), activation='relu'))\n",
    "model.add(Dense(units=64, activation='relu'))\n",
    "model.add(Dense(units=32, activation='relu'))\n",
    "model.add(Dense(1, activation='sigmoid'))\n",
    "model.compile(optimizer='rmsprop', loss='binary_crossentropy', metrics=['accuracy'])"
   ]
  },
  {
   "cell_type": "code",
   "execution_count": 51,
   "metadata": {},
   "outputs": [
    {
     "name": "stdout",
     "output_type": "stream",
     "text": [
      "CPU times: user 6.3 s, sys: 335 ms, total: 6.63 s\n",
      "Wall time: 4.7 s\n"
     ]
    }
   ],
   "source": [
    "%%time\n",
    "model.fit(X_train, y_train_classification, epochs=50, batch_size=32, verbose=0);"
   ]
  },
  {
   "cell_type": "markdown",
   "metadata": {},
   "source": [
    "The binary classification is right about 45% of the time.."
   ]
  },
  {
   "cell_type": "code",
   "execution_count": 52,
   "metadata": {},
   "outputs": [
    {
     "name": "stdout",
     "output_type": "stream",
     "text": [
      "44/44 [==============================] - 0s 1ms/step - loss: 0.7167 - accuracy: 0.4657\n"
     ]
    },
    {
     "data": {
      "text/plain": [
       "[0.7166569232940674, 0.4657142758369446]"
      ]
     },
     "execution_count": 52,
     "metadata": {},
     "output_type": "execute_result"
    }
   ],
   "source": [
    "model.evaluate(X_test, y_test_classification)"
   ]
  },
  {
   "cell_type": "markdown",
   "metadata": {},
   "source": [
    "Guessing that MSFT will rise everyday is right 55% of the time."
   ]
  },
  {
   "cell_type": "code",
   "execution_count": 53,
   "metadata": {},
   "outputs": [
    {
     "data": {
      "text/plain": [
       "0.5514285714285714"
      ]
     },
     "execution_count": 53,
     "metadata": {},
     "output_type": "execute_result"
    }
   ],
   "source": [
    "y_test_classification.mean()"
   ]
  }
 ],
 "metadata": {
  "kernelspec": {
   "display_name": "Python 3 (ipykernel)",
   "language": "python",
   "name": "python3"
  },
  "language_info": {
   "codemirror_mode": {
    "name": "ipython",
    "version": 3
   },
   "file_extension": ".py",
   "mimetype": "text/x-python",
   "name": "python",
   "nbconvert_exporter": "python",
   "pygments_lexer": "ipython3",
   "version": "3.10.12"
  }
 },
 "nbformat": 4,
 "nbformat_minor": 4
}
