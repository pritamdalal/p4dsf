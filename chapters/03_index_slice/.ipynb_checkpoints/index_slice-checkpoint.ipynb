{
 "cells": [
  {
   "cell_type": "markdown",
   "metadata": {},
   "source": [
    "# `DataFrame` Indexing and Slicing"
   ]
  },
  {
   "cell_type": "markdown",
   "metadata": {},
   "source": [
    "Accessing a specific row of a `DataFrame` by its location is referred to as *indexing*.  Accessing a sequence of contiguous rows is referred to as *slicing*.\n",
    "\n",
    "The purpose of this chapter is to survey various methods for indexing and slicing in **pandas**."
   ]
  },
  {
   "cell_type": "markdown",
   "metadata": {},
   "source": [
    "## Importing Packages"
   ]
  },
  {
   "cell_type": "markdown",
   "metadata": {},
   "source": [
    "Let's begin by importing the packages that we will need."
   ]
  },
  {
   "cell_type": "code",
   "execution_count": 1,
   "metadata": {},
   "outputs": [],
   "source": [
    "import pandas as pd\n",
    "import yfinance as yf\n",
    "pd.set_option('display.max_rows', 10)"
   ]
  },
  {
   "cell_type": "markdown",
   "metadata": {},
   "source": [
    "## Reading-In Data"
   ]
  },
  {
   "cell_type": "markdown",
   "metadata": {},
   "source": [
    "Next, lets grab some data from Yahoo finance.  In particular, we'll grab `SPY` price data from July 2021."
   ]
  },
  {
   "cell_type": "code",
   "execution_count": 2,
   "metadata": {},
   "outputs": [
    {
     "name": "stderr",
     "output_type": "stream",
     "text": [
      "[*********************100%***********************]  1 of 1 completed\n"
     ]
    },
    {
     "data": {
      "text/html": [
       "<div>\n",
       "<style scoped>\n",
       "    .dataframe tbody tr th:only-of-type {\n",
       "        vertical-align: middle;\n",
       "    }\n",
       "\n",
       "    .dataframe tbody tr th {\n",
       "        vertical-align: top;\n",
       "    }\n",
       "\n",
       "    .dataframe thead tr th {\n",
       "        text-align: left;\n",
       "    }\n",
       "\n",
       "    .dataframe thead tr:last-of-type th {\n",
       "        text-align: right;\n",
       "    }\n",
       "</style>\n",
       "<table border=\"1\" class=\"dataframe\">\n",
       "  <thead>\n",
       "    <tr>\n",
       "      <th>Price</th>\n",
       "      <th>Adj Close</th>\n",
       "      <th>Close</th>\n",
       "      <th>High</th>\n",
       "      <th>Low</th>\n",
       "      <th>Open</th>\n",
       "      <th>Volume</th>\n",
       "    </tr>\n",
       "    <tr>\n",
       "      <th>Ticker</th>\n",
       "      <th>SPY</th>\n",
       "      <th>SPY</th>\n",
       "      <th>SPY</th>\n",
       "      <th>SPY</th>\n",
       "      <th>SPY</th>\n",
       "      <th>SPY</th>\n",
       "    </tr>\n",
       "    <tr>\n",
       "      <th>Date</th>\n",
       "      <th></th>\n",
       "      <th></th>\n",
       "      <th></th>\n",
       "      <th></th>\n",
       "      <th></th>\n",
       "      <th></th>\n",
       "    </tr>\n",
       "  </thead>\n",
       "  <tbody>\n",
       "    <tr>\n",
       "      <th>2021-06-30</th>\n",
       "      <td>404.51</td>\n",
       "      <td>428.06</td>\n",
       "      <td>428.78</td>\n",
       "      <td>427.18</td>\n",
       "      <td>427.21</td>\n",
       "      <td>64827900</td>\n",
       "    </tr>\n",
       "    <tr>\n",
       "      <th>2021-07-01</th>\n",
       "      <td>406.75</td>\n",
       "      <td>430.43</td>\n",
       "      <td>430.60</td>\n",
       "      <td>428.80</td>\n",
       "      <td>428.87</td>\n",
       "      <td>53441000</td>\n",
       "    </tr>\n",
       "    <tr>\n",
       "      <th>2021-07-02</th>\n",
       "      <td>409.86</td>\n",
       "      <td>433.72</td>\n",
       "      <td>434.10</td>\n",
       "      <td>430.52</td>\n",
       "      <td>431.67</td>\n",
       "      <td>57697700</td>\n",
       "    </tr>\n",
       "    <tr>\n",
       "      <th>2021-07-06</th>\n",
       "      <td>409.11</td>\n",
       "      <td>432.93</td>\n",
       "      <td>434.01</td>\n",
       "      <td>430.01</td>\n",
       "      <td>433.78</td>\n",
       "      <td>68710400</td>\n",
       "    </tr>\n",
       "    <tr>\n",
       "      <th>2021-07-07</th>\n",
       "      <td>410.56</td>\n",
       "      <td>434.46</td>\n",
       "      <td>434.76</td>\n",
       "      <td>431.51</td>\n",
       "      <td>433.66</td>\n",
       "      <td>63549500</td>\n",
       "    </tr>\n",
       "  </tbody>\n",
       "</table>\n",
       "</div>"
      ],
      "text/plain": [
       "Price      Adj Close   Close    High     Low    Open    Volume\n",
       "Ticker           SPY     SPY     SPY     SPY     SPY       SPY\n",
       "Date                                                          \n",
       "2021-06-30    404.51  428.06  428.78  427.18  427.21  64827900\n",
       "2021-07-01    406.75  430.43  430.60  428.80  428.87  53441000\n",
       "2021-07-02    409.86  433.72  434.10  430.52  431.67  57697700\n",
       "2021-07-06    409.11  432.93  434.01  430.01  433.78  68710400\n",
       "2021-07-07    410.56  434.46  434.76  431.51  433.66  63549500"
      ]
     },
     "execution_count": 2,
     "metadata": {},
     "output_type": "execute_result"
    }
   ],
   "source": [
    "df_spy = yf.download('SPY', start='2021-06-30', end='2021-07-31', auto_adjust=False, rounding=True)\n",
    "df_spy.head()"
   ]
  },
  {
   "cell_type": "markdown",
   "metadata": {},
   "source": [
    "The following code:\n",
    "\n",
    "- removes the `SPY` level of the column index\n",
    "- resets the index so that `Date` is a regular column\n",
    "- puts the column names into snake-case."
   ]
  },
  {
   "cell_type": "code",
   "execution_count": 3,
   "metadata": {},
   "outputs": [
    {
     "data": {
      "text/html": [
       "<div>\n",
       "<style scoped>\n",
       "    .dataframe tbody tr th:only-of-type {\n",
       "        vertical-align: middle;\n",
       "    }\n",
       "\n",
       "    .dataframe tbody tr th {\n",
       "        vertical-align: top;\n",
       "    }\n",
       "\n",
       "    .dataframe thead th {\n",
       "        text-align: right;\n",
       "    }\n",
       "</style>\n",
       "<table border=\"1\" class=\"dataframe\">\n",
       "  <thead>\n",
       "    <tr style=\"text-align: right;\">\n",
       "      <th></th>\n",
       "      <th>date</th>\n",
       "      <th>adj_close</th>\n",
       "      <th>close</th>\n",
       "      <th>high</th>\n",
       "      <th>low</th>\n",
       "      <th>open</th>\n",
       "      <th>volume</th>\n",
       "    </tr>\n",
       "  </thead>\n",
       "  <tbody>\n",
       "    <tr>\n",
       "      <th>0</th>\n",
       "      <td>2021-06-30</td>\n",
       "      <td>404.51</td>\n",
       "      <td>428.06</td>\n",
       "      <td>428.78</td>\n",
       "      <td>427.18</td>\n",
       "      <td>427.21</td>\n",
       "      <td>64827900</td>\n",
       "    </tr>\n",
       "    <tr>\n",
       "      <th>1</th>\n",
       "      <td>2021-07-01</td>\n",
       "      <td>406.75</td>\n",
       "      <td>430.43</td>\n",
       "      <td>430.60</td>\n",
       "      <td>428.80</td>\n",
       "      <td>428.87</td>\n",
       "      <td>53441000</td>\n",
       "    </tr>\n",
       "    <tr>\n",
       "      <th>2</th>\n",
       "      <td>2021-07-02</td>\n",
       "      <td>409.86</td>\n",
       "      <td>433.72</td>\n",
       "      <td>434.10</td>\n",
       "      <td>430.52</td>\n",
       "      <td>431.67</td>\n",
       "      <td>57697700</td>\n",
       "    </tr>\n",
       "    <tr>\n",
       "      <th>3</th>\n",
       "      <td>2021-07-06</td>\n",
       "      <td>409.11</td>\n",
       "      <td>432.93</td>\n",
       "      <td>434.01</td>\n",
       "      <td>430.01</td>\n",
       "      <td>433.78</td>\n",
       "      <td>68710400</td>\n",
       "    </tr>\n",
       "    <tr>\n",
       "      <th>4</th>\n",
       "      <td>2021-07-07</td>\n",
       "      <td>410.56</td>\n",
       "      <td>434.46</td>\n",
       "      <td>434.76</td>\n",
       "      <td>431.51</td>\n",
       "      <td>433.66</td>\n",
       "      <td>63549500</td>\n",
       "    </tr>\n",
       "  </tbody>\n",
       "</table>\n",
       "</div>"
      ],
      "text/plain": [
       "        date  adj_close   close    high     low    open    volume\n",
       "0 2021-06-30     404.51  428.06  428.78  427.18  427.21  64827900\n",
       "1 2021-07-01     406.75  430.43  430.60  428.80  428.87  53441000\n",
       "2 2021-07-02     409.86  433.72  434.10  430.52  431.67  57697700\n",
       "3 2021-07-06     409.11  432.93  434.01  430.01  433.78  68710400\n",
       "4 2021-07-07     410.56  434.46  434.76  431.51  433.66  63549500"
      ]
     },
     "execution_count": 3,
     "metadata": {},
     "output_type": "execute_result"
    }
   ],
   "source": [
    "df_spy = df_spy.droplevel(level=1, axis=1)\n",
    "df_spy = df_spy.rename_axis(None, axis=1)\n",
    "df_spy.reset_index(inplace=True)\n",
    "df_spy.columns = df_spy.columns.str.lower().str.replace(' ', '_')\n",
    "df_spy.head()"
   ]
  },
  {
   "cell_type": "markdown",
   "metadata": {},
   "source": [
    "It is often useful to look at the data type of each of the columns of a new data set.  We can do so with the `DataFrame.dtypes` attribute."
   ]
  },
  {
   "cell_type": "code",
   "execution_count": 4,
   "metadata": {},
   "outputs": [
    {
     "data": {
      "text/plain": [
       "date         datetime64[ns]\n",
       "adj_close           float64\n",
       "close               float64\n",
       "high                float64\n",
       "low                 float64\n",
       "open                float64\n",
       "volume                int64\n",
       "dtype: object"
      ]
     },
     "execution_count": 4,
     "metadata": {},
     "output_type": "execute_result"
    }
   ],
   "source": [
    "df_spy.dtypes"
   ]
  },
  {
   "cell_type": "markdown",
   "metadata": {},
   "source": [
    " "
   ]
  },
  {
   "cell_type": "markdown",
   "metadata": {},
   "source": [
    "## Row Slicing"
   ]
  },
  {
   "cell_type": "markdown",
   "metadata": {},
   "source": [
    "The simplest way to slice a `DataFrame` is to use square brackets: `[]`.  The syntax `df[i:j]` will generate a `DataFrame` who's first row is the `i`th row of `df` and who's last row is the `(j-1)`th row of `df`.   Let's demonstrate this with a some examples:"
   ]
  },
  {
   "cell_type": "markdown",
   "metadata": {},
   "source": [
    "Starting from the 0th row, and ending with the 0th row:"
   ]
  },
  {
   "cell_type": "code",
   "execution_count": 5,
   "metadata": {},
   "outputs": [
    {
     "data": {
      "text/html": [
       "<div>\n",
       "<style scoped>\n",
       "    .dataframe tbody tr th:only-of-type {\n",
       "        vertical-align: middle;\n",
       "    }\n",
       "\n",
       "    .dataframe tbody tr th {\n",
       "        vertical-align: top;\n",
       "    }\n",
       "\n",
       "    .dataframe thead th {\n",
       "        text-align: right;\n",
       "    }\n",
       "</style>\n",
       "<table border=\"1\" class=\"dataframe\">\n",
       "  <thead>\n",
       "    <tr style=\"text-align: right;\">\n",
       "      <th></th>\n",
       "      <th>date</th>\n",
       "      <th>adj_close</th>\n",
       "      <th>close</th>\n",
       "      <th>high</th>\n",
       "      <th>low</th>\n",
       "      <th>open</th>\n",
       "      <th>volume</th>\n",
       "    </tr>\n",
       "  </thead>\n",
       "  <tbody>\n",
       "    <tr>\n",
       "      <th>0</th>\n",
       "      <td>2021-06-30</td>\n",
       "      <td>404.51</td>\n",
       "      <td>428.06</td>\n",
       "      <td>428.78</td>\n",
       "      <td>427.18</td>\n",
       "      <td>427.21</td>\n",
       "      <td>64827900</td>\n",
       "    </tr>\n",
       "  </tbody>\n",
       "</table>\n",
       "</div>"
      ],
      "text/plain": [
       "        date  adj_close   close    high     low    open    volume\n",
       "0 2021-06-30     404.51  428.06  428.78  427.18  427.21  64827900"
      ]
     },
     "execution_count": 5,
     "metadata": {},
     "output_type": "execute_result"
    }
   ],
   "source": [
    "df_spy[0:1]"
   ]
  },
  {
   "cell_type": "markdown",
   "metadata": {},
   "source": [
    "Starting with the 3rd row, and ending with the 6th row:"
   ]
  },
  {
   "cell_type": "code",
   "execution_count": 6,
   "metadata": {},
   "outputs": [
    {
     "data": {
      "text/html": [
       "<div>\n",
       "<style scoped>\n",
       "    .dataframe tbody tr th:only-of-type {\n",
       "        vertical-align: middle;\n",
       "    }\n",
       "\n",
       "    .dataframe tbody tr th {\n",
       "        vertical-align: top;\n",
       "    }\n",
       "\n",
       "    .dataframe thead th {\n",
       "        text-align: right;\n",
       "    }\n",
       "</style>\n",
       "<table border=\"1\" class=\"dataframe\">\n",
       "  <thead>\n",
       "    <tr style=\"text-align: right;\">\n",
       "      <th></th>\n",
       "      <th>date</th>\n",
       "      <th>adj_close</th>\n",
       "      <th>close</th>\n",
       "      <th>high</th>\n",
       "      <th>low</th>\n",
       "      <th>open</th>\n",
       "      <th>volume</th>\n",
       "    </tr>\n",
       "  </thead>\n",
       "  <tbody>\n",
       "    <tr>\n",
       "      <th>3</th>\n",
       "      <td>2021-07-06</td>\n",
       "      <td>409.11</td>\n",
       "      <td>432.93</td>\n",
       "      <td>434.01</td>\n",
       "      <td>430.01</td>\n",
       "      <td>433.78</td>\n",
       "      <td>68710400</td>\n",
       "    </tr>\n",
       "    <tr>\n",
       "      <th>4</th>\n",
       "      <td>2021-07-07</td>\n",
       "      <td>410.56</td>\n",
       "      <td>434.46</td>\n",
       "      <td>434.76</td>\n",
       "      <td>431.51</td>\n",
       "      <td>433.66</td>\n",
       "      <td>63549500</td>\n",
       "    </tr>\n",
       "    <tr>\n",
       "      <th>5</th>\n",
       "      <td>2021-07-08</td>\n",
       "      <td>407.21</td>\n",
       "      <td>430.92</td>\n",
       "      <td>431.73</td>\n",
       "      <td>427.52</td>\n",
       "      <td>428.78</td>\n",
       "      <td>97595200</td>\n",
       "    </tr>\n",
       "    <tr>\n",
       "      <th>6</th>\n",
       "      <td>2021-07-09</td>\n",
       "      <td>411.56</td>\n",
       "      <td>435.52</td>\n",
       "      <td>435.84</td>\n",
       "      <td>430.71</td>\n",
       "      <td>432.53</td>\n",
       "      <td>76238600</td>\n",
       "    </tr>\n",
       "  </tbody>\n",
       "</table>\n",
       "</div>"
      ],
      "text/plain": [
       "        date  adj_close   close    high     low    open    volume\n",
       "3 2021-07-06     409.11  432.93  434.01  430.01  433.78  68710400\n",
       "4 2021-07-07     410.56  434.46  434.76  431.51  433.66  63549500\n",
       "5 2021-07-08     407.21  430.92  431.73  427.52  428.78  97595200\n",
       "6 2021-07-09     411.56  435.52  435.84  430.71  432.53  76238600"
      ]
     },
     "execution_count": 6,
     "metadata": {},
     "output_type": "execute_result"
    }
   ],
   "source": [
    "df_spy[3:7]"
   ]
  },
  {
   "cell_type": "markdown",
   "metadata": {},
   "source": [
    "---"
   ]
  },
  {
   "cell_type": "markdown",
   "metadata": {},
   "source": [
    "**Code Challenge:** Retrieve the 15th, 16th, and 17th rows of `df_spy`."
   ]
  },
  {
   "cell_type": "code",
   "execution_count": 7,
   "metadata": {},
   "outputs": [
    {
     "data": {
      "text/html": [
       "<div>\n",
       "<style scoped>\n",
       "    .dataframe tbody tr th:only-of-type {\n",
       "        vertical-align: middle;\n",
       "    }\n",
       "\n",
       "    .dataframe tbody tr th {\n",
       "        vertical-align: top;\n",
       "    }\n",
       "\n",
       "    .dataframe thead th {\n",
       "        text-align: right;\n",
       "    }\n",
       "</style>\n",
       "<table border=\"1\" class=\"dataframe\">\n",
       "  <thead>\n",
       "    <tr style=\"text-align: right;\">\n",
       "      <th></th>\n",
       "      <th>date</th>\n",
       "      <th>adj_close</th>\n",
       "      <th>close</th>\n",
       "      <th>high</th>\n",
       "      <th>low</th>\n",
       "      <th>open</th>\n",
       "      <th>volume</th>\n",
       "    </tr>\n",
       "  </thead>\n",
       "  <tbody>\n",
       "    <tr>\n",
       "      <th>15</th>\n",
       "      <td>2021-07-22</td>\n",
       "      <td>411.50</td>\n",
       "      <td>435.46</td>\n",
       "      <td>435.72</td>\n",
       "      <td>433.69</td>\n",
       "      <td>434.74</td>\n",
       "      <td>47878500</td>\n",
       "    </tr>\n",
       "    <tr>\n",
       "      <th>16</th>\n",
       "      <td>2021-07-23</td>\n",
       "      <td>415.74</td>\n",
       "      <td>439.94</td>\n",
       "      <td>440.30</td>\n",
       "      <td>436.79</td>\n",
       "      <td>437.52</td>\n",
       "      <td>63766600</td>\n",
       "    </tr>\n",
       "    <tr>\n",
       "      <th>17</th>\n",
       "      <td>2021-07-26</td>\n",
       "      <td>416.76</td>\n",
       "      <td>441.02</td>\n",
       "      <td>441.03</td>\n",
       "      <td>439.26</td>\n",
       "      <td>439.31</td>\n",
       "      <td>43719200</td>\n",
       "    </tr>\n",
       "  </tbody>\n",
       "</table>\n",
       "</div>"
      ],
      "text/plain": [
       "         date  adj_close   close    high     low    open    volume\n",
       "15 2021-07-22     411.50  435.46  435.72  433.69  434.74  47878500\n",
       "16 2021-07-23     415.74  439.94  440.30  436.79  437.52  63766600\n",
       "17 2021-07-26     416.76  441.02  441.03  439.26  439.31  43719200"
      ]
     },
     "execution_count": 7,
     "metadata": {},
     "output_type": "execute_result"
    }
   ],
   "source": [
    "#| code-fold: true\n",
    "#| code-summary: \"Solution\"\n",
    "df_spy[15:18]"
   ]
  },
  {
   "cell_type": "markdown",
   "metadata": {},
   "source": [
    "---"
   ]
  },
  {
   "cell_type": "markdown",
   "metadata": {},
   "source": [
    "Using the syntax `df[:n]` automatically starts the indexing at `0`.  For example, the following code retrieves all of `df_spy` (notice that `len(df_spy)` gives the number of rows of `df_spy`):"
   ]
  },
  {
   "cell_type": "code",
   "execution_count": 8,
   "metadata": {},
   "outputs": [
    {
     "data": {
      "text/html": [
       "<div>\n",
       "<style scoped>\n",
       "    .dataframe tbody tr th:only-of-type {\n",
       "        vertical-align: middle;\n",
       "    }\n",
       "\n",
       "    .dataframe tbody tr th {\n",
       "        vertical-align: top;\n",
       "    }\n",
       "\n",
       "    .dataframe thead th {\n",
       "        text-align: right;\n",
       "    }\n",
       "</style>\n",
       "<table border=\"1\" class=\"dataframe\">\n",
       "  <thead>\n",
       "    <tr style=\"text-align: right;\">\n",
       "      <th></th>\n",
       "      <th>date</th>\n",
       "      <th>adj_close</th>\n",
       "      <th>close</th>\n",
       "      <th>high</th>\n",
       "      <th>low</th>\n",
       "      <th>open</th>\n",
       "      <th>volume</th>\n",
       "    </tr>\n",
       "  </thead>\n",
       "  <tbody>\n",
       "    <tr>\n",
       "      <th>0</th>\n",
       "      <td>2021-06-30</td>\n",
       "      <td>404.51</td>\n",
       "      <td>428.06</td>\n",
       "      <td>428.78</td>\n",
       "      <td>427.18</td>\n",
       "      <td>427.21</td>\n",
       "      <td>64827900</td>\n",
       "    </tr>\n",
       "    <tr>\n",
       "      <th>1</th>\n",
       "      <td>2021-07-01</td>\n",
       "      <td>406.75</td>\n",
       "      <td>430.43</td>\n",
       "      <td>430.60</td>\n",
       "      <td>428.80</td>\n",
       "      <td>428.87</td>\n",
       "      <td>53441000</td>\n",
       "    </tr>\n",
       "    <tr>\n",
       "      <th>2</th>\n",
       "      <td>2021-07-02</td>\n",
       "      <td>409.86</td>\n",
       "      <td>433.72</td>\n",
       "      <td>434.10</td>\n",
       "      <td>430.52</td>\n",
       "      <td>431.67</td>\n",
       "      <td>57697700</td>\n",
       "    </tr>\n",
       "    <tr>\n",
       "      <th>3</th>\n",
       "      <td>2021-07-06</td>\n",
       "      <td>409.11</td>\n",
       "      <td>432.93</td>\n",
       "      <td>434.01</td>\n",
       "      <td>430.01</td>\n",
       "      <td>433.78</td>\n",
       "      <td>68710400</td>\n",
       "    </tr>\n",
       "    <tr>\n",
       "      <th>4</th>\n",
       "      <td>2021-07-07</td>\n",
       "      <td>410.56</td>\n",
       "      <td>434.46</td>\n",
       "      <td>434.76</td>\n",
       "      <td>431.51</td>\n",
       "      <td>433.66</td>\n",
       "      <td>63549500</td>\n",
       "    </tr>\n",
       "    <tr>\n",
       "      <th>...</th>\n",
       "      <td>...</td>\n",
       "      <td>...</td>\n",
       "      <td>...</td>\n",
       "      <td>...</td>\n",
       "      <td>...</td>\n",
       "      <td>...</td>\n",
       "      <td>...</td>\n",
       "    </tr>\n",
       "    <tr>\n",
       "      <th>17</th>\n",
       "      <td>2021-07-26</td>\n",
       "      <td>416.76</td>\n",
       "      <td>441.02</td>\n",
       "      <td>441.03</td>\n",
       "      <td>439.26</td>\n",
       "      <td>439.31</td>\n",
       "      <td>43719200</td>\n",
       "    </tr>\n",
       "    <tr>\n",
       "      <th>18</th>\n",
       "      <td>2021-07-27</td>\n",
       "      <td>414.86</td>\n",
       "      <td>439.01</td>\n",
       "      <td>439.94</td>\n",
       "      <td>435.99</td>\n",
       "      <td>439.91</td>\n",
       "      <td>67397100</td>\n",
       "    </tr>\n",
       "    <tr>\n",
       "      <th>19</th>\n",
       "      <td>2021-07-28</td>\n",
       "      <td>414.69</td>\n",
       "      <td>438.83</td>\n",
       "      <td>440.30</td>\n",
       "      <td>437.31</td>\n",
       "      <td>439.68</td>\n",
       "      <td>52472400</td>\n",
       "    </tr>\n",
       "    <tr>\n",
       "      <th>20</th>\n",
       "      <td>2021-07-29</td>\n",
       "      <td>416.41</td>\n",
       "      <td>440.65</td>\n",
       "      <td>441.80</td>\n",
       "      <td>439.81</td>\n",
       "      <td>439.82</td>\n",
       "      <td>47435300</td>\n",
       "    </tr>\n",
       "    <tr>\n",
       "      <th>21</th>\n",
       "      <td>2021-07-30</td>\n",
       "      <td>414.39</td>\n",
       "      <td>438.51</td>\n",
       "      <td>440.06</td>\n",
       "      <td>437.77</td>\n",
       "      <td>437.91</td>\n",
       "      <td>68951200</td>\n",
       "    </tr>\n",
       "  </tbody>\n",
       "</table>\n",
       "<p>22 rows × 7 columns</p>\n",
       "</div>"
      ],
      "text/plain": [
       "         date  adj_close   close    high     low    open    volume\n",
       "0  2021-06-30     404.51  428.06  428.78  427.18  427.21  64827900\n",
       "1  2021-07-01     406.75  430.43  430.60  428.80  428.87  53441000\n",
       "2  2021-07-02     409.86  433.72  434.10  430.52  431.67  57697700\n",
       "3  2021-07-06     409.11  432.93  434.01  430.01  433.78  68710400\n",
       "4  2021-07-07     410.56  434.46  434.76  431.51  433.66  63549500\n",
       "..        ...        ...     ...     ...     ...     ...       ...\n",
       "17 2021-07-26     416.76  441.02  441.03  439.26  439.31  43719200\n",
       "18 2021-07-27     414.86  439.01  439.94  435.99  439.91  67397100\n",
       "19 2021-07-28     414.69  438.83  440.30  437.31  439.68  52472400\n",
       "20 2021-07-29     416.41  440.65  441.80  439.81  439.82  47435300\n",
       "21 2021-07-30     414.39  438.51  440.06  437.77  437.91  68951200\n",
       "\n",
       "[22 rows x 7 columns]"
      ]
     },
     "execution_count": 8,
     "metadata": {},
     "output_type": "execute_result"
    }
   ],
   "source": [
    "df_spy[:len(df_spy)]"
   ]
  },
  {
   "cell_type": "markdown",
   "metadata": {},
   "source": [
    "---"
   ]
  },
  {
   "cell_type": "markdown",
   "metadata": {},
   "source": [
    "**Code Challenge:** Retrieve the first five rows of `df_spy`."
   ]
  },
  {
   "cell_type": "code",
   "execution_count": 9,
   "metadata": {},
   "outputs": [
    {
     "data": {
      "text/html": [
       "<div>\n",
       "<style scoped>\n",
       "    .dataframe tbody tr th:only-of-type {\n",
       "        vertical-align: middle;\n",
       "    }\n",
       "\n",
       "    .dataframe tbody tr th {\n",
       "        vertical-align: top;\n",
       "    }\n",
       "\n",
       "    .dataframe thead th {\n",
       "        text-align: right;\n",
       "    }\n",
       "</style>\n",
       "<table border=\"1\" class=\"dataframe\">\n",
       "  <thead>\n",
       "    <tr style=\"text-align: right;\">\n",
       "      <th></th>\n",
       "      <th>date</th>\n",
       "      <th>adj_close</th>\n",
       "      <th>close</th>\n",
       "      <th>high</th>\n",
       "      <th>low</th>\n",
       "      <th>open</th>\n",
       "      <th>volume</th>\n",
       "    </tr>\n",
       "  </thead>\n",
       "  <tbody>\n",
       "    <tr>\n",
       "      <th>0</th>\n",
       "      <td>2021-06-30</td>\n",
       "      <td>404.51</td>\n",
       "      <td>428.06</td>\n",
       "      <td>428.78</td>\n",
       "      <td>427.18</td>\n",
       "      <td>427.21</td>\n",
       "      <td>64827900</td>\n",
       "    </tr>\n",
       "    <tr>\n",
       "      <th>1</th>\n",
       "      <td>2021-07-01</td>\n",
       "      <td>406.75</td>\n",
       "      <td>430.43</td>\n",
       "      <td>430.60</td>\n",
       "      <td>428.80</td>\n",
       "      <td>428.87</td>\n",
       "      <td>53441000</td>\n",
       "    </tr>\n",
       "    <tr>\n",
       "      <th>2</th>\n",
       "      <td>2021-07-02</td>\n",
       "      <td>409.86</td>\n",
       "      <td>433.72</td>\n",
       "      <td>434.10</td>\n",
       "      <td>430.52</td>\n",
       "      <td>431.67</td>\n",
       "      <td>57697700</td>\n",
       "    </tr>\n",
       "    <tr>\n",
       "      <th>3</th>\n",
       "      <td>2021-07-06</td>\n",
       "      <td>409.11</td>\n",
       "      <td>432.93</td>\n",
       "      <td>434.01</td>\n",
       "      <td>430.01</td>\n",
       "      <td>433.78</td>\n",
       "      <td>68710400</td>\n",
       "    </tr>\n",
       "    <tr>\n",
       "      <th>4</th>\n",
       "      <td>2021-07-07</td>\n",
       "      <td>410.56</td>\n",
       "      <td>434.46</td>\n",
       "      <td>434.76</td>\n",
       "      <td>431.51</td>\n",
       "      <td>433.66</td>\n",
       "      <td>63549500</td>\n",
       "    </tr>\n",
       "  </tbody>\n",
       "</table>\n",
       "</div>"
      ],
      "text/plain": [
       "        date  adj_close   close    high     low    open    volume\n",
       "0 2021-06-30     404.51  428.06  428.78  427.18  427.21  64827900\n",
       "1 2021-07-01     406.75  430.43  430.60  428.80  428.87  53441000\n",
       "2 2021-07-02     409.86  433.72  434.10  430.52  431.67  57697700\n",
       "3 2021-07-06     409.11  432.93  434.01  430.01  433.78  68710400\n",
       "4 2021-07-07     410.56  434.46  434.76  431.51  433.66  63549500"
      ]
     },
     "execution_count": 9,
     "metadata": {},
     "output_type": "execute_result"
    }
   ],
   "source": [
    "#| code-fold: true\n",
    "#| code-summary: \"Solution\"\n",
    "df_spy[:5]"
   ]
  },
  {
   "cell_type": "markdown",
   "metadata": {},
   "source": [
    "---"
   ]
  },
  {
   "cell_type": "markdown",
   "metadata": {},
   "source": [
    "There are a couple of row slicing tricks that involve negative numbers that are worth mentioning.\n",
    "\n",
    "The syntax `df[-n:]` retrieves the last `n` rows of `df`.  The following code retrieves the last five rows of `df_spy`."
   ]
  },
  {
   "cell_type": "code",
   "execution_count": 10,
   "metadata": {},
   "outputs": [
    {
     "data": {
      "text/html": [
       "<div>\n",
       "<style scoped>\n",
       "    .dataframe tbody tr th:only-of-type {\n",
       "        vertical-align: middle;\n",
       "    }\n",
       "\n",
       "    .dataframe tbody tr th {\n",
       "        vertical-align: top;\n",
       "    }\n",
       "\n",
       "    .dataframe thead th {\n",
       "        text-align: right;\n",
       "    }\n",
       "</style>\n",
       "<table border=\"1\" class=\"dataframe\">\n",
       "  <thead>\n",
       "    <tr style=\"text-align: right;\">\n",
       "      <th></th>\n",
       "      <th>date</th>\n",
       "      <th>adj_close</th>\n",
       "      <th>close</th>\n",
       "      <th>high</th>\n",
       "      <th>low</th>\n",
       "      <th>open</th>\n",
       "      <th>volume</th>\n",
       "    </tr>\n",
       "  </thead>\n",
       "  <tbody>\n",
       "    <tr>\n",
       "      <th>17</th>\n",
       "      <td>2021-07-26</td>\n",
       "      <td>416.76</td>\n",
       "      <td>441.02</td>\n",
       "      <td>441.03</td>\n",
       "      <td>439.26</td>\n",
       "      <td>439.31</td>\n",
       "      <td>43719200</td>\n",
       "    </tr>\n",
       "    <tr>\n",
       "      <th>18</th>\n",
       "      <td>2021-07-27</td>\n",
       "      <td>414.86</td>\n",
       "      <td>439.01</td>\n",
       "      <td>439.94</td>\n",
       "      <td>435.99</td>\n",
       "      <td>439.91</td>\n",
       "      <td>67397100</td>\n",
       "    </tr>\n",
       "    <tr>\n",
       "      <th>19</th>\n",
       "      <td>2021-07-28</td>\n",
       "      <td>414.69</td>\n",
       "      <td>438.83</td>\n",
       "      <td>440.30</td>\n",
       "      <td>437.31</td>\n",
       "      <td>439.68</td>\n",
       "      <td>52472400</td>\n",
       "    </tr>\n",
       "    <tr>\n",
       "      <th>20</th>\n",
       "      <td>2021-07-29</td>\n",
       "      <td>416.41</td>\n",
       "      <td>440.65</td>\n",
       "      <td>441.80</td>\n",
       "      <td>439.81</td>\n",
       "      <td>439.82</td>\n",
       "      <td>47435300</td>\n",
       "    </tr>\n",
       "    <tr>\n",
       "      <th>21</th>\n",
       "      <td>2021-07-30</td>\n",
       "      <td>414.39</td>\n",
       "      <td>438.51</td>\n",
       "      <td>440.06</td>\n",
       "      <td>437.77</td>\n",
       "      <td>437.91</td>\n",
       "      <td>68951200</td>\n",
       "    </tr>\n",
       "  </tbody>\n",
       "</table>\n",
       "</div>"
      ],
      "text/plain": [
       "         date  adj_close   close    high     low    open    volume\n",
       "17 2021-07-26     416.76  441.02  441.03  439.26  439.31  43719200\n",
       "18 2021-07-27     414.86  439.01  439.94  435.99  439.91  67397100\n",
       "19 2021-07-28     414.69  438.83  440.30  437.31  439.68  52472400\n",
       "20 2021-07-29     416.41  440.65  441.80  439.81  439.82  47435300\n",
       "21 2021-07-30     414.39  438.51  440.06  437.77  437.91  68951200"
      ]
     },
     "execution_count": 10,
     "metadata": {},
     "output_type": "execute_result"
    }
   ],
   "source": [
    "df_spy[-5:]"
   ]
  },
  {
   "cell_type": "markdown",
   "metadata": {},
   "source": [
    "The syntax `df[:-n]` retrieves all but the last `n` rows of `df`.  The following code retrieves all but the last 10 rows of `df_spy`:"
   ]
  },
  {
   "cell_type": "code",
   "execution_count": 11,
   "metadata": {},
   "outputs": [
    {
     "data": {
      "text/html": [
       "<div>\n",
       "<style scoped>\n",
       "    .dataframe tbody tr th:only-of-type {\n",
       "        vertical-align: middle;\n",
       "    }\n",
       "\n",
       "    .dataframe tbody tr th {\n",
       "        vertical-align: top;\n",
       "    }\n",
       "\n",
       "    .dataframe thead th {\n",
       "        text-align: right;\n",
       "    }\n",
       "</style>\n",
       "<table border=\"1\" class=\"dataframe\">\n",
       "  <thead>\n",
       "    <tr style=\"text-align: right;\">\n",
       "      <th></th>\n",
       "      <th>date</th>\n",
       "      <th>adj_close</th>\n",
       "      <th>close</th>\n",
       "      <th>high</th>\n",
       "      <th>low</th>\n",
       "      <th>open</th>\n",
       "      <th>volume</th>\n",
       "    </tr>\n",
       "  </thead>\n",
       "  <tbody>\n",
       "    <tr>\n",
       "      <th>0</th>\n",
       "      <td>2021-06-30</td>\n",
       "      <td>404.51</td>\n",
       "      <td>428.06</td>\n",
       "      <td>428.78</td>\n",
       "      <td>427.18</td>\n",
       "      <td>427.21</td>\n",
       "      <td>64827900</td>\n",
       "    </tr>\n",
       "    <tr>\n",
       "      <th>1</th>\n",
       "      <td>2021-07-01</td>\n",
       "      <td>406.75</td>\n",
       "      <td>430.43</td>\n",
       "      <td>430.60</td>\n",
       "      <td>428.80</td>\n",
       "      <td>428.87</td>\n",
       "      <td>53441000</td>\n",
       "    </tr>\n",
       "    <tr>\n",
       "      <th>2</th>\n",
       "      <td>2021-07-02</td>\n",
       "      <td>409.86</td>\n",
       "      <td>433.72</td>\n",
       "      <td>434.10</td>\n",
       "      <td>430.52</td>\n",
       "      <td>431.67</td>\n",
       "      <td>57697700</td>\n",
       "    </tr>\n",
       "    <tr>\n",
       "      <th>3</th>\n",
       "      <td>2021-07-06</td>\n",
       "      <td>409.11</td>\n",
       "      <td>432.93</td>\n",
       "      <td>434.01</td>\n",
       "      <td>430.01</td>\n",
       "      <td>433.78</td>\n",
       "      <td>68710400</td>\n",
       "    </tr>\n",
       "    <tr>\n",
       "      <th>4</th>\n",
       "      <td>2021-07-07</td>\n",
       "      <td>410.56</td>\n",
       "      <td>434.46</td>\n",
       "      <td>434.76</td>\n",
       "      <td>431.51</td>\n",
       "      <td>433.66</td>\n",
       "      <td>63549500</td>\n",
       "    </tr>\n",
       "    <tr>\n",
       "      <th>...</th>\n",
       "      <td>...</td>\n",
       "      <td>...</td>\n",
       "      <td>...</td>\n",
       "      <td>...</td>\n",
       "      <td>...</td>\n",
       "      <td>...</td>\n",
       "      <td>...</td>\n",
       "    </tr>\n",
       "    <tr>\n",
       "      <th>7</th>\n",
       "      <td>2021-07-12</td>\n",
       "      <td>413.03</td>\n",
       "      <td>437.08</td>\n",
       "      <td>437.35</td>\n",
       "      <td>434.97</td>\n",
       "      <td>435.43</td>\n",
       "      <td>52889600</td>\n",
       "    </tr>\n",
       "    <tr>\n",
       "      <th>8</th>\n",
       "      <td>2021-07-13</td>\n",
       "      <td>411.63</td>\n",
       "      <td>435.59</td>\n",
       "      <td>437.84</td>\n",
       "      <td>435.31</td>\n",
       "      <td>436.24</td>\n",
       "      <td>52911300</td>\n",
       "    </tr>\n",
       "    <tr>\n",
       "      <th>9</th>\n",
       "      <td>2021-07-14</td>\n",
       "      <td>412.24</td>\n",
       "      <td>436.24</td>\n",
       "      <td>437.92</td>\n",
       "      <td>434.91</td>\n",
       "      <td>437.40</td>\n",
       "      <td>64130400</td>\n",
       "    </tr>\n",
       "    <tr>\n",
       "      <th>10</th>\n",
       "      <td>2021-07-15</td>\n",
       "      <td>410.83</td>\n",
       "      <td>434.75</td>\n",
       "      <td>435.53</td>\n",
       "      <td>432.72</td>\n",
       "      <td>434.81</td>\n",
       "      <td>55126400</td>\n",
       "    </tr>\n",
       "    <tr>\n",
       "      <th>11</th>\n",
       "      <td>2021-07-16</td>\n",
       "      <td>407.61</td>\n",
       "      <td>431.34</td>\n",
       "      <td>436.06</td>\n",
       "      <td>430.92</td>\n",
       "      <td>436.01</td>\n",
       "      <td>75874700</td>\n",
       "    </tr>\n",
       "  </tbody>\n",
       "</table>\n",
       "<p>12 rows × 7 columns</p>\n",
       "</div>"
      ],
      "text/plain": [
       "         date  adj_close   close    high     low    open    volume\n",
       "0  2021-06-30     404.51  428.06  428.78  427.18  427.21  64827900\n",
       "1  2021-07-01     406.75  430.43  430.60  428.80  428.87  53441000\n",
       "2  2021-07-02     409.86  433.72  434.10  430.52  431.67  57697700\n",
       "3  2021-07-06     409.11  432.93  434.01  430.01  433.78  68710400\n",
       "4  2021-07-07     410.56  434.46  434.76  431.51  433.66  63549500\n",
       "..        ...        ...     ...     ...     ...     ...       ...\n",
       "7  2021-07-12     413.03  437.08  437.35  434.97  435.43  52889600\n",
       "8  2021-07-13     411.63  435.59  437.84  435.31  436.24  52911300\n",
       "9  2021-07-14     412.24  436.24  437.92  434.91  437.40  64130400\n",
       "10 2021-07-15     410.83  434.75  435.53  432.72  434.81  55126400\n",
       "11 2021-07-16     407.61  431.34  436.06  430.92  436.01  75874700\n",
       "\n",
       "[12 rows x 7 columns]"
      ]
     },
     "execution_count": 11,
     "metadata": {},
     "output_type": "execute_result"
    }
   ],
   "source": [
    "df_spy[:-10]"
   ]
  },
  {
   "cell_type": "markdown",
   "metadata": {},
   "source": [
    "---"
   ]
  },
  {
   "cell_type": "markdown",
   "metadata": {},
   "source": [
    "**Code Challenge:** Retrieve the first row of `df_spy` with negative indexing."
   ]
  },
  {
   "cell_type": "code",
   "execution_count": 12,
   "metadata": {},
   "outputs": [
    {
     "data": {
      "text/html": [
       "<div>\n",
       "<style scoped>\n",
       "    .dataframe tbody tr th:only-of-type {\n",
       "        vertical-align: middle;\n",
       "    }\n",
       "\n",
       "    .dataframe tbody tr th {\n",
       "        vertical-align: top;\n",
       "    }\n",
       "\n",
       "    .dataframe thead th {\n",
       "        text-align: right;\n",
       "    }\n",
       "</style>\n",
       "<table border=\"1\" class=\"dataframe\">\n",
       "  <thead>\n",
       "    <tr style=\"text-align: right;\">\n",
       "      <th></th>\n",
       "      <th>date</th>\n",
       "      <th>adj_close</th>\n",
       "      <th>close</th>\n",
       "      <th>high</th>\n",
       "      <th>low</th>\n",
       "      <th>open</th>\n",
       "      <th>volume</th>\n",
       "    </tr>\n",
       "  </thead>\n",
       "  <tbody>\n",
       "    <tr>\n",
       "      <th>0</th>\n",
       "      <td>2021-06-30</td>\n",
       "      <td>404.51</td>\n",
       "      <td>428.06</td>\n",
       "      <td>428.78</td>\n",
       "      <td>427.18</td>\n",
       "      <td>427.21</td>\n",
       "      <td>64827900</td>\n",
       "    </tr>\n",
       "  </tbody>\n",
       "</table>\n",
       "</div>"
      ],
      "text/plain": [
       "        date  adj_close   close    high     low    open    volume\n",
       "0 2021-06-30     404.51  428.06  428.78  427.18  427.21  64827900"
      ]
     },
     "execution_count": 12,
     "metadata": {},
     "output_type": "execute_result"
    }
   ],
   "source": [
    "#| code-fold: true\n",
    "#| code-summary: \"Solution\"\n",
    "df_spy[:-(len(df_spy)-1)]"
   ]
  },
  {
   "cell_type": "markdown",
   "metadata": {},
   "source": [
    "---"
   ]
  },
  {
   "cell_type": "markdown",
   "metadata": {},
   "source": [
    "**Code Challenge:** Use simple slicing to select the last three rows of a `df_spy`: 1) without explicitly using row numbers; 2) with explicitly using row numbers."
   ]
  },
  {
   "cell_type": "code",
   "execution_count": 13,
   "metadata": {},
   "outputs": [
    {
     "data": {
      "text/html": [
       "<div>\n",
       "<style scoped>\n",
       "    .dataframe tbody tr th:only-of-type {\n",
       "        vertical-align: middle;\n",
       "    }\n",
       "\n",
       "    .dataframe tbody tr th {\n",
       "        vertical-align: top;\n",
       "    }\n",
       "\n",
       "    .dataframe thead th {\n",
       "        text-align: right;\n",
       "    }\n",
       "</style>\n",
       "<table border=\"1\" class=\"dataframe\">\n",
       "  <thead>\n",
       "    <tr style=\"text-align: right;\">\n",
       "      <th></th>\n",
       "      <th>date</th>\n",
       "      <th>adj_close</th>\n",
       "      <th>close</th>\n",
       "      <th>high</th>\n",
       "      <th>low</th>\n",
       "      <th>open</th>\n",
       "      <th>volume</th>\n",
       "    </tr>\n",
       "  </thead>\n",
       "  <tbody>\n",
       "    <tr>\n",
       "      <th>19</th>\n",
       "      <td>2021-07-28</td>\n",
       "      <td>414.69</td>\n",
       "      <td>438.83</td>\n",
       "      <td>440.30</td>\n",
       "      <td>437.31</td>\n",
       "      <td>439.68</td>\n",
       "      <td>52472400</td>\n",
       "    </tr>\n",
       "    <tr>\n",
       "      <th>20</th>\n",
       "      <td>2021-07-29</td>\n",
       "      <td>416.41</td>\n",
       "      <td>440.65</td>\n",
       "      <td>441.80</td>\n",
       "      <td>439.81</td>\n",
       "      <td>439.82</td>\n",
       "      <td>47435300</td>\n",
       "    </tr>\n",
       "    <tr>\n",
       "      <th>21</th>\n",
       "      <td>2021-07-30</td>\n",
       "      <td>414.39</td>\n",
       "      <td>438.51</td>\n",
       "      <td>440.06</td>\n",
       "      <td>437.77</td>\n",
       "      <td>437.91</td>\n",
       "      <td>68951200</td>\n",
       "    </tr>\n",
       "  </tbody>\n",
       "</table>\n",
       "</div>"
      ],
      "text/plain": [
       "         date  adj_close   close    high     low    open    volume\n",
       "19 2021-07-28     414.69  438.83  440.30  437.31  439.68  52472400\n",
       "20 2021-07-29     416.41  440.65  441.80  439.81  439.82  47435300\n",
       "21 2021-07-30     414.39  438.51  440.06  437.77  437.91  68951200"
      ]
     },
     "execution_count": 13,
     "metadata": {},
     "output_type": "execute_result"
    }
   ],
   "source": [
    "#| code-fold: true\n",
    "#| code-summary: \"Solution\"\n",
    "df_spy[len(df_spy)-3:len(df_spy)]"
   ]
  },
  {
   "cell_type": "code",
   "execution_count": 14,
   "metadata": {},
   "outputs": [
    {
     "data": {
      "text/html": [
       "<div>\n",
       "<style scoped>\n",
       "    .dataframe tbody tr th:only-of-type {\n",
       "        vertical-align: middle;\n",
       "    }\n",
       "\n",
       "    .dataframe tbody tr th {\n",
       "        vertical-align: top;\n",
       "    }\n",
       "\n",
       "    .dataframe thead th {\n",
       "        text-align: right;\n",
       "    }\n",
       "</style>\n",
       "<table border=\"1\" class=\"dataframe\">\n",
       "  <thead>\n",
       "    <tr style=\"text-align: right;\">\n",
       "      <th></th>\n",
       "      <th>date</th>\n",
       "      <th>adj_close</th>\n",
       "      <th>close</th>\n",
       "      <th>high</th>\n",
       "      <th>low</th>\n",
       "      <th>open</th>\n",
       "      <th>volume</th>\n",
       "    </tr>\n",
       "  </thead>\n",
       "  <tbody>\n",
       "    <tr>\n",
       "      <th>19</th>\n",
       "      <td>2021-07-28</td>\n",
       "      <td>414.69</td>\n",
       "      <td>438.83</td>\n",
       "      <td>440.30</td>\n",
       "      <td>437.31</td>\n",
       "      <td>439.68</td>\n",
       "      <td>52472400</td>\n",
       "    </tr>\n",
       "    <tr>\n",
       "      <th>20</th>\n",
       "      <td>2021-07-29</td>\n",
       "      <td>416.41</td>\n",
       "      <td>440.65</td>\n",
       "      <td>441.80</td>\n",
       "      <td>439.81</td>\n",
       "      <td>439.82</td>\n",
       "      <td>47435300</td>\n",
       "    </tr>\n",
       "    <tr>\n",
       "      <th>21</th>\n",
       "      <td>2021-07-30</td>\n",
       "      <td>414.39</td>\n",
       "      <td>438.51</td>\n",
       "      <td>440.06</td>\n",
       "      <td>437.77</td>\n",
       "      <td>437.91</td>\n",
       "      <td>68951200</td>\n",
       "    </tr>\n",
       "  </tbody>\n",
       "</table>\n",
       "</div>"
      ],
      "text/plain": [
       "         date  adj_close   close    high     low    open    volume\n",
       "19 2021-07-28     414.69  438.83  440.30  437.31  439.68  52472400\n",
       "20 2021-07-29     416.41  440.65  441.80  439.81  439.82  47435300\n",
       "21 2021-07-30     414.39  438.51  440.06  437.77  437.91  68951200"
      ]
     },
     "execution_count": 14,
     "metadata": {},
     "output_type": "execute_result"
    }
   ],
   "source": [
    "#| code-fold: true\n",
    "#| code-summary: \"Solution\"\n",
    "df_spy[-3:]"
   ]
  },
  {
   "cell_type": "markdown",
   "metadata": {},
   "source": [
    "---"
   ]
  },
  {
   "cell_type": "markdown",
   "metadata": {},
   "source": [
    "## `DataFrame` Indexes"
   ]
  },
  {
   "cell_type": "markdown",
   "metadata": {},
   "source": [
    "Under the hood, a `DataFrame` has several `indexes`:\n",
    "\n",
    "`columns` - the set of column names is an (explicit) index.\n",
    "\n",
    "`row` - whenever a `DataFrame` is created, there is an explicit row index that is created.  If one isn't specified, then a sequence of non-negative integers is used.\n",
    "\n",
    "`implicit` - each row has an implicit row-number, and each column has an implicit column-number."
   ]
  },
  {
   "cell_type": "markdown",
   "metadata": {},
   "source": [
    "Let's take a look at the `columns` index of `df_spy`."
   ]
  },
  {
   "cell_type": "code",
   "execution_count": 15,
   "metadata": {},
   "outputs": [
    {
     "data": {
      "text/plain": [
       "Index(['date', 'adj_close', 'close', 'high', 'low', 'open', 'volume'], dtype='object')"
      ]
     },
     "execution_count": 15,
     "metadata": {},
     "output_type": "execute_result"
    }
   ],
   "source": [
    "df_spy.columns"
   ]
  },
  {
   "cell_type": "code",
   "execution_count": 16,
   "metadata": {},
   "outputs": [
    {
     "data": {
      "text/plain": [
       "pandas.core.indexes.base.Index"
      ]
     },
     "execution_count": 16,
     "metadata": {},
     "output_type": "execute_result"
    }
   ],
   "source": [
    "type(df_spy.columns)"
   ]
  },
  {
   "cell_type": "markdown",
   "metadata": {},
   "source": [
    "Next, let's take a look at the explicit row `index` attribute of `df_spy`."
   ]
  },
  {
   "cell_type": "code",
   "execution_count": 17,
   "metadata": {},
   "outputs": [
    {
     "data": {
      "text/plain": [
       "RangeIndex(start=0, stop=22, step=1)"
      ]
     },
     "execution_count": 17,
     "metadata": {},
     "output_type": "execute_result"
    }
   ],
   "source": [
    "df_spy.index"
   ]
  },
  {
   "cell_type": "code",
   "execution_count": 18,
   "metadata": {},
   "outputs": [
    {
     "data": {
      "text/plain": [
       "pandas.core.indexes.range.RangeIndex"
      ]
     },
     "execution_count": 18,
     "metadata": {},
     "output_type": "execute_result"
    }
   ],
   "source": [
    "type(df_spy.index)"
   ]
  },
  {
   "cell_type": "markdown",
   "metadata": {},
   "source": [
    "Since we reset the index for `df_spy`, a `RangeIndex` object is used for the explicit row `index`.  You can think of a `RangeIndex` object as a glorified set of consecutive integers.\n",
    "\n",
    "For the most part, we won't be too concerned with `indexes`.  A lot of data analysis can be done without worrying about them.  However, it's good to be aware `indexes` exist becase they can come into play for more advanced topics, such as joining tables together; they also come up in Stack Overflow examples frequently.\n",
    "\n",
    "For the purposes of this chapter, our interest in `indexes` comes from how they are related to two built-in `DataFrame` *indexers*: `DataFrame.iloc` and `DataFrame.loc`."
   ]
  },
  {
   "cell_type": "markdown",
   "metadata": {},
   "source": [
    "## Indexing with `DataFrame.iloc`"
   ]
  },
  {
   "cell_type": "markdown",
   "metadata": {},
   "source": [
    "The indexer `DataFrame.iloc` can be used to access rows and columns using their implicit row and column numbers.\n",
    "\n",
    "Here is an example of `iloc` that retrieves the first two rows of `df_spy`."
   ]
  },
  {
   "cell_type": "code",
   "execution_count": 19,
   "metadata": {},
   "outputs": [
    {
     "data": {
      "text/html": [
       "<div>\n",
       "<style scoped>\n",
       "    .dataframe tbody tr th:only-of-type {\n",
       "        vertical-align: middle;\n",
       "    }\n",
       "\n",
       "    .dataframe tbody tr th {\n",
       "        vertical-align: top;\n",
       "    }\n",
       "\n",
       "    .dataframe thead th {\n",
       "        text-align: right;\n",
       "    }\n",
       "</style>\n",
       "<table border=\"1\" class=\"dataframe\">\n",
       "  <thead>\n",
       "    <tr style=\"text-align: right;\">\n",
       "      <th></th>\n",
       "      <th>date</th>\n",
       "      <th>adj_close</th>\n",
       "      <th>close</th>\n",
       "      <th>high</th>\n",
       "      <th>low</th>\n",
       "      <th>open</th>\n",
       "      <th>volume</th>\n",
       "    </tr>\n",
       "  </thead>\n",
       "  <tbody>\n",
       "    <tr>\n",
       "      <th>0</th>\n",
       "      <td>2021-06-30</td>\n",
       "      <td>404.51</td>\n",
       "      <td>428.06</td>\n",
       "      <td>428.78</td>\n",
       "      <td>427.18</td>\n",
       "      <td>427.21</td>\n",
       "      <td>64827900</td>\n",
       "    </tr>\n",
       "    <tr>\n",
       "      <th>1</th>\n",
       "      <td>2021-07-01</td>\n",
       "      <td>406.75</td>\n",
       "      <td>430.43</td>\n",
       "      <td>430.60</td>\n",
       "      <td>428.80</td>\n",
       "      <td>428.87</td>\n",
       "      <td>53441000</td>\n",
       "    </tr>\n",
       "  </tbody>\n",
       "</table>\n",
       "</div>"
      ],
      "text/plain": [
       "        date  adj_close   close    high     low    open    volume\n",
       "0 2021-06-30     404.51  428.06  428.78  427.18  427.21  64827900\n",
       "1 2021-07-01     406.75  430.43  430.60  428.80  428.87  53441000"
      ]
     },
     "execution_count": 19,
     "metadata": {},
     "output_type": "execute_result"
    }
   ],
   "source": [
    "df_spy.iloc[0:2,]"
   ]
  },
  {
   "cell_type": "markdown",
   "metadata": {},
   "source": [
    "Notice, that because we didn't specify any column numbers, the code above retrieves all columns.\n",
    "\n",
    "The following code grabs the first three row and the first three columns of `df_spy`."
   ]
  },
  {
   "cell_type": "code",
   "execution_count": 20,
   "metadata": {},
   "outputs": [
    {
     "data": {
      "text/html": [
       "<div>\n",
       "<style scoped>\n",
       "    .dataframe tbody tr th:only-of-type {\n",
       "        vertical-align: middle;\n",
       "    }\n",
       "\n",
       "    .dataframe tbody tr th {\n",
       "        vertical-align: top;\n",
       "    }\n",
       "\n",
       "    .dataframe thead th {\n",
       "        text-align: right;\n",
       "    }\n",
       "</style>\n",
       "<table border=\"1\" class=\"dataframe\">\n",
       "  <thead>\n",
       "    <tr style=\"text-align: right;\">\n",
       "      <th></th>\n",
       "      <th>date</th>\n",
       "      <th>adj_close</th>\n",
       "      <th>close</th>\n",
       "    </tr>\n",
       "  </thead>\n",
       "  <tbody>\n",
       "    <tr>\n",
       "      <th>0</th>\n",
       "      <td>2021-06-30</td>\n",
       "      <td>404.51</td>\n",
       "      <td>428.06</td>\n",
       "    </tr>\n",
       "    <tr>\n",
       "      <th>1</th>\n",
       "      <td>2021-07-01</td>\n",
       "      <td>406.75</td>\n",
       "      <td>430.43</td>\n",
       "    </tr>\n",
       "    <tr>\n",
       "      <th>2</th>\n",
       "      <td>2021-07-02</td>\n",
       "      <td>409.86</td>\n",
       "      <td>433.72</td>\n",
       "    </tr>\n",
       "  </tbody>\n",
       "</table>\n",
       "</div>"
      ],
      "text/plain": [
       "        date  adj_close   close\n",
       "0 2021-06-30     404.51  428.06\n",
       "1 2021-07-01     406.75  430.43\n",
       "2 2021-07-02     409.86  433.72"
      ]
     },
     "execution_count": 20,
     "metadata": {},
     "output_type": "execute_result"
    }
   ],
   "source": [
    "df_spy.iloc[0:3, 0:3]"
   ]
  },
  {
   "cell_type": "markdown",
   "metadata": {},
   "source": [
    "We can also supply `.iloc` with `lists` rather than ranges to specify custom sets of columns and rows:"
   ]
  },
  {
   "cell_type": "code",
   "execution_count": 21,
   "metadata": {},
   "outputs": [
    {
     "data": {
      "text/html": [
       "<div>\n",
       "<style scoped>\n",
       "    .dataframe tbody tr th:only-of-type {\n",
       "        vertical-align: middle;\n",
       "    }\n",
       "\n",
       "    .dataframe tbody tr th {\n",
       "        vertical-align: top;\n",
       "    }\n",
       "\n",
       "    .dataframe thead th {\n",
       "        text-align: right;\n",
       "    }\n",
       "</style>\n",
       "<table border=\"1\" class=\"dataframe\">\n",
       "  <thead>\n",
       "    <tr style=\"text-align: right;\">\n",
       "      <th></th>\n",
       "      <th>date</th>\n",
       "      <th>volume</th>\n",
       "    </tr>\n",
       "  </thead>\n",
       "  <tbody>\n",
       "    <tr>\n",
       "      <th>0</th>\n",
       "      <td>2021-06-30</td>\n",
       "      <td>64827900</td>\n",
       "    </tr>\n",
       "    <tr>\n",
       "      <th>2</th>\n",
       "      <td>2021-07-02</td>\n",
       "      <td>57697700</td>\n",
       "    </tr>\n",
       "  </tbody>\n",
       "</table>\n",
       "</div>"
      ],
      "text/plain": [
       "        date    volume\n",
       "0 2021-06-30  64827900\n",
       "2 2021-07-02  57697700"
      ]
     },
     "execution_count": 21,
     "metadata": {},
     "output_type": "execute_result"
    }
   ],
   "source": [
    "lst_row = [0, 2] # 0th and 2nd row\n",
    "lst_col = [0, 6] # date and adj_close columns\n",
    "df_spy.iloc[lst_row, lst_col]"
   ]
  },
  {
   "cell_type": "markdown",
   "metadata": {},
   "source": [
    "Using `lists` as a means of indexing is sometimes referred to as *fancy indexing*."
   ]
  },
  {
   "cell_type": "markdown",
   "metadata": {},
   "source": [
    "---"
   ]
  },
  {
   "cell_type": "markdown",
   "metadata": {},
   "source": [
    "**Code Challenge** Use fancy indexing to grab the 14th, 0th, and 5th rows of `df_spy` - in that order."
   ]
  },
  {
   "cell_type": "code",
   "execution_count": 22,
   "metadata": {},
   "outputs": [
    {
     "data": {
      "text/html": [
       "<div>\n",
       "<style scoped>\n",
       "    .dataframe tbody tr th:only-of-type {\n",
       "        vertical-align: middle;\n",
       "    }\n",
       "\n",
       "    .dataframe tbody tr th {\n",
       "        vertical-align: top;\n",
       "    }\n",
       "\n",
       "    .dataframe thead th {\n",
       "        text-align: right;\n",
       "    }\n",
       "</style>\n",
       "<table border=\"1\" class=\"dataframe\">\n",
       "  <thead>\n",
       "    <tr style=\"text-align: right;\">\n",
       "      <th></th>\n",
       "      <th>date</th>\n",
       "      <th>adj_close</th>\n",
       "      <th>close</th>\n",
       "      <th>high</th>\n",
       "      <th>low</th>\n",
       "      <th>open</th>\n",
       "      <th>volume</th>\n",
       "    </tr>\n",
       "  </thead>\n",
       "  <tbody>\n",
       "    <tr>\n",
       "      <th>14</th>\n",
       "      <td>2021-07-21</td>\n",
       "      <td>410.64</td>\n",
       "      <td>434.55</td>\n",
       "      <td>434.70</td>\n",
       "      <td>431.01</td>\n",
       "      <td>432.34</td>\n",
       "      <td>64724400</td>\n",
       "    </tr>\n",
       "    <tr>\n",
       "      <th>0</th>\n",
       "      <td>2021-06-30</td>\n",
       "      <td>404.51</td>\n",
       "      <td>428.06</td>\n",
       "      <td>428.78</td>\n",
       "      <td>427.18</td>\n",
       "      <td>427.21</td>\n",
       "      <td>64827900</td>\n",
       "    </tr>\n",
       "    <tr>\n",
       "      <th>5</th>\n",
       "      <td>2021-07-08</td>\n",
       "      <td>407.21</td>\n",
       "      <td>430.92</td>\n",
       "      <td>431.73</td>\n",
       "      <td>427.52</td>\n",
       "      <td>428.78</td>\n",
       "      <td>97595200</td>\n",
       "    </tr>\n",
       "  </tbody>\n",
       "</table>\n",
       "</div>"
      ],
      "text/plain": [
       "         date  adj_close   close    high     low    open    volume\n",
       "14 2021-07-21     410.64  434.55  434.70  431.01  432.34  64724400\n",
       "0  2021-06-30     404.51  428.06  428.78  427.18  427.21  64827900\n",
       "5  2021-07-08     407.21  430.92  431.73  427.52  428.78  97595200"
      ]
     },
     "execution_count": 22,
     "metadata": {},
     "output_type": "execute_result"
    }
   ],
   "source": [
    "#| code-fold: true\n",
    "#| code-summary: \"Solution\"\n",
    "df_spy.iloc[[14, 0, 5]]"
   ]
  },
  {
   "cell_type": "markdown",
   "metadata": {},
   "source": [
    "---"
   ]
  },
  {
   "cell_type": "markdown",
   "metadata": {},
   "source": [
    "## Indexing with `DataFrame.loc`"
   ]
  },
  {
   "cell_type": "markdown",
   "metadata": {},
   "source": [
    "Rather than using the implicit row or column numbers, it is often more useful to access data by using the explicit row or column indices."
   ]
  },
  {
   "cell_type": "markdown",
   "metadata": {},
   "source": [
    "Let's use the `DataFrame.set_index()` method to set the `date` column as our new index.  The `dates` will be a more interesting explicit index."
   ]
  },
  {
   "cell_type": "code",
   "execution_count": 23,
   "metadata": {},
   "outputs": [
    {
     "data": {
      "text/html": [
       "<div>\n",
       "<style scoped>\n",
       "    .dataframe tbody tr th:only-of-type {\n",
       "        vertical-align: middle;\n",
       "    }\n",
       "\n",
       "    .dataframe tbody tr th {\n",
       "        vertical-align: top;\n",
       "    }\n",
       "\n",
       "    .dataframe thead th {\n",
       "        text-align: right;\n",
       "    }\n",
       "</style>\n",
       "<table border=\"1\" class=\"dataframe\">\n",
       "  <thead>\n",
       "    <tr style=\"text-align: right;\">\n",
       "      <th></th>\n",
       "      <th>adj_close</th>\n",
       "      <th>close</th>\n",
       "      <th>high</th>\n",
       "      <th>low</th>\n",
       "      <th>open</th>\n",
       "      <th>volume</th>\n",
       "    </tr>\n",
       "    <tr>\n",
       "      <th>date</th>\n",
       "      <th></th>\n",
       "      <th></th>\n",
       "      <th></th>\n",
       "      <th></th>\n",
       "      <th></th>\n",
       "      <th></th>\n",
       "    </tr>\n",
       "  </thead>\n",
       "  <tbody>\n",
       "    <tr>\n",
       "      <th>2021-06-30</th>\n",
       "      <td>404.51</td>\n",
       "      <td>428.06</td>\n",
       "      <td>428.78</td>\n",
       "      <td>427.18</td>\n",
       "      <td>427.21</td>\n",
       "      <td>64827900</td>\n",
       "    </tr>\n",
       "    <tr>\n",
       "      <th>2021-07-01</th>\n",
       "      <td>406.75</td>\n",
       "      <td>430.43</td>\n",
       "      <td>430.60</td>\n",
       "      <td>428.80</td>\n",
       "      <td>428.87</td>\n",
       "      <td>53441000</td>\n",
       "    </tr>\n",
       "    <tr>\n",
       "      <th>2021-07-02</th>\n",
       "      <td>409.86</td>\n",
       "      <td>433.72</td>\n",
       "      <td>434.10</td>\n",
       "      <td>430.52</td>\n",
       "      <td>431.67</td>\n",
       "      <td>57697700</td>\n",
       "    </tr>\n",
       "    <tr>\n",
       "      <th>2021-07-06</th>\n",
       "      <td>409.11</td>\n",
       "      <td>432.93</td>\n",
       "      <td>434.01</td>\n",
       "      <td>430.01</td>\n",
       "      <td>433.78</td>\n",
       "      <td>68710400</td>\n",
       "    </tr>\n",
       "    <tr>\n",
       "      <th>2021-07-07</th>\n",
       "      <td>410.56</td>\n",
       "      <td>434.46</td>\n",
       "      <td>434.76</td>\n",
       "      <td>431.51</td>\n",
       "      <td>433.66</td>\n",
       "      <td>63549500</td>\n",
       "    </tr>\n",
       "  </tbody>\n",
       "</table>\n",
       "</div>"
      ],
      "text/plain": [
       "            adj_close   close    high     low    open    volume\n",
       "date                                                           \n",
       "2021-06-30     404.51  428.06  428.78  427.18  427.21  64827900\n",
       "2021-07-01     406.75  430.43  430.60  428.80  428.87  53441000\n",
       "2021-07-02     409.86  433.72  434.10  430.52  431.67  57697700\n",
       "2021-07-06     409.11  432.93  434.01  430.01  433.78  68710400\n",
       "2021-07-07     410.56  434.46  434.76  431.51  433.66  63549500"
      ]
     },
     "execution_count": 23,
     "metadata": {},
     "output_type": "execute_result"
    }
   ],
   "source": [
    "df_spy.set_index('date', inplace=True)\n",
    "df_spy.head()"
   ]
  },
  {
   "cell_type": "markdown",
   "metadata": {},
   "source": [
    "To see the effect of the above code, we can have a look at the `index` of `df_spy`."
   ]
  },
  {
   "cell_type": "code",
   "execution_count": 24,
   "metadata": {},
   "outputs": [
    {
     "data": {
      "text/plain": [
       "DatetimeIndex(['2021-06-30', '2021-07-01', '2021-07-02', '2021-07-06',\n",
       "               '2021-07-07', '2021-07-08', '2021-07-09', '2021-07-12',\n",
       "               '2021-07-13', '2021-07-14', '2021-07-15', '2021-07-16',\n",
       "               '2021-07-19', '2021-07-20', '2021-07-21', '2021-07-22',\n",
       "               '2021-07-23', '2021-07-26', '2021-07-27', '2021-07-28',\n",
       "               '2021-07-29', '2021-07-30'],\n",
       "              dtype='datetime64[ns]', name='date', freq=None)"
      ]
     },
     "execution_count": 24,
     "metadata": {},
     "output_type": "execute_result"
    }
   ],
   "source": [
    "df_spy.index"
   ]
  },
  {
   "cell_type": "markdown",
   "metadata": {},
   "source": [
    " "
   ]
  },
  {
   "cell_type": "markdown",
   "metadata": {},
   "source": [
    "And notice that `date` is no longer column of `df_spy`."
   ]
  },
  {
   "cell_type": "code",
   "execution_count": 25,
   "metadata": {},
   "outputs": [
    {
     "data": {
      "text/plain": [
       "Index(['adj_close', 'close', 'high', 'low', 'open', 'volume'], dtype='object')"
      ]
     },
     "execution_count": 25,
     "metadata": {},
     "output_type": "execute_result"
    }
   ],
   "source": [
    "df_spy.columns"
   ]
  },
  {
   "cell_type": "markdown",
   "metadata": {},
   "source": [
    "Now that we have successfully set the row `index` of `df_spy` to be the `date`, let's see how we can use this `index` to access the data via `.loc`.\n",
    "        \n",
    "Here is an example of how we can grab a slice of rows, associated with a date-range."
   ]
  },
  {
   "cell_type": "code",
   "execution_count": 26,
   "metadata": {},
   "outputs": [
    {
     "data": {
      "text/html": [
       "<div>\n",
       "<style scoped>\n",
       "    .dataframe tbody tr th:only-of-type {\n",
       "        vertical-align: middle;\n",
       "    }\n",
       "\n",
       "    .dataframe tbody tr th {\n",
       "        vertical-align: top;\n",
       "    }\n",
       "\n",
       "    .dataframe thead th {\n",
       "        text-align: right;\n",
       "    }\n",
       "</style>\n",
       "<table border=\"1\" class=\"dataframe\">\n",
       "  <thead>\n",
       "    <tr style=\"text-align: right;\">\n",
       "      <th></th>\n",
       "      <th>adj_close</th>\n",
       "      <th>close</th>\n",
       "      <th>high</th>\n",
       "      <th>low</th>\n",
       "      <th>open</th>\n",
       "      <th>volume</th>\n",
       "    </tr>\n",
       "    <tr>\n",
       "      <th>date</th>\n",
       "      <th></th>\n",
       "      <th></th>\n",
       "      <th></th>\n",
       "      <th></th>\n",
       "      <th></th>\n",
       "      <th></th>\n",
       "    </tr>\n",
       "  </thead>\n",
       "  <tbody>\n",
       "    <tr>\n",
       "      <th>2021-07-23</th>\n",
       "      <td>415.74</td>\n",
       "      <td>439.94</td>\n",
       "      <td>440.30</td>\n",
       "      <td>436.79</td>\n",
       "      <td>437.52</td>\n",
       "      <td>63766600</td>\n",
       "    </tr>\n",
       "    <tr>\n",
       "      <th>2021-07-26</th>\n",
       "      <td>416.76</td>\n",
       "      <td>441.02</td>\n",
       "      <td>441.03</td>\n",
       "      <td>439.26</td>\n",
       "      <td>439.31</td>\n",
       "      <td>43719200</td>\n",
       "    </tr>\n",
       "    <tr>\n",
       "      <th>2021-07-27</th>\n",
       "      <td>414.86</td>\n",
       "      <td>439.01</td>\n",
       "      <td>439.94</td>\n",
       "      <td>435.99</td>\n",
       "      <td>439.91</td>\n",
       "      <td>67397100</td>\n",
       "    </tr>\n",
       "    <tr>\n",
       "      <th>2021-07-28</th>\n",
       "      <td>414.69</td>\n",
       "      <td>438.83</td>\n",
       "      <td>440.30</td>\n",
       "      <td>437.31</td>\n",
       "      <td>439.68</td>\n",
       "      <td>52472400</td>\n",
       "    </tr>\n",
       "    <tr>\n",
       "      <th>2021-07-29</th>\n",
       "      <td>416.41</td>\n",
       "      <td>440.65</td>\n",
       "      <td>441.80</td>\n",
       "      <td>439.81</td>\n",
       "      <td>439.82</td>\n",
       "      <td>47435300</td>\n",
       "    </tr>\n",
       "    <tr>\n",
       "      <th>2021-07-30</th>\n",
       "      <td>414.39</td>\n",
       "      <td>438.51</td>\n",
       "      <td>440.06</td>\n",
       "      <td>437.77</td>\n",
       "      <td>437.91</td>\n",
       "      <td>68951200</td>\n",
       "    </tr>\n",
       "  </tbody>\n",
       "</table>\n",
       "</div>"
      ],
      "text/plain": [
       "            adj_close   close    high     low    open    volume\n",
       "date                                                           \n",
       "2021-07-23     415.74  439.94  440.30  436.79  437.52  63766600\n",
       "2021-07-26     416.76  441.02  441.03  439.26  439.31  43719200\n",
       "2021-07-27     414.86  439.01  439.94  435.99  439.91  67397100\n",
       "2021-07-28     414.69  438.83  440.30  437.31  439.68  52472400\n",
       "2021-07-29     416.41  440.65  441.80  439.81  439.82  47435300\n",
       "2021-07-30     414.39  438.51  440.06  437.77  437.91  68951200"
      ]
     },
     "execution_count": 26,
     "metadata": {},
     "output_type": "execute_result"
    }
   ],
   "source": [
    "df_spy.loc['2021-07-23':'2021-07-31']"
   ]
  },
  {
   "cell_type": "markdown",
   "metadata": {},
   "source": [
    "If we want to select only the `volume` and `adjusted` columns for these dates, we would type the following: "
   ]
  },
  {
   "cell_type": "code",
   "execution_count": 27,
   "metadata": {},
   "outputs": [
    {
     "data": {
      "text/html": [
       "<div>\n",
       "<style scoped>\n",
       "    .dataframe tbody tr th:only-of-type {\n",
       "        vertical-align: middle;\n",
       "    }\n",
       "\n",
       "    .dataframe tbody tr th {\n",
       "        vertical-align: top;\n",
       "    }\n",
       "\n",
       "    .dataframe thead th {\n",
       "        text-align: right;\n",
       "    }\n",
       "</style>\n",
       "<table border=\"1\" class=\"dataframe\">\n",
       "  <thead>\n",
       "    <tr style=\"text-align: right;\">\n",
       "      <th></th>\n",
       "      <th>volume</th>\n",
       "      <th>adj_close</th>\n",
       "    </tr>\n",
       "    <tr>\n",
       "      <th>date</th>\n",
       "      <th></th>\n",
       "      <th></th>\n",
       "    </tr>\n",
       "  </thead>\n",
       "  <tbody>\n",
       "    <tr>\n",
       "      <th>2021-07-23</th>\n",
       "      <td>63766600</td>\n",
       "      <td>415.74</td>\n",
       "    </tr>\n",
       "    <tr>\n",
       "      <th>2021-07-26</th>\n",
       "      <td>43719200</td>\n",
       "      <td>416.76</td>\n",
       "    </tr>\n",
       "    <tr>\n",
       "      <th>2021-07-27</th>\n",
       "      <td>67397100</td>\n",
       "      <td>414.86</td>\n",
       "    </tr>\n",
       "    <tr>\n",
       "      <th>2021-07-28</th>\n",
       "      <td>52472400</td>\n",
       "      <td>414.69</td>\n",
       "    </tr>\n",
       "    <tr>\n",
       "      <th>2021-07-29</th>\n",
       "      <td>47435300</td>\n",
       "      <td>416.41</td>\n",
       "    </tr>\n",
       "    <tr>\n",
       "      <th>2021-07-30</th>\n",
       "      <td>68951200</td>\n",
       "      <td>414.39</td>\n",
       "    </tr>\n",
       "  </tbody>\n",
       "</table>\n",
       "</div>"
      ],
      "text/plain": [
       "              volume  adj_close\n",
       "date                           \n",
       "2021-07-23  63766600     415.74\n",
       "2021-07-26  43719200     416.76\n",
       "2021-07-27  67397100     414.86\n",
       "2021-07-28  52472400     414.69\n",
       "2021-07-29  47435300     416.41\n",
       "2021-07-30  68951200     414.39"
      ]
     },
     "execution_count": 27,
     "metadata": {},
     "output_type": "execute_result"
    }
   ],
   "source": [
    "df_spy.loc['2021-07-23':'2021-07-31', ['volume', 'adj_close']]"
   ]
  },
  {
   "cell_type": "markdown",
   "metadata": {},
   "source": [
    " "
   ]
  },
  {
   "cell_type": "markdown",
   "metadata": {},
   "source": [
    "---"
   ]
  },
  {
   "cell_type": "markdown",
   "metadata": {},
   "source": [
    "**Code Challenge:** Use `.loc` to grab the `date`, `volume`, and `close` columns from `df_spy`."
   ]
  },
  {
   "cell_type": "code",
   "execution_count": 28,
   "metadata": {},
   "outputs": [
    {
     "data": {
      "text/html": [
       "<div>\n",
       "<style scoped>\n",
       "    .dataframe tbody tr th:only-of-type {\n",
       "        vertical-align: middle;\n",
       "    }\n",
       "\n",
       "    .dataframe tbody tr th {\n",
       "        vertical-align: top;\n",
       "    }\n",
       "\n",
       "    .dataframe thead th {\n",
       "        text-align: right;\n",
       "    }\n",
       "</style>\n",
       "<table border=\"1\" class=\"dataframe\">\n",
       "  <thead>\n",
       "    <tr style=\"text-align: right;\">\n",
       "      <th></th>\n",
       "      <th>volume</th>\n",
       "      <th>close</th>\n",
       "    </tr>\n",
       "    <tr>\n",
       "      <th>date</th>\n",
       "      <th></th>\n",
       "      <th></th>\n",
       "    </tr>\n",
       "  </thead>\n",
       "  <tbody>\n",
       "    <tr>\n",
       "      <th>2021-06-30</th>\n",
       "      <td>64827900</td>\n",
       "      <td>428.06</td>\n",
       "    </tr>\n",
       "    <tr>\n",
       "      <th>2021-07-01</th>\n",
       "      <td>53441000</td>\n",
       "      <td>430.43</td>\n",
       "    </tr>\n",
       "    <tr>\n",
       "      <th>2021-07-02</th>\n",
       "      <td>57697700</td>\n",
       "      <td>433.72</td>\n",
       "    </tr>\n",
       "    <tr>\n",
       "      <th>2021-07-06</th>\n",
       "      <td>68710400</td>\n",
       "      <td>432.93</td>\n",
       "    </tr>\n",
       "    <tr>\n",
       "      <th>2021-07-07</th>\n",
       "      <td>63549500</td>\n",
       "      <td>434.46</td>\n",
       "    </tr>\n",
       "    <tr>\n",
       "      <th>...</th>\n",
       "      <td>...</td>\n",
       "      <td>...</td>\n",
       "    </tr>\n",
       "    <tr>\n",
       "      <th>2021-07-26</th>\n",
       "      <td>43719200</td>\n",
       "      <td>441.02</td>\n",
       "    </tr>\n",
       "    <tr>\n",
       "      <th>2021-07-27</th>\n",
       "      <td>67397100</td>\n",
       "      <td>439.01</td>\n",
       "    </tr>\n",
       "    <tr>\n",
       "      <th>2021-07-28</th>\n",
       "      <td>52472400</td>\n",
       "      <td>438.83</td>\n",
       "    </tr>\n",
       "    <tr>\n",
       "      <th>2021-07-29</th>\n",
       "      <td>47435300</td>\n",
       "      <td>440.65</td>\n",
       "    </tr>\n",
       "    <tr>\n",
       "      <th>2021-07-30</th>\n",
       "      <td>68951200</td>\n",
       "      <td>438.51</td>\n",
       "    </tr>\n",
       "  </tbody>\n",
       "</table>\n",
       "<p>22 rows × 2 columns</p>\n",
       "</div>"
      ],
      "text/plain": [
       "              volume   close\n",
       "date                        \n",
       "2021-06-30  64827900  428.06\n",
       "2021-07-01  53441000  430.43\n",
       "2021-07-02  57697700  433.72\n",
       "2021-07-06  68710400  432.93\n",
       "2021-07-07  63549500  434.46\n",
       "...              ...     ...\n",
       "2021-07-26  43719200  441.02\n",
       "2021-07-27  67397100  439.01\n",
       "2021-07-28  52472400  438.83\n",
       "2021-07-29  47435300  440.65\n",
       "2021-07-30  68951200  438.51\n",
       "\n",
       "[22 rows x 2 columns]"
      ]
     },
     "execution_count": 28,
     "metadata": {},
     "output_type": "execute_result"
    }
   ],
   "source": [
    "#| code-fold: true\n",
    "#| code-summary: \"Solution\"\n",
    "df_spy.loc[:,['volume', 'close']]"
   ]
  },
  {
   "cell_type": "markdown",
   "metadata": {},
   "source": [
    "---"
   ]
  },
  {
   "cell_type": "markdown",
   "metadata": {},
   "source": [
    "## Related Reading"
   ]
  },
  {
   "cell_type": "markdown",
   "metadata": {},
   "source": [
    "*Python Data Science Handbook* - Section 2.7 - Fancy Indexing\n",
    "\n",
    "*Python Data Science Handbook* - Section 3.2 - Data Indexing and Selection "
   ]
  },
  {
   "cell_type": "code",
   "execution_count": null,
   "metadata": {},
   "outputs": [],
   "source": []
  }
 ],
 "metadata": {
  "kernelspec": {
   "display_name": "Python 3 (ipykernel)",
   "language": "python",
   "name": "python3"
  },
  "language_info": {
   "codemirror_mode": {
    "name": "ipython",
    "version": 3
   },
   "file_extension": ".py",
   "mimetype": "text/x-python",
   "name": "python",
   "nbconvert_exporter": "python",
   "pygments_lexer": "ipython3",
   "version": "3.10.12"
  }
 },
 "nbformat": 4,
 "nbformat_minor": 4
}
