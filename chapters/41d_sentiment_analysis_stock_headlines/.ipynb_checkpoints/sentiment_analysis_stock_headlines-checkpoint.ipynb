{
 "cells": [
  {
   "cell_type": "markdown",
   "id": "8f542cee-04fb-4f44-9c23-5a4907cbe2da",
   "metadata": {},
   "source": [
    "# Sentiment Analysis on Stock Headlines"
   ]
  },
  {
   "cell_type": "markdown",
   "id": "77cc89f1-90c7-447e-b8e5-f6c31e705a84",
   "metadata": {},
   "source": [
    "In this tutorial we use various methods to calculate the sentiment (positive or negative) associated with headlines related to various stocks.  We compare this sentiment to the *event return* of the stock, which is the return of the stock around the date of the headline.  Ultimately we are interested in seeing if there is a positive correlation with the sentiments calculated and the event return.  If there is a significant positive correlation, we could build a trading strategy around the sentiment analysis."
   ]
  },
  {
   "cell_type": "markdown",
   "id": "e22a6e7d-caf8-4a73-ba3f-7ee038e5c07d",
   "metadata": {},
   "source": [
    "## Importing Packages"
   ]
  },
  {
   "cell_type": "markdown",
   "id": "28f5f99a-c487-4eb7-b857-328d87c77f9f",
   "metadata": {},
   "source": [
    "Let's begin my importing some initial packages."
   ]
  },
  {
   "cell_type": "code",
   "execution_count": null,
   "id": "8d34cf34-fa2f-468e-87da-f46cd45ccf81",
   "metadata": {},
   "outputs": [],
   "source": [
    "import pandas as pd\n",
    "import numpy as np"
   ]
  },
  {
   "cell_type": "markdown",
   "id": "c66af39e-ed7e-4373-bd8d-18ea03d1f345",
   "metadata": {},
   "source": [
    "## Reading-In Data"
   ]
  },
  {
   "cell_type": "markdown",
   "id": "e18c1428-e1d2-48d5-8d7e-6c8842026e36",
   "metadata": {},
   "source": [
    "Next, let's read in and examine our data.  It consists of 2,768 headlines related to various stocks.  Associated with each headline is the *event return* of the relevant stock. Event return is defined as:\n",
    "\n",
    "\\begin{align*}\n",
    "R_{t–1} + R_{t} + R_{t+1}\n",
    "\\end{align*}\n",
    "\n",
    "where $R_{t–1}$, $R_{t+1}$ are the returns the days before and after the news data, and $R_t$ is the return on\n",
    "the day of the news.  We do this because at times the news is reported late (i.e., after market participants are already aware of the announcement) or after market close. Having a slightly wider window ensures that we capture the essence of the event.\n",
    "\n",
    "Ultimately, we are interested to see if we can calculate sentiments for the headlines that are positively correlated with the `eventRet`."
   ]
  },
  {
   "cell_type": "code",
   "execution_count": null,
   "id": "2cc56232-6701-47be-8977-abfe40caf093",
   "metadata": {},
   "outputs": [
    {
     "data": {
      "text/html": [
       "<div>\n",
       "<style scoped>\n",
       "    .dataframe tbody tr th:only-of-type {\n",
       "        vertical-align: middle;\n",
       "    }\n",
       "\n",
       "    .dataframe tbody tr th {\n",
       "        vertical-align: top;\n",
       "    }\n",
       "\n",
       "    .dataframe thead th {\n",
       "        text-align: right;\n",
       "    }\n",
       "</style>\n",
       "<table border=\"1\" class=\"dataframe\">\n",
       "  <thead>\n",
       "    <tr style=\"text-align: right;\">\n",
       "      <th></th>\n",
       "      <th>ticker</th>\n",
       "      <th>headline</th>\n",
       "      <th>date</th>\n",
       "      <th>eventRet</th>\n",
       "      <th>Close</th>\n",
       "    </tr>\n",
       "  </thead>\n",
       "  <tbody>\n",
       "    <tr>\n",
       "      <th>0</th>\n",
       "      <td>AMZN</td>\n",
       "      <td>Whole Foods (WFMI) -5.2% following a downgrade...</td>\n",
       "      <td>2011-05-02</td>\n",
       "      <td>0.017650</td>\n",
       "      <td>201.19</td>\n",
       "    </tr>\n",
       "    <tr>\n",
       "      <th>1</th>\n",
       "      <td>NFLX</td>\n",
       "      <td>Netflix (NFLX +1.1%) shares post early gains a...</td>\n",
       "      <td>2011-05-02</td>\n",
       "      <td>-0.013003</td>\n",
       "      <td>33.88</td>\n",
       "    </tr>\n",
       "    <tr>\n",
       "      <th>2</th>\n",
       "      <td>MSFT</td>\n",
       "      <td>The likely winners in Microsoft's (MSFT -1.4%)...</td>\n",
       "      <td>2011-05-10</td>\n",
       "      <td>-0.019823</td>\n",
       "      <td>20.63</td>\n",
       "    </tr>\n",
       "    <tr>\n",
       "      <th>3</th>\n",
       "      <td>MSFT</td>\n",
       "      <td>Microsoft (MSFT -1.2%) and Skype signed their ...</td>\n",
       "      <td>2011-05-10</td>\n",
       "      <td>-0.019823</td>\n",
       "      <td>20.63</td>\n",
       "    </tr>\n",
       "    <tr>\n",
       "      <th>4</th>\n",
       "      <td>MSFT</td>\n",
       "      <td>NaN</td>\n",
       "      <td>2011-05-10</td>\n",
       "      <td>-0.019823</td>\n",
       "      <td>20.63</td>\n",
       "    </tr>\n",
       "    <tr>\n",
       "      <th>...</th>\n",
       "      <td>...</td>\n",
       "      <td>...</td>\n",
       "      <td>...</td>\n",
       "      <td>...</td>\n",
       "      <td>...</td>\n",
       "    </tr>\n",
       "    <tr>\n",
       "      <th>2763</th>\n",
       "      <td>TSLA</td>\n",
       "      <td>Responding to a comment on Twitter, Elon Musk ...</td>\n",
       "      <td>2018-12-24</td>\n",
       "      <td>0.041608</td>\n",
       "      <td>295.39</td>\n",
       "    </tr>\n",
       "    <tr>\n",
       "      <th>2764</th>\n",
       "      <td>AMZN</td>\n",
       "      <td>Amazon (NASDAQ:AMZN) is among the companies th...</td>\n",
       "      <td>2018-12-24</td>\n",
       "      <td>0.013062</td>\n",
       "      <td>1343.96</td>\n",
       "    </tr>\n",
       "    <tr>\n",
       "      <th>2765</th>\n",
       "      <td>AAPL</td>\n",
       "      <td>Chinese companies urge employees to boycott (N...</td>\n",
       "      <td>2018-12-24</td>\n",
       "      <td>0.005634</td>\n",
       "      <td>143.92</td>\n",
       "    </tr>\n",
       "    <tr>\n",
       "      <th>2766</th>\n",
       "      <td>TSLA</td>\n",
       "      <td>Elon Musk tweets that Tesla's (NASDAQ:TSLA) Su...</td>\n",
       "      <td>2018-12-26</td>\n",
       "      <td>-0.002856</td>\n",
       "      <td>326.09</td>\n",
       "    </tr>\n",
       "    <tr>\n",
       "      <th>2767</th>\n",
       "      <td>FB</td>\n",
       "      <td>\"Backing up the sleigh,\" on Facebook (NASDAQ:F...</td>\n",
       "      <td>2018-12-26</td>\n",
       "      <td>0.076984</td>\n",
       "      <td>134.18</td>\n",
       "    </tr>\n",
       "  </tbody>\n",
       "</table>\n",
       "<p>2768 rows × 5 columns</p>\n",
       "</div>"
      ],
      "text/plain": [
       "     ticker                                           headline        date   \n",
       "0      AMZN  Whole Foods (WFMI) -5.2% following a downgrade...  2011-05-02  \\\n",
       "1      NFLX  Netflix (NFLX +1.1%) shares post early gains a...  2011-05-02   \n",
       "2      MSFT  The likely winners in Microsoft's (MSFT -1.4%)...  2011-05-10   \n",
       "3      MSFT  Microsoft (MSFT -1.2%) and Skype signed their ...  2011-05-10   \n",
       "4      MSFT                                                NaN  2011-05-10   \n",
       "...     ...                                                ...         ...   \n",
       "2763   TSLA  Responding to a comment on Twitter, Elon Musk ...  2018-12-24   \n",
       "2764   AMZN  Amazon (NASDAQ:AMZN) is among the companies th...  2018-12-24   \n",
       "2765   AAPL  Chinese companies urge employees to boycott (N...  2018-12-24   \n",
       "2766   TSLA  Elon Musk tweets that Tesla's (NASDAQ:TSLA) Su...  2018-12-26   \n",
       "2767     FB  \"Backing up the sleigh,\" on Facebook (NASDAQ:F...  2018-12-26   \n",
       "\n",
       "      eventRet    Close  \n",
       "0     0.017650   201.19  \n",
       "1    -0.013003    33.88  \n",
       "2    -0.019823    20.63  \n",
       "3    -0.019823    20.63  \n",
       "4    -0.019823    20.63  \n",
       "...        ...      ...  \n",
       "2763  0.041608   295.39  \n",
       "2764  0.013062  1343.96  \n",
       "2765  0.005634   143.92  \n",
       "2766 -0.002856   326.09  \n",
       "2767  0.076984   134.18  \n",
       "\n",
       "[2768 rows x 5 columns]"
      ]
     },
     "execution_count": null,
     "metadata": {},
     "output_type": "execute_result"
    }
   ],
   "source": [
    "df_news_return = pd.read_csv('Step3_NewsAndReturnData.csv', delimiter='|')\n",
    "df_news_return"
   ]
  },
  {
   "cell_type": "markdown",
   "id": "2e0924dd-bb0c-4488-b1c7-a23ef406cdda",
   "metadata": {},
   "source": [
    "## Using **textblob**"
   ]
  },
  {
   "cell_type": "markdown",
   "id": "62d069bf-9e84-4de8-839f-5a7e173534d0",
   "metadata": {},
   "source": [
    "We'll begin by calculating sentiments using the built-in sentiment analyzer in the **textblob** package.\n",
    "\n",
    "The **texblob** sentiment function is pretrained model based on Naïve-Bayes classification algorithm to convert a sentence to a numerical value of sentiment between -1 to +1 and map adjectives frequently found in movie reviews (source code: https://textblob.readthedocs.io/en/dev/_modules/textblob/en/sentiments.html) to sentiment polarity scores, ranging from -1 to +1 (negative ↔ positive) and a similar subjectivity score (objective ↔ subjective)."
   ]
  },
  {
   "cell_type": "code",
   "execution_count": null,
   "id": "aa0ed8d7-ee65-4c93-8f9f-94a80044bef0",
   "metadata": {},
   "outputs": [],
   "source": [
    "from textblob import TextBlob"
   ]
  },
  {
   "cell_type": "markdown",
   "id": "1e0db4e3-5bb0-45e7-a360-f7b4dde62385",
   "metadata": {},
   "source": [
    "Let's apply the `TextBlob()` function to an example headline."
   ]
  },
  {
   "cell_type": "code",
   "execution_count": null,
   "id": "5b0705eb-0ee8-4512-97e4-676e0934796c",
   "metadata": {},
   "outputs": [
    {
     "data": {
      "text/plain": [
       "0.5"
      ]
     },
     "execution_count": null,
     "metadata": {},
     "output_type": "execute_result"
    }
   ],
   "source": [
    "example_headline = \"Bayer (OTCPK:BAYRY) started the week up 3.5% to €74/share in Frankfurt, touching their \\\n",
    "highest level in 14 months, after the U.S. government said a $25M glyphosate decision against the \\\n",
    "company should be reversed.\"\n",
    "\n",
    "TextBlob(example_headline).sentiment.polarity"
   ]
  },
  {
   "cell_type": "markdown",
   "id": "13fd42cb-3d63-4d46-86fd-0df35a1453a8",
   "metadata": {},
   "source": [
    "Let's compute the sentiment for all the headlines in the data."
   ]
  },
  {
   "cell_type": "code",
   "execution_count": null,
   "id": "a238a463-6783-4a8c-897a-8f42b9bfa78f",
   "metadata": {},
   "outputs": [
    {
     "data": {
      "text/html": [
       "<div>\n",
       "<style scoped>\n",
       "    .dataframe tbody tr th:only-of-type {\n",
       "        vertical-align: middle;\n",
       "    }\n",
       "\n",
       "    .dataframe tbody tr th {\n",
       "        vertical-align: top;\n",
       "    }\n",
       "\n",
       "    .dataframe thead th {\n",
       "        text-align: right;\n",
       "    }\n",
       "</style>\n",
       "<table border=\"1\" class=\"dataframe\">\n",
       "  <thead>\n",
       "    <tr style=\"text-align: right;\">\n",
       "      <th></th>\n",
       "      <th>ticker</th>\n",
       "      <th>headline</th>\n",
       "      <th>date</th>\n",
       "      <th>eventRet</th>\n",
       "      <th>Close</th>\n",
       "      <th>sentiment_textblob</th>\n",
       "    </tr>\n",
       "  </thead>\n",
       "  <tbody>\n",
       "    <tr>\n",
       "      <th>0</th>\n",
       "      <td>AMZN</td>\n",
       "      <td>Whole Foods (WFMI) -5.2% following a downgrade...</td>\n",
       "      <td>2011-05-02</td>\n",
       "      <td>0.017650</td>\n",
       "      <td>201.19</td>\n",
       "      <td>0.262500</td>\n",
       "    </tr>\n",
       "    <tr>\n",
       "      <th>1</th>\n",
       "      <td>NFLX</td>\n",
       "      <td>Netflix (NFLX +1.1%) shares post early gains a...</td>\n",
       "      <td>2011-05-02</td>\n",
       "      <td>-0.013003</td>\n",
       "      <td>33.88</td>\n",
       "      <td>-0.043750</td>\n",
       "    </tr>\n",
       "    <tr>\n",
       "      <th>2</th>\n",
       "      <td>MSFT</td>\n",
       "      <td>The likely winners in Microsoft's (MSFT -1.4%)...</td>\n",
       "      <td>2011-05-10</td>\n",
       "      <td>-0.019823</td>\n",
       "      <td>20.63</td>\n",
       "      <td>0.166667</td>\n",
       "    </tr>\n",
       "    <tr>\n",
       "      <th>3</th>\n",
       "      <td>MSFT</td>\n",
       "      <td>Microsoft (MSFT -1.2%) and Skype signed their ...</td>\n",
       "      <td>2011-05-10</td>\n",
       "      <td>-0.019823</td>\n",
       "      <td>20.63</td>\n",
       "      <td>-0.030556</td>\n",
       "    </tr>\n",
       "    <tr>\n",
       "      <th>4</th>\n",
       "      <td>MSFT</td>\n",
       "      <td>NaN</td>\n",
       "      <td>2011-05-10</td>\n",
       "      <td>-0.019823</td>\n",
       "      <td>20.63</td>\n",
       "      <td>0.000000</td>\n",
       "    </tr>\n",
       "    <tr>\n",
       "      <th>...</th>\n",
       "      <td>...</td>\n",
       "      <td>...</td>\n",
       "      <td>...</td>\n",
       "      <td>...</td>\n",
       "      <td>...</td>\n",
       "      <td>...</td>\n",
       "    </tr>\n",
       "    <tr>\n",
       "      <th>2763</th>\n",
       "      <td>TSLA</td>\n",
       "      <td>Responding to a comment on Twitter, Elon Musk ...</td>\n",
       "      <td>2018-12-24</td>\n",
       "      <td>0.041608</td>\n",
       "      <td>295.39</td>\n",
       "      <td>-0.156250</td>\n",
       "    </tr>\n",
       "    <tr>\n",
       "      <th>2764</th>\n",
       "      <td>AMZN</td>\n",
       "      <td>Amazon (NASDAQ:AMZN) is among the companies th...</td>\n",
       "      <td>2018-12-24</td>\n",
       "      <td>0.013062</td>\n",
       "      <td>1343.96</td>\n",
       "      <td>0.200000</td>\n",
       "    </tr>\n",
       "    <tr>\n",
       "      <th>2765</th>\n",
       "      <td>AAPL</td>\n",
       "      <td>Chinese companies urge employees to boycott (N...</td>\n",
       "      <td>2018-12-24</td>\n",
       "      <td>0.005634</td>\n",
       "      <td>143.92</td>\n",
       "      <td>-0.012500</td>\n",
       "    </tr>\n",
       "    <tr>\n",
       "      <th>2766</th>\n",
       "      <td>TSLA</td>\n",
       "      <td>Elon Musk tweets that Tesla's (NASDAQ:TSLA) Su...</td>\n",
       "      <td>2018-12-26</td>\n",
       "      <td>-0.002856</td>\n",
       "      <td>326.09</td>\n",
       "      <td>0.000000</td>\n",
       "    </tr>\n",
       "    <tr>\n",
       "      <th>2767</th>\n",
       "      <td>FB</td>\n",
       "      <td>\"Backing up the sleigh,\" on Facebook (NASDAQ:F...</td>\n",
       "      <td>2018-12-26</td>\n",
       "      <td>0.076984</td>\n",
       "      <td>134.18</td>\n",
       "      <td>0.000000</td>\n",
       "    </tr>\n",
       "  </tbody>\n",
       "</table>\n",
       "<p>2768 rows × 6 columns</p>\n",
       "</div>"
      ],
      "text/plain": [
       "     ticker                                           headline        date   \n",
       "0      AMZN  Whole Foods (WFMI) -5.2% following a downgrade...  2011-05-02  \\\n",
       "1      NFLX  Netflix (NFLX +1.1%) shares post early gains a...  2011-05-02   \n",
       "2      MSFT  The likely winners in Microsoft's (MSFT -1.4%)...  2011-05-10   \n",
       "3      MSFT  Microsoft (MSFT -1.2%) and Skype signed their ...  2011-05-10   \n",
       "4      MSFT                                                NaN  2011-05-10   \n",
       "...     ...                                                ...         ...   \n",
       "2763   TSLA  Responding to a comment on Twitter, Elon Musk ...  2018-12-24   \n",
       "2764   AMZN  Amazon (NASDAQ:AMZN) is among the companies th...  2018-12-24   \n",
       "2765   AAPL  Chinese companies urge employees to boycott (N...  2018-12-24   \n",
       "2766   TSLA  Elon Musk tweets that Tesla's (NASDAQ:TSLA) Su...  2018-12-26   \n",
       "2767     FB  \"Backing up the sleigh,\" on Facebook (NASDAQ:F...  2018-12-26   \n",
       "\n",
       "      eventRet    Close  sentiment_textblob  \n",
       "0     0.017650   201.19            0.262500  \n",
       "1    -0.013003    33.88           -0.043750  \n",
       "2    -0.019823    20.63            0.166667  \n",
       "3    -0.019823    20.63           -0.030556  \n",
       "4    -0.019823    20.63            0.000000  \n",
       "...        ...      ...                 ...  \n",
       "2763  0.041608   295.39           -0.156250  \n",
       "2764  0.013062  1343.96            0.200000  \n",
       "2765  0.005634   143.92           -0.012500  \n",
       "2766 -0.002856   326.09            0.000000  \n",
       "2767  0.076984   134.18            0.000000  \n",
       "\n",
       "[2768 rows x 6 columns]"
      ]
     },
     "execution_count": null,
     "metadata": {},
     "output_type": "execute_result"
    }
   ],
   "source": [
    "df_news_return['sentiment_textblob'] = [TextBlob(str(s)).sentiment.polarity for s in df_news_return['headline']]\n",
    "df_news_return"
   ]
  },
  {
   "cell_type": "markdown",
   "id": "af44ebed-c48b-43e9-b63c-a61189ee10d7",
   "metadata": {},
   "source": [
    "Let's see how the `TextBlob()` sentiments correlate with the `eventRet`.  As we can see the correlation is +4.2%, which is directionally correct but quite low."
   ]
  },
  {
   "cell_type": "code",
   "execution_count": null,
   "id": "32215da0-b62e-474a-9a1a-37ab3331301c",
   "metadata": {},
   "outputs": [
    {
     "name": "stdout",
     "output_type": "stream",
     "text": [
      "0.04257233738490116\n"
     ]
    }
   ],
   "source": [
    "correlation = df_news_return['eventRet'].corr(df_news_return['sentiment_textblob'])\n",
    "print(correlation)"
   ]
  },
  {
   "cell_type": "markdown",
   "id": "89b9e39e-1290-4769-8822-1214a67ac6e1",
   "metadata": {},
   "source": [
    "## Supervised Techniques - **sklearn**"
   ]
  },
  {
   "cell_type": "markdown",
   "id": "83119fe9-12c5-4fcf-9578-7264a4d90a06",
   "metadata": {},
   "source": [
    "Next, we develop our own models for sentiment analysis, based on some labeled financial headline data from Kaggle.  Let's read-in the data that we will use to train our models."
   ]
  },
  {
   "cell_type": "code",
   "execution_count": null,
   "id": "0ccfbee0-c3b7-42c7-90e8-f31275d380e6",
   "metadata": {},
   "outputs": [
    {
     "data": {
      "text/html": [
       "<div>\n",
       "<style scoped>\n",
       "    .dataframe tbody tr th:only-of-type {\n",
       "        vertical-align: middle;\n",
       "    }\n",
       "\n",
       "    .dataframe tbody tr th {\n",
       "        vertical-align: top;\n",
       "    }\n",
       "\n",
       "    .dataframe thead th {\n",
       "        text-align: right;\n",
       "    }\n",
       "</style>\n",
       "<table border=\"1\" class=\"dataframe\">\n",
       "  <thead>\n",
       "    <tr style=\"text-align: right;\">\n",
       "      <th></th>\n",
       "      <th>datetime</th>\n",
       "      <th>headline</th>\n",
       "      <th>ticker</th>\n",
       "      <th>sentiment</th>\n",
       "    </tr>\n",
       "  </thead>\n",
       "  <tbody>\n",
       "    <tr>\n",
       "      <th>0</th>\n",
       "      <td>1/16/2020 5:25</td>\n",
       "      <td>$MMM fell on hard times but could be set to re...</td>\n",
       "      <td>MMM</td>\n",
       "      <td>0</td>\n",
       "    </tr>\n",
       "    <tr>\n",
       "      <th>1</th>\n",
       "      <td>1/11/2020 6:43</td>\n",
       "      <td>Wolfe Research Upgrades 3M $MMM to ¡§Peer Perf...</td>\n",
       "      <td>MMM</td>\n",
       "      <td>1</td>\n",
       "    </tr>\n",
       "    <tr>\n",
       "      <th>2</th>\n",
       "      <td>1/9/2020 9:37</td>\n",
       "      <td>3M $MMM Upgraded to ¡§Peer Perform¡¨ by Wolfe ...</td>\n",
       "      <td>MMM</td>\n",
       "      <td>1</td>\n",
       "    </tr>\n",
       "    <tr>\n",
       "      <th>3</th>\n",
       "      <td>1/8/2020 17:01</td>\n",
       "      <td>$MMM #insideday follow up as it also opened up...</td>\n",
       "      <td>MMM</td>\n",
       "      <td>1</td>\n",
       "    </tr>\n",
       "    <tr>\n",
       "      <th>4</th>\n",
       "      <td>1/8/2020 7:44</td>\n",
       "      <td>$MMM is best #dividend #stock out there and do...</td>\n",
       "      <td>MMM</td>\n",
       "      <td>0</td>\n",
       "    </tr>\n",
       "    <tr>\n",
       "      <th>...</th>\n",
       "      <td>...</td>\n",
       "      <td>...</td>\n",
       "      <td>...</td>\n",
       "      <td>...</td>\n",
       "    </tr>\n",
       "    <tr>\n",
       "      <th>9465</th>\n",
       "      <td>4/11/2019 1:24</td>\n",
       "      <td>$WMT - Walmart shifts to remodeling vs. new st...</td>\n",
       "      <td>WMT</td>\n",
       "      <td>1</td>\n",
       "    </tr>\n",
       "    <tr>\n",
       "      <th>9466</th>\n",
       "      <td>4/10/2019 6:05</td>\n",
       "      <td>Walmart INC $WMT Holder Texas Permanent School...</td>\n",
       "      <td>WMT</td>\n",
       "      <td>0</td>\n",
       "    </tr>\n",
       "    <tr>\n",
       "      <th>9467</th>\n",
       "      <td>4/9/2019 4:38</td>\n",
       "      <td>$WMT $GILD:3 Dividend Stocks Perfect for Retir...</td>\n",
       "      <td>WMT</td>\n",
       "      <td>1</td>\n",
       "    </tr>\n",
       "    <tr>\n",
       "      <th>9468</th>\n",
       "      <td>4/9/2019 4:30</td>\n",
       "      <td>Walmart expanding use of #robots to scan shelv...</td>\n",
       "      <td>WMT</td>\n",
       "      <td>1</td>\n",
       "    </tr>\n",
       "    <tr>\n",
       "      <th>9469</th>\n",
       "      <td>4/9/2019 4:11</td>\n",
       "      <td>$WMT Walmart plans to add thousands of robot h...</td>\n",
       "      <td>WMT</td>\n",
       "      <td>1</td>\n",
       "    </tr>\n",
       "  </tbody>\n",
       "</table>\n",
       "<p>9470 rows × 4 columns</p>\n",
       "</div>"
      ],
      "text/plain": [
       "            datetime                                           headline   \n",
       "0     1/16/2020 5:25  $MMM fell on hard times but could be set to re...  \\\n",
       "1     1/11/2020 6:43  Wolfe Research Upgrades 3M $MMM to ¡§Peer Perf...   \n",
       "2      1/9/2020 9:37  3M $MMM Upgraded to ¡§Peer Perform¡¨ by Wolfe ...   \n",
       "3     1/8/2020 17:01  $MMM #insideday follow up as it also opened up...   \n",
       "4      1/8/2020 7:44  $MMM is best #dividend #stock out there and do...   \n",
       "...              ...                                                ...   \n",
       "9465  4/11/2019 1:24  $WMT - Walmart shifts to remodeling vs. new st...   \n",
       "9466  4/10/2019 6:05  Walmart INC $WMT Holder Texas Permanent School...   \n",
       "9467   4/9/2019 4:38  $WMT $GILD:3 Dividend Stocks Perfect for Retir...   \n",
       "9468   4/9/2019 4:30  Walmart expanding use of #robots to scan shelv...   \n",
       "9469   4/9/2019 4:11  $WMT Walmart plans to add thousands of robot h...   \n",
       "\n",
       "     ticker  sentiment  \n",
       "0       MMM          0  \n",
       "1       MMM          1  \n",
       "2       MMM          1  \n",
       "3       MMM          1  \n",
       "4       MMM          0  \n",
       "...     ...        ...  \n",
       "9465    WMT          1  \n",
       "9466    WMT          0  \n",
       "9467    WMT          1  \n",
       "9468    WMT          1  \n",
       "9469    WMT          1  \n",
       "\n",
       "[9470 rows x 4 columns]"
      ]
     },
     "execution_count": null,
     "metadata": {},
     "output_type": "execute_result"
    }
   ],
   "source": [
    "df_news_labeled = pd.read_csv('LabelledNewsData.csv', encoding='unicode_escape')\n",
    "df_news_labeled"
   ]
  },
  {
   "cell_type": "markdown",
   "id": "3bfdacb3-c92e-49f2-a8dd-994f1b3a23d0",
   "metadata": {},
   "source": [
    "As we can see, the Kaggle data is fairly balanced with about 58% positive sentiments, consists of 30 tickers, each of which are fairly uniformly represented."
   ]
  },
  {
   "cell_type": "code",
   "execution_count": null,
   "id": "f3c3d839-be85-4739-baa6-4809a5778176",
   "metadata": {},
   "outputs": [
    {
     "data": {
      "text/plain": [
       "0.5788806758183738"
      ]
     },
     "execution_count": null,
     "metadata": {},
     "output_type": "execute_result"
    }
   ],
   "source": [
    "df_news_labeled['sentiment'].mean()"
   ]
  },
  {
   "cell_type": "code",
   "execution_count": null,
   "id": "f7ff33dd-985a-4f70-9a38-f568f35588a6",
   "metadata": {},
   "outputs": [
    {
     "name": "stdout",
     "output_type": "stream",
     "text": [
      "Number of Tickers:  30\n"
     ]
    }
   ],
   "source": [
    "print(\"Number of Tickers: \", len(df_news_labeled['ticker'].unique()))"
   ]
  },
  {
   "cell_type": "code",
   "execution_count": null,
   "id": "e3253508-a237-47bb-83e7-1cdd1b95ca5a",
   "metadata": {},
   "outputs": [
    {
     "data": {
      "text/plain": [
       "ticker\n",
       "HD      350\n",
       "UTX     350\n",
       "JPM     349\n",
       "INTC    348\n",
       "MMM     347\n",
       "IBM     346\n",
       "MRK     345\n",
       "WMT     344\n",
       "CVX     343\n",
       "UNH     339\n",
       "PFE     337\n",
       "CSCO    337\n",
       "VZ      335\n",
       "PG      334\n",
       "CAT     332\n",
       "V       326\n",
       "TRV     326\n",
       "MCD     326\n",
       "MSFT    324\n",
       "JNJ     322\n",
       "AXP     320\n",
       "BA      318\n",
       "KO      309\n",
       "DIS     300\n",
       "WBA     283\n",
       "NKE     273\n",
       "AAPL    271\n",
       "XOM     259\n",
       "DOW     190\n",
       "GS      187\n",
       "Name: count, dtype: int64"
      ]
     },
     "execution_count": null,
     "metadata": {},
     "output_type": "execute_result"
    }
   ],
   "source": [
    "df_news_labeled['ticker'].value_counts()"
   ]
  },
  {
   "cell_type": "markdown",
   "id": "3fcac78d-516a-44c2-ade1-793d861b0461",
   "metadata": {},
   "source": [
    "In order to run a supervised learning model, we first need to convert the news headlines into a vector feature representation. For this exercise, we will use the word embedding built into the **spaCy** package.  The word embedding model includes 20,000 unique vectors with 300 dimensions. We apply this model to all  the `headlines` in `df_news_labeled`.\n",
    "\n",
    "Let's first import the **spaCy** package."
   ]
  },
  {
   "cell_type": "code",
   "execution_count": null,
   "id": "f2921607-3e8c-4b64-aa58-f11d4239fe4e",
   "metadata": {},
   "outputs": [],
   "source": [
    "import spacy\n",
    "nlp = spacy.load('en_core_web_lg')"
   ]
  },
  {
   "cell_type": "markdown",
   "id": "d8305603-1308-44ff-a5e6-e3e051bb57c9",
   "metadata": {},
   "source": [
    "Next, let's see the word embedding for a single word."
   ]
  },
  {
   "cell_type": "code",
   "execution_count": null,
   "id": "d19ea75f-a5c3-4ac2-b81b-4ca40c102adf",
   "metadata": {},
   "outputs": [
    {
     "data": {
      "text/plain": [
       "spacy.tokens.doc.Doc"
      ]
     },
     "execution_count": null,
     "metadata": {},
     "output_type": "execute_result"
    }
   ],
   "source": [
    "doc = nlp('fell')\n",
    "type(doc)"
   ]
  },
  {
   "cell_type": "code",
   "execution_count": null,
   "id": "b78076b2-428a-4f21-857b-0dad8909dd8f",
   "metadata": {},
   "outputs": [
    {
     "name": "stdout",
     "output_type": "stream",
     "text": [
      "[  1.1734    -7.2025     0.27734   -5.4665     2.8386    -2.496\n",
      "   1.1509     9.5497     4.8894    -2.7378    -1.0221     3.1214\n",
      "  -1.5272     1.2968     0.78371    3.3423    -4.3773    -6.473\n",
      "   3.9741     2.4101    -0.91515   -4.1784    -1.9259    -5.7423\n",
      "  -5.1056    -2.5617     3.7718    -4.4208     9.0647     1.4237\n",
      "   1.2726     0.5712    -1.4489    -2.7199    -5.1065    -1.6203\n",
      "  -3.0038     1.116     -0.44994    1.5537     2.9035     2.288\n",
      "   6.2687    -0.10803    0.36491   -2.2931    -3.9193     2.7295\n",
      "   1.989      1.8773    -0.70424    2.7992    -4.6728     1.1616\n",
      "  -0.06419    2.7225     4.4624    -4.8996     2.086      4.1729\n",
      "  -1.074     -3.9116     1.0264     2.848     -0.97624    0.48979\n",
      "   2.5099     4.0977     2.7164    -2.7599     2.1031     0.16324\n",
      "  -1.5091     3.9319     1.5492     3.1728     0.44398    5.1455\n",
      "  -1.7672    -0.12588   -3.2237    -0.96587    2.5144     2.616\n",
      "   1.7276     0.3823     2.1233    -1.3669    -1.9021     1.01\n",
      "   0.13405    3.0058    -3.887      3.9119     1.2379     7.797\n",
      "   1.0274   -10.084      6.5854    -1.3986     0.058625  -0.6915\n",
      "   2.0257     0.85324   -3.1623     3.5685     2.3699     3.3838\n",
      "  -6.4677    -0.73642   -0.75226   -5.686     -3.8741    -1.7943\n",
      "   0.40222    2.8348    -2.6308     4.0367    -7.4351     2.396\n",
      "   2.5281    -1.6755    -2.4794     2.5454    -2.026      2.7354\n",
      "   1.8119     2.4876     0.82002    3.4847    -0.23689   -0.1508\n",
      "   4.5248     2.1016    -0.83938    0.86797    1.4937    -6.4949\n",
      "   1.0099    -2.7664    -4.861      1.9063    -2.6432     5.9116\n",
      "   2.7117     4.0489    -8.2296    -5.1775    -2.5998    -2.6773\n",
      "  -0.41113   -2.8494     6.1497    -0.4032    -1.4203    -3.6775\n",
      "  -2.2973     2.2945     1.5869    -1.1298     1.9766    -1.3601\n",
      "   0.9683    -6.2481    -0.040676   3.6518     0.75282    1.628\n",
      "  -2.7672     5.6425     4.4535    -0.75748    3.4292    -7.3582\n",
      "   0.23872   -5.1985    -2.373     -4.378     -0.97711    0.24911\n",
      "  -2.4109    -4.1346     0.018835   9.3948    -3.5975    -5.4591\n",
      "   5.7961     2.9058    -2.4857    -5.5542     3.1893    -2.4025\n",
      "  -5.3554    -2.7439     1.2465   -12.615      2.2201    -1.4977\n",
      "  -2.9704     5.3191     3.2996    -1.3074     1.8646    -4.9133\n",
      "  -1.7506     0.48      -2.021     -0.96144   -2.5537     1.667\n",
      "  -4.3866     3.3491    -2.9308     1.3915     2.426      1.8428\n",
      "  -0.2902     1.5573    -5.8349    -3.1051    -1.3296    -1.6882\n",
      "   0.63074    3.8912    -4.129      3.1995     1.9571     5.7802\n",
      "   0.13258   -2.5778     0.65669    0.26942    5.4798     3.1075\n",
      "  -2.7361     9.4319    -2.4395    -1.693      4.2018    -0.3257\n",
      "   6.0126     5.0842     0.27366   -2.3441     1.6358    -0.90506\n",
      "  -6.7565     6.9635     2.3309    -2.2213    -6.1234    -5.0523\n",
      "  -0.7981    -1.5737     5.1085     2.6834    -1.4149    -4.6759\n",
      "   6.3007     5.3383     1.841      0.38306   -2.2447    -0.53224\n",
      "   0.034658  -4.1074     1.3425    -1.5725     1.1915     1.6954\n",
      "   7.0669     0.72362   -7.5257    -1.9819    -0.35572   -0.75719\n",
      "   0.82741   -6.3317     6.7808     1.3056     1.494      1.5701\n",
      "  -1.1684    -2.2983    -0.38407    0.60411   -5.5468    -2.7808\n",
      "  -6.7024     2.9155    -5.426      2.5842    -1.2399     0.63733\n",
      "  -2.3217     3.1628    -1.0898     1.7661     2.2106    -0.079949]\n"
     ]
    }
   ],
   "source": [
    "for token in doc:\n",
    "    print(token.vector)"
   ]
  },
  {
   "cell_type": "markdown",
   "id": "4b509881-5beb-4c01-bfca-f51a98478d82",
   "metadata": {},
   "source": [
    "In order to associate a single vector with headline, we will calculate the mean vector of all the words in the headline.  In the following code we are calculating the word-embedding for each of the words in the headline and taking the average of all of them.  This results in a single 300-dimensional vector for each headline."
   ]
  },
  {
   "cell_type": "code",
   "execution_count": null,
   "id": "98dad689-a131-4ef7-bbd8-9da4a3eb6271",
   "metadata": {},
   "outputs": [
    {
     "name": "stdout",
     "output_type": "stream",
     "text": [
      "CPU times: user 51.6 s, sys: 24.3 ms, total: 51.6 s\n",
      "Wall time: 51.6 s\n"
     ]
    }
   ],
   "source": [
    "%%time\n",
    "all_vectors = np.array([np.array([token.vector for token in nlp(s)]).mean(axis=0) for s in df_news_labeled['headline']])"
   ]
  },
  {
   "cell_type": "code",
   "execution_count": null,
   "id": "a7fce46f-1d4d-400b-98c0-6d88a9bb07ab",
   "metadata": {},
   "outputs": [
    {
     "data": {
      "text/plain": [
       "(9470, 300)"
      ]
     },
     "execution_count": null,
     "metadata": {},
     "output_type": "execute_result"
    }
   ],
   "source": [
    "all_vectors.shape"
   ]
  },
  {
   "cell_type": "markdown",
   "id": "04d8661f-1e58-43df-abc4-97da532d4f52",
   "metadata": {},
   "source": [
    "Now we have our headlines *featurized* and we can use them as training data for a variety of classification models.  \n",
    "\n",
    "We next import the functions that we will need from **sklearn**."
   ]
  },
  {
   "cell_type": "code",
   "execution_count": null,
   "id": "438f59a5-359d-4a96-9c1c-abdca07bdf56",
   "metadata": {},
   "outputs": [],
   "source": [
    "from sklearn.neural_network import MLPClassifier\n",
    "from sklearn.ensemble import RandomForestClassifier\n",
    "from sklearn.linear_model import LogisticRegression\n",
    "from sklearn.tree import DecisionTreeClassifier\n",
    "from sklearn.neighbors import KNeighborsClassifier\n",
    "from sklearn.svm import SVC\n",
    "from sklearn.metrics import accuracy_score\n",
    "from sklearn.model_selection import train_test_split, cross_val_score, KFold"
   ]
  },
  {
   "cell_type": "markdown",
   "id": "d5d3b8dc-62a1-4540-9fac-724bc7013154",
   "metadata": {},
   "source": [
    "Let's organize our features and our labels as well as create a training and test sets."
   ]
  },
  {
   "cell_type": "code",
   "execution_count": null,
   "id": "82f1f898-7b1f-4174-bcb7-14acee001278",
   "metadata": {},
   "outputs": [],
   "source": [
    "X = all_vectors\n",
    "Y = df_news_labeled['sentiment']\n",
    "X_train, X_test, Y_train, Y_test = train_test_split(X, Y, test_size=0.3, random_state=0)"
   ]
  },
  {
   "cell_type": "markdown",
   "id": "3d3e58c9-87d1-4ebe-b688-d8a2ef46711f",
   "metadata": {},
   "source": [
    "Next, let's create a `list` of models that we are going to fit to our data."
   ]
  },
  {
   "cell_type": "code",
   "execution_count": null,
   "id": "d7b3569d-cc55-4ba3-b5a5-bdd1b859b0f5",
   "metadata": {},
   "outputs": [],
   "source": [
    "models = []\n",
    "models.append(('LR', LogisticRegression(max_iter=1000)))\n",
    "models.append(('KNN', KNeighborsClassifier(n_jobs=-1)))\n",
    "models.append(('CART', DecisionTreeClassifier()))\n",
    "models.append(('SVM', SVC()))\n",
    "models.append(('NN', MLPClassifier()))\n",
    "models.append(('RF', RandomForestClassifier(n_jobs=-1)))"
   ]
  },
  {
   "cell_type": "markdown",
   "id": "10ba35c3-df2e-4cdc-a926-698375ddc8bb",
   "metadata": {},
   "source": [
    "The following `for`-loop iterates through all the models, fits each one, and stores the results for further analysis."
   ]
  },
  {
   "cell_type": "code",
   "execution_count": null,
   "id": "8fd7c81d-ade3-4ba5-9a3b-cfe7829695d4",
   "metadata": {},
   "outputs": [
    {
     "name": "stdout",
     "output_type": "stream",
     "text": [
      "LR: 0.8974 0.8793\n",
      "KNN: 0.8457 0.7628\n",
      "CART: 0.9998 0.6998\n",
      "SVM: 0.8603 0.8434\n",
      "NN: 0.9968 0.9071\n",
      "RF: 0.9998 0.7955\n"
     ]
    }
   ],
   "source": [
    "#results = []\n",
    "names = []\n",
    "test_results = []\n",
    "train_results = []\n",
    "for name, model in models:\n",
    "    # collecting names of models\n",
    "    names.append(name)\n",
    "    \n",
    "    # fitting on training data\n",
    "    model.fit(X_train, Y_train)\n",
    "    train_result = accuracy_score(model.predict(X_train), Y_train)\n",
    "    train_results.append(train_result)\n",
    "    \n",
    "    # checking accuracy on testing data\n",
    "    test_result = accuracy_score(model.predict(X_test), Y_test)\n",
    "    test_results.append(test_result)    \n",
    "    \n",
    "    msg = f'{name}: {train_result:.4f} {test_result:.4f}'\n",
    "    print(msg)"
   ]
  },
  {
   "cell_type": "markdown",
   "id": "6030183b-e971-46d0-9a80-abcb58464774",
   "metadata": {},
   "source": [
    "Let's compare the various models by plotting their training and testing accuracy.  As you can see the neural network model seems to perform the best."
   ]
  },
  {
   "cell_type": "code",
   "execution_count": null,
   "id": "8e2e0296-2f99-4969-945a-502561ebc441",
   "metadata": {},
   "outputs": [
    {
     "data": {
      "image/png": "[encoded data removed]",
      "text/plain": [
       "<Figure size 800x500 with 1 Axes>"
      ]
     },
     "metadata": {},
     "output_type": "display_data"
    }
   ],
   "source": [
    "# compare algorithms\n",
    "from matplotlib import pyplot\n",
    "fig = pyplot.figure()\n",
    "ind = np.arange(len(names))  # the x locations for the groups\n",
    "width = 0.35  # the width of the bars\n",
    "fig.suptitle('Algorithm Comparison')\n",
    "ax = fig.add_subplot(111)\n",
    "pyplot.bar(ind - width/2, train_results,  width=width, label='Train Error')\n",
    "pyplot.bar(ind + width/2, test_results, width=width, label='Test Error')\n",
    "fig.set_size_inches(8,5)\n",
    "pyplot.legend()\n",
    "ax.set_xticks(ind)\n",
    "ax.set_xticklabels(names)\n",
    "pyplot.show()"
   ]
  },
  {
   "cell_type": "markdown",
   "id": "e5b61fce-9c0b-4458-b24e-473da4c4fab7",
   "metadata": {},
   "source": [
    "## LTSM - **keras**"
   ]
  },
  {
   "cell_type": "markdown",
   "id": "3a2fe1a2-6427-4911-a4f9-5f8ead4eff42",
   "metadata": {},
   "source": [
    "We will also include LSTM, which is an RNN-based model, in the list of models considered. RNNs process sequences of data (in our case words in a headline) and thus are well suited for NLP. In particular, LSTMs maintain a memory of past information, which enables the model to predict the current output conditioned on long distance features and looks at the words in the context of the entire sentence, rather than simply looking at the individual words.\n",
    "\n",
    "Let's begin by importing some of the **keras** objects that we will need."
   ]
  },
  {
   "cell_type": "code",
   "execution_count": null,
   "id": "6280760c-5f4f-4f76-8e3a-39c56ccb0435",
   "metadata": {},
   "outputs": [
    {
     "name": "stderr",
     "output_type": "stream",
     "text": [
      "2024-11-05 16:07:00.013169: I tensorflow/tsl/cuda/cudart_stub.cc:28] Could not find cuda drivers on your machine, GPU will not be used.\n",
      "2024-11-05 16:07:00.204742: E tensorflow/compiler/xla/stream_executor/cuda/cuda_dnn.cc:9342] Unable to register cuDNN factory: Attempting to register factory for plugin cuDNN when one has already been registered\n",
      "2024-11-05 16:07:00.204789: E tensorflow/compiler/xla/stream_executor/cuda/cuda_fft.cc:609] Unable to register cuFFT factory: Attempting to register factory for plugin cuFFT when one has already been registered\n",
      "2024-11-05 16:07:00.206701: E tensorflow/compiler/xla/stream_executor/cuda/cuda_blas.cc:1518] Unable to register cuBLAS factory: Attempting to register factory for plugin cuBLAS when one has already been registered\n",
      "2024-11-05 16:07:00.304883: I tensorflow/tsl/cuda/cudart_stub.cc:28] Could not find cuda drivers on your machine, GPU will not be used.\n",
      "2024-11-05 16:07:00.305864: I tensorflow/core/platform/cpu_feature_guard.cc:182] This TensorFlow binary is optimized to use available CPU instructions in performance-critical operations.\n",
      "To enable the following instructions: AVX2 FMA, in other operations, rebuild TensorFlow with the appropriate compiler flags.\n",
      "2024-11-05 16:07:01.417417: W tensorflow/compiler/tf2tensorrt/utils/py_utils.cc:38] TF-TRT Warning: Could not find TensorRT\n"
     ]
    }
   ],
   "source": [
    "from keras.preprocessing.text import Tokenizer\n",
    "from keras.preprocessing.sequence import pad_sequences\n",
    "from keras.models import Sequential\n",
    "#from keras.layers import Dense, Flatten, LSTM, Dropout, Activation\n",
    "from keras.layers import Dense, LSTM\n",
    "from keras.layers import Embedding"
   ]
  },
  {
   "cell_type": "markdown",
   "id": "b0401a9e-db1d-434c-8661-5dd6c95e73b0",
   "metadata": {},
   "source": [
    "As with any NLP modeling excercise, we will need to process our `headlines` to be usable in our LSTM model. For us to be able to feed the data into our LSTM model, all input documents must have the same length. We use the **keras** `Tokenizer` function to tokenize the strings and then use `.texts_to_sequences()` to make sequences of words. We will limit the maximum review length to `maxlen=50` by truncating longer reviews and pad shorter reviews with a null value (0). We can accomplish this using the `pad_sequences` function, also in **keras**."
   ]
  },
  {
   "cell_type": "code",
   "execution_count": null,
   "id": "dedb2ff2-f80c-4a4c-b7be-1a4fbb51e110",
   "metadata": {},
   "outputs": [],
   "source": [
    "vocabulary_size = 20000\n",
    "tokenizer = Tokenizer(num_words= vocabulary_size)\n",
    "tokenizer.fit_on_texts(df_news_labeled['headline'])\n",
    "sequences = tokenizer.texts_to_sequences(df_news_labeled['headline'])\n",
    "X_LSTM = pad_sequences(sequences, maxlen=50)"
   ]
  },
  {
   "cell_type": "markdown",
   "id": "fda1af92-c875-407c-8b08-1258dc66821e",
   "metadata": {},
   "source": [
    "Let's separate out our labels and create a holdout set."
   ]
  },
  {
   "cell_type": "code",
   "execution_count": null,
   "id": "14137a16-e2df-4841-acc6-f9e01a76b6cf",
   "metadata": {},
   "outputs": [],
   "source": [
    "Y_LSTM = df_news_labeled['sentiment']\n",
    "X_train_LSTM, X_test_LSTM, Y_train_LSTM, Y_test_LSTM = \\\n",
    "    train_test_split(X_LSTM, Y_LSTM, test_size=0.3, random_state=0)"
   ]
  },
  {
   "cell_type": "markdown",
   "id": "11b3727b-ddcb-41bc-971d-d06dd55a02b5",
   "metadata": {},
   "source": [
    "In the following code snippet, we use the **keras** library to build an artificial neural network classifier based on an LSTM model. \n",
    "\n",
    "Notice that the network starts with an `Embedding` layer.  Unlike our previous models where we were using the pre-trained embedding in the **spaCy** package, in this model we are learning our own word embedding.  The `Embedding` layer lets the system expand each token to a larger vector, allowing the network to represent a word in a meaningful way. The layer takes 20,000 as the first argument (i.e., the size of our vocabulary) and 300 as the second input parameter (i.e., the dimension of the embedding). \n",
    "\n",
    "Finally, given that this is a classification problem and the output needs to be labeled as zero or one, the `KerasClassifier()` function is used as a wrapper over the LSTM model to produce a binary (zero or one) output."
   ]
  },
  {
   "cell_type": "code",
   "execution_count": null,
   "id": "74460251-34db-4c9c-95d2-46778f4aa5f4",
   "metadata": {},
   "outputs": [
    {
     "name": "stdout",
     "output_type": "stream",
     "text": [
      "Epoch 1/3\n",
      "125/125 [==============================] - 15s 104ms/step - loss: 0.4059 - accuracy: 0.8182 - val_loss: 0.1415 - val_accuracy: 0.9491\n",
      "Epoch 2/3\n",
      "125/125 [==============================] - 13s 100ms/step - loss: 0.0521 - accuracy: 0.9849 - val_loss: 0.1021 - val_accuracy: 0.9664\n",
      "Epoch 3/3\n",
      "125/125 [==============================] - 13s 100ms/step - loss: 0.0141 - accuracy: 0.9965 - val_loss: 0.1461 - val_accuracy: 0.9559\n"
     ]
    },
    {
     "data": {
      "text/html": [
       "<style>#sk-container-id-1 {\n",
       "  /* Definition of color scheme common for light and dark mode */\n",
       "  --sklearn-color-text: black;\n",
       "  --sklearn-color-line: gray;\n",
       "  /* Definition of color scheme for unfitted estimators */\n",
       "  --sklearn-color-unfitted-level-0: #fff5e6;\n",
       "  --sklearn-color-unfitted-level-1: #f6e4d2;\n",
       "  --sklearn-color-unfitted-level-2: #ffe0b3;\n",
       "  --sklearn-color-unfitted-level-3: chocolate;\n",
       "  /* Definition of color scheme for fitted estimators */\n",
       "  --sklearn-color-fitted-level-0: #f0f8ff;\n",
       "  --sklearn-color-fitted-level-1: #d4ebff;\n",
       "  --sklearn-color-fitted-level-2: #b3dbfd;\n",
       "  --sklearn-color-fitted-level-3: cornflowerblue;\n",
       "\n",
       "  /* Specific color for light theme */\n",
       "  --sklearn-color-text-on-default-background: var(--sg-text-color, var(--theme-code-foreground, var(--jp-content-font-color1, black)));\n",
       "  --sklearn-color-background: var(--sg-background-color, var(--theme-background, var(--jp-layout-color0, white)));\n",
       "  --sklearn-color-border-box: var(--sg-text-color, var(--theme-code-foreground, var(--jp-content-font-color1, black)));\n",
       "  --sklearn-color-icon: #696969;\n",
       "\n",
       "  @media (prefers-color-scheme: dark) {\n",
       "    /* Redefinition of color scheme for dark theme */\n",
       "    --sklearn-color-text-on-default-background: var(--sg-text-color, var(--theme-code-foreground, var(--jp-content-font-color1, white)));\n",
       "    --sklearn-color-background: var(--sg-background-color, var(--theme-background, var(--jp-layout-color0, #111)));\n",
       "    --sklearn-color-border-box: var(--sg-text-color, var(--theme-code-foreground, var(--jp-content-font-color1, white)));\n",
       "    --sklearn-color-icon: #878787;\n",
       "  }\n",
       "}\n",
       "\n",
       "#sk-container-id-1 {\n",
       "  color: var(--sklearn-color-text);\n",
       "}\n",
       "\n",
       "#sk-container-id-1 pre {\n",
       "  padding: 0;\n",
       "}\n",
       "\n",
       "#sk-container-id-1 input.sk-hidden--visually {\n",
       "  border: 0;\n",
       "  clip: rect(1px 1px 1px 1px);\n",
       "  clip: rect(1px, 1px, 1px, 1px);\n",
       "  height: 1px;\n",
       "  margin: -1px;\n",
       "  overflow: hidden;\n",
       "  padding: 0;\n",
       "  position: absolute;\n",
       "  width: 1px;\n",
       "}\n",
       "\n",
       "#sk-container-id-1 div.sk-dashed-wrapped {\n",
       "  border: 1px dashed var(--sklearn-color-line);\n",
       "  margin: 0 0.4em 0.5em 0.4em;\n",
       "  box-sizing: border-box;\n",
       "  padding-bottom: 0.4em;\n",
       "  background-color: var(--sklearn-color-background);\n",
       "}\n",
       "\n",
       "#sk-container-id-1 div.sk-container {\n",
       "  /* jupyter's `normalize.less` sets `[hidden] { display: none; }`\n",
       "     but bootstrap.min.css set `[hidden] { display: none !important; }`\n",
       "     so we also need the `!important` here to be able to override the\n",
       "     default hidden behavior on the sphinx rendered scikit-learn.org.\n",
       "     See: https://github.com/scikit-learn/scikit-learn/issues/21755 */\n",
       "  display: inline-block !important;\n",
       "  position: relative;\n",
       "}\n",
       "\n",
       "#sk-container-id-1 div.sk-text-repr-fallback {\n",
       "  display: none;\n",
       "}\n",
       "\n",
       "div.sk-parallel-item,\n",
       "div.sk-serial,\n",
       "div.sk-item {\n",
       "  /* draw centered vertical line to link estimators */\n",
       "  background-image: linear-gradient(var(--sklearn-color-text-on-default-background), var(--sklearn-color-text-on-default-background));\n",
       "  background-size: 2px 100%;\n",
       "  background-repeat: no-repeat;\n",
       "  background-position: center center;\n",
       "}\n",
       "\n",
       "/* Parallel-specific style estimator block */\n",
       "\n",
       "#sk-container-id-1 div.sk-parallel-item::after {\n",
       "  content: \"\";\n",
       "  width: 100%;\n",
       "  border-bottom: 2px solid var(--sklearn-color-text-on-default-background);\n",
       "  flex-grow: 1;\n",
       "}\n",
       "\n",
       "#sk-container-id-1 div.sk-parallel {\n",
       "  display: flex;\n",
       "  align-items: stretch;\n",
       "  justify-content: center;\n",
       "  background-color: var(--sklearn-color-background);\n",
       "  position: relative;\n",
       "}\n",
       "\n",
       "#sk-container-id-1 div.sk-parallel-item {\n",
       "  display: flex;\n",
       "  flex-direction: column;\n",
       "}\n",
       "\n",
       "#sk-container-id-1 div.sk-parallel-item:first-child::after {\n",
       "  align-self: flex-end;\n",
       "  width: 50%;\n",
       "}\n",
       "\n",
       "#sk-container-id-1 div.sk-parallel-item:last-child::after {\n",
       "  align-self: flex-start;\n",
       "  width: 50%;\n",
       "}\n",
       "\n",
       "#sk-container-id-1 div.sk-parallel-item:only-child::after {\n",
       "  width: 0;\n",
       "}\n",
       "\n",
       "/* Serial-specific style estimator block */\n",
       "\n",
       "#sk-container-id-1 div.sk-serial {\n",
       "  display: flex;\n",
       "  flex-direction: column;\n",
       "  align-items: center;\n",
       "  background-color: var(--sklearn-color-background);\n",
       "  padding-right: 1em;\n",
       "  padding-left: 1em;\n",
       "}\n",
       "\n",
       "\n",
       "/* Toggleable style: style used for estimator/Pipeline/ColumnTransformer box that is\n",
       "clickable and can be expanded/collapsed.\n",
       "- Pipeline and ColumnTransformer use this feature and define the default style\n",
       "- Estimators will overwrite some part of the style using the `sk-estimator` class\n",
       "*/\n",
       "\n",
       "/* Pipeline and ColumnTransformer style (default) */\n",
       "\n",
       "#sk-container-id-1 div.sk-toggleable {\n",
       "  /* Default theme specific background. It is overwritten whether we have a\n",
       "  specific estimator or a Pipeline/ColumnTransformer */\n",
       "  background-color: var(--sklearn-color-background);\n",
       "}\n",
       "\n",
       "/* Toggleable label */\n",
       "#sk-container-id-1 label.sk-toggleable__label {\n",
       "  cursor: pointer;\n",
       "  display: block;\n",
       "  width: 100%;\n",
       "  margin-bottom: 0;\n",
       "  padding: 0.5em;\n",
       "  box-sizing: border-box;\n",
       "  text-align: center;\n",
       "}\n",
       "\n",
       "#sk-container-id-1 label.sk-toggleable__label-arrow:before {\n",
       "  /* Arrow on the left of the label */\n",
       "  content: \"▸\";\n",
       "  float: left;\n",
       "  margin-right: 0.25em;\n",
       "  color: var(--sklearn-color-icon);\n",
       "}\n",
       "\n",
       "#sk-container-id-1 label.sk-toggleable__label-arrow:hover:before {\n",
       "  color: var(--sklearn-color-text);\n",
       "}\n",
       "\n",
       "/* Toggleable content - dropdown */\n",
       "\n",
       "#sk-container-id-1 div.sk-toggleable__content {\n",
       "  max-height: 0;\n",
       "  max-width: 0;\n",
       "  overflow: hidden;\n",
       "  text-align: left;\n",
       "  /* unfitted */\n",
       "  background-color: var(--sklearn-color-unfitted-level-0);\n",
       "}\n",
       "\n",
       "#sk-container-id-1 div.sk-toggleable__content.fitted {\n",
       "  /* fitted */\n",
       "  background-color: var(--sklearn-color-fitted-level-0);\n",
       "}\n",
       "\n",
       "#sk-container-id-1 div.sk-toggleable__content pre {\n",
       "  margin: 0.2em;\n",
       "  border-radius: 0.25em;\n",
       "  color: var(--sklearn-color-text);\n",
       "  /* unfitted */\n",
       "  background-color: var(--sklearn-color-unfitted-level-0);\n",
       "}\n",
       "\n",
       "#sk-container-id-1 div.sk-toggleable__content.fitted pre {\n",
       "  /* unfitted */\n",
       "  background-color: var(--sklearn-color-fitted-level-0);\n",
       "}\n",
       "\n",
       "#sk-container-id-1 input.sk-toggleable__control:checked~div.sk-toggleable__content {\n",
       "  /* Expand drop-down */\n",
       "  max-height: 200px;\n",
       "  max-width: 100%;\n",
       "  overflow: auto;\n",
       "}\n",
       "\n",
       "#sk-container-id-1 input.sk-toggleable__control:checked~label.sk-toggleable__label-arrow:before {\n",
       "  content: \"▾\";\n",
       "}\n",
       "\n",
       "/* Pipeline/ColumnTransformer-specific style */\n",
       "\n",
       "#sk-container-id-1 div.sk-label input.sk-toggleable__control:checked~label.sk-toggleable__label {\n",
       "  color: var(--sklearn-color-text);\n",
       "  background-color: var(--sklearn-color-unfitted-level-2);\n",
       "}\n",
       "\n",
       "#sk-container-id-1 div.sk-label.fitted input.sk-toggleable__control:checked~label.sk-toggleable__label {\n",
       "  background-color: var(--sklearn-color-fitted-level-2);\n",
       "}\n",
       "\n",
       "/* Estimator-specific style */\n",
       "\n",
       "/* Colorize estimator box */\n",
       "#sk-container-id-1 div.sk-estimator input.sk-toggleable__control:checked~label.sk-toggleable__label {\n",
       "  /* unfitted */\n",
       "  background-color: var(--sklearn-color-unfitted-level-2);\n",
       "}\n",
       "\n",
       "#sk-container-id-1 div.sk-estimator.fitted input.sk-toggleable__control:checked~label.sk-toggleable__label {\n",
       "  /* fitted */\n",
       "  background-color: var(--sklearn-color-fitted-level-2);\n",
       "}\n",
       "\n",
       "#sk-container-id-1 div.sk-label label.sk-toggleable__label,\n",
       "#sk-container-id-1 div.sk-label label {\n",
       "  /* The background is the default theme color */\n",
       "  color: var(--sklearn-color-text-on-default-background);\n",
       "}\n",
       "\n",
       "/* On hover, darken the color of the background */\n",
       "#sk-container-id-1 div.sk-label:hover label.sk-toggleable__label {\n",
       "  color: var(--sklearn-color-text);\n",
       "  background-color: var(--sklearn-color-unfitted-level-2);\n",
       "}\n",
       "\n",
       "/* Label box, darken color on hover, fitted */\n",
       "#sk-container-id-1 div.sk-label.fitted:hover label.sk-toggleable__label.fitted {\n",
       "  color: var(--sklearn-color-text);\n",
       "  background-color: var(--sklearn-color-fitted-level-2);\n",
       "}\n",
       "\n",
       "/* Estimator label */\n",
       "\n",
       "#sk-container-id-1 div.sk-label label {\n",
       "  font-family: monospace;\n",
       "  font-weight: bold;\n",
       "  display: inline-block;\n",
       "  line-height: 1.2em;\n",
       "}\n",
       "\n",
       "#sk-container-id-1 div.sk-label-container {\n",
       "  text-align: center;\n",
       "}\n",
       "\n",
       "/* Estimator-specific */\n",
       "#sk-container-id-1 div.sk-estimator {\n",
       "  font-family: monospace;\n",
       "  border: 1px dotted var(--sklearn-color-border-box);\n",
       "  border-radius: 0.25em;\n",
       "  box-sizing: border-box;\n",
       "  margin-bottom: 0.5em;\n",
       "  /* unfitted */\n",
       "  background-color: var(--sklearn-color-unfitted-level-0);\n",
       "}\n",
       "\n",
       "#sk-container-id-1 div.sk-estimator.fitted {\n",
       "  /* fitted */\n",
       "  background-color: var(--sklearn-color-fitted-level-0);\n",
       "}\n",
       "\n",
       "/* on hover */\n",
       "#sk-container-id-1 div.sk-estimator:hover {\n",
       "  /* unfitted */\n",
       "  background-color: var(--sklearn-color-unfitted-level-2);\n",
       "}\n",
       "\n",
       "#sk-container-id-1 div.sk-estimator.fitted:hover {\n",
       "  /* fitted */\n",
       "  background-color: var(--sklearn-color-fitted-level-2);\n",
       "}\n",
       "\n",
       "/* Specification for estimator info (e.g. \"i\" and \"?\") */\n",
       "\n",
       "/* Common style for \"i\" and \"?\" */\n",
       "\n",
       ".sk-estimator-doc-link,\n",
       "a:link.sk-estimator-doc-link,\n",
       "a:visited.sk-estimator-doc-link {\n",
       "  float: right;\n",
       "  font-size: smaller;\n",
       "  line-height: 1em;\n",
       "  font-family: monospace;\n",
       "  background-color: var(--sklearn-color-background);\n",
       "  border-radius: 1em;\n",
       "  height: 1em;\n",
       "  width: 1em;\n",
       "  text-decoration: none !important;\n",
       "  margin-left: 1ex;\n",
       "  /* unfitted */\n",
       "  border: var(--sklearn-color-unfitted-level-1) 1pt solid;\n",
       "  color: var(--sklearn-color-unfitted-level-1);\n",
       "}\n",
       "\n",
       ".sk-estimator-doc-link.fitted,\n",
       "a:link.sk-estimator-doc-link.fitted,\n",
       "a:visited.sk-estimator-doc-link.fitted {\n",
       "  /* fitted */\n",
       "  border: var(--sklearn-color-fitted-level-1) 1pt solid;\n",
       "  color: var(--sklearn-color-fitted-level-1);\n",
       "}\n",
       "\n",
       "/* On hover */\n",
       "div.sk-estimator:hover .sk-estimator-doc-link:hover,\n",
       ".sk-estimator-doc-link:hover,\n",
       "div.sk-label-container:hover .sk-estimator-doc-link:hover,\n",
       ".sk-estimator-doc-link:hover {\n",
       "  /* unfitted */\n",
       "  background-color: var(--sklearn-color-unfitted-level-3);\n",
       "  color: var(--sklearn-color-background);\n",
       "  text-decoration: none;\n",
       "}\n",
       "\n",
       "div.sk-estimator.fitted:hover .sk-estimator-doc-link.fitted:hover,\n",
       ".sk-estimator-doc-link.fitted:hover,\n",
       "div.sk-label-container:hover .sk-estimator-doc-link.fitted:hover,\n",
       ".sk-estimator-doc-link.fitted:hover {\n",
       "  /* fitted */\n",
       "  background-color: var(--sklearn-color-fitted-level-3);\n",
       "  color: var(--sklearn-color-background);\n",
       "  text-decoration: none;\n",
       "}\n",
       "\n",
       "/* Span, style for the box shown on hovering the info icon */\n",
       ".sk-estimator-doc-link span {\n",
       "  display: none;\n",
       "  z-index: 9999;\n",
       "  position: relative;\n",
       "  font-weight: normal;\n",
       "  right: .2ex;\n",
       "  padding: .5ex;\n",
       "  margin: .5ex;\n",
       "  width: min-content;\n",
       "  min-width: 20ex;\n",
       "  max-width: 50ex;\n",
       "  color: var(--sklearn-color-text);\n",
       "  box-shadow: 2pt 2pt 4pt #999;\n",
       "  /* unfitted */\n",
       "  background: var(--sklearn-color-unfitted-level-0);\n",
       "  border: .5pt solid var(--sklearn-color-unfitted-level-3);\n",
       "}\n",
       "\n",
       ".sk-estimator-doc-link.fitted span {\n",
       "  /* fitted */\n",
       "  background: var(--sklearn-color-fitted-level-0);\n",
       "  border: var(--sklearn-color-fitted-level-3);\n",
       "}\n",
       "\n",
       ".sk-estimator-doc-link:hover span {\n",
       "  display: block;\n",
       "}\n",
       "\n",
       "/* \"?\"-specific style due to the `<a>` HTML tag */\n",
       "\n",
       "#sk-container-id-1 a.estimator_doc_link {\n",
       "  float: right;\n",
       "  font-size: 1rem;\n",
       "  line-height: 1em;\n",
       "  font-family: monospace;\n",
       "  background-color: var(--sklearn-color-background);\n",
       "  border-radius: 1rem;\n",
       "  height: 1rem;\n",
       "  width: 1rem;\n",
       "  text-decoration: none;\n",
       "  /* unfitted */\n",
       "  color: var(--sklearn-color-unfitted-level-1);\n",
       "  border: var(--sklearn-color-unfitted-level-1) 1pt solid;\n",
       "}\n",
       "\n",
       "#sk-container-id-1 a.estimator_doc_link.fitted {\n",
       "  /* fitted */\n",
       "  border: var(--sklearn-color-fitted-level-1) 1pt solid;\n",
       "  color: var(--sklearn-color-fitted-level-1);\n",
       "}\n",
       "\n",
       "/* On hover */\n",
       "#sk-container-id-1 a.estimator_doc_link:hover {\n",
       "  /* unfitted */\n",
       "  background-color: var(--sklearn-color-unfitted-level-3);\n",
       "  color: var(--sklearn-color-background);\n",
       "  text-decoration: none;\n",
       "}\n",
       "\n",
       "#sk-container-id-1 a.estimator_doc_link.fitted:hover {\n",
       "  /* fitted */\n",
       "  background-color: var(--sklearn-color-fitted-level-3);\n",
       "}\n",
       "</style><div id=\"sk-container-id-1\" class=\"sk-top-container\"><div class=\"sk-text-repr-fallback\"><pre>KerasClassifier(\n",
       "\tmodel=&lt;function create_model at 0x7d0b4f11bb50&gt;\n",
       "\tbuild_fn=None\n",
       "\twarm_start=False\n",
       "\trandom_state=None\n",
       "\toptimizer=rmsprop\n",
       "\tloss=None\n",
       "\tmetrics=None\n",
       "\tbatch_size=None\n",
       "\tvalidation_batch_size=None\n",
       "\tverbose=True\n",
       "\tcallbacks=None\n",
       "\tvalidation_split=0.4\n",
       "\tshuffle=True\n",
       "\trun_eagerly=False\n",
       "\tepochs=3\n",
       "\tclass_weight=None\n",
       ")</pre><b>In a Jupyter environment, please rerun this cell to show the HTML representation or trust the notebook. <br />On GitHub, the HTML representation is unable to render, please try loading this page with nbviewer.org.</b></div><div class=\"sk-container\" hidden><div class=\"sk-item\"><div class=\"sk-estimator fitted sk-toggleable\"><input class=\"sk-toggleable__control sk-hidden--visually\" id=\"sk-estimator-id-1\" type=\"checkbox\" checked><label for=\"sk-estimator-id-1\" class=\"sk-toggleable__label fitted sk-toggleable__label-arrow fitted\">&nbsp;KerasClassifier<span class=\"sk-estimator-doc-link fitted\">i<span>Fitted</span></span></label><div class=\"sk-toggleable__content fitted\"><pre>KerasClassifier(\n",
       "\tmodel=&lt;function create_model at 0x7d0b4f11bb50&gt;\n",
       "\tbuild_fn=None\n",
       "\twarm_start=False\n",
       "\trandom_state=None\n",
       "\toptimizer=rmsprop\n",
       "\tloss=None\n",
       "\tmetrics=None\n",
       "\tbatch_size=None\n",
       "\tvalidation_batch_size=None\n",
       "\tverbose=True\n",
       "\tcallbacks=None\n",
       "\tvalidation_split=0.4\n",
       "\tshuffle=True\n",
       "\trun_eagerly=False\n",
       "\tepochs=3\n",
       "\tclass_weight=None\n",
       ")</pre></div> </div></div></div></div>"
      ],
      "text/plain": [
       "KerasClassifier(\n",
       "\tmodel=<function create_model>\n",
       "\tbuild_fn=None\n",
       "\twarm_start=False\n",
       "\trandom_state=None\n",
       "\toptimizer=rmsprop\n",
       "\tloss=None\n",
       "\tmetrics=None\n",
       "\tbatch_size=None\n",
       "\tvalidation_batch_size=None\n",
       "\tverbose=True\n",
       "\tcallbacks=None\n",
       "\tvalidation_split=0.4\n",
       "\tshuffle=True\n",
       "\trun_eagerly=False\n",
       "\tepochs=3\n",
       "\tclass_weight=None\n",
       ")"
      ]
     },
     "execution_count": null,
     "metadata": {},
     "output_type": "execute_result"
    }
   ],
   "source": [
    "from scikeras.wrappers import KerasClassifier\n",
    "def create_model(input_length=50):\n",
    "    model = Sequential()\n",
    "    model.add(Embedding(20000, 300, input_length=50))\n",
    "    model.add(LSTM(100, dropout=0.2, recurrent_dropout=0.2))\n",
    "    model.add(Dense(1, activation='sigmoid'))\n",
    "    model.compile(loss='binary_crossentropy', optimizer='adam', metrics=['accuracy'])    \n",
    "    return model    \n",
    "model_LSTM = KerasClassifier(model=create_model, epochs=3, verbose=True, validation_split=0.4)\n",
    "model_LSTM.fit(X_train_LSTM, Y_train_LSTM)"
   ]
  },
  {
   "cell_type": "markdown",
   "id": "f545ab18-41cd-4f98-9f7b-083f52d6dd24",
   "metadata": {},
   "source": [
    "Let's calculate the a in-sample and out-of-sample accuracy and store them for plotting below."
   ]
  },
  {
   "cell_type": "code",
   "execution_count": null,
   "id": "b1a937ee-bdd1-464e-890f-17c63475d58f",
   "metadata": {},
   "outputs": [
    {
     "name": "stdout",
     "output_type": "stream",
     "text": [
      "208/208 [==============================] - 2s 9ms/step\n",
      "89/89 [==============================] - 1s 9ms/step\n"
     ]
    }
   ],
   "source": [
    "train_result_LSTM = accuracy_score(model_LSTM.predict(X_train_LSTM), Y_train_LSTM)\n",
    "test_result_LSTM = accuracy_score(model_LSTM.predict(X_test_LSTM), Y_test_LSTM)\n",
    "train_results.append(train_result_LSTM)\n",
    "test_results.append(test_result_LSTM)\n",
    "names.append('LSTM')"
   ]
  },
  {
   "cell_type": "code",
   "execution_count": null,
   "id": "b479265b-6d95-4277-9a2d-5184ba273698",
   "metadata": {},
   "outputs": [
    {
     "name": "stdout",
     "output_type": "stream",
     "text": [
      "LTSM Training Accuracy:  0.9806909036053704\n",
      "LTSM Testing Accuracy:  0.9644491376275959\n"
     ]
    }
   ],
   "source": [
    "print('LTSM Training Accuracy: ', train_result_LSTM)\n",
    "print('LTSM Testing Accuracy: ', test_result_LSTM)"
   ]
  },
  {
   "cell_type": "markdown",
   "id": "5cf48f84-065d-497d-8d2a-69e5c3726809",
   "metadata": {},
   "source": [
    "Let's add in our LSTM model results to our previous results and plot again."
   ]
  },
  {
   "cell_type": "code",
   "execution_count": null,
   "id": "23e9a905-f7e3-41dd-a5de-b905ae50ebd9",
   "metadata": {},
   "outputs": [
    {
     "data": {
      "image/png": "[encoded data removed]",
      "text/plain": [
       "<Figure size 900x500 with 1 Axes>"
      ]
     },
     "metadata": {},
     "output_type": "display_data"
    }
   ],
   "source": [
    "# compare algorithms\n",
    "from matplotlib import pyplot\n",
    "fig = pyplot.figure()\n",
    "ind = np.arange(len(names))  # the x locations for the groups\n",
    "width = 0.35  # the width of the bars\n",
    "fig.suptitle('Algorithm Comparison')\n",
    "ax = fig.add_subplot(111)\n",
    "pyplot.bar(ind - width/2, train_results,  width=width, label='Train Error')\n",
    "pyplot.bar(ind + width/2, test_results, width=width, label='Test Error')\n",
    "fig.set_size_inches(9, 5)\n",
    "pyplot.legend()\n",
    "ax.set_xticks(ind)\n",
    "ax.set_xticklabels(names)\n",
    "pyplot.show()"
   ]
  },
  {
   "cell_type": "markdown",
   "id": "c167a591-0392-41ab-b618-c15b36a41928",
   "metadata": {},
   "source": [
    "The LSTM model has the best performance on the test set as compared to all other models. The performance of the ANN is comparable to the LSTM-based model. The performances of random forest (RF), SVM, and logistic regression (LR) are reasonable as well. CART and KNN do not perform as well as other models. CART shows significant overfitting."
   ]
  },
  {
   "cell_type": "markdown",
   "id": "604907d8-1151-4fef-9dfa-61bb49c4c56a",
   "metadata": {},
   "source": [
    "## LTSM Model Correlations with `eventRet`"
   ]
  },
  {
   "cell_type": "markdown",
   "id": "4de4043b-f22e-488b-9b35-c5762facfa24",
   "metadata": {},
   "source": [
    "Of all the custom sentiment models that we fit to our Kaggle data, the LTSM seems to perform the best.  So in this final section, let's use our LSTM model to predict sentiments on our `headlines` in `df_news_return` and check the correlation with the `eventRet`.  \n",
    "\n",
    "As a first step, we need to get the `headlines` in a format that can be fed into the LSTM model."
   ]
  },
  {
   "cell_type": "code",
   "execution_count": null,
   "id": "563d6bc9-0bb5-49a8-b4d5-03acc26df578",
   "metadata": {},
   "outputs": [
    {
     "data": {
      "text/plain": [
       "array([[   0,    0,    0, ...,   46, 3856,  307],\n",
       "       [   1,   36,   16, ...,  273,    1,  801],\n",
       "       [   0,    0,    0, ...,  159,  224, 3293],\n",
       "       ...,\n",
       "       [   0,    0,    0, ..., 7131, 2035, 1422],\n",
       "       [   0,    0,    0, ..., 1881,  232,  154],\n",
       "       [   0,    0,    0, ..., 9673, 5060, 2057]], dtype=int32)"
      ]
     },
     "execution_count": null,
     "metadata": {},
     "output_type": "execute_result"
    }
   ],
   "source": [
    "sequences_LSTM = tokenizer.texts_to_sequences(df_news_return['headline'].astype(str))\n",
    "X_LSTM = pad_sequences(sequences_LSTM, maxlen=50)\n",
    "X_LSTM"
   ]
  },
  {
   "cell_type": "code",
   "execution_count": null,
   "id": "b78c4da4-7866-43f5-8e1a-324157eaf6ee",
   "metadata": {},
   "outputs": [
    {
     "data": {
      "text/plain": [
       "(2768, 50)"
      ]
     },
     "execution_count": null,
     "metadata": {},
     "output_type": "execute_result"
    }
   ],
   "source": [
    "X_LSTM.shape"
   ]
  },
  {
   "cell_type": "markdown",
   "id": "db5a39e7-19e3-44b1-bc9e-2e6c56b7fa9a",
   "metadata": {},
   "source": [
    "Next, we use the `.predict()` method of our fitted model make our predictions and store them in `df_news_return`."
   ]
  },
  {
   "cell_type": "code",
   "execution_count": null,
   "id": "98c98f25-2ded-437a-bf51-37bc0cfb2ff4",
   "metadata": {},
   "outputs": [
    {
     "name": "stdout",
     "output_type": "stream",
     "text": [
      "87/87 [==============================] - 1s 9ms/step\n"
     ]
    },
    {
     "data": {
      "text/html": [
       "<div>\n",
       "<style scoped>\n",
       "    .dataframe tbody tr th:only-of-type {\n",
       "        vertical-align: middle;\n",
       "    }\n",
       "\n",
       "    .dataframe tbody tr th {\n",
       "        vertical-align: top;\n",
       "    }\n",
       "\n",
       "    .dataframe thead th {\n",
       "        text-align: right;\n",
       "    }\n",
       "</style>\n",
       "<table border=\"1\" class=\"dataframe\">\n",
       "  <thead>\n",
       "    <tr style=\"text-align: right;\">\n",
       "      <th></th>\n",
       "      <th>ticker</th>\n",
       "      <th>headline</th>\n",
       "      <th>date</th>\n",
       "      <th>eventRet</th>\n",
       "      <th>Close</th>\n",
       "      <th>sentiment_textblob</th>\n",
       "      <th>sentiment_LSTM</th>\n",
       "    </tr>\n",
       "  </thead>\n",
       "  <tbody>\n",
       "    <tr>\n",
       "      <th>0</th>\n",
       "      <td>AMZN</td>\n",
       "      <td>Whole Foods (WFMI) -5.2% following a downgrade...</td>\n",
       "      <td>2011-05-02</td>\n",
       "      <td>0.017650</td>\n",
       "      <td>201.19</td>\n",
       "      <td>0.262500</td>\n",
       "      <td>0</td>\n",
       "    </tr>\n",
       "    <tr>\n",
       "      <th>1</th>\n",
       "      <td>NFLX</td>\n",
       "      <td>Netflix (NFLX +1.1%) shares post early gains a...</td>\n",
       "      <td>2011-05-02</td>\n",
       "      <td>-0.013003</td>\n",
       "      <td>33.88</td>\n",
       "      <td>-0.043750</td>\n",
       "      <td>1</td>\n",
       "    </tr>\n",
       "    <tr>\n",
       "      <th>2</th>\n",
       "      <td>MSFT</td>\n",
       "      <td>The likely winners in Microsoft's (MSFT -1.4%)...</td>\n",
       "      <td>2011-05-10</td>\n",
       "      <td>-0.019823</td>\n",
       "      <td>20.63</td>\n",
       "      <td>0.166667</td>\n",
       "      <td>1</td>\n",
       "    </tr>\n",
       "    <tr>\n",
       "      <th>3</th>\n",
       "      <td>MSFT</td>\n",
       "      <td>Microsoft (MSFT -1.2%) and Skype signed their ...</td>\n",
       "      <td>2011-05-10</td>\n",
       "      <td>-0.019823</td>\n",
       "      <td>20.63</td>\n",
       "      <td>-0.030556</td>\n",
       "      <td>1</td>\n",
       "    </tr>\n",
       "    <tr>\n",
       "      <th>4</th>\n",
       "      <td>MSFT</td>\n",
       "      <td>NaN</td>\n",
       "      <td>2011-05-10</td>\n",
       "      <td>-0.019823</td>\n",
       "      <td>20.63</td>\n",
       "      <td>0.000000</td>\n",
       "      <td>0</td>\n",
       "    </tr>\n",
       "  </tbody>\n",
       "</table>\n",
       "</div>"
      ],
      "text/plain": [
       "  ticker                                           headline        date   \n",
       "0   AMZN  Whole Foods (WFMI) -5.2% following a downgrade...  2011-05-02  \\\n",
       "1   NFLX  Netflix (NFLX +1.1%) shares post early gains a...  2011-05-02   \n",
       "2   MSFT  The likely winners in Microsoft's (MSFT -1.4%)...  2011-05-10   \n",
       "3   MSFT  Microsoft (MSFT -1.2%) and Skype signed their ...  2011-05-10   \n",
       "4   MSFT                                                NaN  2011-05-10   \n",
       "\n",
       "   eventRet   Close  sentiment_textblob  sentiment_LSTM  \n",
       "0  0.017650  201.19            0.262500               0  \n",
       "1 -0.013003   33.88           -0.043750               1  \n",
       "2 -0.019823   20.63            0.166667               1  \n",
       "3 -0.019823   20.63           -0.030556               1  \n",
       "4 -0.019823   20.63            0.000000               0  "
      ]
     },
     "execution_count": null,
     "metadata": {},
     "output_type": "execute_result"
    }
   ],
   "source": [
    "Y_LSTM = model_LSTM.predict(X_LSTM)\n",
    "df_news_return['sentiment_LSTM'] = Y_LSTM \n",
    "df_news_return.head()"
   ]
  },
  {
   "cell_type": "markdown",
   "id": "dc013318-4a00-46f3-b572-dfe744bd2123",
   "metadata": {},
   "source": [
    "Let's now check the correlation between `sentiment_LSTM` and `eventRet`.  As we can see, there is improvement over the `Textblob` approach."
   ]
  },
  {
   "cell_type": "code",
   "execution_count": null,
   "id": "9f20241a-1537-43aa-83a5-d36cb512f738",
   "metadata": {},
   "outputs": [
    {
     "name": "stdout",
     "output_type": "stream",
     "text": [
      "0.07874624006776532\n"
     ]
    }
   ],
   "source": [
    "correlation = df_news_return['eventRet'].corr(df_news_return['sentiment_LSTM'])\n",
    "print(correlation)"
   ]
  },
  {
   "cell_type": "markdown",
   "id": "d7aebafc-bd9c-427d-8058-a91fca14d15e",
   "metadata": {},
   "source": [
    "Let's also check the correlation with the predicted probabilities - the correlation is quite similar."
   ]
  },
  {
   "cell_type": "code",
   "execution_count": null,
   "id": "cdae0b79-350e-4e81-a452-484543538887",
   "metadata": {},
   "outputs": [
    {
     "name": "stdout",
     "output_type": "stream",
     "text": [
      "87/87 [==============================] - 1s 9ms/step\n"
     ]
    },
    {
     "data": {
      "text/plain": [
       "array([[1.        , 0.08612546],\n",
       "       [0.08612546, 1.        ]])"
      ]
     },
     "execution_count": null,
     "metadata": {},
     "output_type": "execute_result"
    }
   ],
   "source": [
    "probs = model_LSTM.predict_proba(X_LSTM)[:, 1]\n",
    "np.corrcoef(df_news_return['eventRet'], probs)"
   ]
  }
 ],
 "metadata": {
  "kernelspec": {
   "display_name": "python3",
   "language": "python",
   "name": "python3"
  }
 },
 "nbformat": 4,
 "nbformat_minor": 5
}
