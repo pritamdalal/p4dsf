{
 "cells": [
  {
   "cell_type": "markdown",
   "metadata": {},
   "source": [
    "# `.groupby()` and `.agg()` - 2"
   ]
  },
  {
   "cell_type": "markdown",
   "metadata": {},
   "source": [
    "The purpose of this chapter is to demonstrate how to use `.groupby()` and `.agg()` with user defined functions.\n",
    "\n",
    "In service of this objective our analysis goal will be to calculate three monthly statistics for several ETFs during the year of 2020.  The three statistics we will calculate are:\n",
    "\n",
    "1. average daily volume\n",
    "\n",
    "2. monthly return\n",
    "\n",
    "3. monthly volatility"
   ]
  },
  {
   "cell_type": "markdown",
   "metadata": {},
   "source": [
    "## Loading Packages"
   ]
  },
  {
   "cell_type": "markdown",
   "metadata": {},
   "source": [
    "Let's load the packages that we will need."
   ]
  },
  {
   "cell_type": "code",
   "execution_count": 1,
   "metadata": {},
   "outputs": [],
   "source": [
    "import numpy as np\n",
    "import pandas as pd\n",
    "import yfinance as yf"
   ]
  },
  {
   "cell_type": "markdown",
   "metadata": {},
   "source": [
    "## Reading-In Data"
   ]
  },
  {
   "cell_type": "markdown",
   "metadata": {},
   "source": [
    "In this chapter we will be working with price data for the Select Sector SPDR ETFs.  Each of these funds tracks a particular subset (sector) of the SP&500 Index.  For example, XLF tracks the financial sector and has major holdings in JP Morgan, Wells Fargo, and Bank of America.\n",
    "\n",
    "Let's use **pandas_datareader** to grab the data from Yahoo Finance."
   ]
  },
  {
   "cell_type": "code",
   "execution_count": 2,
   "metadata": {},
   "outputs": [
    {
     "name": "stderr",
     "output_type": "stream",
     "text": [
      "[*********************100%***********************]  10 of 10 completed\n"
     ]
    },
    {
     "data": {
      "text/html": [
       "<div>\n",
       "<style scoped>\n",
       "    .dataframe tbody tr th:only-of-type {\n",
       "        vertical-align: middle;\n",
       "    }\n",
       "\n",
       "    .dataframe tbody tr th {\n",
       "        vertical-align: top;\n",
       "    }\n",
       "\n",
       "    .dataframe thead tr th {\n",
       "        text-align: left;\n",
       "    }\n",
       "\n",
       "    .dataframe thead tr:last-of-type th {\n",
       "        text-align: right;\n",
       "    }\n",
       "</style>\n",
       "<table border=\"1\" class=\"dataframe\">\n",
       "  <thead>\n",
       "    <tr>\n",
       "      <th>Price</th>\n",
       "      <th colspan=\"10\" halign=\"left\">Adj Close</th>\n",
       "      <th>...</th>\n",
       "      <th colspan=\"10\" halign=\"left\">Volume</th>\n",
       "    </tr>\n",
       "    <tr>\n",
       "      <th>Ticker</th>\n",
       "      <th>XLB</th>\n",
       "      <th>XLE</th>\n",
       "      <th>XLF</th>\n",
       "      <th>XLI</th>\n",
       "      <th>XLK</th>\n",
       "      <th>XLP</th>\n",
       "      <th>XLRE</th>\n",
       "      <th>XLU</th>\n",
       "      <th>XLV</th>\n",
       "      <th>XLY</th>\n",
       "      <th>...</th>\n",
       "      <th>XLB</th>\n",
       "      <th>XLE</th>\n",
       "      <th>XLF</th>\n",
       "      <th>XLI</th>\n",
       "      <th>XLK</th>\n",
       "      <th>XLP</th>\n",
       "      <th>XLRE</th>\n",
       "      <th>XLU</th>\n",
       "      <th>XLV</th>\n",
       "      <th>XLY</th>\n",
       "    </tr>\n",
       "    <tr>\n",
       "      <th>Date</th>\n",
       "      <th></th>\n",
       "      <th></th>\n",
       "      <th></th>\n",
       "      <th></th>\n",
       "      <th></th>\n",
       "      <th></th>\n",
       "      <th></th>\n",
       "      <th></th>\n",
       "      <th></th>\n",
       "      <th></th>\n",
       "      <th></th>\n",
       "      <th></th>\n",
       "      <th></th>\n",
       "      <th></th>\n",
       "      <th></th>\n",
       "      <th></th>\n",
       "      <th></th>\n",
       "      <th></th>\n",
       "      <th></th>\n",
       "      <th></th>\n",
       "      <th></th>\n",
       "    </tr>\n",
       "  </thead>\n",
       "  <tbody>\n",
       "    <tr>\n",
       "      <th>2020-01-02</th>\n",
       "      <td>54.30</td>\n",
       "      <td>47.82</td>\n",
       "      <td>27.97</td>\n",
       "      <td>75.93</td>\n",
       "      <td>88.95</td>\n",
       "      <td>54.08</td>\n",
       "      <td>31.81</td>\n",
       "      <td>53.65</td>\n",
       "      <td>93.51</td>\n",
       "      <td>121.00</td>\n",
       "      <td>...</td>\n",
       "      <td>7357400</td>\n",
       "      <td>11944700</td>\n",
       "      <td>28843300</td>\n",
       "      <td>16121300</td>\n",
       "      <td>13283500</td>\n",
       "      <td>14460700</td>\n",
       "      <td>4380100</td>\n",
       "      <td>19107700</td>\n",
       "      <td>6277400</td>\n",
       "      <td>6295500</td>\n",
       "    </tr>\n",
       "    <tr>\n",
       "      <th>2020-01-03</th>\n",
       "      <td>53.43</td>\n",
       "      <td>47.68</td>\n",
       "      <td>27.68</td>\n",
       "      <td>75.79</td>\n",
       "      <td>87.95</td>\n",
       "      <td>54.00</td>\n",
       "      <td>32.04</td>\n",
       "      <td>53.76</td>\n",
       "      <td>92.69</td>\n",
       "      <td>119.97</td>\n",
       "      <td>...</td>\n",
       "      <td>12423200</td>\n",
       "      <td>29502900</td>\n",
       "      <td>51363600</td>\n",
       "      <td>17571300</td>\n",
       "      <td>15011800</td>\n",
       "      <td>26388900</td>\n",
       "      <td>3499000</td>\n",
       "      <td>17989300</td>\n",
       "      <td>8247500</td>\n",
       "      <td>5596400</td>\n",
       "    </tr>\n",
       "    <tr>\n",
       "      <th>2020-01-06</th>\n",
       "      <td>53.19</td>\n",
       "      <td>48.05</td>\n",
       "      <td>27.66</td>\n",
       "      <td>75.81</td>\n",
       "      <td>88.16</td>\n",
       "      <td>54.11</td>\n",
       "      <td>32.05</td>\n",
       "      <td>53.81</td>\n",
       "      <td>93.27</td>\n",
       "      <td>120.31</td>\n",
       "      <td>...</td>\n",
       "      <td>15764400</td>\n",
       "      <td>22458100</td>\n",
       "      <td>27956100</td>\n",
       "      <td>16153100</td>\n",
       "      <td>7815000</td>\n",
       "      <td>22541700</td>\n",
       "      <td>3097200</td>\n",
       "      <td>10444500</td>\n",
       "      <td>6441800</td>\n",
       "      <td>6411600</td>\n",
       "    </tr>\n",
       "    <tr>\n",
       "      <th>2020-01-07</th>\n",
       "      <td>53.13</td>\n",
       "      <td>47.93</td>\n",
       "      <td>27.48</td>\n",
       "      <td>75.66</td>\n",
       "      <td>88.12</td>\n",
       "      <td>53.69</td>\n",
       "      <td>31.70</td>\n",
       "      <td>53.74</td>\n",
       "      <td>93.08</td>\n",
       "      <td>120.12</td>\n",
       "      <td>...</td>\n",
       "      <td>20266900</td>\n",
       "      <td>11462500</td>\n",
       "      <td>39627500</td>\n",
       "      <td>16675400</td>\n",
       "      <td>7681800</td>\n",
       "      <td>15607600</td>\n",
       "      <td>3550600</td>\n",
       "      <td>13070300</td>\n",
       "      <td>6335300</td>\n",
       "      <td>9150800</td>\n",
       "    </tr>\n",
       "    <tr>\n",
       "      <th>2020-01-08</th>\n",
       "      <td>53.32</td>\n",
       "      <td>47.14</td>\n",
       "      <td>27.66</td>\n",
       "      <td>75.91</td>\n",
       "      <td>89.06</td>\n",
       "      <td>53.89</td>\n",
       "      <td>31.86</td>\n",
       "      <td>53.71</td>\n",
       "      <td>93.69</td>\n",
       "      <td>120.48</td>\n",
       "      <td>...</td>\n",
       "      <td>8079600</td>\n",
       "      <td>19021400</td>\n",
       "      <td>47966600</td>\n",
       "      <td>10677700</td>\n",
       "      <td>11627200</td>\n",
       "      <td>11451400</td>\n",
       "      <td>5089000</td>\n",
       "      <td>12741400</td>\n",
       "      <td>7494700</td>\n",
       "      <td>4725900</td>\n",
       "    </tr>\n",
       "  </tbody>\n",
       "</table>\n",
       "<p>5 rows × 60 columns</p>\n",
       "</div>"
      ],
      "text/plain": [
       "Price      Adj Close                                                           \n",
       "Ticker           XLB    XLE    XLF    XLI    XLK    XLP   XLRE    XLU    XLV   \n",
       "Date                                                                           \n",
       "2020-01-02     54.30  47.82  27.97  75.93  88.95  54.08  31.81  53.65  93.51  \\\n",
       "2020-01-03     53.43  47.68  27.68  75.79  87.95  54.00  32.04  53.76  92.69   \n",
       "2020-01-06     53.19  48.05  27.66  75.81  88.16  54.11  32.05  53.81  93.27   \n",
       "2020-01-07     53.13  47.93  27.48  75.66  88.12  53.69  31.70  53.74  93.08   \n",
       "2020-01-08     53.32  47.14  27.66  75.91  89.06  53.89  31.86  53.71  93.69   \n",
       "\n",
       "Price               ...    Volume                                           \n",
       "Ticker         XLY  ...       XLB       XLE       XLF       XLI       XLK   \n",
       "Date                ...                                                     \n",
       "2020-01-02  121.00  ...   7357400  11944700  28843300  16121300  13283500  \\\n",
       "2020-01-03  119.97  ...  12423200  29502900  51363600  17571300  15011800   \n",
       "2020-01-06  120.31  ...  15764400  22458100  27956100  16153100   7815000   \n",
       "2020-01-07  120.12  ...  20266900  11462500  39627500  16675400   7681800   \n",
       "2020-01-08  120.48  ...   8079600  19021400  47966600  10677700  11627200   \n",
       "\n",
       "Price                                                      \n",
       "Ticker           XLP     XLRE       XLU      XLV      XLY  \n",
       "Date                                                       \n",
       "2020-01-02  14460700  4380100  19107700  6277400  6295500  \n",
       "2020-01-03  26388900  3499000  17989300  8247500  5596400  \n",
       "2020-01-06  22541700  3097200  10444500  6441800  6411600  \n",
       "2020-01-07  15607600  3550600  13070300  6335300  9150800  \n",
       "2020-01-08  11451400  5089000  12741400  7494700  4725900  \n",
       "\n",
       "[5 rows x 60 columns]"
      ]
     },
     "execution_count": 2,
     "metadata": {},
     "output_type": "execute_result"
    }
   ],
   "source": [
    "pd.options.display.max_rows = 25\n",
    "lst_symbols = ['XLY', 'XLP', 'XLE', 'XLF', 'XLV', 'XLI', 'XLB', 'XLRE', 'XLK', 'XLU',]\n",
    "df_etf = yf.download(\n",
    "    lst_symbols, start='2020-01-01', end='2020-12-31',\n",
    "    auto_adjust=False, rounding=True,\n",
    ")\n",
    "df_etf.head()"
   ]
  },
  {
   "cell_type": "markdown",
   "metadata": {},
   "source": [
    "This data is not as tidy as we would like.  Let's use method chaining to perform a series of data munging operations."
   ]
  },
  {
   "cell_type": "code",
   "execution_count": 3,
   "metadata": {},
   "outputs": [
    {
     "data": {
      "text/html": [
       "<div>\n",
       "<style scoped>\n",
       "    .dataframe tbody tr th:only-of-type {\n",
       "        vertical-align: middle;\n",
       "    }\n",
       "\n",
       "    .dataframe tbody tr th {\n",
       "        vertical-align: top;\n",
       "    }\n",
       "\n",
       "    .dataframe thead th {\n",
       "        text-align: right;\n",
       "    }\n",
       "</style>\n",
       "<table border=\"1\" class=\"dataframe\">\n",
       "  <thead>\n",
       "    <tr style=\"text-align: right;\">\n",
       "      <th></th>\n",
       "      <th>date</th>\n",
       "      <th>symbol</th>\n",
       "      <th>adj_close</th>\n",
       "      <th>close</th>\n",
       "      <th>high</th>\n",
       "      <th>low</th>\n",
       "      <th>open</th>\n",
       "      <th>volume</th>\n",
       "    </tr>\n",
       "  </thead>\n",
       "  <tbody>\n",
       "    <tr>\n",
       "      <th>0</th>\n",
       "      <td>2020-01-02</td>\n",
       "      <td>XLB</td>\n",
       "      <td>54.30</td>\n",
       "      <td>60.70</td>\n",
       "      <td>61.94</td>\n",
       "      <td>60.63</td>\n",
       "      <td>61.83</td>\n",
       "      <td>7357400</td>\n",
       "    </tr>\n",
       "    <tr>\n",
       "      <th>10</th>\n",
       "      <td>2020-01-03</td>\n",
       "      <td>XLB</td>\n",
       "      <td>53.43</td>\n",
       "      <td>59.72</td>\n",
       "      <td>60.44</td>\n",
       "      <td>59.70</td>\n",
       "      <td>60.08</td>\n",
       "      <td>12423200</td>\n",
       "    </tr>\n",
       "    <tr>\n",
       "      <th>20</th>\n",
       "      <td>2020-01-06</td>\n",
       "      <td>XLB</td>\n",
       "      <td>53.19</td>\n",
       "      <td>59.46</td>\n",
       "      <td>59.83</td>\n",
       "      <td>59.41</td>\n",
       "      <td>59.55</td>\n",
       "      <td>15764400</td>\n",
       "    </tr>\n",
       "    <tr>\n",
       "      <th>30</th>\n",
       "      <td>2020-01-07</td>\n",
       "      <td>XLB</td>\n",
       "      <td>53.13</td>\n",
       "      <td>59.39</td>\n",
       "      <td>59.80</td>\n",
       "      <td>59.20</td>\n",
       "      <td>59.36</td>\n",
       "      <td>20266900</td>\n",
       "    </tr>\n",
       "    <tr>\n",
       "      <th>40</th>\n",
       "      <td>2020-01-08</td>\n",
       "      <td>XLB</td>\n",
       "      <td>53.32</td>\n",
       "      <td>59.60</td>\n",
       "      <td>59.84</td>\n",
       "      <td>59.20</td>\n",
       "      <td>59.40</td>\n",
       "      <td>8079600</td>\n",
       "    </tr>\n",
       "    <tr>\n",
       "      <th>...</th>\n",
       "      <td>...</td>\n",
       "      <td>...</td>\n",
       "      <td>...</td>\n",
       "      <td>...</td>\n",
       "      <td>...</td>\n",
       "      <td>...</td>\n",
       "      <td>...</td>\n",
       "      <td>...</td>\n",
       "    </tr>\n",
       "    <tr>\n",
       "      <th>2479</th>\n",
       "      <td>2020-12-23</td>\n",
       "      <td>XLY</td>\n",
       "      <td>151.90</td>\n",
       "      <td>157.55</td>\n",
       "      <td>158.05</td>\n",
       "      <td>156.57</td>\n",
       "      <td>157.24</td>\n",
       "      <td>2173000</td>\n",
       "    </tr>\n",
       "    <tr>\n",
       "      <th>2489</th>\n",
       "      <td>2020-12-24</td>\n",
       "      <td>XLY</td>\n",
       "      <td>152.22</td>\n",
       "      <td>157.88</td>\n",
       "      <td>158.12</td>\n",
       "      <td>157.21</td>\n",
       "      <td>157.70</td>\n",
       "      <td>1048800</td>\n",
       "    </tr>\n",
       "    <tr>\n",
       "      <th>2499</th>\n",
       "      <td>2020-12-28</td>\n",
       "      <td>XLY</td>\n",
       "      <td>153.96</td>\n",
       "      <td>159.68</td>\n",
       "      <td>160.32</td>\n",
       "      <td>158.60</td>\n",
       "      <td>159.42</td>\n",
       "      <td>2912400</td>\n",
       "    </tr>\n",
       "    <tr>\n",
       "      <th>2509</th>\n",
       "      <td>2020-12-29</td>\n",
       "      <td>XLY</td>\n",
       "      <td>154.00</td>\n",
       "      <td>159.73</td>\n",
       "      <td>160.53</td>\n",
       "      <td>158.98</td>\n",
       "      <td>160.24</td>\n",
       "      <td>2431200</td>\n",
       "    </tr>\n",
       "    <tr>\n",
       "      <th>2519</th>\n",
       "      <td>2020-12-30</td>\n",
       "      <td>XLY</td>\n",
       "      <td>154.93</td>\n",
       "      <td>160.69</td>\n",
       "      <td>160.93</td>\n",
       "      <td>160.13</td>\n",
       "      <td>160.30</td>\n",
       "      <td>2440700</td>\n",
       "    </tr>\n",
       "  </tbody>\n",
       "</table>\n",
       "<p>2520 rows × 8 columns</p>\n",
       "</div>"
      ],
      "text/plain": [
       "           date symbol  adj_close   close    high     low    open    volume\n",
       "0    2020-01-02    XLB      54.30   60.70   61.94   60.63   61.83   7357400\n",
       "10   2020-01-03    XLB      53.43   59.72   60.44   59.70   60.08  12423200\n",
       "20   2020-01-06    XLB      53.19   59.46   59.83   59.41   59.55  15764400\n",
       "30   2020-01-07    XLB      53.13   59.39   59.80   59.20   59.36  20266900\n",
       "40   2020-01-08    XLB      53.32   59.60   59.84   59.20   59.40   8079600\n",
       "...         ...    ...        ...     ...     ...     ...     ...       ...\n",
       "2479 2020-12-23    XLY     151.90  157.55  158.05  156.57  157.24   2173000\n",
       "2489 2020-12-24    XLY     152.22  157.88  158.12  157.21  157.70   1048800\n",
       "2499 2020-12-28    XLY     153.96  159.68  160.32  158.60  159.42   2912400\n",
       "2509 2020-12-29    XLY     154.00  159.73  160.53  158.98  160.24   2431200\n",
       "2519 2020-12-30    XLY     154.93  160.69  160.93  160.13  160.30   2440700\n",
       "\n",
       "[2520 rows x 8 columns]"
      ]
     },
     "execution_count": 3,
     "metadata": {},
     "output_type": "execute_result"
    }
   ],
   "source": [
    "df_etf = (\n",
    "    df_etf\n",
    "    .stack()\n",
    "    .reset_index()\n",
    "    .rename_axis(None, axis=1)\n",
    "    .rename(columns={'Date':'date', 'Ticker':'symbol', 'Adj Close':'adj_close','Close':'close', \n",
    "                    'High':'high', 'Low':'low', 'Open':'open', 'Volume':'volume'}) #renaming columns\n",
    "    .sort_values(['symbol', 'date'])\n",
    ")\n",
    "df_etf"
   ]
  },
  {
   "cell_type": "markdown",
   "metadata": {},
   "source": [
    "---"
   ]
  },
  {
   "cell_type": "markdown",
   "metadata": {},
   "source": [
    "**Coding Challenge:** Use a `DataFrame` attribute to determine the number of rows and columns in `df_etf`."
   ]
  },
  {
   "cell_type": "code",
   "execution_count": 4,
   "metadata": {},
   "outputs": [
    {
     "data": {
      "text/plain": [
       "(2520, 8)"
      ]
     },
     "execution_count": 4,
     "metadata": {},
     "output_type": "execute_result"
    }
   ],
   "source": [
    "#| code-fold: true\n",
    "#| code-summary: \"Solution\"\n",
    "df_etf.shape"
   ]
  },
  {
   "cell_type": "markdown",
   "metadata": {},
   "source": [
    "---"
   ]
  },
  {
   "cell_type": "markdown",
   "metadata": {},
   "source": [
    "## Exploring and Cleaning the Data"
   ]
  },
  {
   "cell_type": "markdown",
   "metadata": {},
   "source": [
    "As we can see from the coding challenge, this data set is large (by our standards).  Whenever I encounter a new data set that I can't look at in its entirety, I like to do a bit of exploration via the built-in **pandas** methods.\n",
    "\n",
    "We know we have a variety of ETFs in our data, but it would be useful to know how many (especially if we were expecting a certain number)."
   ]
  },
  {
   "cell_type": "code",
   "execution_count": 5,
   "metadata": {},
   "outputs": [
    {
     "name": "stdout",
     "output_type": "stream",
     "text": [
      "['XLB' 'XLE' 'XLF' 'XLI' 'XLK' 'XLP' 'XLRE' 'XLU' 'XLV' 'XLY']\n",
      "10\n"
     ]
    }
   ],
   "source": [
    "print(df_etf['symbol'].unique())\n",
    "print(df_etf['symbol'].unique().size)"
   ]
  },
  {
   "cell_type": "markdown",
   "metadata": {},
   "source": [
    "--- "
   ]
  },
  {
   "cell_type": "markdown",
   "metadata": {},
   "source": [
    "**Coding Challenge:** What `DataFrame` attribute could we use to check the data types of the columns of `df_etf`?"
   ]
  },
  {
   "cell_type": "code",
   "execution_count": 6,
   "metadata": {},
   "outputs": [
    {
     "name": "stdout",
     "output_type": "stream",
     "text": [
      "<class 'pandas.core.frame.DataFrame'>\n",
      "Index: 2520 entries, 0 to 2519\n",
      "Data columns (total 8 columns):\n",
      " #   Column     Non-Null Count  Dtype         \n",
      "---  ------     --------------  -----         \n",
      " 0   date       2520 non-null   datetime64[ns]\n",
      " 1   symbol     2520 non-null   object        \n",
      " 2   adj_close  2520 non-null   float64       \n",
      " 3   close      2520 non-null   float64       \n",
      " 4   high       2520 non-null   float64       \n",
      " 5   low        2520 non-null   float64       \n",
      " 6   open       2520 non-null   float64       \n",
      " 7   volume     2520 non-null   int64         \n",
      "dtypes: datetime64[ns](1), float64(5), int64(1), object(1)\n",
      "memory usage: 177.2+ KB\n"
     ]
    }
   ],
   "source": [
    "#| code-fold: true\n",
    "#| code-summary: \"Solution\"\n",
    "df_etf.info()"
   ]
  },
  {
   "cell_type": "markdown",
   "metadata": {},
   "source": [
    "--- "
   ]
  },
  {
   "cell_type": "markdown",
   "metadata": {},
   "source": [
    "When I work with a time series of daily prices that I expect to come from a certain date range, I like to check the first and last trade dates that are represented in the data."
   ]
  },
  {
   "cell_type": "code",
   "execution_count": 7,
   "metadata": {},
   "outputs": [
    {
     "name": "stdout",
     "output_type": "stream",
     "text": [
      "2020-01-02 00:00:00\n",
      "2020-12-30 00:00:00\n"
     ]
    }
   ],
   "source": [
    "print(df_etf['date'].min())\n",
    "print(df_etf['date'].max())"
   ]
  },
  {
   "cell_type": "markdown",
   "metadata": {},
   "source": [
    " "
   ]
  },
  {
   "cell_type": "markdown",
   "metadata": {},
   "source": [
    "Here is what we know about our data set thus far:\n",
    "\n",
    "1. 10 different ETFs are represented.\n",
    "\n",
    "1. Prices are coming from the entirety of 2020.\n",
    "\n",
    "\n",
    "Here are some things that we aren't necessarily sure of that would be worth checking in a high-stakes situation:\n",
    "\n",
    "1. Is there a row/price for each symbol on each trade date?\n",
    "\n",
    "1. Is there ever more than one row/price for a given symbol on a given trade date?\n",
    "\n",
    "We won't bother answering these questions for the purposes of this chapter, but these are the types of data-integrity questions I will often try to answer when encountering a new data set."
   ]
  },
  {
   "cell_type": "markdown",
   "metadata": {},
   "source": [
    "## Calculating Daily Returns with `groupby()`"
   ]
  },
  {
   "cell_type": "markdown",
   "metadata": {},
   "source": [
    "Our ultimate goal is to calculate monthly returns and monthly volatilities for each ETF in `df_etf`.  These quantities are both functions of daily returns.  So our first order of business is to calculate daily returns. \n",
    "\n",
    "In a previous tutorial we calculated daily returns in a simple vectorized fashion.  Unfortunately, we can't use the exact same approach here because there are multiple ETFs in the data set.\n",
    "\n",
    "To overcome this challenge we will use our first application of `.groupby()`.\n",
    "\n",
    "Here is the `.groupby()` code that calculates daily returns for each ETF."
   ]
  },
  {
   "cell_type": "code",
   "execution_count": 8,
   "metadata": {},
   "outputs": [
    {
     "data": {
      "text/html": [
       "<div>\n",
       "<style scoped>\n",
       "    .dataframe tbody tr th:only-of-type {\n",
       "        vertical-align: middle;\n",
       "    }\n",
       "\n",
       "    .dataframe tbody tr th {\n",
       "        vertical-align: top;\n",
       "    }\n",
       "\n",
       "    .dataframe thead th {\n",
       "        text-align: right;\n",
       "    }\n",
       "</style>\n",
       "<table border=\"1\" class=\"dataframe\">\n",
       "  <thead>\n",
       "    <tr style=\"text-align: right;\">\n",
       "      <th></th>\n",
       "      <th>date</th>\n",
       "      <th>symbol</th>\n",
       "      <th>adj_close</th>\n",
       "      <th>close</th>\n",
       "      <th>high</th>\n",
       "      <th>low</th>\n",
       "      <th>open</th>\n",
       "      <th>volume</th>\n",
       "      <th>dly_ret</th>\n",
       "    </tr>\n",
       "  </thead>\n",
       "  <tbody>\n",
       "    <tr>\n",
       "      <th>0</th>\n",
       "      <td>2020-01-02</td>\n",
       "      <td>XLB</td>\n",
       "      <td>54.30</td>\n",
       "      <td>60.70</td>\n",
       "      <td>61.94</td>\n",
       "      <td>60.63</td>\n",
       "      <td>61.83</td>\n",
       "      <td>7357400</td>\n",
       "      <td>NaN</td>\n",
       "    </tr>\n",
       "    <tr>\n",
       "      <th>10</th>\n",
       "      <td>2020-01-03</td>\n",
       "      <td>XLB</td>\n",
       "      <td>53.43</td>\n",
       "      <td>59.72</td>\n",
       "      <td>60.44</td>\n",
       "      <td>59.70</td>\n",
       "      <td>60.08</td>\n",
       "      <td>12423200</td>\n",
       "      <td>-0.016145</td>\n",
       "    </tr>\n",
       "    <tr>\n",
       "      <th>20</th>\n",
       "      <td>2020-01-06</td>\n",
       "      <td>XLB</td>\n",
       "      <td>53.19</td>\n",
       "      <td>59.46</td>\n",
       "      <td>59.83</td>\n",
       "      <td>59.41</td>\n",
       "      <td>59.55</td>\n",
       "      <td>15764400</td>\n",
       "      <td>-0.004354</td>\n",
       "    </tr>\n",
       "    <tr>\n",
       "      <th>30</th>\n",
       "      <td>2020-01-07</td>\n",
       "      <td>XLB</td>\n",
       "      <td>53.13</td>\n",
       "      <td>59.39</td>\n",
       "      <td>59.80</td>\n",
       "      <td>59.20</td>\n",
       "      <td>59.36</td>\n",
       "      <td>20266900</td>\n",
       "      <td>-0.001177</td>\n",
       "    </tr>\n",
       "    <tr>\n",
       "      <th>40</th>\n",
       "      <td>2020-01-08</td>\n",
       "      <td>XLB</td>\n",
       "      <td>53.32</td>\n",
       "      <td>59.60</td>\n",
       "      <td>59.84</td>\n",
       "      <td>59.20</td>\n",
       "      <td>59.40</td>\n",
       "      <td>8079600</td>\n",
       "      <td>0.003536</td>\n",
       "    </tr>\n",
       "  </tbody>\n",
       "</table>\n",
       "</div>"
      ],
      "text/plain": [
       "         date symbol  adj_close  close   high    low   open    volume   \n",
       "0  2020-01-02    XLB      54.30  60.70  61.94  60.63  61.83   7357400  \\\n",
       "10 2020-01-03    XLB      53.43  59.72  60.44  59.70  60.08  12423200   \n",
       "20 2020-01-06    XLB      53.19  59.46  59.83  59.41  59.55  15764400   \n",
       "30 2020-01-07    XLB      53.13  59.39  59.80  59.20  59.36  20266900   \n",
       "40 2020-01-08    XLB      53.32  59.60  59.84  59.20  59.40   8079600   \n",
       "\n",
       "     dly_ret  \n",
       "0        NaN  \n",
       "10 -0.016145  \n",
       "20 -0.004354  \n",
       "30 -0.001177  \n",
       "40  0.003536  "
      ]
     },
     "execution_count": 8,
     "metadata": {},
     "output_type": "execute_result"
    }
   ],
   "source": [
    "# sorting values to get everything in the right order\n",
    "df_etf.sort_values(['symbol', 'date'], inplace=True)\n",
    "\n",
    "# vectorized return calculation\n",
    "df_etf['dly_ret'] = \\\n",
    "    df_etf['close'].groupby(df_etf['symbol']).pct_change()\n",
    "df_etf.head()"
   ]
  },
  {
   "cell_type": "markdown",
   "metadata": {},
   "source": [
    "## Adding `year` and `month` Columns"
   ]
  },
  {
   "cell_type": "markdown",
   "metadata": {},
   "source": [
    "The ultimate goal is to calculate monthly statistics for each of the ETFs in our data set.\n",
    "\n",
    "As a preliminary step let's add a `month` and `year` column to the `df_etf` by utilizing the `.dt` attribute that **pandas** provides for date columns."
   ]
  },
  {
   "cell_type": "code",
   "execution_count": 9,
   "metadata": {},
   "outputs": [
    {
     "data": {
      "text/html": [
       "<div>\n",
       "<style scoped>\n",
       "    .dataframe tbody tr th:only-of-type {\n",
       "        vertical-align: middle;\n",
       "    }\n",
       "\n",
       "    .dataframe tbody tr th {\n",
       "        vertical-align: top;\n",
       "    }\n",
       "\n",
       "    .dataframe thead th {\n",
       "        text-align: right;\n",
       "    }\n",
       "</style>\n",
       "<table border=\"1\" class=\"dataframe\">\n",
       "  <thead>\n",
       "    <tr style=\"text-align: right;\">\n",
       "      <th></th>\n",
       "      <th>date</th>\n",
       "      <th>year</th>\n",
       "      <th>month</th>\n",
       "    </tr>\n",
       "  </thead>\n",
       "  <tbody>\n",
       "    <tr>\n",
       "      <th>0</th>\n",
       "      <td>2020-01-02</td>\n",
       "      <td>2020</td>\n",
       "      <td>1</td>\n",
       "    </tr>\n",
       "    <tr>\n",
       "      <th>10</th>\n",
       "      <td>2020-01-03</td>\n",
       "      <td>2020</td>\n",
       "      <td>1</td>\n",
       "    </tr>\n",
       "    <tr>\n",
       "      <th>20</th>\n",
       "      <td>2020-01-06</td>\n",
       "      <td>2020</td>\n",
       "      <td>1</td>\n",
       "    </tr>\n",
       "    <tr>\n",
       "      <th>30</th>\n",
       "      <td>2020-01-07</td>\n",
       "      <td>2020</td>\n",
       "      <td>1</td>\n",
       "    </tr>\n",
       "    <tr>\n",
       "      <th>40</th>\n",
       "      <td>2020-01-08</td>\n",
       "      <td>2020</td>\n",
       "      <td>1</td>\n",
       "    </tr>\n",
       "  </tbody>\n",
       "</table>\n",
       "</div>"
      ],
      "text/plain": [
       "         date  year  month\n",
       "0  2020-01-02  2020      1\n",
       "10 2020-01-03  2020      1\n",
       "20 2020-01-06  2020      1\n",
       "30 2020-01-07  2020      1\n",
       "40 2020-01-08  2020      1"
      ]
     },
     "execution_count": 9,
     "metadata": {},
     "output_type": "execute_result"
    }
   ],
   "source": [
    "df_etf['year'] = df_etf['date'].dt.year\n",
    "df_etf['month'] = df_etf['date'].dt.month\n",
    "df_etf[['date', 'year', 'month']].head()"
   ]
  },
  {
   "cell_type": "markdown",
   "metadata": {},
   "source": [
    "Let's do a quick data-integrity check:  There are 10 ETFs in our data set and there are 12 months in a year, so the number of symbol-year-month combinations should be 120.\n",
    "\n",
    "The following code counts the number of rows associated with each symbol-year-month combination and puts that data into a `DataFrame`."
   ]
  },
  {
   "cell_type": "code",
   "execution_count": 10,
   "metadata": {},
   "outputs": [
    {
     "data": {
      "text/html": [
       "<div>\n",
       "<style scoped>\n",
       "    .dataframe tbody tr th:only-of-type {\n",
       "        vertical-align: middle;\n",
       "    }\n",
       "\n",
       "    .dataframe tbody tr th {\n",
       "        vertical-align: top;\n",
       "    }\n",
       "\n",
       "    .dataframe thead th {\n",
       "        text-align: right;\n",
       "    }\n",
       "</style>\n",
       "<table border=\"1\" class=\"dataframe\">\n",
       "  <thead>\n",
       "    <tr style=\"text-align: right;\">\n",
       "      <th></th>\n",
       "      <th>symbol</th>\n",
       "      <th>year</th>\n",
       "      <th>month</th>\n",
       "      <th>0</th>\n",
       "    </tr>\n",
       "  </thead>\n",
       "  <tbody>\n",
       "    <tr>\n",
       "      <th>0</th>\n",
       "      <td>XLB</td>\n",
       "      <td>2020</td>\n",
       "      <td>1</td>\n",
       "      <td>21</td>\n",
       "    </tr>\n",
       "    <tr>\n",
       "      <th>1</th>\n",
       "      <td>XLB</td>\n",
       "      <td>2020</td>\n",
       "      <td>2</td>\n",
       "      <td>19</td>\n",
       "    </tr>\n",
       "    <tr>\n",
       "      <th>2</th>\n",
       "      <td>XLB</td>\n",
       "      <td>2020</td>\n",
       "      <td>3</td>\n",
       "      <td>22</td>\n",
       "    </tr>\n",
       "    <tr>\n",
       "      <th>3</th>\n",
       "      <td>XLB</td>\n",
       "      <td>2020</td>\n",
       "      <td>4</td>\n",
       "      <td>21</td>\n",
       "    </tr>\n",
       "    <tr>\n",
       "      <th>4</th>\n",
       "      <td>XLB</td>\n",
       "      <td>2020</td>\n",
       "      <td>5</td>\n",
       "      <td>20</td>\n",
       "    </tr>\n",
       "  </tbody>\n",
       "</table>\n",
       "</div>"
      ],
      "text/plain": [
       "  symbol  year  month   0\n",
       "0    XLB  2020      1  21\n",
       "1    XLB  2020      2  19\n",
       "2    XLB  2020      3  22\n",
       "3    XLB  2020      4  21\n",
       "4    XLB  2020      5  20"
      ]
     },
     "execution_count": 10,
     "metadata": {},
     "output_type": "execute_result"
    }
   ],
   "source": [
    "df_num_rows = \\\n",
    "    df_etf.groupby(['symbol', 'year', 'month']).size().reset_index()\n",
    "df_num_rows.head()"
   ]
  },
  {
   "cell_type": "markdown",
   "metadata": {},
   "source": [
    "---"
   ]
  },
  {
   "cell_type": "markdown",
   "metadata": {},
   "source": [
    "**Coding Challenge:** Confirm that there are the correct number of symbol-year-month combinations in `df_num_rows`."
   ]
  },
  {
   "cell_type": "code",
   "execution_count": 11,
   "metadata": {},
   "outputs": [
    {
     "data": {
      "text/plain": [
       "(120, 4)"
      ]
     },
     "execution_count": 11,
     "metadata": {},
     "output_type": "execute_result"
    }
   ],
   "source": [
    "#| code-fold: true\n",
    "#| code-summary: \"Solution\"\n",
    "df_num_rows.shape"
   ]
  },
  {
   "cell_type": "markdown",
   "metadata": {},
   "source": [
    "--- "
   ]
  },
  {
   "cell_type": "markdown",
   "metadata": {},
   "source": [
    "Now that we've added the `year` and `month` columns we can proceed to calculating our monthly statistics."
   ]
  },
  {
   "cell_type": "markdown",
   "metadata": {},
   "source": [
    "## Average Daily Volume"
   ]
  },
  {
   "cell_type": "markdown",
   "metadata": {},
   "source": [
    "Let's start with the most straight-forward calculation: average daily volume, over each month, for all 10 of the ETFs in our data set.  \n",
    "\n",
    "This amounts to:\n",
    "\n",
    "1. grouping by `symbol`, `month`, and `year`\n",
    "\n",
    "1. applying the built-in `np.mean()` function to the `volume` column "
   ]
  },
  {
   "cell_type": "code",
   "execution_count": 12,
   "metadata": {},
   "outputs": [
    {
     "data": {
      "text/html": [
       "<div>\n",
       "<style scoped>\n",
       "    .dataframe tbody tr th:only-of-type {\n",
       "        vertical-align: middle;\n",
       "    }\n",
       "\n",
       "    .dataframe tbody tr th {\n",
       "        vertical-align: top;\n",
       "    }\n",
       "\n",
       "    .dataframe thead th {\n",
       "        text-align: right;\n",
       "    }\n",
       "</style>\n",
       "<table border=\"1\" class=\"dataframe\">\n",
       "  <thead>\n",
       "    <tr style=\"text-align: right;\">\n",
       "      <th></th>\n",
       "      <th>symbol</th>\n",
       "      <th>year</th>\n",
       "      <th>month</th>\n",
       "      <th>avg_volume</th>\n",
       "    </tr>\n",
       "  </thead>\n",
       "  <tbody>\n",
       "    <tr>\n",
       "      <th>0</th>\n",
       "      <td>XLB</td>\n",
       "      <td>2020</td>\n",
       "      <td>1</td>\n",
       "      <td>7.235429e+06</td>\n",
       "    </tr>\n",
       "    <tr>\n",
       "      <th>1</th>\n",
       "      <td>XLB</td>\n",
       "      <td>2020</td>\n",
       "      <td>2</td>\n",
       "      <td>1.058022e+07</td>\n",
       "    </tr>\n",
       "    <tr>\n",
       "      <th>2</th>\n",
       "      <td>XLB</td>\n",
       "      <td>2020</td>\n",
       "      <td>3</td>\n",
       "      <td>1.432920e+07</td>\n",
       "    </tr>\n",
       "    <tr>\n",
       "      <th>3</th>\n",
       "      <td>XLB</td>\n",
       "      <td>2020</td>\n",
       "      <td>4</td>\n",
       "      <td>9.000557e+06</td>\n",
       "    </tr>\n",
       "    <tr>\n",
       "      <th>4</th>\n",
       "      <td>XLB</td>\n",
       "      <td>2020</td>\n",
       "      <td>5</td>\n",
       "      <td>4.829185e+06</td>\n",
       "    </tr>\n",
       "  </tbody>\n",
       "</table>\n",
       "</div>"
      ],
      "text/plain": [
       "  symbol  year  month    avg_volume\n",
       "0    XLB  2020      1  7.235429e+06\n",
       "1    XLB  2020      2  1.058022e+07\n",
       "2    XLB  2020      3  1.432920e+07\n",
       "3    XLB  2020      4  9.000557e+06\n",
       "4    XLB  2020      5  4.829185e+06"
      ]
     },
     "execution_count": 12,
     "metadata": {},
     "output_type": "execute_result"
    }
   ],
   "source": [
    "df_volume = \\\n",
    "    df_etf.groupby(['symbol', 'year', 'month'])['volume'].agg([np.mean]).reset_index()\n",
    "df_volume.rename(columns={'mean':'avg_volume'}, inplace=True)\n",
    "df_volume.head()"
   ]
  },
  {
   "cell_type": "markdown",
   "metadata": {},
   "source": [
    " "
   ]
  },
  {
   "cell_type": "markdown",
   "metadata": {},
   "source": [
    "---"
   ]
  },
  {
   "cell_type": "markdown",
   "metadata": {},
   "source": [
    "**Coding Challenge:** Calculate the maximum daily volume for each symbol, *over the entire year*."
   ]
  },
  {
   "cell_type": "code",
   "execution_count": 13,
   "metadata": {},
   "outputs": [
    {
     "data": {
      "text/html": [
       "<div>\n",
       "<style scoped>\n",
       "    .dataframe tbody tr th:only-of-type {\n",
       "        vertical-align: middle;\n",
       "    }\n",
       "\n",
       "    .dataframe tbody tr th {\n",
       "        vertical-align: top;\n",
       "    }\n",
       "\n",
       "    .dataframe thead th {\n",
       "        text-align: right;\n",
       "    }\n",
       "</style>\n",
       "<table border=\"1\" class=\"dataframe\">\n",
       "  <thead>\n",
       "    <tr style=\"text-align: right;\">\n",
       "      <th></th>\n",
       "      <th>symbol</th>\n",
       "      <th>year</th>\n",
       "      <th>amax</th>\n",
       "    </tr>\n",
       "  </thead>\n",
       "  <tbody>\n",
       "    <tr>\n",
       "      <th>0</th>\n",
       "      <td>XLB</td>\n",
       "      <td>2020</td>\n",
       "      <td>30741700</td>\n",
       "    </tr>\n",
       "    <tr>\n",
       "      <th>1</th>\n",
       "      <td>XLE</td>\n",
       "      <td>2020</td>\n",
       "      <td>99356700</td>\n",
       "    </tr>\n",
       "    <tr>\n",
       "      <th>2</th>\n",
       "      <td>XLF</td>\n",
       "      <td>2020</td>\n",
       "      <td>256525000</td>\n",
       "    </tr>\n",
       "    <tr>\n",
       "      <th>3</th>\n",
       "      <td>XLI</td>\n",
       "      <td>2020</td>\n",
       "      <td>79118200</td>\n",
       "    </tr>\n",
       "    <tr>\n",
       "      <th>4</th>\n",
       "      <td>XLK</td>\n",
       "      <td>2020</td>\n",
       "      <td>61727100</td>\n",
       "    </tr>\n",
       "    <tr>\n",
       "      <th>5</th>\n",
       "      <td>XLP</td>\n",
       "      <td>2020</td>\n",
       "      <td>50978800</td>\n",
       "    </tr>\n",
       "    <tr>\n",
       "      <th>6</th>\n",
       "      <td>XLRE</td>\n",
       "      <td>2020</td>\n",
       "      <td>49899800</td>\n",
       "    </tr>\n",
       "    <tr>\n",
       "      <th>7</th>\n",
       "      <td>XLU</td>\n",
       "      <td>2020</td>\n",
       "      <td>90263100</td>\n",
       "    </tr>\n",
       "    <tr>\n",
       "      <th>8</th>\n",
       "      <td>XLV</td>\n",
       "      <td>2020</td>\n",
       "      <td>39561900</td>\n",
       "    </tr>\n",
       "    <tr>\n",
       "      <th>9</th>\n",
       "      <td>XLY</td>\n",
       "      <td>2020</td>\n",
       "      <td>20616100</td>\n",
       "    </tr>\n",
       "  </tbody>\n",
       "</table>\n",
       "</div>"
      ],
      "text/plain": [
       "  symbol  year       amax\n",
       "0    XLB  2020   30741700\n",
       "1    XLE  2020   99356700\n",
       "2    XLF  2020  256525000\n",
       "3    XLI  2020   79118200\n",
       "4    XLK  2020   61727100\n",
       "5    XLP  2020   50978800\n",
       "6   XLRE  2020   49899800\n",
       "7    XLU  2020   90263100\n",
       "8    XLV  2020   39561900\n",
       "9    XLY  2020   20616100"
      ]
     },
     "execution_count": 13,
     "metadata": {},
     "output_type": "execute_result"
    }
   ],
   "source": [
    "#| code-fold: true\n",
    "#| code-summary: \"Solution\"\n",
    "df_etf.groupby(['symbol', 'year'])['volume'].agg([np.max]).reset_index()"
   ]
  },
  {
   "cell_type": "markdown",
   "metadata": {},
   "source": [
    "---"
   ]
  },
  {
   "cell_type": "markdown",
   "metadata": {},
   "source": [
    "## Monthly Returns"
   ]
  },
  {
   "cell_type": "markdown",
   "metadata": {},
   "source": [
    "Next, let's calculate monthly returns for each of the ETFs in our data set.  This amounts to:\n",
    "\n",
    "1. grouping by `symbol`, `month`, and `year`\n",
    "\n",
    "1. applying an aggregation function to the `daily_returns` column\n",
    "\n",
    "These are the same two steps that we have done in our previous aggregation examples.  However, there is one additional wrinkle that we are going to have to contend with. \n",
    "\n",
    "\n",
    "In the previous section, we used simple built-in aggregation funtions available through `numpy`, such as `np.max` and `np.mean`.  Calculating monthly returns from daily returns is a little more complicated.\n",
    "\n",
    "Thus, we are going to have to first create a custom function for calculating monthly returns from daily returns, and then use this custom function in `.agg()`.\n",
    "\n",
    "The following code defines our monthly returns function in terms of daily returns:"
   ]
  },
  {
   "cell_type": "code",
   "execution_count": 14,
   "metadata": {},
   "outputs": [],
   "source": [
    "def monthly_ret(dly_ret):\n",
    "    return np.prod(1 + dly_ret) - 1"
   ]
  },
  {
   "cell_type": "markdown",
   "metadata": {},
   "source": [
    "Now we can apply our `monthly_ret()` function for all of our ETFs using the following code."
   ]
  },
  {
   "cell_type": "code",
   "execution_count": 15,
   "metadata": {},
   "outputs": [
    {
     "data": {
      "text/html": [
       "<div>\n",
       "<style scoped>\n",
       "    .dataframe tbody tr th:only-of-type {\n",
       "        vertical-align: middle;\n",
       "    }\n",
       "\n",
       "    .dataframe tbody tr th {\n",
       "        vertical-align: top;\n",
       "    }\n",
       "\n",
       "    .dataframe thead th {\n",
       "        text-align: right;\n",
       "    }\n",
       "</style>\n",
       "<table border=\"1\" class=\"dataframe\">\n",
       "  <thead>\n",
       "    <tr style=\"text-align: right;\">\n",
       "      <th></th>\n",
       "      <th>symbol</th>\n",
       "      <th>month</th>\n",
       "      <th>year</th>\n",
       "      <th>monthly_ret</th>\n",
       "    </tr>\n",
       "  </thead>\n",
       "  <tbody>\n",
       "    <tr>\n",
       "      <th>0</th>\n",
       "      <td>XLB</td>\n",
       "      <td>1</td>\n",
       "      <td>2020</td>\n",
       "      <td>-0.050577</td>\n",
       "    </tr>\n",
       "    <tr>\n",
       "      <th>1</th>\n",
       "      <td>XLB</td>\n",
       "      <td>2</td>\n",
       "      <td>2020</td>\n",
       "      <td>-0.085199</td>\n",
       "    </tr>\n",
       "    <tr>\n",
       "      <th>2</th>\n",
       "      <td>XLB</td>\n",
       "      <td>3</td>\n",
       "      <td>2020</td>\n",
       "      <td>-0.145675</td>\n",
       "    </tr>\n",
       "    <tr>\n",
       "      <th>3</th>\n",
       "      <td>XLB</td>\n",
       "      <td>4</td>\n",
       "      <td>2020</td>\n",
       "      <td>0.151865</td>\n",
       "    </tr>\n",
       "    <tr>\n",
       "      <th>4</th>\n",
       "      <td>XLB</td>\n",
       "      <td>5</td>\n",
       "      <td>2020</td>\n",
       "      <td>0.068813</td>\n",
       "    </tr>\n",
       "  </tbody>\n",
       "</table>\n",
       "</div>"
      ],
      "text/plain": [
       "  symbol  month  year  monthly_ret\n",
       "0    XLB      1  2020    -0.050577\n",
       "1    XLB      2  2020    -0.085199\n",
       "2    XLB      3  2020    -0.145675\n",
       "3    XLB      4  2020     0.151865\n",
       "4    XLB      5  2020     0.068813"
      ]
     },
     "execution_count": 15,
     "metadata": {},
     "output_type": "execute_result"
    }
   ],
   "source": [
    "df_ret = \\\n",
    "    df_etf.groupby(['symbol', 'month', 'year'])['dly_ret'].agg([monthly_ret]).reset_index()\n",
    "df_ret.head()"
   ]
  },
  {
   "cell_type": "markdown",
   "metadata": {},
   "source": [
    "We can see from our calculation that in March of 2020 XLB had a monthly return of -14.6%."
   ]
  },
  {
   "cell_type": "markdown",
   "metadata": {},
   "source": [
    "---"
   ]
  },
  {
   "cell_type": "markdown",
   "metadata": {},
   "source": [
    "**Coding Challenge:** Which ETF had the highest single monthly return in all of 2020?  What was the month?"
   ]
  },
  {
   "cell_type": "code",
   "execution_count": 16,
   "metadata": {},
   "outputs": [
    {
     "data": {
      "text/html": [
       "<div>\n",
       "<style scoped>\n",
       "    .dataframe tbody tr th:only-of-type {\n",
       "        vertical-align: middle;\n",
       "    }\n",
       "\n",
       "    .dataframe tbody tr th {\n",
       "        vertical-align: top;\n",
       "    }\n",
       "\n",
       "    .dataframe thead th {\n",
       "        text-align: right;\n",
       "    }\n",
       "</style>\n",
       "<table border=\"1\" class=\"dataframe\">\n",
       "  <thead>\n",
       "    <tr style=\"text-align: right;\">\n",
       "      <th></th>\n",
       "      <th>symbol</th>\n",
       "      <th>month</th>\n",
       "      <th>year</th>\n",
       "      <th>monthly_ret</th>\n",
       "    </tr>\n",
       "  </thead>\n",
       "  <tbody>\n",
       "    <tr>\n",
       "      <th>15</th>\n",
       "      <td>XLE</td>\n",
       "      <td>4</td>\n",
       "      <td>2020</td>\n",
       "      <td>0.307639</td>\n",
       "    </tr>\n",
       "    <tr>\n",
       "      <th>22</th>\n",
       "      <td>XLE</td>\n",
       "      <td>11</td>\n",
       "      <td>2020</td>\n",
       "      <td>0.279944</td>\n",
       "    </tr>\n",
       "    <tr>\n",
       "      <th>111</th>\n",
       "      <td>XLY</td>\n",
       "      <td>4</td>\n",
       "      <td>2020</td>\n",
       "      <td>0.188825</td>\n",
       "    </tr>\n",
       "    <tr>\n",
       "      <th>34</th>\n",
       "      <td>XLF</td>\n",
       "      <td>11</td>\n",
       "      <td>2020</td>\n",
       "      <td>0.168483</td>\n",
       "    </tr>\n",
       "    <tr>\n",
       "      <th>46</th>\n",
       "      <td>XLI</td>\n",
       "      <td>11</td>\n",
       "      <td>2020</td>\n",
       "      <td>0.160274</td>\n",
       "    </tr>\n",
       "    <tr>\n",
       "      <th>...</th>\n",
       "      <td>...</td>\n",
       "      <td>...</td>\n",
       "      <td>...</td>\n",
       "      <td>...</td>\n",
       "    </tr>\n",
       "    <tr>\n",
       "      <th>74</th>\n",
       "      <td>XLRE</td>\n",
       "      <td>3</td>\n",
       "      <td>2020</td>\n",
       "      <td>-0.157380</td>\n",
       "    </tr>\n",
       "    <tr>\n",
       "      <th>20</th>\n",
       "      <td>XLE</td>\n",
       "      <td>9</td>\n",
       "      <td>2020</td>\n",
       "      <td>-0.159888</td>\n",
       "    </tr>\n",
       "    <tr>\n",
       "      <th>38</th>\n",
       "      <td>XLI</td>\n",
       "      <td>3</td>\n",
       "      <td>2020</td>\n",
       "      <td>-0.192529</td>\n",
       "    </tr>\n",
       "    <tr>\n",
       "      <th>26</th>\n",
       "      <td>XLF</td>\n",
       "      <td>3</td>\n",
       "      <td>2020</td>\n",
       "      <td>-0.216999</td>\n",
       "    </tr>\n",
       "    <tr>\n",
       "      <th>14</th>\n",
       "      <td>XLE</td>\n",
       "      <td>3</td>\n",
       "      <td>2020</td>\n",
       "      <td>-0.358074</td>\n",
       "    </tr>\n",
       "  </tbody>\n",
       "</table>\n",
       "<p>120 rows × 4 columns</p>\n",
       "</div>"
      ],
      "text/plain": [
       "    symbol  month  year  monthly_ret\n",
       "15     XLE      4  2020     0.307639\n",
       "22     XLE     11  2020     0.279944\n",
       "111    XLY      4  2020     0.188825\n",
       "34     XLF     11  2020     0.168483\n",
       "46     XLI     11  2020     0.160274\n",
       "..     ...    ...   ...          ...\n",
       "74    XLRE      3  2020    -0.157380\n",
       "20     XLE      9  2020    -0.159888\n",
       "38     XLI      3  2020    -0.192529\n",
       "26     XLF      3  2020    -0.216999\n",
       "14     XLE      3  2020    -0.358074\n",
       "\n",
       "[120 rows x 4 columns]"
      ]
     },
     "execution_count": 16,
     "metadata": {},
     "output_type": "execute_result"
    }
   ],
   "source": [
    "#| code-fold: true\n",
    "#| code-summary: \"Solution\"\n",
    "df_ret.sort_values(by=['monthly_ret'], ascending=False)"
   ]
  },
  {
   "cell_type": "markdown",
   "metadata": {},
   "source": [
    "---"
   ]
  },
  {
   "cell_type": "markdown",
   "metadata": {},
   "source": [
    "## Monthly Volatility"
   ]
  },
  {
   "cell_type": "markdown",
   "metadata": {},
   "source": [
    "Let's use a similar process to calculate the monthly volatility for each of the ETFs.\n",
    "\n",
    "We begin by defining a custom function that calculates the monthly volatility from daily returns.  Recall that industry convention is to state these volatilities in annualized terms."
   ]
  },
  {
   "cell_type": "code",
   "execution_count": 17,
   "metadata": {},
   "outputs": [],
   "source": [
    "def monthly_vol(dly_ret):\n",
    "    return np.std(dly_ret) * np.sqrt(252)"
   ]
  },
  {
   "cell_type": "markdown",
   "metadata": {},
   "source": [
    "We can now use our `monthly_vol()` function in to perform an aggregating calculation."
   ]
  },
  {
   "cell_type": "code",
   "execution_count": 18,
   "metadata": {},
   "outputs": [
    {
     "data": {
      "text/html": [
       "<div>\n",
       "<style scoped>\n",
       "    .dataframe tbody tr th:only-of-type {\n",
       "        vertical-align: middle;\n",
       "    }\n",
       "\n",
       "    .dataframe tbody tr th {\n",
       "        vertical-align: top;\n",
       "    }\n",
       "\n",
       "    .dataframe thead th {\n",
       "        text-align: right;\n",
       "    }\n",
       "</style>\n",
       "<table border=\"1\" class=\"dataframe\">\n",
       "  <thead>\n",
       "    <tr style=\"text-align: right;\">\n",
       "      <th></th>\n",
       "      <th>symbol</th>\n",
       "      <th>month</th>\n",
       "      <th>year</th>\n",
       "      <th>monthly_vol</th>\n",
       "    </tr>\n",
       "  </thead>\n",
       "  <tbody>\n",
       "    <tr>\n",
       "      <th>0</th>\n",
       "      <td>XLB</td>\n",
       "      <td>1</td>\n",
       "      <td>2020</td>\n",
       "      <td>0.150336</td>\n",
       "    </tr>\n",
       "    <tr>\n",
       "      <th>1</th>\n",
       "      <td>XLB</td>\n",
       "      <td>2</td>\n",
       "      <td>2020</td>\n",
       "      <td>0.282201</td>\n",
       "    </tr>\n",
       "    <tr>\n",
       "      <th>2</th>\n",
       "      <td>XLB</td>\n",
       "      <td>3</td>\n",
       "      <td>2020</td>\n",
       "      <td>0.932265</td>\n",
       "    </tr>\n",
       "    <tr>\n",
       "      <th>3</th>\n",
       "      <td>XLB</td>\n",
       "      <td>4</td>\n",
       "      <td>2020</td>\n",
       "      <td>0.503394</td>\n",
       "    </tr>\n",
       "    <tr>\n",
       "      <th>4</th>\n",
       "      <td>XLB</td>\n",
       "      <td>5</td>\n",
       "      <td>2020</td>\n",
       "      <td>0.277311</td>\n",
       "    </tr>\n",
       "  </tbody>\n",
       "</table>\n",
       "</div>"
      ],
      "text/plain": [
       "  symbol  month  year  monthly_vol\n",
       "0    XLB      1  2020     0.150336\n",
       "1    XLB      2  2020     0.282201\n",
       "2    XLB      3  2020     0.932265\n",
       "3    XLB      4  2020     0.503394\n",
       "4    XLB      5  2020     0.277311"
      ]
     },
     "execution_count": 18,
     "metadata": {},
     "output_type": "execute_result"
    }
   ],
   "source": [
    "df_vol = \\\n",
    "    df_etf.groupby(['symbol', 'month', 'year'])['dly_ret'].agg([monthly_vol]).reset_index()\n",
    "df_vol.head()"
   ]
  },
  {
   "cell_type": "markdown",
   "metadata": {},
   "source": [
    "---"
   ]
  },
  {
   "cell_type": "markdown",
   "metadata": {},
   "source": [
    "**Coding Challenge:**  What was the volatility for XLF in December 2018?"
   ]
  },
  {
   "cell_type": "code",
   "execution_count": 19,
   "metadata": {},
   "outputs": [
    {
     "data": {
      "text/html": [
       "<div>\n",
       "<style scoped>\n",
       "    .dataframe tbody tr th:only-of-type {\n",
       "        vertical-align: middle;\n",
       "    }\n",
       "\n",
       "    .dataframe tbody tr th {\n",
       "        vertical-align: top;\n",
       "    }\n",
       "\n",
       "    .dataframe thead th {\n",
       "        text-align: right;\n",
       "    }\n",
       "</style>\n",
       "<table border=\"1\" class=\"dataframe\">\n",
       "  <thead>\n",
       "    <tr style=\"text-align: right;\">\n",
       "      <th></th>\n",
       "      <th>symbol</th>\n",
       "      <th>month</th>\n",
       "      <th>year</th>\n",
       "      <th>monthly_vol</th>\n",
       "    </tr>\n",
       "  </thead>\n",
       "  <tbody>\n",
       "    <tr>\n",
       "      <th>35</th>\n",
       "      <td>XLF</td>\n",
       "      <td>12</td>\n",
       "      <td>2020</td>\n",
       "      <td>0.137471</td>\n",
       "    </tr>\n",
       "  </tbody>\n",
       "</table>\n",
       "</div>"
      ],
      "text/plain": [
       "   symbol  month  year  monthly_vol\n",
       "35    XLF     12  2020     0.137471"
      ]
     },
     "execution_count": 19,
     "metadata": {},
     "output_type": "execute_result"
    }
   ],
   "source": [
    "#| code-fold: true\n",
    "#| code-summary: \"Solution\"\n",
    "df_vol.query('symbol == \"XLF\" & month == 12')"
   ]
  },
  {
   "cell_type": "markdown",
   "metadata": {},
   "source": [
    "---"
   ]
  },
  {
   "cell_type": "markdown",
   "metadata": {},
   "source": [
    "## Combining Metrics - inner `.merge()`"
   ]
  },
  {
   "cell_type": "markdown",
   "metadata": {},
   "source": [
    "Now, suppose that we want to combine our three metrics into one report - meaning that we want them organized into one `DataFrame` in an easy to read fashion.\n",
    "\n",
    "One way to do this is to use the `pandas.merge()` method that we learned in the previous tutorial to join together `df_volume` (average daily volume), `df_ret` (monthly returns), and `df_vol` (monthly volatility). "
   ]
  },
  {
   "cell_type": "code",
   "execution_count": 20,
   "metadata": {},
   "outputs": [
    {
     "data": {
      "text/html": [
       "<div>\n",
       "<style scoped>\n",
       "    .dataframe tbody tr th:only-of-type {\n",
       "        vertical-align: middle;\n",
       "    }\n",
       "\n",
       "    .dataframe tbody tr th {\n",
       "        vertical-align: top;\n",
       "    }\n",
       "\n",
       "    .dataframe thead th {\n",
       "        text-align: right;\n",
       "    }\n",
       "</style>\n",
       "<table border=\"1\" class=\"dataframe\">\n",
       "  <thead>\n",
       "    <tr style=\"text-align: right;\">\n",
       "      <th></th>\n",
       "      <th>symbol</th>\n",
       "      <th>year</th>\n",
       "      <th>month</th>\n",
       "      <th>avg_volume</th>\n",
       "      <th>monthly_ret</th>\n",
       "      <th>monthly_vol</th>\n",
       "    </tr>\n",
       "  </thead>\n",
       "  <tbody>\n",
       "    <tr>\n",
       "      <th>0</th>\n",
       "      <td>XLB</td>\n",
       "      <td>2020</td>\n",
       "      <td>1</td>\n",
       "      <td>7.235429e+06</td>\n",
       "      <td>-0.050577</td>\n",
       "      <td>0.150336</td>\n",
       "    </tr>\n",
       "    <tr>\n",
       "      <th>1</th>\n",
       "      <td>XLB</td>\n",
       "      <td>2020</td>\n",
       "      <td>2</td>\n",
       "      <td>1.058022e+07</td>\n",
       "      <td>-0.085199</td>\n",
       "      <td>0.282201</td>\n",
       "    </tr>\n",
       "    <tr>\n",
       "      <th>2</th>\n",
       "      <td>XLB</td>\n",
       "      <td>2020</td>\n",
       "      <td>3</td>\n",
       "      <td>1.432920e+07</td>\n",
       "      <td>-0.145675</td>\n",
       "      <td>0.932265</td>\n",
       "    </tr>\n",
       "    <tr>\n",
       "      <th>3</th>\n",
       "      <td>XLB</td>\n",
       "      <td>2020</td>\n",
       "      <td>4</td>\n",
       "      <td>9.000557e+06</td>\n",
       "      <td>0.151865</td>\n",
       "      <td>0.503394</td>\n",
       "    </tr>\n",
       "    <tr>\n",
       "      <th>4</th>\n",
       "      <td>XLB</td>\n",
       "      <td>2020</td>\n",
       "      <td>5</td>\n",
       "      <td>4.829185e+06</td>\n",
       "      <td>0.068813</td>\n",
       "      <td>0.277311</td>\n",
       "    </tr>\n",
       "  </tbody>\n",
       "</table>\n",
       "</div>"
      ],
      "text/plain": [
       "  symbol  year  month    avg_volume  monthly_ret  monthly_vol\n",
       "0    XLB  2020      1  7.235429e+06    -0.050577     0.150336\n",
       "1    XLB  2020      2  1.058022e+07    -0.085199     0.282201\n",
       "2    XLB  2020      3  1.432920e+07    -0.145675     0.932265\n",
       "3    XLB  2020      4  9.000557e+06     0.151865     0.503394\n",
       "4    XLB  2020      5  4.829185e+06     0.068813     0.277311"
      ]
     },
     "execution_count": 20,
     "metadata": {},
     "output_type": "execute_result"
    }
   ],
   "source": [
    "df_joined = \\\n",
    "    (\n",
    "    df_volume\n",
    "        .merge(df_ret, on=['symbol', 'year', 'month'])\n",
    "        .merge(df_vol, on=['symbol', 'year', 'month'])\n",
    "    )\n",
    "df_joined.head()"
   ]
  },
  {
   "cell_type": "markdown",
   "metadata": {},
   "source": [
    "## Combining Metrics - multiple aggregation"
   ]
  },
  {
   "cell_type": "markdown",
   "metadata": {},
   "source": [
    "Another way to combine all our statistics into a single `DataFrame` is to supply all of our custom aggregation functions as arguments to the `.agg()` function at the same time.  \n",
    "\n",
    "Here is what that looks like:"
   ]
  },
  {
   "cell_type": "code",
   "execution_count": 21,
   "metadata": {},
   "outputs": [
    {
     "data": {
      "text/html": [
       "<div>\n",
       "<style scoped>\n",
       "    .dataframe tbody tr th:only-of-type {\n",
       "        vertical-align: middle;\n",
       "    }\n",
       "\n",
       "    .dataframe tbody tr th {\n",
       "        vertical-align: top;\n",
       "    }\n",
       "\n",
       "    .dataframe thead tr th {\n",
       "        text-align: left;\n",
       "    }\n",
       "</style>\n",
       "<table border=\"1\" class=\"dataframe\">\n",
       "  <thead>\n",
       "    <tr>\n",
       "      <th></th>\n",
       "      <th>symbol</th>\n",
       "      <th>month</th>\n",
       "      <th>year</th>\n",
       "      <th>volume</th>\n",
       "      <th colspan=\"2\" halign=\"left\">dly_ret</th>\n",
       "    </tr>\n",
       "    <tr>\n",
       "      <th></th>\n",
       "      <th></th>\n",
       "      <th></th>\n",
       "      <th></th>\n",
       "      <th>mean</th>\n",
       "      <th>monthly_ret</th>\n",
       "      <th>monthly_vol</th>\n",
       "    </tr>\n",
       "  </thead>\n",
       "  <tbody>\n",
       "    <tr>\n",
       "      <th>0</th>\n",
       "      <td>XLB</td>\n",
       "      <td>1</td>\n",
       "      <td>2020</td>\n",
       "      <td>7.235429e+06</td>\n",
       "      <td>-0.050577</td>\n",
       "      <td>0.150336</td>\n",
       "    </tr>\n",
       "    <tr>\n",
       "      <th>1</th>\n",
       "      <td>XLB</td>\n",
       "      <td>2</td>\n",
       "      <td>2020</td>\n",
       "      <td>1.058022e+07</td>\n",
       "      <td>-0.085199</td>\n",
       "      <td>0.282201</td>\n",
       "    </tr>\n",
       "    <tr>\n",
       "      <th>2</th>\n",
       "      <td>XLB</td>\n",
       "      <td>3</td>\n",
       "      <td>2020</td>\n",
       "      <td>1.432920e+07</td>\n",
       "      <td>-0.145675</td>\n",
       "      <td>0.932265</td>\n",
       "    </tr>\n",
       "    <tr>\n",
       "      <th>3</th>\n",
       "      <td>XLB</td>\n",
       "      <td>4</td>\n",
       "      <td>2020</td>\n",
       "      <td>9.000557e+06</td>\n",
       "      <td>0.151865</td>\n",
       "      <td>0.503394</td>\n",
       "    </tr>\n",
       "    <tr>\n",
       "      <th>4</th>\n",
       "      <td>XLB</td>\n",
       "      <td>5</td>\n",
       "      <td>2020</td>\n",
       "      <td>4.829185e+06</td>\n",
       "      <td>0.068813</td>\n",
       "      <td>0.277311</td>\n",
       "    </tr>\n",
       "  </tbody>\n",
       "</table>\n",
       "</div>"
      ],
      "text/plain": [
       "  symbol month  year        volume     dly_ret            \n",
       "                              mean monthly_ret monthly_vol\n",
       "0    XLB     1  2020  7.235429e+06   -0.050577    0.150336\n",
       "1    XLB     2  2020  1.058022e+07   -0.085199    0.282201\n",
       "2    XLB     3  2020  1.432920e+07   -0.145675    0.932265\n",
       "3    XLB     4  2020  9.000557e+06    0.151865    0.503394\n",
       "4    XLB     5  2020  4.829185e+06    0.068813    0.277311"
      ]
     },
     "execution_count": 21,
     "metadata": {},
     "output_type": "execute_result"
    }
   ],
   "source": [
    "# defining aggregations\n",
    "agg_funcs = \\\n",
    "    {'volume':[np.mean], 'dly_ret':[monthly_ret, monthly_vol]}\n",
    "\n",
    "# performing all aggregations all three aggregations at once\n",
    "df_joined = \\\n",
    "    df_etf.groupby(['symbol', 'month', 'year']).agg(agg_funcs).reset_index()\n",
    "\n",
    "# looking at the data frame\n",
    "df_joined.head()"
   ]
  },
  {
   "cell_type": "markdown",
   "metadata": {},
   "source": [
    "Notice that the input into the `.agg()` method is a `dict` whose elements are pairs that look like: \n",
    "\n",
    "`'column_name':[list_of_aggregating_functions`]."
   ]
  },
  {
   "cell_type": "markdown",
   "metadata": {},
   "source": [
    "--- "
   ]
  },
  {
   "cell_type": "markdown",
   "metadata": {},
   "source": [
    "**Code Challenge:** Modify the code above to add maximum daily volume to the report."
   ]
  },
  {
   "cell_type": "code",
   "execution_count": 22,
   "metadata": {},
   "outputs": [
    {
     "data": {
      "text/html": [
       "<div>\n",
       "<style scoped>\n",
       "    .dataframe tbody tr th:only-of-type {\n",
       "        vertical-align: middle;\n",
       "    }\n",
       "\n",
       "    .dataframe tbody tr th {\n",
       "        vertical-align: top;\n",
       "    }\n",
       "\n",
       "    .dataframe thead tr th {\n",
       "        text-align: left;\n",
       "    }\n",
       "</style>\n",
       "<table border=\"1\" class=\"dataframe\">\n",
       "  <thead>\n",
       "    <tr>\n",
       "      <th></th>\n",
       "      <th>symbol</th>\n",
       "      <th>month</th>\n",
       "      <th>year</th>\n",
       "      <th colspan=\"2\" halign=\"left\">volume</th>\n",
       "      <th colspan=\"2\" halign=\"left\">dly_ret</th>\n",
       "    </tr>\n",
       "    <tr>\n",
       "      <th></th>\n",
       "      <th></th>\n",
       "      <th></th>\n",
       "      <th></th>\n",
       "      <th>mean</th>\n",
       "      <th>amax</th>\n",
       "      <th>monthly_ret</th>\n",
       "      <th>monthly_vol</th>\n",
       "    </tr>\n",
       "  </thead>\n",
       "  <tbody>\n",
       "    <tr>\n",
       "      <th>0</th>\n",
       "      <td>XLB</td>\n",
       "      <td>1</td>\n",
       "      <td>2020</td>\n",
       "      <td>7.235429e+06</td>\n",
       "      <td>20266900</td>\n",
       "      <td>-0.050577</td>\n",
       "      <td>0.150336</td>\n",
       "    </tr>\n",
       "    <tr>\n",
       "      <th>1</th>\n",
       "      <td>XLB</td>\n",
       "      <td>2</td>\n",
       "      <td>2020</td>\n",
       "      <td>1.058022e+07</td>\n",
       "      <td>30741700</td>\n",
       "      <td>-0.085199</td>\n",
       "      <td>0.282201</td>\n",
       "    </tr>\n",
       "    <tr>\n",
       "      <th>2</th>\n",
       "      <td>XLB</td>\n",
       "      <td>3</td>\n",
       "      <td>2020</td>\n",
       "      <td>1.432920e+07</td>\n",
       "      <td>28390200</td>\n",
       "      <td>-0.145675</td>\n",
       "      <td>0.932265</td>\n",
       "    </tr>\n",
       "    <tr>\n",
       "      <th>3</th>\n",
       "      <td>XLB</td>\n",
       "      <td>4</td>\n",
       "      <td>2020</td>\n",
       "      <td>9.000557e+06</td>\n",
       "      <td>30738000</td>\n",
       "      <td>0.151865</td>\n",
       "      <td>0.503394</td>\n",
       "    </tr>\n",
       "    <tr>\n",
       "      <th>4</th>\n",
       "      <td>XLB</td>\n",
       "      <td>5</td>\n",
       "      <td>2020</td>\n",
       "      <td>4.829185e+06</td>\n",
       "      <td>7386300</td>\n",
       "      <td>0.068813</td>\n",
       "      <td>0.277311</td>\n",
       "    </tr>\n",
       "  </tbody>\n",
       "</table>\n",
       "</div>"
      ],
      "text/plain": [
       "  symbol month  year        volume               dly_ret            \n",
       "                              mean      amax monthly_ret monthly_vol\n",
       "0    XLB     1  2020  7.235429e+06  20266900   -0.050577    0.150336\n",
       "1    XLB     2  2020  1.058022e+07  30741700   -0.085199    0.282201\n",
       "2    XLB     3  2020  1.432920e+07  28390200   -0.145675    0.932265\n",
       "3    XLB     4  2020  9.000557e+06  30738000    0.151865    0.503394\n",
       "4    XLB     5  2020  4.829185e+06   7386300    0.068813    0.277311"
      ]
     },
     "execution_count": 22,
     "metadata": {},
     "output_type": "execute_result"
    }
   ],
   "source": [
    "#| code-fold: true\n",
    "#| code-summary: \"Solution\"\n",
    "\n",
    "# defining aggregations\n",
    "agg_funcs = \\\n",
    "    {'volume':[np.mean, np.max], 'dly_ret':[monthly_ret, monthly_vol]}\n",
    "\n",
    "# performing all aggregations all three aggregations at once\n",
    "df_joined = \\\n",
    "    df_etf.groupby(['symbol', 'month', 'year']).agg(agg_funcs).reset_index()\n",
    "\n",
    "# looking at the data frame\n",
    "df_joined.head()"
   ]
  },
  {
   "cell_type": "markdown",
   "metadata": {},
   "source": [
    "---"
   ]
  },
  {
   "cell_type": "markdown",
   "metadata": {},
   "source": [
    "## Related Reading\n",
    "\n",
    "*Python Data Science Handbook (VanderPlas)* - Section 3.7 - Combining Datasets: Merging and Joining\n",
    "\n",
    "*Python Data Science Handbook (VanderPlas)* - Section 3.8 - Aggregation and Grouping\n",
    "\n",
    "*Python for Data Analysis (McKinney)* - Chapter 9 (pp 251-274) Data Aggregation and Grouping Operations"
   ]
  }
 ],
 "metadata": {
  "kernelspec": {
   "display_name": "Python 3 (ipykernel)",
   "language": "python",
   "name": "python3"
  },
  "language_info": {
   "codemirror_mode": {
    "name": "ipython",
    "version": 3
   },
   "file_extension": ".py",
   "mimetype": "text/x-python",
   "name": "python",
   "nbconvert_exporter": "python",
   "pygments_lexer": "ipython3",
   "version": "3.10.12"
  }
 },
 "nbformat": 4,
 "nbformat_minor": 4
}
